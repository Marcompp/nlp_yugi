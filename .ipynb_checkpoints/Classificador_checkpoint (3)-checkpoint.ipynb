{
 "cells": [
  {
   "cell_type": "code",
   "execution_count": 1,
   "id": "c971386c",
   "metadata": {
    "colab": {
     "base_uri": "https://localhost:8080/"
    },
    "id": "c971386c",
    "outputId": "e0ae8076-216d-4a90-c198-fc6ccc750b15"
   },
   "outputs": [
    {
     "name": "stdout",
     "output_type": "stream",
     "text": [
      "Hello World\n"
     ]
    }
   ],
   "source": [
    "import pandas as pd\n",
    "import numpy as np\n",
    "import matplotlib.pyplot as plt\n",
    "import time\n",
    "import psutil\n",
    "print(\"Hello World\")"
   ]
  },
  {
   "cell_type": "code",
   "execution_count": 2,
   "id": "6121fa51",
   "metadata": {
    "colab": {
     "base_uri": "https://localhost:8080/",
     "height": 461
    },
    "id": "6121fa51",
    "outputId": "defb2b84-a10f-46d4-a0b5-61f6e0e50482"
   },
   "outputs": [
    {
     "name": "stderr",
     "output_type": "stream",
     "text": [
      "<ipython-input-2-64f0f534faf7>:1: FutureWarning: The error_bad_lines argument has been deprecated and will be removed in a future version. Use on_bad_lines in the future.\n",
      "\n",
      "\n",
      "  df_yugi = pd.read_csv('dbs/yugi_comp.csv',engine=\"python\",error_bad_lines=False)\n"
     ]
    },
    {
     "data": {
      "text/html": [
       "\n",
       "  <div id=\"df-beeb5918-89c4-4d0f-9a91-d18d79a9aff0\">\n",
       "    <div class=\"colab-df-container\">\n",
       "      <div>\n",
       "<style scoped>\n",
       "    .dataframe tbody tr th:only-of-type {\n",
       "        vertical-align: middle;\n",
       "    }\n",
       "\n",
       "    .dataframe tbody tr th {\n",
       "        vertical-align: top;\n",
       "    }\n",
       "\n",
       "    .dataframe thead th {\n",
       "        text-align: right;\n",
       "    }\n",
       "</style>\n",
       "<table border=\"1\" class=\"dataframe\">\n",
       "  <thead>\n",
       "    <tr style=\"text-align: right;\">\n",
       "      <th></th>\n",
       "      <th>Unnamed: 0</th>\n",
       "      <th>Name</th>\n",
       "      <th>Rarity</th>\n",
       "      <th>Price</th>\n",
       "      <th>isGood</th>\n",
       "      <th>text</th>\n",
       "      <th>card_type</th>\n",
       "      <th>type</th>\n",
       "      <th>family</th>\n",
       "      <th>atk</th>\n",
       "      <th>def</th>\n",
       "      <th>level</th>\n",
       "      <th>property</th>\n",
       "    </tr>\n",
       "  </thead>\n",
       "  <tbody>\n",
       "    <tr>\n",
       "      <th>0</th>\n",
       "      <td>0</td>\n",
       "      <td>XX-Saber Boggart Knight</td>\n",
       "      <td>Shatterfoil Rare</td>\n",
       "      <td>2.73</td>\n",
       "      <td>True</td>\n",
       "      <td>When this card is Normal Summoned: You can Spe...</td>\n",
       "      <td>monster</td>\n",
       "      <td>Beast-Warrior / Effect</td>\n",
       "      <td>earth</td>\n",
       "      <td>1900.0</td>\n",
       "      <td>1000.0</td>\n",
       "      <td>4.0</td>\n",
       "      <td>NaN</td>\n",
       "    </tr>\n",
       "    <tr>\n",
       "      <th>1</th>\n",
       "      <td>1</td>\n",
       "      <td>Gagaga Cowboy</td>\n",
       "      <td>Shatterfoil Rare</td>\n",
       "      <td>4.68</td>\n",
       "      <td>True</td>\n",
       "      <td>2 Level 4 monsters\\n\\nOnce per turn: You can d...</td>\n",
       "      <td>monster</td>\n",
       "      <td>Warrior / Xyz / Effect</td>\n",
       "      <td>earth</td>\n",
       "      <td>1500.0</td>\n",
       "      <td>2400.0</td>\n",
       "      <td>4.0</td>\n",
       "      <td>NaN</td>\n",
       "    </tr>\n",
       "    <tr>\n",
       "      <th>2</th>\n",
       "      <td>2</td>\n",
       "      <td>Forbidden Chalice</td>\n",
       "      <td>Shatterfoil Rare</td>\n",
       "      <td>2.09</td>\n",
       "      <td>True</td>\n",
       "      <td>Target 1 face-up monster on the field; until t...</td>\n",
       "      <td>spell</td>\n",
       "      <td>NaN</td>\n",
       "      <td>NaN</td>\n",
       "      <td>NaN</td>\n",
       "      <td>NaN</td>\n",
       "      <td>NaN</td>\n",
       "      <td>Quick-Play</td>\n",
       "    </tr>\n",
       "    <tr>\n",
       "      <th>3</th>\n",
       "      <td>3</td>\n",
       "      <td>Fairy Cheer Girl</td>\n",
       "      <td>Shatterfoil Rare</td>\n",
       "      <td>2.06</td>\n",
       "      <td>True</td>\n",
       "      <td>2 Level 4 Fairy-Type monsters\\n\\nYou can detac...</td>\n",
       "      <td>monster</td>\n",
       "      <td>Fairy / Xyz / Effect</td>\n",
       "      <td>light</td>\n",
       "      <td>1900.0</td>\n",
       "      <td>1500.0</td>\n",
       "      <td>4.0</td>\n",
       "      <td>NaN</td>\n",
       "    </tr>\n",
       "    <tr>\n",
       "      <th>4</th>\n",
       "      <td>4</td>\n",
       "      <td>Exploder Dragon</td>\n",
       "      <td>Shatterfoil Rare</td>\n",
       "      <td>2.08</td>\n",
       "      <td>True</td>\n",
       "      <td>If this card is destroyed by battle and sent t...</td>\n",
       "      <td>monster</td>\n",
       "      <td>Dragon / Effect</td>\n",
       "      <td>earth</td>\n",
       "      <td>1000.0</td>\n",
       "      <td>0.0</td>\n",
       "      <td>3.0</td>\n",
       "      <td>NaN</td>\n",
       "    </tr>\n",
       "  </tbody>\n",
       "</table>\n",
       "</div>\n",
       "      <button class=\"colab-df-convert\" onclick=\"convertToInteractive('df-beeb5918-89c4-4d0f-9a91-d18d79a9aff0')\"\n",
       "              title=\"Convert this dataframe to an interactive table.\"\n",
       "              style=\"display:none;\">\n",
       "        \n",
       "  <svg xmlns=\"http://www.w3.org/2000/svg\" height=\"24px\"viewBox=\"0 0 24 24\"\n",
       "       width=\"24px\">\n",
       "    <path d=\"M0 0h24v24H0V0z\" fill=\"none\"/>\n",
       "    <path d=\"M18.56 5.44l.94 2.06.94-2.06 2.06-.94-2.06-.94-.94-2.06-.94 2.06-2.06.94zm-11 1L8.5 8.5l.94-2.06 2.06-.94-2.06-.94L8.5 2.5l-.94 2.06-2.06.94zm10 10l.94 2.06.94-2.06 2.06-.94-2.06-.94-.94-2.06-.94 2.06-2.06.94z\"/><path d=\"M17.41 7.96l-1.37-1.37c-.4-.4-.92-.59-1.43-.59-.52 0-1.04.2-1.43.59L10.3 9.45l-7.72 7.72c-.78.78-.78 2.05 0 2.83L4 21.41c.39.39.9.59 1.41.59.51 0 1.02-.2 1.41-.59l7.78-7.78 2.81-2.81c.8-.78.8-2.07 0-2.86zM5.41 20L4 18.59l7.72-7.72 1.47 1.35L5.41 20z\"/>\n",
       "  </svg>\n",
       "      </button>\n",
       "      \n",
       "  <style>\n",
       "    .colab-df-container {\n",
       "      display:flex;\n",
       "      flex-wrap:wrap;\n",
       "      gap: 12px;\n",
       "    }\n",
       "\n",
       "    .colab-df-convert {\n",
       "      background-color: #E8F0FE;\n",
       "      border: none;\n",
       "      border-radius: 50%;\n",
       "      cursor: pointer;\n",
       "      display: none;\n",
       "      fill: #1967D2;\n",
       "      height: 32px;\n",
       "      padding: 0 0 0 0;\n",
       "      width: 32px;\n",
       "    }\n",
       "\n",
       "    .colab-df-convert:hover {\n",
       "      background-color: #E2EBFA;\n",
       "      box-shadow: 0px 1px 2px rgba(60, 64, 67, 0.3), 0px 1px 3px 1px rgba(60, 64, 67, 0.15);\n",
       "      fill: #174EA6;\n",
       "    }\n",
       "\n",
       "    [theme=dark] .colab-df-convert {\n",
       "      background-color: #3B4455;\n",
       "      fill: #D2E3FC;\n",
       "    }\n",
       "\n",
       "    [theme=dark] .colab-df-convert:hover {\n",
       "      background-color: #434B5C;\n",
       "      box-shadow: 0px 1px 3px 1px rgba(0, 0, 0, 0.15);\n",
       "      filter: drop-shadow(0px 1px 2px rgba(0, 0, 0, 0.3));\n",
       "      fill: #FFFFFF;\n",
       "    }\n",
       "  </style>\n",
       "\n",
       "      <script>\n",
       "        const buttonEl =\n",
       "          document.querySelector('#df-beeb5918-89c4-4d0f-9a91-d18d79a9aff0 button.colab-df-convert');\n",
       "        buttonEl.style.display =\n",
       "          google.colab.kernel.accessAllowed ? 'block' : 'none';\n",
       "\n",
       "        async function convertToInteractive(key) {\n",
       "          const element = document.querySelector('#df-beeb5918-89c4-4d0f-9a91-d18d79a9aff0');\n",
       "          const dataTable =\n",
       "            await google.colab.kernel.invokeFunction('convertToInteractive',\n",
       "                                                     [key], {});\n",
       "          if (!dataTable) return;\n",
       "\n",
       "          const docLinkHtml = 'Like what you see? Visit the ' +\n",
       "            '<a target=\"_blank\" href=https://colab.research.google.com/notebooks/data_table.ipynb>data table notebook</a>'\n",
       "            + ' to learn more about interactive tables.';\n",
       "          element.innerHTML = '';\n",
       "          dataTable['output_type'] = 'display_data';\n",
       "          await google.colab.output.renderOutput(dataTable, element);\n",
       "          const docLink = document.createElement('div');\n",
       "          docLink.innerHTML = docLinkHtml;\n",
       "          element.appendChild(docLink);\n",
       "        }\n",
       "      </script>\n",
       "    </div>\n",
       "  </div>\n",
       "  "
      ],
      "text/plain": [
       "   Unnamed: 0                     Name            Rarity  Price  isGood  \\\n",
       "0           0  XX-Saber Boggart Knight  Shatterfoil Rare   2.73    True   \n",
       "1           1            Gagaga Cowboy  Shatterfoil Rare   4.68    True   \n",
       "2           2        Forbidden Chalice  Shatterfoil Rare   2.09    True   \n",
       "3           3         Fairy Cheer Girl  Shatterfoil Rare   2.06    True   \n",
       "4           4          Exploder Dragon  Shatterfoil Rare   2.08    True   \n",
       "\n",
       "                                                text card_type  \\\n",
       "0  When this card is Normal Summoned: You can Spe...   monster   \n",
       "1  2 Level 4 monsters\\n\\nOnce per turn: You can d...   monster   \n",
       "2  Target 1 face-up monster on the field; until t...     spell   \n",
       "3  2 Level 4 Fairy-Type monsters\\n\\nYou can detac...   monster   \n",
       "4  If this card is destroyed by battle and sent t...   monster   \n",
       "\n",
       "                     type family     atk     def  level    property  \n",
       "0  Beast-Warrior / Effect  earth  1900.0  1000.0    4.0         NaN  \n",
       "1  Warrior / Xyz / Effect  earth  1500.0  2400.0    4.0         NaN  \n",
       "2                     NaN    NaN     NaN     NaN    NaN  Quick-Play  \n",
       "3    Fairy / Xyz / Effect  light  1900.0  1500.0    4.0         NaN  \n",
       "4         Dragon / Effect  earth  1000.0     0.0    3.0         NaN  "
      ]
     },
     "execution_count": 2,
     "metadata": {},
     "output_type": "execute_result"
    }
   ],
   "source": [
    "df_yugi = pd.read_csv('dbs/yugi_comp.csv',engine=\"python\",error_bad_lines=False)\n",
    "df_yugi = df_yugi.drop(['name'], axis=1)\n",
    "df_yugi = df_yugi[df_yugi['text'].notna()]\n",
    "df_yugi.head()"
   ]
  },
  {
   "cell_type": "code",
   "execution_count": 3,
   "id": "c0237e7d",
   "metadata": {
    "colab": {
     "base_uri": "https://localhost:8080/",
     "height": 159
    },
    "id": "c0237e7d",
    "outputId": "bbbb5b8f-e0f7-4b8b-85fb-89799311d1f6"
   },
   "outputs": [
    {
     "data": {
      "text/html": [
       "\n",
       "  <div id=\"df-e7cb123d-8610-497b-9ff0-9878de187a38\">\n",
       "    <div class=\"colab-df-container\">\n",
       "      <div>\n",
       "<style scoped>\n",
       "    .dataframe tbody tr th:only-of-type {\n",
       "        vertical-align: middle;\n",
       "    }\n",
       "\n",
       "    .dataframe tbody tr th {\n",
       "        vertical-align: top;\n",
       "    }\n",
       "\n",
       "    .dataframe thead th {\n",
       "        text-align: right;\n",
       "    }\n",
       "</style>\n",
       "<table border=\"1\" class=\"dataframe\">\n",
       "  <thead>\n",
       "    <tr style=\"text-align: right;\">\n",
       "      <th></th>\n",
       "      <th>Unnamed: 0</th>\n",
       "      <th>Name</th>\n",
       "      <th>Rarity</th>\n",
       "      <th>Price</th>\n",
       "      <th>isGood</th>\n",
       "      <th>text</th>\n",
       "      <th>card_type</th>\n",
       "      <th>type</th>\n",
       "      <th>family</th>\n",
       "      <th>atk</th>\n",
       "      <th>def</th>\n",
       "      <th>level</th>\n",
       "      <th>property</th>\n",
       "    </tr>\n",
       "  </thead>\n",
       "  <tbody>\n",
       "    <tr>\n",
       "      <th>3267</th>\n",
       "      <td>3267</td>\n",
       "      <td>Baby Dragon</td>\n",
       "      <td>Common</td>\n",
       "      <td>1.79</td>\n",
       "      <td>False</td>\n",
       "      <td>Much more than just a child, this dragon is gi...</td>\n",
       "      <td>monster</td>\n",
       "      <td>Dragon / Normal</td>\n",
       "      <td>wind</td>\n",
       "      <td>1200.0</td>\n",
       "      <td>700.0</td>\n",
       "      <td>3.0</td>\n",
       "      <td>NaN</td>\n",
       "    </tr>\n",
       "  </tbody>\n",
       "</table>\n",
       "</div>\n",
       "      <button class=\"colab-df-convert\" onclick=\"convertToInteractive('df-e7cb123d-8610-497b-9ff0-9878de187a38')\"\n",
       "              title=\"Convert this dataframe to an interactive table.\"\n",
       "              style=\"display:none;\">\n",
       "        \n",
       "  <svg xmlns=\"http://www.w3.org/2000/svg\" height=\"24px\"viewBox=\"0 0 24 24\"\n",
       "       width=\"24px\">\n",
       "    <path d=\"M0 0h24v24H0V0z\" fill=\"none\"/>\n",
       "    <path d=\"M18.56 5.44l.94 2.06.94-2.06 2.06-.94-2.06-.94-.94-2.06-.94 2.06-2.06.94zm-11 1L8.5 8.5l.94-2.06 2.06-.94-2.06-.94L8.5 2.5l-.94 2.06-2.06.94zm10 10l.94 2.06.94-2.06 2.06-.94-2.06-.94-.94-2.06-.94 2.06-2.06.94z\"/><path d=\"M17.41 7.96l-1.37-1.37c-.4-.4-.92-.59-1.43-.59-.52 0-1.04.2-1.43.59L10.3 9.45l-7.72 7.72c-.78.78-.78 2.05 0 2.83L4 21.41c.39.39.9.59 1.41.59.51 0 1.02-.2 1.41-.59l7.78-7.78 2.81-2.81c.8-.78.8-2.07 0-2.86zM5.41 20L4 18.59l7.72-7.72 1.47 1.35L5.41 20z\"/>\n",
       "  </svg>\n",
       "      </button>\n",
       "      \n",
       "  <style>\n",
       "    .colab-df-container {\n",
       "      display:flex;\n",
       "      flex-wrap:wrap;\n",
       "      gap: 12px;\n",
       "    }\n",
       "\n",
       "    .colab-df-convert {\n",
       "      background-color: #E8F0FE;\n",
       "      border: none;\n",
       "      border-radius: 50%;\n",
       "      cursor: pointer;\n",
       "      display: none;\n",
       "      fill: #1967D2;\n",
       "      height: 32px;\n",
       "      padding: 0 0 0 0;\n",
       "      width: 32px;\n",
       "    }\n",
       "\n",
       "    .colab-df-convert:hover {\n",
       "      background-color: #E2EBFA;\n",
       "      box-shadow: 0px 1px 2px rgba(60, 64, 67, 0.3), 0px 1px 3px 1px rgba(60, 64, 67, 0.15);\n",
       "      fill: #174EA6;\n",
       "    }\n",
       "\n",
       "    [theme=dark] .colab-df-convert {\n",
       "      background-color: #3B4455;\n",
       "      fill: #D2E3FC;\n",
       "    }\n",
       "\n",
       "    [theme=dark] .colab-df-convert:hover {\n",
       "      background-color: #434B5C;\n",
       "      box-shadow: 0px 1px 3px 1px rgba(0, 0, 0, 0.15);\n",
       "      filter: drop-shadow(0px 1px 2px rgba(0, 0, 0, 0.3));\n",
       "      fill: #FFFFFF;\n",
       "    }\n",
       "  </style>\n",
       "\n",
       "      <script>\n",
       "        const buttonEl =\n",
       "          document.querySelector('#df-e7cb123d-8610-497b-9ff0-9878de187a38 button.colab-df-convert');\n",
       "        buttonEl.style.display =\n",
       "          google.colab.kernel.accessAllowed ? 'block' : 'none';\n",
       "\n",
       "        async function convertToInteractive(key) {\n",
       "          const element = document.querySelector('#df-e7cb123d-8610-497b-9ff0-9878de187a38');\n",
       "          const dataTable =\n",
       "            await google.colab.kernel.invokeFunction('convertToInteractive',\n",
       "                                                     [key], {});\n",
       "          if (!dataTable) return;\n",
       "\n",
       "          const docLinkHtml = 'Like what you see? Visit the ' +\n",
       "            '<a target=\"_blank\" href=https://colab.research.google.com/notebooks/data_table.ipynb>data table notebook</a>'\n",
       "            + ' to learn more about interactive tables.';\n",
       "          element.innerHTML = '';\n",
       "          dataTable['output_type'] = 'display_data';\n",
       "          await google.colab.output.renderOutput(dataTable, element);\n",
       "          const docLink = document.createElement('div');\n",
       "          docLink.innerHTML = docLinkHtml;\n",
       "          element.appendChild(docLink);\n",
       "        }\n",
       "      </script>\n",
       "    </div>\n",
       "  </div>\n",
       "  "
      ],
      "text/plain": [
       "      Unnamed: 0         Name  Rarity  Price  isGood  \\\n",
       "3267        3267  Baby Dragon  Common   1.79   False   \n",
       "\n",
       "                                                   text card_type  \\\n",
       "3267  Much more than just a child, this dragon is gi...   monster   \n",
       "\n",
       "                 type family     atk    def  level property  \n",
       "3267  Dragon / Normal   wind  1200.0  700.0    3.0      NaN  "
      ]
     },
     "execution_count": 3,
     "metadata": {},
     "output_type": "execute_result"
    }
   ],
   "source": [
    "df_yugi.loc[(df_yugi['Name'] == \"Baby Dragon\")]"
   ]
  },
  {
   "cell_type": "code",
   "execution_count": 4,
   "id": "3fa04b37",
   "metadata": {
    "id": "3fa04b37"
   },
   "outputs": [],
   "source": [
    "import math\n",
    "def getMonsterType(row):\n",
    "    if row['card_type'] == 'monster':\n",
    "        monstype = row['type'].split(\"/\")\n",
    "        return monstype[-1].replace(\" \",\"\")\n",
    "    else:\n",
    "        return math.nan\n"
   ]
  },
  {
   "cell_type": "code",
   "execution_count": 5,
   "id": "bb869144",
   "metadata": {
    "colab": {
     "base_uri": "https://localhost:8080/",
     "height": 423
    },
    "id": "bb869144",
    "outputId": "91f54ca4-76e7-4e30-d692-6fa5229844a6"
   },
   "outputs": [
    {
     "data": {
      "text/html": [
       "\n",
       "  <div id=\"df-9b1531dc-196f-4667-b4ef-f775bd804b91\">\n",
       "    <div class=\"colab-df-container\">\n",
       "      <div>\n",
       "<style scoped>\n",
       "    .dataframe tbody tr th:only-of-type {\n",
       "        vertical-align: middle;\n",
       "    }\n",
       "\n",
       "    .dataframe tbody tr th {\n",
       "        vertical-align: top;\n",
       "    }\n",
       "\n",
       "    .dataframe thead th {\n",
       "        text-align: right;\n",
       "    }\n",
       "</style>\n",
       "<table border=\"1\" class=\"dataframe\">\n",
       "  <thead>\n",
       "    <tr style=\"text-align: right;\">\n",
       "      <th></th>\n",
       "      <th>Unnamed: 0</th>\n",
       "      <th>Name</th>\n",
       "      <th>Rarity</th>\n",
       "      <th>Price</th>\n",
       "      <th>isGood</th>\n",
       "      <th>text</th>\n",
       "      <th>card_type</th>\n",
       "      <th>type</th>\n",
       "      <th>family</th>\n",
       "      <th>atk</th>\n",
       "      <th>def</th>\n",
       "      <th>level</th>\n",
       "      <th>property</th>\n",
       "      <th>monster_type</th>\n",
       "    </tr>\n",
       "  </thead>\n",
       "  <tbody>\n",
       "    <tr>\n",
       "      <th>0</th>\n",
       "      <td>0</td>\n",
       "      <td>XX-Saber Boggart Knight</td>\n",
       "      <td>Shatterfoil Rare</td>\n",
       "      <td>2.73</td>\n",
       "      <td>True</td>\n",
       "      <td>When this card is Normal Summoned: You can Spe...</td>\n",
       "      <td>monster</td>\n",
       "      <td>Beast-Warrior / Effect</td>\n",
       "      <td>earth</td>\n",
       "      <td>1900.0</td>\n",
       "      <td>1000.0</td>\n",
       "      <td>4.0</td>\n",
       "      <td>NaN</td>\n",
       "      <td>Effect</td>\n",
       "    </tr>\n",
       "    <tr>\n",
       "      <th>1</th>\n",
       "      <td>1</td>\n",
       "      <td>Gagaga Cowboy</td>\n",
       "      <td>Shatterfoil Rare</td>\n",
       "      <td>4.68</td>\n",
       "      <td>True</td>\n",
       "      <td>2 Level 4 monsters\\n\\nOnce per turn: You can d...</td>\n",
       "      <td>monster</td>\n",
       "      <td>Warrior / Xyz / Effect</td>\n",
       "      <td>earth</td>\n",
       "      <td>1500.0</td>\n",
       "      <td>2400.0</td>\n",
       "      <td>4.0</td>\n",
       "      <td>NaN</td>\n",
       "      <td>Effect</td>\n",
       "    </tr>\n",
       "    <tr>\n",
       "      <th>2</th>\n",
       "      <td>2</td>\n",
       "      <td>Forbidden Chalice</td>\n",
       "      <td>Shatterfoil Rare</td>\n",
       "      <td>2.09</td>\n",
       "      <td>True</td>\n",
       "      <td>Target 1 face-up monster on the field; until t...</td>\n",
       "      <td>spell</td>\n",
       "      <td>NaN</td>\n",
       "      <td>NaN</td>\n",
       "      <td>NaN</td>\n",
       "      <td>NaN</td>\n",
       "      <td>NaN</td>\n",
       "      <td>Quick-Play</td>\n",
       "      <td>NaN</td>\n",
       "    </tr>\n",
       "    <tr>\n",
       "      <th>3</th>\n",
       "      <td>3</td>\n",
       "      <td>Fairy Cheer Girl</td>\n",
       "      <td>Shatterfoil Rare</td>\n",
       "      <td>2.06</td>\n",
       "      <td>True</td>\n",
       "      <td>2 Level 4 Fairy-Type monsters\\n\\nYou can detac...</td>\n",
       "      <td>monster</td>\n",
       "      <td>Fairy / Xyz / Effect</td>\n",
       "      <td>light</td>\n",
       "      <td>1900.0</td>\n",
       "      <td>1500.0</td>\n",
       "      <td>4.0</td>\n",
       "      <td>NaN</td>\n",
       "      <td>Effect</td>\n",
       "    </tr>\n",
       "    <tr>\n",
       "      <th>4</th>\n",
       "      <td>4</td>\n",
       "      <td>Exploder Dragon</td>\n",
       "      <td>Shatterfoil Rare</td>\n",
       "      <td>2.08</td>\n",
       "      <td>True</td>\n",
       "      <td>If this card is destroyed by battle and sent t...</td>\n",
       "      <td>monster</td>\n",
       "      <td>Dragon / Effect</td>\n",
       "      <td>earth</td>\n",
       "      <td>1000.0</td>\n",
       "      <td>0.0</td>\n",
       "      <td>3.0</td>\n",
       "      <td>NaN</td>\n",
       "      <td>Effect</td>\n",
       "    </tr>\n",
       "  </tbody>\n",
       "</table>\n",
       "</div>\n",
       "      <button class=\"colab-df-convert\" onclick=\"convertToInteractive('df-9b1531dc-196f-4667-b4ef-f775bd804b91')\"\n",
       "              title=\"Convert this dataframe to an interactive table.\"\n",
       "              style=\"display:none;\">\n",
       "        \n",
       "  <svg xmlns=\"http://www.w3.org/2000/svg\" height=\"24px\"viewBox=\"0 0 24 24\"\n",
       "       width=\"24px\">\n",
       "    <path d=\"M0 0h24v24H0V0z\" fill=\"none\"/>\n",
       "    <path d=\"M18.56 5.44l.94 2.06.94-2.06 2.06-.94-2.06-.94-.94-2.06-.94 2.06-2.06.94zm-11 1L8.5 8.5l.94-2.06 2.06-.94-2.06-.94L8.5 2.5l-.94 2.06-2.06.94zm10 10l.94 2.06.94-2.06 2.06-.94-2.06-.94-.94-2.06-.94 2.06-2.06.94z\"/><path d=\"M17.41 7.96l-1.37-1.37c-.4-.4-.92-.59-1.43-.59-.52 0-1.04.2-1.43.59L10.3 9.45l-7.72 7.72c-.78.78-.78 2.05 0 2.83L4 21.41c.39.39.9.59 1.41.59.51 0 1.02-.2 1.41-.59l7.78-7.78 2.81-2.81c.8-.78.8-2.07 0-2.86zM5.41 20L4 18.59l7.72-7.72 1.47 1.35L5.41 20z\"/>\n",
       "  </svg>\n",
       "      </button>\n",
       "      \n",
       "  <style>\n",
       "    .colab-df-container {\n",
       "      display:flex;\n",
       "      flex-wrap:wrap;\n",
       "      gap: 12px;\n",
       "    }\n",
       "\n",
       "    .colab-df-convert {\n",
       "      background-color: #E8F0FE;\n",
       "      border: none;\n",
       "      border-radius: 50%;\n",
       "      cursor: pointer;\n",
       "      display: none;\n",
       "      fill: #1967D2;\n",
       "      height: 32px;\n",
       "      padding: 0 0 0 0;\n",
       "      width: 32px;\n",
       "    }\n",
       "\n",
       "    .colab-df-convert:hover {\n",
       "      background-color: #E2EBFA;\n",
       "      box-shadow: 0px 1px 2px rgba(60, 64, 67, 0.3), 0px 1px 3px 1px rgba(60, 64, 67, 0.15);\n",
       "      fill: #174EA6;\n",
       "    }\n",
       "\n",
       "    [theme=dark] .colab-df-convert {\n",
       "      background-color: #3B4455;\n",
       "      fill: #D2E3FC;\n",
       "    }\n",
       "\n",
       "    [theme=dark] .colab-df-convert:hover {\n",
       "      background-color: #434B5C;\n",
       "      box-shadow: 0px 1px 3px 1px rgba(0, 0, 0, 0.15);\n",
       "      filter: drop-shadow(0px 1px 2px rgba(0, 0, 0, 0.3));\n",
       "      fill: #FFFFFF;\n",
       "    }\n",
       "  </style>\n",
       "\n",
       "      <script>\n",
       "        const buttonEl =\n",
       "          document.querySelector('#df-9b1531dc-196f-4667-b4ef-f775bd804b91 button.colab-df-convert');\n",
       "        buttonEl.style.display =\n",
       "          google.colab.kernel.accessAllowed ? 'block' : 'none';\n",
       "\n",
       "        async function convertToInteractive(key) {\n",
       "          const element = document.querySelector('#df-9b1531dc-196f-4667-b4ef-f775bd804b91');\n",
       "          const dataTable =\n",
       "            await google.colab.kernel.invokeFunction('convertToInteractive',\n",
       "                                                     [key], {});\n",
       "          if (!dataTable) return;\n",
       "\n",
       "          const docLinkHtml = 'Like what you see? Visit the ' +\n",
       "            '<a target=\"_blank\" href=https://colab.research.google.com/notebooks/data_table.ipynb>data table notebook</a>'\n",
       "            + ' to learn more about interactive tables.';\n",
       "          element.innerHTML = '';\n",
       "          dataTable['output_type'] = 'display_data';\n",
       "          await google.colab.output.renderOutput(dataTable, element);\n",
       "          const docLink = document.createElement('div');\n",
       "          docLink.innerHTML = docLinkHtml;\n",
       "          element.appendChild(docLink);\n",
       "        }\n",
       "      </script>\n",
       "    </div>\n",
       "  </div>\n",
       "  "
      ],
      "text/plain": [
       "   Unnamed: 0                     Name            Rarity  Price  isGood  \\\n",
       "0           0  XX-Saber Boggart Knight  Shatterfoil Rare   2.73    True   \n",
       "1           1            Gagaga Cowboy  Shatterfoil Rare   4.68    True   \n",
       "2           2        Forbidden Chalice  Shatterfoil Rare   2.09    True   \n",
       "3           3         Fairy Cheer Girl  Shatterfoil Rare   2.06    True   \n",
       "4           4          Exploder Dragon  Shatterfoil Rare   2.08    True   \n",
       "\n",
       "                                                text card_type  \\\n",
       "0  When this card is Normal Summoned: You can Spe...   monster   \n",
       "1  2 Level 4 monsters\\n\\nOnce per turn: You can d...   monster   \n",
       "2  Target 1 face-up monster on the field; until t...     spell   \n",
       "3  2 Level 4 Fairy-Type monsters\\n\\nYou can detac...   monster   \n",
       "4  If this card is destroyed by battle and sent t...   monster   \n",
       "\n",
       "                     type family     atk     def  level    property  \\\n",
       "0  Beast-Warrior / Effect  earth  1900.0  1000.0    4.0         NaN   \n",
       "1  Warrior / Xyz / Effect  earth  1500.0  2400.0    4.0         NaN   \n",
       "2                     NaN    NaN     NaN     NaN    NaN  Quick-Play   \n",
       "3    Fairy / Xyz / Effect  light  1900.0  1500.0    4.0         NaN   \n",
       "4         Dragon / Effect  earth  1000.0     0.0    3.0         NaN   \n",
       "\n",
       "  monster_type  \n",
       "0       Effect  \n",
       "1       Effect  \n",
       "2          NaN  \n",
       "3       Effect  \n",
       "4       Effect  "
      ]
     },
     "execution_count": 5,
     "metadata": {},
     "output_type": "execute_result"
    }
   ],
   "source": [
    "df_yugi['monster_type'] = df_yugi.apply(lambda row: getMonsterType(row), axis=1)\n",
    "df_yugi.head()"
   ]
  },
  {
   "cell_type": "code",
   "execution_count": 6,
   "id": "5fe3c3f8",
   "metadata": {
    "colab": {
     "base_uri": "https://localhost:8080/"
    },
    "id": "5fe3c3f8",
    "outputId": "7641b20d-a09d-44c8-a6dd-8f2617484012"
   },
   "outputs": [
    {
     "data": {
      "text/plain": [
       "<bound method NDFrame.head of        Unnamed: 0                           Name            Rarity  Price  \\\n",
       "0               0        XX-Saber Boggart Knight  Shatterfoil Rare   2.73   \n",
       "1               1                  Gagaga Cowboy  Shatterfoil Rare   4.68   \n",
       "2               2              Forbidden Chalice  Shatterfoil Rare   2.09   \n",
       "3               3               Fairy Cheer Girl  Shatterfoil Rare   2.06   \n",
       "4               4                Exploder Dragon  Shatterfoil Rare   2.08   \n",
       "...           ...                            ...               ...    ...   \n",
       "11642       11642        Herald of Mirage Lights        Ultra Rare   1.55   \n",
       "11643       11643   Graveyard of Wandering Souls        Ultra Rare   1.39   \n",
       "11644       11644  Lib the World Key Blademaster        Ultra Rare   3.47   \n",
       "11645       11645                   Kingyo Sukui        Ultra Rare   1.22   \n",
       "11646       11646               Skydive Scorcher        Ultra Rare   1.58   \n",
       "\n",
       "       isGood                                               text card_type  \\\n",
       "0        True  When this card is Normal Summoned: You can Spe...   monster   \n",
       "1        True  2 Level 4 monsters\\n\\nOnce per turn: You can d...   monster   \n",
       "2        True  Target 1 face-up monster on the field; until t...     spell   \n",
       "3        True  2 Level 4 Fairy-Type monsters\\n\\nYou can detac...   monster   \n",
       "4        True  If this card is destroyed by battle and sent t...   monster   \n",
       "...       ...                                                ...       ...   \n",
       "11642   False  2 monsters with the same Type and Attribute, e...   monster   \n",
       "11643   False  If this card is already face-up on the field:\\...      trap   \n",
       "11644   False  2 monsters\\n\\nCan only be Link Summoned while ...   monster   \n",
       "11645   False  You can target 1 monster in your opponent's GY...      trap   \n",
       "11646   False  Target 1 \"Elemental HERO\" Fusion Monster you c...     spell   \n",
       "\n",
       "                          type family     atk     def  level    property  \\\n",
       "0       Beast-Warrior / Effect  earth  1900.0  1000.0    4.0         NaN   \n",
       "1       Warrior / Xyz / Effect  earth  1500.0  2400.0    4.0         NaN   \n",
       "2                          NaN    NaN     NaN     NaN    NaN  Quick-Play   \n",
       "3         Fairy / Xyz / Effect  light  1900.0  1500.0    4.0         NaN   \n",
       "4              Dragon / Effect  earth  1000.0     0.0    3.0         NaN   \n",
       "...                        ...    ...     ...     ...    ...         ...   \n",
       "11642    Fairy / Link / Effect  light   600.0     0.0    0.0         NaN   \n",
       "11643                      NaN    NaN     NaN     NaN    NaN  Continuous   \n",
       "11644  Cyberse / Link / Effect  light  2000.0     0.0    0.0         NaN   \n",
       "11645                      NaN    NaN     NaN     NaN    NaN  Continuous   \n",
       "11646                      NaN    NaN     NaN     NaN    NaN      Normal   \n",
       "\n",
       "      monster_type  \n",
       "0           Effect  \n",
       "1           Effect  \n",
       "2              NaN  \n",
       "3           Effect  \n",
       "4           Effect  \n",
       "...            ...  \n",
       "11642       Effect  \n",
       "11643          NaN  \n",
       "11644       Effect  \n",
       "11645          NaN  \n",
       "11646          NaN  \n",
       "\n",
       "[11368 rows x 14 columns]>"
      ]
     },
     "execution_count": 6,
     "metadata": {},
     "output_type": "execute_result"
    }
   ],
   "source": [
    "df_yu = df_yugi.loc[(df_yugi['monster_type'] != 'Normal')]\n",
    "df_yu.head"
   ]
  },
  {
   "cell_type": "code",
   "execution_count": 7,
   "id": "3cfdd5e7",
   "metadata": {
    "colab": {
     "base_uri": "https://localhost:8080/",
     "height": 49
    },
    "id": "3cfdd5e7",
    "outputId": "5d66560d-dfe9-44a3-db81-0604b6daf6f1"
   },
   "outputs": [
    {
     "data": {
      "text/html": [
       "\n",
       "  <div id=\"df-289d6fbe-3cd4-441c-bdec-a1c00ba32333\">\n",
       "    <div class=\"colab-df-container\">\n",
       "      <div>\n",
       "<style scoped>\n",
       "    .dataframe tbody tr th:only-of-type {\n",
       "        vertical-align: middle;\n",
       "    }\n",
       "\n",
       "    .dataframe tbody tr th {\n",
       "        vertical-align: top;\n",
       "    }\n",
       "\n",
       "    .dataframe thead th {\n",
       "        text-align: right;\n",
       "    }\n",
       "</style>\n",
       "<table border=\"1\" class=\"dataframe\">\n",
       "  <thead>\n",
       "    <tr style=\"text-align: right;\">\n",
       "      <th></th>\n",
       "      <th>Unnamed: 0</th>\n",
       "      <th>Name</th>\n",
       "      <th>Rarity</th>\n",
       "      <th>Price</th>\n",
       "      <th>isGood</th>\n",
       "      <th>text</th>\n",
       "      <th>card_type</th>\n",
       "      <th>type</th>\n",
       "      <th>family</th>\n",
       "      <th>atk</th>\n",
       "      <th>def</th>\n",
       "      <th>level</th>\n",
       "      <th>property</th>\n",
       "      <th>monster_type</th>\n",
       "    </tr>\n",
       "  </thead>\n",
       "  <tbody>\n",
       "  </tbody>\n",
       "</table>\n",
       "</div>\n",
       "      <button class=\"colab-df-convert\" onclick=\"convertToInteractive('df-289d6fbe-3cd4-441c-bdec-a1c00ba32333')\"\n",
       "              title=\"Convert this dataframe to an interactive table.\"\n",
       "              style=\"display:none;\">\n",
       "        \n",
       "  <svg xmlns=\"http://www.w3.org/2000/svg\" height=\"24px\"viewBox=\"0 0 24 24\"\n",
       "       width=\"24px\">\n",
       "    <path d=\"M0 0h24v24H0V0z\" fill=\"none\"/>\n",
       "    <path d=\"M18.56 5.44l.94 2.06.94-2.06 2.06-.94-2.06-.94-.94-2.06-.94 2.06-2.06.94zm-11 1L8.5 8.5l.94-2.06 2.06-.94-2.06-.94L8.5 2.5l-.94 2.06-2.06.94zm10 10l.94 2.06.94-2.06 2.06-.94-2.06-.94-.94-2.06-.94 2.06-2.06.94z\"/><path d=\"M17.41 7.96l-1.37-1.37c-.4-.4-.92-.59-1.43-.59-.52 0-1.04.2-1.43.59L10.3 9.45l-7.72 7.72c-.78.78-.78 2.05 0 2.83L4 21.41c.39.39.9.59 1.41.59.51 0 1.02-.2 1.41-.59l7.78-7.78 2.81-2.81c.8-.78.8-2.07 0-2.86zM5.41 20L4 18.59l7.72-7.72 1.47 1.35L5.41 20z\"/>\n",
       "  </svg>\n",
       "      </button>\n",
       "      \n",
       "  <style>\n",
       "    .colab-df-container {\n",
       "      display:flex;\n",
       "      flex-wrap:wrap;\n",
       "      gap: 12px;\n",
       "    }\n",
       "\n",
       "    .colab-df-convert {\n",
       "      background-color: #E8F0FE;\n",
       "      border: none;\n",
       "      border-radius: 50%;\n",
       "      cursor: pointer;\n",
       "      display: none;\n",
       "      fill: #1967D2;\n",
       "      height: 32px;\n",
       "      padding: 0 0 0 0;\n",
       "      width: 32px;\n",
       "    }\n",
       "\n",
       "    .colab-df-convert:hover {\n",
       "      background-color: #E2EBFA;\n",
       "      box-shadow: 0px 1px 2px rgba(60, 64, 67, 0.3), 0px 1px 3px 1px rgba(60, 64, 67, 0.15);\n",
       "      fill: #174EA6;\n",
       "    }\n",
       "\n",
       "    [theme=dark] .colab-df-convert {\n",
       "      background-color: #3B4455;\n",
       "      fill: #D2E3FC;\n",
       "    }\n",
       "\n",
       "    [theme=dark] .colab-df-convert:hover {\n",
       "      background-color: #434B5C;\n",
       "      box-shadow: 0px 1px 3px 1px rgba(0, 0, 0, 0.15);\n",
       "      filter: drop-shadow(0px 1px 2px rgba(0, 0, 0, 0.3));\n",
       "      fill: #FFFFFF;\n",
       "    }\n",
       "  </style>\n",
       "\n",
       "      <script>\n",
       "        const buttonEl =\n",
       "          document.querySelector('#df-289d6fbe-3cd4-441c-bdec-a1c00ba32333 button.colab-df-convert');\n",
       "        buttonEl.style.display =\n",
       "          google.colab.kernel.accessAllowed ? 'block' : 'none';\n",
       "\n",
       "        async function convertToInteractive(key) {\n",
       "          const element = document.querySelector('#df-289d6fbe-3cd4-441c-bdec-a1c00ba32333');\n",
       "          const dataTable =\n",
       "            await google.colab.kernel.invokeFunction('convertToInteractive',\n",
       "                                                     [key], {});\n",
       "          if (!dataTable) return;\n",
       "\n",
       "          const docLinkHtml = 'Like what you see? Visit the ' +\n",
       "            '<a target=\"_blank\" href=https://colab.research.google.com/notebooks/data_table.ipynb>data table notebook</a>'\n",
       "            + ' to learn more about interactive tables.';\n",
       "          element.innerHTML = '';\n",
       "          dataTable['output_type'] = 'display_data';\n",
       "          await google.colab.output.renderOutput(dataTable, element);\n",
       "          const docLink = document.createElement('div');\n",
       "          docLink.innerHTML = docLinkHtml;\n",
       "          element.appendChild(docLink);\n",
       "        }\n",
       "      </script>\n",
       "    </div>\n",
       "  </div>\n",
       "  "
      ],
      "text/plain": [
       "Empty DataFrame\n",
       "Columns: [Unnamed: 0, Name, Rarity, Price, isGood, text, card_type, type, family, atk, def, level, property, monster_type]\n",
       "Index: []"
      ]
     },
     "execution_count": 7,
     "metadata": {},
     "output_type": "execute_result"
    }
   ],
   "source": [
    "df_yu.loc[(df_yu['Name'] == \"Baby Dragon\")]"
   ]
  },
  {
   "cell_type": "markdown",
   "id": "4cd2b9bb",
   "metadata": {
    "id": "4cd2b9bb"
   },
   "source": [
    "## TFIDF"
   ]
  },
  {
   "cell_type": "code",
   "execution_count": null,
   "id": "b9c0c794",
   "metadata": {
    "id": "b9c0c794",
    "outputId": "99598c00-62a4-4c9f-e898-074a3870f6bd"
   },
   "outputs": [
    {
     "data": {
      "text/html": [
       "<div>\n",
       "<style scoped>\n",
       "    .dataframe tbody tr th:only-of-type {\n",
       "        vertical-align: middle;\n",
       "    }\n",
       "\n",
       "    .dataframe tbody tr th {\n",
       "        vertical-align: top;\n",
       "    }\n",
       "\n",
       "    .dataframe thead th {\n",
       "        text-align: right;\n",
       "    }\n",
       "</style>\n",
       "<table border=\"1\" class=\"dataframe\">\n",
       "  <thead>\n",
       "    <tr style=\"text-align: right;\">\n",
       "      <th></th>\n",
       "      <th>Unnamed: 0</th>\n",
       "      <th>Name</th>\n",
       "      <th>Rarity</th>\n",
       "      <th>Price</th>\n",
       "      <th>isGood</th>\n",
       "      <th>text</th>\n",
       "      <th>card_type</th>\n",
       "      <th>type</th>\n",
       "      <th>family</th>\n",
       "      <th>atk</th>\n",
       "      <th>def</th>\n",
       "      <th>level</th>\n",
       "      <th>property</th>\n",
       "      <th>monster_type</th>\n",
       "    </tr>\n",
       "  </thead>\n",
       "  <tbody>\n",
       "    <tr>\n",
       "      <th>0</th>\n",
       "      <td>0</td>\n",
       "      <td>XX-Saber Boggart Knight</td>\n",
       "      <td>Shatterfoil Rare</td>\n",
       "      <td>2.73</td>\n",
       "      <td>True</td>\n",
       "      <td>When this card is Normal Summoned: You can Spe...</td>\n",
       "      <td>monster</td>\n",
       "      <td>Beast-Warrior / Effect</td>\n",
       "      <td>earth</td>\n",
       "      <td>1900.0</td>\n",
       "      <td>1000.0</td>\n",
       "      <td>4.0</td>\n",
       "      <td>NaN</td>\n",
       "      <td>Effect</td>\n",
       "    </tr>\n",
       "    <tr>\n",
       "      <th>1</th>\n",
       "      <td>1</td>\n",
       "      <td>Gagaga Cowboy</td>\n",
       "      <td>Shatterfoil Rare</td>\n",
       "      <td>4.68</td>\n",
       "      <td>True</td>\n",
       "      <td>2 Level 4 monsters\\n\\nOnce per turn: You can d...</td>\n",
       "      <td>monster</td>\n",
       "      <td>Warrior / Xyz / Effect</td>\n",
       "      <td>earth</td>\n",
       "      <td>1500.0</td>\n",
       "      <td>2400.0</td>\n",
       "      <td>4.0</td>\n",
       "      <td>NaN</td>\n",
       "      <td>Effect</td>\n",
       "    </tr>\n",
       "    <tr>\n",
       "      <th>2</th>\n",
       "      <td>2</td>\n",
       "      <td>Forbidden Chalice</td>\n",
       "      <td>Shatterfoil Rare</td>\n",
       "      <td>2.09</td>\n",
       "      <td>True</td>\n",
       "      <td>Target 1 face-up monster on the field; until t...</td>\n",
       "      <td>spell</td>\n",
       "      <td>NaN</td>\n",
       "      <td>NaN</td>\n",
       "      <td>NaN</td>\n",
       "      <td>NaN</td>\n",
       "      <td>NaN</td>\n",
       "      <td>Quick-Play</td>\n",
       "      <td>NaN</td>\n",
       "    </tr>\n",
       "    <tr>\n",
       "      <th>3</th>\n",
       "      <td>3</td>\n",
       "      <td>Fairy Cheer Girl</td>\n",
       "      <td>Shatterfoil Rare</td>\n",
       "      <td>2.06</td>\n",
       "      <td>True</td>\n",
       "      <td>2 Level 4 Fairy-Type monsters\\n\\nYou can detac...</td>\n",
       "      <td>monster</td>\n",
       "      <td>Fairy / Xyz / Effect</td>\n",
       "      <td>light</td>\n",
       "      <td>1900.0</td>\n",
       "      <td>1500.0</td>\n",
       "      <td>4.0</td>\n",
       "      <td>NaN</td>\n",
       "      <td>Effect</td>\n",
       "    </tr>\n",
       "    <tr>\n",
       "      <th>4</th>\n",
       "      <td>4</td>\n",
       "      <td>Exploder Dragon</td>\n",
       "      <td>Shatterfoil Rare</td>\n",
       "      <td>2.08</td>\n",
       "      <td>True</td>\n",
       "      <td>If this card is destroyed by battle and sent t...</td>\n",
       "      <td>monster</td>\n",
       "      <td>Dragon / Effect</td>\n",
       "      <td>earth</td>\n",
       "      <td>1000.0</td>\n",
       "      <td>0.0</td>\n",
       "      <td>3.0</td>\n",
       "      <td>NaN</td>\n",
       "      <td>Effect</td>\n",
       "    </tr>\n",
       "  </tbody>\n",
       "</table>\n",
       "</div>"
      ],
      "text/plain": [
       "   Unnamed: 0                     Name            Rarity  Price  isGood  \\\n",
       "0           0  XX-Saber Boggart Knight  Shatterfoil Rare   2.73    True   \n",
       "1           1            Gagaga Cowboy  Shatterfoil Rare   4.68    True   \n",
       "2           2        Forbidden Chalice  Shatterfoil Rare   2.09    True   \n",
       "3           3         Fairy Cheer Girl  Shatterfoil Rare   2.06    True   \n",
       "4           4          Exploder Dragon  Shatterfoil Rare   2.08    True   \n",
       "\n",
       "                                                text card_type  \\\n",
       "0  When this card is Normal Summoned: You can Spe...   monster   \n",
       "1  2 Level 4 monsters\\n\\nOnce per turn: You can d...   monster   \n",
       "2  Target 1 face-up monster on the field; until t...     spell   \n",
       "3  2 Level 4 Fairy-Type monsters\\n\\nYou can detac...   monster   \n",
       "4  If this card is destroyed by battle and sent t...   monster   \n",
       "\n",
       "                     type family     atk     def  level    property  \\\n",
       "0  Beast-Warrior / Effect  earth  1900.0  1000.0    4.0         NaN   \n",
       "1  Warrior / Xyz / Effect  earth  1500.0  2400.0    4.0         NaN   \n",
       "2                     NaN    NaN     NaN     NaN    NaN  Quick-Play   \n",
       "3    Fairy / Xyz / Effect  light  1900.0  1500.0    4.0         NaN   \n",
       "4         Dragon / Effect  earth  1000.0     0.0    3.0         NaN   \n",
       "\n",
       "  monster_type  \n",
       "0       Effect  \n",
       "1       Effect  \n",
       "2          NaN  \n",
       "3       Effect  \n",
       "4       Effect  "
      ]
     },
     "execution_count": 8,
     "metadata": {},
     "output_type": "execute_result"
    }
   ],
   "source": [
    "dfg = df_yugi.query(\"isGood\")\n",
    "dfb = df_yugi.query(\"not isGood\")\n",
    "dfg.head()"
   ]
  },
  {
   "cell_type": "code",
   "execution_count": null,
   "id": "3854bc48",
   "metadata": {
    "id": "3854bc48"
   },
   "outputs": [],
   "source": [
    "def get_term(dict, search_index):\n",
    "    return list(dict.keys())[list(dict.values()).index(search_index)]"
   ]
  },
  {
   "cell_type": "code",
   "execution_count": null,
   "id": "3d428fd9",
   "metadata": {
    "id": "3d428fd9"
   },
   "outputs": [],
   "source": [
    "def word_frequencies(tfidf):\n",
    "    tfidfadd = []\n",
    "    words = []\n",
    "    for j in range(tfidf.shape[1]):\n",
    "        words.append(get_term(vectorizer.vocabulary_,j))\n",
    "        tfidfadd.append(0)\n",
    "        for i in range(tfidf.shape[0]):            \n",
    "            tfidfadd[j] += tfidf[i, j]\n",
    "    return tfidfadd, words"
   ]
  },
  {
   "cell_type": "code",
   "execution_count": null,
   "id": "fdf9a1d6",
   "metadata": {
    "id": "fdf9a1d6"
   },
   "outputs": [],
   "source": [
    "import operator\n",
    "import heapq\n",
    "\n",
    "\n",
    "def get_top_words(n,tfidf):\n",
    "    tfdfadd, words = word_frequencies(tfidf)\n",
    "    return get_top(n,tfdfadd,words)\n",
    "\n",
    "def get_top(n,tfidfadd,words):\n",
    "    stopwords = [\"2000\",\"1000\",\"100\"]\n",
    "    sw = []\n",
    "    for stopword in stopwords:\n",
    "        sw.append(words.index(stopword))\n",
    "    \n",
    "\n",
    "    tops = list(list(zip(*heapq.nlargest(n, enumerate(tfidfadd), key=operator.itemgetter(1))))[0])\n",
    "    print(tops)\n",
    "    \n",
    "    for word in list(tops):  # iterating on a copy since removing will mess things up\n",
    "        if word in sw:\n",
    "            tops.remove(word)\n",
    "            print(tops)\n",
    "    res = 0\n",
    "    while (len(tops) < n):\n",
    "        print(len(tops))\n",
    "        res += n - len(tops)\n",
    "        tops = list(list(zip(*heapq.nlargest(n+res, enumerate(tfidfadd), key=operator.itemgetter(1))))[0])\n",
    "        print(f\"res{res}\")\n",
    "        for word in list(tops):\n",
    "            if word in sw:\n",
    "                tops.remove(word)\n",
    "        \n",
    "    \n",
    "    values = []\n",
    "    labels = []\n",
    "    tot = 0\n",
    "    \n",
    "    for j in tops:\n",
    "        values.append(tfidfadd[j]/len(tfidfadd))\n",
    "        labels.append(words[j])\n",
    "\n",
    "    #for j in range(len(tfidfadd)):\n",
    "    #    if j in tops:\n",
    "    #        values.append(tfidfadd[j]/len(tfidfadd))\n",
    "    #        labels.append(words[j])\n",
    "    #    else:\n",
    "    #        tot += tfidfadd[j]/len(tfidfadd)\n",
    "    #values.append(tot)\n",
    "    #labels.append(\"Other\")\n",
    "    return values, labels"
   ]
  },
  {
   "cell_type": "code",
   "execution_count": null,
   "id": "b4422c0a",
   "metadata": {
    "id": "b4422c0a"
   },
   "outputs": [],
   "source": [
    "from sklearn.feature_extraction.text import TfidfVectorizer\n",
    "import numpy as np\n",
    "from pprint import pprint\n",
    "\n",
    "vectorizer = TfidfVectorizer()\n",
    "\n",
    "# Compute the TF-IDF matrix\n",
    "tfidf_g = vectorizer.fit_transform(dfg[\"text\"])\n"
   ]
  },
  {
   "cell_type": "code",
   "execution_count": null,
   "id": "15f29af3",
   "metadata": {
    "id": "15f29af3"
   },
   "outputs": [],
   "source": [
    "tfidf_b = vectorizer.fit_transform(dfb[\"text\"])"
   ]
  },
  {
   "cell_type": "code",
   "execution_count": null,
   "id": "0d737bb5",
   "metadata": {
    "id": "0d737bb5",
    "outputId": "a97a1104-7769-4524-eb72-0d379664177e"
   },
   "outputs": [
    {
     "name": "stdout",
     "output_type": "stream",
     "text": [
      "foi\n"
     ]
    }
   ],
   "source": [
    "tfdfadd_g, words_g = word_frequencies(tfidf_g)\n",
    "print(\"foi\")"
   ]
  },
  {
   "cell_type": "code",
   "execution_count": null,
   "id": "d80195d0",
   "metadata": {
    "id": "d80195d0",
    "outputId": "44b3b842-9f5e-4af2-909b-c2f4cf371c47"
   },
   "outputs": [
    {
     "name": "stdout",
     "output_type": "stream",
     "text": [
      "[2984, 2985, 463, 2656, 2670, 1709, 452, 2698, 1826, 1099, 2779, 1857, 1327, 2459, 1710, 1380, 1862, 883, 1235, 2553, 1224, 164, 2625, 1383, 2655, 1339, 691, 2554, 1021, 1934]\n"
     ]
    },
    {
     "data": {
      "text/plain": [
       "<BarContainer object of 30 artists>"
      ]
     },
     "execution_count": 15,
     "metadata": {},
     "output_type": "execute_result"
    },
    {
     "data": {
      "image/png": "[encoded data removed]",
      "text/plain": [
       "<Figure size 640x480 with 1 Axes>"
      ]
     },
     "metadata": {},
     "output_type": "display_data"
    }
   ],
   "source": [
    "values, labels = get_top(30,tfdfadd_g,words_g)\n",
    "\n",
    "#fig, ax = plt.subplots()\n",
    "plt.title(\"Most frequent words / Good\")\n",
    "plt.xticks(rotation='vertical')\n",
    "plt.bar(labels,values)"
   ]
  },
  {
   "cell_type": "code",
   "execution_count": null,
   "id": "e5b23efe",
   "metadata": {
    "id": "e5b23efe",
    "outputId": "c60c9907-ce3a-494f-adfb-f555bdf37523"
   },
   "outputs": [
    {
     "ename": "KeyboardInterrupt",
     "evalue": "",
     "output_type": "error",
     "traceback": [
      "\u001b[1;31m---------------------------------------------------------------------------\u001b[0m",
      "\u001b[1;31mKeyboardInterrupt\u001b[0m                         Traceback (most recent call last)",
      "Cell \u001b[1;32mIn[17], line 1\u001b[0m\n\u001b[1;32m----> 1\u001b[0m tfdfadd_b, words_b \u001b[38;5;241m=\u001b[39m \u001b[43mword_frequencies\u001b[49m\u001b[43m(\u001b[49m\u001b[43mtfidf_b\u001b[49m\u001b[43m)\u001b[49m\n\u001b[0;32m      2\u001b[0m \u001b[38;5;28mprint\u001b[39m(\u001b[38;5;124m\"\u001b[39m\u001b[38;5;124mfoi\u001b[39m\u001b[38;5;124m\"\u001b[39m)\n",
      "Cell \u001b[1;32mIn[10], line 8\u001b[0m, in \u001b[0;36mword_frequencies\u001b[1;34m(tfidf)\u001b[0m\n\u001b[0;32m      6\u001b[0m     tfidfadd\u001b[38;5;241m.\u001b[39mappend(\u001b[38;5;241m0\u001b[39m)\n\u001b[0;32m      7\u001b[0m     \u001b[38;5;28;01mfor\u001b[39;00m i \u001b[38;5;129;01min\u001b[39;00m \u001b[38;5;28mrange\u001b[39m(tfidf\u001b[38;5;241m.\u001b[39mshape[\u001b[38;5;241m0\u001b[39m]):            \n\u001b[1;32m----> 8\u001b[0m         tfidfadd[j] \u001b[38;5;241m+\u001b[39m\u001b[38;5;241m=\u001b[39m \u001b[43mtfidf\u001b[49m\u001b[43m[\u001b[49m\u001b[43mi\u001b[49m\u001b[43m,\u001b[49m\u001b[43m \u001b[49m\u001b[43mj\u001b[49m\u001b[43m]\u001b[49m\n\u001b[0;32m      9\u001b[0m \u001b[38;5;28;01mreturn\u001b[39;00m tfidfadd, words\n",
      "File \u001b[1;32mC:\\ProgramData\\Anaconda3\\lib\\site-packages\\scipy\\sparse\\_index.py:52\u001b[0m, in \u001b[0;36mIndexMixin.__getitem__\u001b[1;34m(self, key)\u001b[0m\n\u001b[0;32m     50\u001b[0m \u001b[38;5;28;01mif\u001b[39;00m \u001b[38;5;28misinstance\u001b[39m(row, INT_TYPES):\n\u001b[0;32m     51\u001b[0m     \u001b[38;5;28;01mif\u001b[39;00m \u001b[38;5;28misinstance\u001b[39m(col, INT_TYPES):\n\u001b[1;32m---> 52\u001b[0m         \u001b[38;5;28;01mreturn\u001b[39;00m \u001b[38;5;28;43mself\u001b[39;49m\u001b[38;5;241;43m.\u001b[39;49m\u001b[43m_get_intXint\u001b[49m\u001b[43m(\u001b[49m\u001b[43mrow\u001b[49m\u001b[43m,\u001b[49m\u001b[43m \u001b[49m\u001b[43mcol\u001b[49m\u001b[43m)\u001b[49m\n\u001b[0;32m     53\u001b[0m     \u001b[38;5;28;01melif\u001b[39;00m \u001b[38;5;28misinstance\u001b[39m(col, \u001b[38;5;28mslice\u001b[39m):\n\u001b[0;32m     54\u001b[0m         \u001b[38;5;28mself\u001b[39m\u001b[38;5;241m.\u001b[39m_raise_on_1d_array_slice()\n",
      "File \u001b[1;32mC:\\ProgramData\\Anaconda3\\lib\\site-packages\\scipy\\sparse\\_compressed.py:657\u001b[0m, in \u001b[0;36m_cs_matrix._get_intXint\u001b[1;34m(self, row, col)\u001b[0m\n\u001b[0;32m    655\u001b[0m M, N \u001b[38;5;241m=\u001b[39m \u001b[38;5;28mself\u001b[39m\u001b[38;5;241m.\u001b[39m_swap(\u001b[38;5;28mself\u001b[39m\u001b[38;5;241m.\u001b[39mshape)\n\u001b[0;32m    656\u001b[0m major, minor \u001b[38;5;241m=\u001b[39m \u001b[38;5;28mself\u001b[39m\u001b[38;5;241m.\u001b[39m_swap((row, col))\n\u001b[1;32m--> 657\u001b[0m indptr, indices, data \u001b[38;5;241m=\u001b[39m \u001b[43mget_csr_submatrix\u001b[49m\u001b[43m(\u001b[49m\n\u001b[0;32m    658\u001b[0m \u001b[43m    \u001b[49m\u001b[43mM\u001b[49m\u001b[43m,\u001b[49m\u001b[43m \u001b[49m\u001b[43mN\u001b[49m\u001b[43m,\u001b[49m\u001b[43m \u001b[49m\u001b[38;5;28;43mself\u001b[39;49m\u001b[38;5;241;43m.\u001b[39;49m\u001b[43mindptr\u001b[49m\u001b[43m,\u001b[49m\u001b[43m \u001b[49m\u001b[38;5;28;43mself\u001b[39;49m\u001b[38;5;241;43m.\u001b[39;49m\u001b[43mindices\u001b[49m\u001b[43m,\u001b[49m\u001b[43m \u001b[49m\u001b[38;5;28;43mself\u001b[39;49m\u001b[38;5;241;43m.\u001b[39;49m\u001b[43mdata\u001b[49m\u001b[43m,\u001b[49m\n\u001b[0;32m    659\u001b[0m \u001b[43m    \u001b[49m\u001b[43mmajor\u001b[49m\u001b[43m,\u001b[49m\u001b[43m \u001b[49m\u001b[43mmajor\u001b[49m\u001b[43m \u001b[49m\u001b[38;5;241;43m+\u001b[39;49m\u001b[43m \u001b[49m\u001b[38;5;241;43m1\u001b[39;49m\u001b[43m,\u001b[49m\u001b[43m \u001b[49m\u001b[43mminor\u001b[49m\u001b[43m,\u001b[49m\u001b[43m \u001b[49m\u001b[43mminor\u001b[49m\u001b[43m \u001b[49m\u001b[38;5;241;43m+\u001b[39;49m\u001b[43m \u001b[49m\u001b[38;5;241;43m1\u001b[39;49m\u001b[43m)\u001b[49m\n\u001b[0;32m    660\u001b[0m \u001b[38;5;28;01mreturn\u001b[39;00m data\u001b[38;5;241m.\u001b[39msum(dtype\u001b[38;5;241m=\u001b[39m\u001b[38;5;28mself\u001b[39m\u001b[38;5;241m.\u001b[39mdtype)\n",
      "\u001b[1;31mKeyboardInterrupt\u001b[0m: "
     ]
    }
   ],
   "source": [
    "tfdfadd_b, words_b = word_frequencies(tfidf_b)\n",
    "print(\"foi\")"
   ]
  },
  {
   "cell_type": "code",
   "execution_count": null,
   "id": "ad143b47",
   "metadata": {
    "id": "ad143b47"
   },
   "outputs": [],
   "source": [
    "values, labels = get_top(30,tfdfadd_b,words_b)\n",
    "\n",
    "#fig, ax = plt.subplots()\n",
    "plt.title(\"Most frequent words / Bad\")\n",
    "plt.xticks(rotation='vertical')\n",
    "plt.bar(labels,values)"
   ]
  },
  {
   "cell_type": "markdown",
   "id": "50a046b2",
   "metadata": {
    "id": "50a046b2"
   },
   "source": [
    "## Baseline"
   ]
  },
  {
   "cell_type": "code",
   "execution_count": 123,
   "id": "5053a387",
   "metadata": {
    "id": "5053a387"
   },
   "outputs": [],
   "source": [
    "import matplotlib.pyplot as plt\n",
    "import nltk\n",
    "import numpy as np\n",
    "import pandas as pd\n",
    "from tqdm import tqdm\n",
    "import joblib\n",
    "import urllib\n",
    "import numpy as np\n",
    "from sklearn.feature_extraction.text import CountVectorizer\n",
    "from sklearn.pipeline import Pipeline\n",
    "from sklearn.linear_model import LogisticRegression\n",
    "from sklearn.naive_bayes import BernoulliNB\n",
    "from sklearn.model_selection import train_test_split\n",
    "from sklearn.metrics import accuracy_score"
   ]
  },
  {
   "cell_type": "code",
   "execution_count": 124,
   "id": "7Xqm7J27pJAK",
   "metadata": {
    "id": "7Xqm7J27pJAK"
   },
   "outputs": [],
   "source": [
    "methods = [\"Baseline\",\"DeepLearn\",\"SoftMax\",\"Embedding\",\"PreTrain\",\"PostTreat\"]\n",
    "delays = {}\n",
    "ram = {}\n",
    "accuracies = {}\n",
    "fps = {}\n",
    "tps = {}\n",
    "fns = {}\n",
    "tns = {}"
   ]
  },
  {
   "cell_type": "code",
   "execution_count": 125,
   "id": "kMQBV_cxqCuf",
   "metadata": {
    "id": "kMQBV_cxqCuf"
   },
   "outputs": [],
   "source": [
    "def startmeasuring():\n",
    "    # Start measuring time\n",
    "    start_time = time.time()\n",
    "\n",
    "    # Start measuring RAM usage\n",
    "    start_ram = psutil.Process().memory_info().rss\n",
    "    return start_time,start_ram\n",
    "\n",
    "def finishmeasuring(start_time,start_ram):\n",
    "    # Stop measuring time\n",
    "    end_time = time.time()\n",
    "\n",
    "    # Stop measuring RAM usage\n",
    "    end_ram = psutil.Process().memory_info().rss\n",
    "\n",
    "    # Calculate elapsed time\n",
    "    elapsed_time = end_time - start_time\n",
    "\n",
    "    # Calculate RAM usage\n",
    "    ram_usage = end_ram - start_ram\n",
    "\n",
    "    return elapsed_time, ram_usage\n"
   ]
  },
  {
   "cell_type": "code",
   "execution_count": 126,
   "id": "cCrLtQdasxrk",
   "metadata": {
    "id": "cCrLtQdasxrk"
   },
   "outputs": [],
   "source": [
    "\n",
    "import matplotlib.pyplot as plt\n",
    "\n",
    "confusion = 'true negative', 'false positive', 'false negative', 'true positive'\n",
    "\n",
    "\n",
    "from sklearn.metrics import confusion_matrix\n",
    "def build_confusion_matrix(y_test_,y_pred,method):\n",
    "  y_t = y_test_\n",
    "  y_p = y_pred\n",
    "  print(y_t.shape)\n",
    "  print(y_p.shape)\n",
    "  tn, fp, fn, tp = confusion_matrix(y_t, y_p).ravel()\n",
    "  print(f\"{confusion[0]}: {tn}\")\n",
    "  print(f\"{confusion[1]}: {fp}\")\n",
    "  print(f\"{confusion[2]}: {fn}\")\n",
    "  print(f\"{confusion[3]}: {tp}\")\n",
    "  sizes = [tn, fp, fn, tp]\n",
    "  fig, ax = plt.subplots()\n",
    "  ax.pie(sizes, labels=confusion, autopct='%1.1f%%')\n",
    "\n",
    "  tns[method] = tn\n",
    "  fps[method]= fp\n",
    "  fns[method] =fn\n",
    "  tps[method] =tp"
   ]
  },
  {
   "cell_type": "code",
   "execution_count": 127,
   "id": "589beac6",
   "metadata": {
    "id": "589beac6"
   },
   "outputs": [],
   "source": [
    "model_data = df_yu.copy()\n",
    "method = methods[0]"
   ]
  },
  {
   "cell_type": "code",
   "execution_count": 128,
   "id": "73961e08",
   "metadata": {
    "colab": {
     "base_uri": "https://localhost:8080/",
     "height": 956
    },
    "id": "73961e08",
    "outputId": "240c4443-d31e-4e12-9753-cbac6cd2b816"
   },
   "outputs": [
    {
     "data": {
      "text/html": [
       "\n",
       "  <div id=\"df-e39bf5d3-c3f1-41f8-9ec1-b3b504bb58bc\">\n",
       "    <div class=\"colab-df-container\">\n",
       "      <div>\n",
       "<style scoped>\n",
       "    .dataframe tbody tr th:only-of-type {\n",
       "        vertical-align: middle;\n",
       "    }\n",
       "\n",
       "    .dataframe tbody tr th {\n",
       "        vertical-align: top;\n",
       "    }\n",
       "\n",
       "    .dataframe thead th {\n",
       "        text-align: right;\n",
       "    }\n",
       "</style>\n",
       "<table border=\"1\" class=\"dataframe\">\n",
       "  <thead>\n",
       "    <tr style=\"text-align: right;\">\n",
       "      <th></th>\n",
       "      <th>Unnamed: 0</th>\n",
       "      <th>Name</th>\n",
       "      <th>Rarity</th>\n",
       "      <th>Price</th>\n",
       "      <th>isGood</th>\n",
       "      <th>text</th>\n",
       "      <th>card_type</th>\n",
       "      <th>type</th>\n",
       "      <th>family</th>\n",
       "      <th>atk</th>\n",
       "      <th>def</th>\n",
       "      <th>level</th>\n",
       "      <th>property</th>\n",
       "      <th>monster_type</th>\n",
       "    </tr>\n",
       "  </thead>\n",
       "  <tbody>\n",
       "    <tr>\n",
       "      <th>5185</th>\n",
       "      <td>5185</td>\n",
       "      <td>Battlin' Boxer Counterpunch</td>\n",
       "      <td>Common</td>\n",
       "      <td>1.30</td>\n",
       "      <td>False</td>\n",
       "      <td>During the Damage Step of either player's turn...</td>\n",
       "      <td>monster</td>\n",
       "      <td>Warrior / Effect</td>\n",
       "      <td>fire</td>\n",
       "      <td>0.0</td>\n",
       "      <td>1100.0</td>\n",
       "      <td>3.0</td>\n",
       "      <td>NaN</td>\n",
       "      <td>Effect</td>\n",
       "    </tr>\n",
       "    <tr>\n",
       "      <th>812</th>\n",
       "      <td>812</td>\n",
       "      <td>Myutant Clash</td>\n",
       "      <td>Common</td>\n",
       "      <td>2.14</td>\n",
       "      <td>True</td>\n",
       "      <td>When you activate this card: You can target 1 ...</td>\n",
       "      <td>trap</td>\n",
       "      <td>NaN</td>\n",
       "      <td>NaN</td>\n",
       "      <td>NaN</td>\n",
       "      <td>NaN</td>\n",
       "      <td>NaN</td>\n",
       "      <td>Continuous</td>\n",
       "      <td>NaN</td>\n",
       "    </tr>\n",
       "    <tr>\n",
       "      <th>238</th>\n",
       "      <td>238</td>\n",
       "      <td>Gemini Spark</td>\n",
       "      <td>Common</td>\n",
       "      <td>4.63</td>\n",
       "      <td>True</td>\n",
       "      <td>Tribute 1 face-up Level 4 Gemini monster, then...</td>\n",
       "      <td>spell</td>\n",
       "      <td>NaN</td>\n",
       "      <td>NaN</td>\n",
       "      <td>NaN</td>\n",
       "      <td>NaN</td>\n",
       "      <td>NaN</td>\n",
       "      <td>Quick-Play</td>\n",
       "      <td>NaN</td>\n",
       "    </tr>\n",
       "    <tr>\n",
       "      <th>10452</th>\n",
       "      <td>10452</td>\n",
       "      <td>Conductor of Nephthys</td>\n",
       "      <td>Super Rare</td>\n",
       "      <td>1.94</td>\n",
       "      <td>False</td>\n",
       "      <td>You can Ritual Summon this card with \"Rebirth ...</td>\n",
       "      <td>monster</td>\n",
       "      <td>Spellcaster / Ritual / Effect</td>\n",
       "      <td>wind</td>\n",
       "      <td>2000.0</td>\n",
       "      <td>0.0</td>\n",
       "      <td>2.0</td>\n",
       "      <td>NaN</td>\n",
       "      <td>Effect</td>\n",
       "    </tr>\n",
       "    <tr>\n",
       "      <th>8405</th>\n",
       "      <td>8405</td>\n",
       "      <td>Voloferniges, the Darkest Dragon Doomrider</td>\n",
       "      <td>Rare</td>\n",
       "      <td>1.16</td>\n",
       "      <td>False</td>\n",
       "      <td>2 Level 7 monsters\\n\\nOnce per turn: You can d...</td>\n",
       "      <td>monster</td>\n",
       "      <td>Dragon / Xyz / Effect</td>\n",
       "      <td>dark</td>\n",
       "      <td>2500.0</td>\n",
       "      <td>2100.0</td>\n",
       "      <td>7.0</td>\n",
       "      <td>NaN</td>\n",
       "      <td>Effect</td>\n",
       "    </tr>\n",
       "    <tr>\n",
       "      <th>...</th>\n",
       "      <td>...</td>\n",
       "      <td>...</td>\n",
       "      <td>...</td>\n",
       "      <td>...</td>\n",
       "      <td>...</td>\n",
       "      <td>...</td>\n",
       "      <td>...</td>\n",
       "      <td>...</td>\n",
       "      <td>...</td>\n",
       "      <td>...</td>\n",
       "      <td>...</td>\n",
       "      <td>...</td>\n",
       "      <td>...</td>\n",
       "      <td>...</td>\n",
       "    </tr>\n",
       "    <tr>\n",
       "      <th>11562</th>\n",
       "      <td>11562</td>\n",
       "      <td>Borreload Riot Dragon</td>\n",
       "      <td>Ultra Rare</td>\n",
       "      <td>1.60</td>\n",
       "      <td>False</td>\n",
       "      <td>You can Ritual Summon this card with \"Heavy In...</td>\n",
       "      <td>monster</td>\n",
       "      <td>Dragon / Ritual / Effect</td>\n",
       "      <td>dark</td>\n",
       "      <td>3000.0</td>\n",
       "      <td>2500.0</td>\n",
       "      <td>8.0</td>\n",
       "      <td>NaN</td>\n",
       "      <td>Effect</td>\n",
       "    </tr>\n",
       "    <tr>\n",
       "      <th>5375</th>\n",
       "      <td>5375</td>\n",
       "      <td>Offering to the Snake Deity</td>\n",
       "      <td>Common</td>\n",
       "      <td>1.38</td>\n",
       "      <td>False</td>\n",
       "      <td>Target 1 face-up Reptile monster you control a...</td>\n",
       "      <td>trap</td>\n",
       "      <td>NaN</td>\n",
       "      <td>NaN</td>\n",
       "      <td>NaN</td>\n",
       "      <td>NaN</td>\n",
       "      <td>NaN</td>\n",
       "      <td>Normal</td>\n",
       "      <td>NaN</td>\n",
       "    </tr>\n",
       "    <tr>\n",
       "      <th>5574</th>\n",
       "      <td>5574</td>\n",
       "      <td>Gunkan Suship Shari Red</td>\n",
       "      <td>Common</td>\n",
       "      <td>1.14</td>\n",
       "      <td>False</td>\n",
       "      <td>This card's name becomes \"Gunkan Suship Shari\"...</td>\n",
       "      <td>monster</td>\n",
       "      <td>Aqua / Effect</td>\n",
       "      <td>fire</td>\n",
       "      <td>0.0</td>\n",
       "      <td>2000.0</td>\n",
       "      <td>4.0</td>\n",
       "      <td>NaN</td>\n",
       "      <td>Effect</td>\n",
       "    </tr>\n",
       "    <tr>\n",
       "      <th>884</th>\n",
       "      <td>884</td>\n",
       "      <td>Black Salvo</td>\n",
       "      <td>Common</td>\n",
       "      <td>2.41</td>\n",
       "      <td>True</td>\n",
       "      <td>When this card is Normal Summoned: You can tar...</td>\n",
       "      <td>monster</td>\n",
       "      <td>Machine / Tuner / Effect</td>\n",
       "      <td>dark</td>\n",
       "      <td>100.0</td>\n",
       "      <td>1100.0</td>\n",
       "      <td>3.0</td>\n",
       "      <td>NaN</td>\n",
       "      <td>Effect</td>\n",
       "    </tr>\n",
       "    <tr>\n",
       "      <th>7493</th>\n",
       "      <td>7493</td>\n",
       "      <td>Despian Proskenion</td>\n",
       "      <td>Common</td>\n",
       "      <td>1.19</td>\n",
       "      <td>False</td>\n",
       "      <td>1 \"Despia\" monster + 1 LIGHT monster + 1 DARK ...</td>\n",
       "      <td>monster</td>\n",
       "      <td>Fiend / Fusion / Effect</td>\n",
       "      <td>light</td>\n",
       "      <td>3200.0</td>\n",
       "      <td>3200.0</td>\n",
       "      <td>11.0</td>\n",
       "      <td>NaN</td>\n",
       "      <td>Effect</td>\n",
       "    </tr>\n",
       "  </tbody>\n",
       "</table>\n",
       "<p>8526 rows × 14 columns</p>\n",
       "</div>\n",
       "      <button class=\"colab-df-convert\" onclick=\"convertToInteractive('df-e39bf5d3-c3f1-41f8-9ec1-b3b504bb58bc')\"\n",
       "              title=\"Convert this dataframe to an interactive table.\"\n",
       "              style=\"display:none;\">\n",
       "        \n",
       "  <svg xmlns=\"http://www.w3.org/2000/svg\" height=\"24px\"viewBox=\"0 0 24 24\"\n",
       "       width=\"24px\">\n",
       "    <path d=\"M0 0h24v24H0V0z\" fill=\"none\"/>\n",
       "    <path d=\"M18.56 5.44l.94 2.06.94-2.06 2.06-.94-2.06-.94-.94-2.06-.94 2.06-2.06.94zm-11 1L8.5 8.5l.94-2.06 2.06-.94-2.06-.94L8.5 2.5l-.94 2.06-2.06.94zm10 10l.94 2.06.94-2.06 2.06-.94-2.06-.94-.94-2.06-.94 2.06-2.06.94z\"/><path d=\"M17.41 7.96l-1.37-1.37c-.4-.4-.92-.59-1.43-.59-.52 0-1.04.2-1.43.59L10.3 9.45l-7.72 7.72c-.78.78-.78 2.05 0 2.83L4 21.41c.39.39.9.59 1.41.59.51 0 1.02-.2 1.41-.59l7.78-7.78 2.81-2.81c.8-.78.8-2.07 0-2.86zM5.41 20L4 18.59l7.72-7.72 1.47 1.35L5.41 20z\"/>\n",
       "  </svg>\n",
       "      </button>\n",
       "      \n",
       "  <style>\n",
       "    .colab-df-container {\n",
       "      display:flex;\n",
       "      flex-wrap:wrap;\n",
       "      gap: 12px;\n",
       "    }\n",
       "\n",
       "    .colab-df-convert {\n",
       "      background-color: #E8F0FE;\n",
       "      border: none;\n",
       "      border-radius: 50%;\n",
       "      cursor: pointer;\n",
       "      display: none;\n",
       "      fill: #1967D2;\n",
       "      height: 32px;\n",
       "      padding: 0 0 0 0;\n",
       "      width: 32px;\n",
       "    }\n",
       "\n",
       "    .colab-df-convert:hover {\n",
       "      background-color: #E2EBFA;\n",
       "      box-shadow: 0px 1px 2px rgba(60, 64, 67, 0.3), 0px 1px 3px 1px rgba(60, 64, 67, 0.15);\n",
       "      fill: #174EA6;\n",
       "    }\n",
       "\n",
       "    [theme=dark] .colab-df-convert {\n",
       "      background-color: #3B4455;\n",
       "      fill: #D2E3FC;\n",
       "    }\n",
       "\n",
       "    [theme=dark] .colab-df-convert:hover {\n",
       "      background-color: #434B5C;\n",
       "      box-shadow: 0px 1px 3px 1px rgba(0, 0, 0, 0.15);\n",
       "      filter: drop-shadow(0px 1px 2px rgba(0, 0, 0, 0.3));\n",
       "      fill: #FFFFFF;\n",
       "    }\n",
       "  </style>\n",
       "\n",
       "      <script>\n",
       "        const buttonEl =\n",
       "          document.querySelector('#df-e39bf5d3-c3f1-41f8-9ec1-b3b504bb58bc button.colab-df-convert');\n",
       "        buttonEl.style.display =\n",
       "          google.colab.kernel.accessAllowed ? 'block' : 'none';\n",
       "\n",
       "        async function convertToInteractive(key) {\n",
       "          const element = document.querySelector('#df-e39bf5d3-c3f1-41f8-9ec1-b3b504bb58bc');\n",
       "          const dataTable =\n",
       "            await google.colab.kernel.invokeFunction('convertToInteractive',\n",
       "                                                     [key], {});\n",
       "          if (!dataTable) return;\n",
       "\n",
       "          const docLinkHtml = 'Like what you see? Visit the ' +\n",
       "            '<a target=\"_blank\" href=https://colab.research.google.com/notebooks/data_table.ipynb>data table notebook</a>'\n",
       "            + ' to learn more about interactive tables.';\n",
       "          element.innerHTML = '';\n",
       "          dataTable['output_type'] = 'display_data';\n",
       "          await google.colab.output.renderOutput(dataTable, element);\n",
       "          const docLink = document.createElement('div');\n",
       "          docLink.innerHTML = docLinkHtml;\n",
       "          element.appendChild(docLink);\n",
       "        }\n",
       "      </script>\n",
       "    </div>\n",
       "  </div>\n",
       "  "
      ],
      "text/plain": [
       "       Unnamed: 0                                        Name      Rarity  \\\n",
       "5185         5185                 Battlin' Boxer Counterpunch      Common   \n",
       "812           812                               Myutant Clash      Common   \n",
       "238           238                                Gemini Spark      Common   \n",
       "10452       10452                       Conductor of Nephthys  Super Rare   \n",
       "8405         8405  Voloferniges, the Darkest Dragon Doomrider        Rare   \n",
       "...           ...                                         ...         ...   \n",
       "11562       11562                       Borreload Riot Dragon  Ultra Rare   \n",
       "5375         5375                 Offering to the Snake Deity      Common   \n",
       "5574         5574                     Gunkan Suship Shari Red      Common   \n",
       "884           884                                 Black Salvo      Common   \n",
       "7493         7493                          Despian Proskenion      Common   \n",
       "\n",
       "       Price  isGood                                               text  \\\n",
       "5185    1.30   False  During the Damage Step of either player's turn...   \n",
       "812     2.14    True  When you activate this card: You can target 1 ...   \n",
       "238     4.63    True  Tribute 1 face-up Level 4 Gemini monster, then...   \n",
       "10452   1.94   False  You can Ritual Summon this card with \"Rebirth ...   \n",
       "8405    1.16   False  2 Level 7 monsters\\n\\nOnce per turn: You can d...   \n",
       "...      ...     ...                                                ...   \n",
       "11562   1.60   False  You can Ritual Summon this card with \"Heavy In...   \n",
       "5375    1.38   False  Target 1 face-up Reptile monster you control a...   \n",
       "5574    1.14   False  This card's name becomes \"Gunkan Suship Shari\"...   \n",
       "884     2.41    True  When this card is Normal Summoned: You can tar...   \n",
       "7493    1.19   False  1 \"Despia\" monster + 1 LIGHT monster + 1 DARK ...   \n",
       "\n",
       "      card_type                           type family     atk     def  level  \\\n",
       "5185    monster               Warrior / Effect   fire     0.0  1100.0    3.0   \n",
       "812        trap                            NaN    NaN     NaN     NaN    NaN   \n",
       "238       spell                            NaN    NaN     NaN     NaN    NaN   \n",
       "10452   monster  Spellcaster / Ritual / Effect   wind  2000.0     0.0    2.0   \n",
       "8405    monster          Dragon / Xyz / Effect   dark  2500.0  2100.0    7.0   \n",
       "...         ...                            ...    ...     ...     ...    ...   \n",
       "11562   monster       Dragon / Ritual / Effect   dark  3000.0  2500.0    8.0   \n",
       "5375       trap                            NaN    NaN     NaN     NaN    NaN   \n",
       "5574    monster                  Aqua / Effect   fire     0.0  2000.0    4.0   \n",
       "884     monster       Machine / Tuner / Effect   dark   100.0  1100.0    3.0   \n",
       "7493    monster        Fiend / Fusion / Effect  light  3200.0  3200.0   11.0   \n",
       "\n",
       "         property monster_type  \n",
       "5185          NaN       Effect  \n",
       "812    Continuous          NaN  \n",
       "238    Quick-Play          NaN  \n",
       "10452         NaN       Effect  \n",
       "8405          NaN       Effect  \n",
       "...           ...          ...  \n",
       "11562         NaN       Effect  \n",
       "5375       Normal          NaN  \n",
       "5574          NaN       Effect  \n",
       "884           NaN       Effect  \n",
       "7493          NaN       Effect  \n",
       "\n",
       "[8526 rows x 14 columns]"
      ]
     },
     "execution_count": 128,
     "metadata": {},
     "output_type": "execute_result"
    }
   ],
   "source": [
    "train_data, test_data = train_test_split(model_data, test_size=0.25, random_state=42)\n",
    "train_data"
   ]
  },
  {
   "cell_type": "code",
   "execution_count": 129,
   "id": "6891891b",
   "metadata": {
    "id": "6891891b"
   },
   "outputs": [],
   "source": [
    "X_train = train_data[\"text\"]\n",
    "y_train = train_data[\"isGood\"]\n",
    "X_test = test_data[\"text\"]\n",
    "y_test = test_data[\"isGood\"]"
   ]
  },
  {
   "cell_type": "code",
   "execution_count": 130,
   "id": "59514928",
   "metadata": {
    "colab": {
     "base_uri": "https://localhost:8080/"
    },
    "id": "59514928",
    "outputId": "f4c3fb9b-2739-4d69-a885-1ae7ff877e81"
   },
   "outputs": [
    {
     "name": "stdout",
     "output_type": "stream",
     "text": [
      "0.7607318789584799\n"
     ]
    }
   ],
   "source": [
    "classificador = Pipeline([\n",
    "                        ('meu_vetorizador', CountVectorizer(stop_words='english')),\n",
    "                        ('meu_classificador', LogisticRegression(penalty=None, solver='saga', max_iter=10000))\n",
    "                        ])\n",
    "classificador.fit(X_train,y_train)\n",
    "stime,sram = startmeasuring()\n",
    "y_pred = classificador.predict(X_test)\n",
    "etime,eram = finishmeasuring(stime,sram)\n",
    "acc = accuracy_score(y_pred,y_test)\n",
    "#methods.append(\"Baseline\")\n",
    "accuracies[method] = acc\n",
    "delays[method] = etime\n",
    "ram[method] = eram\n",
    "print(acc)"
   ]
  },
  {
   "cell_type": "code",
   "execution_count": 131,
   "id": "5af15ece",
   "metadata": {
    "colab": {
     "base_uri": "https://localhost:8080/",
     "height": 488
    },
    "id": "5af15ece",
    "outputId": "414cd1ce-57c5-481d-a4ab-65eab2651d93"
   },
   "outputs": [
    {
     "name": "stdout",
     "output_type": "stream",
     "text": [
      "(1, 5636)\n"
     ]
    },
    {
     "data": {
      "image/png": "[encoded data removed]",
      "text/plain": [
       "<Figure size 1400x100 with 1 Axes>"
      ]
     },
     "metadata": {},
     "output_type": "display_data"
    },
    {
     "data": {
      "image/png": "[encoded data removed]",
      "text/plain": [
       "<Figure size 1400x100 with 1 Axes>"
      ]
     },
     "metadata": {},
     "output_type": "display_data"
    }
   ],
   "source": [
    "vocabulario = classificador['meu_vetorizador'].vocabulary_\n",
    "pesos = classificador['meu_classificador'].coef_\n",
    "print(pesos.shape)\n",
    "\n",
    "classe_alvo = 0\n",
    "classe_alvo_str = classificador.classes_[classe_alvo]\n",
    "\n",
    "palavras_e_pesos = []\n",
    "for palavra in vocabulario.keys():\n",
    "    j = vocabulario[palavra]\n",
    "    coeficiente = pesos[classe_alvo,j]\n",
    "    palavras_e_pesos.append( (coeficiente, palavra) )\n",
    "\n",
    "tuplas_ordenadas = sorted(palavras_e_pesos, reverse=True) # reverse=True pede uma ordenação em ordem decrescente\n",
    "palavras = [ t[1] for t in tuplas_ordenadas ]\n",
    "contagens = [ t[0] for t in tuplas_ordenadas ]\n",
    "\n",
    "n_palavras = 30\n",
    "eixo_x = np.arange(n_palavras)\n",
    "plt.figure(figsize=(14,1))\n",
    "plt.title('Palavras que mais levam à carta ruim')\n",
    "plt.bar(eixo_x[0:n_palavras], contagens[0:n_palavras])\n",
    "plt.xticks(eixo_x[0:n_palavras], palavras[0:n_palavras], rotation=70)\n",
    "plt.show()\n",
    "\n",
    "eixo_x = np.arange(n_palavras)\n",
    "plt.figure(figsize=(14,1))\n",
    "plt.title('Palavras que mais leva à carta boa')\n",
    "plt.bar(eixo_x[-n_palavras:], contagens[-n_palavras:])\n",
    "plt.xticks(eixo_x[-n_palavras:], palavras[-n_palavras:], rotation=70)\n",
    "plt.show()"
   ]
  },
  {
   "cell_type": "code",
   "execution_count": 133,
   "id": "jU4rPyekq_G6",
   "metadata": {
    "colab": {
     "base_uri": "https://localhost:8080/",
     "height": 510
    },
    "id": "jU4rPyekq_G6",
    "outputId": "e2a93ea8-1342-4531-8df5-a35f9c3902a6"
   },
   "outputs": [
    {
     "name": "stdout",
     "output_type": "stream",
     "text": [
      "(2842,)\n",
      "(2842,)\n",
      "true negative: 2064\n",
      "false positive: 233\n",
      "false negative: 447\n",
      "true positive: 98\n"
     ]
    },
    {
     "data": {
      "image/png": "[encoded data removed]",
      "text/plain": [
       "<Figure size 640x480 with 1 Axes>"
      ]
     },
     "metadata": {},
     "output_type": "display_data"
    }
   ],
   "source": [
    "build_confusion_matrix(y_test,y_pred,method)"
   ]
  },
  {
   "cell_type": "markdown",
   "id": "26a6f858",
   "metadata": {
    "id": "26a6f858"
   },
   "source": [
    "## Deep Learning in-house"
   ]
  },
  {
   "cell_type": "code",
   "execution_count": 134,
   "id": "7f72d999",
   "metadata": {
    "id": "7f72d999"
   },
   "outputs": [],
   "source": [
    "import matplotlib.pyplot as plt\n",
    "import pandas as pd\n",
    "import numpy as np\n",
    "from sklearn.feature_extraction.text import CountVectorizer\n",
    "from sklearn.pipeline import Pipeline\n",
    "from sklearn.metrics import accuracy_score\n",
    "from sklearn.linear_model import LogisticRegression\n",
    "from sklearn.model_selection import train_test_split\n",
    "\n",
    "from keras.layers import Input, Dense, Activation\n",
    "from keras.models import Model\n",
    "import tensorflow as tf\n",
    "from tensorflow.keras.utils import plot_model"
   ]
  },
  {
   "cell_type": "code",
   "execution_count": 135,
   "id": "328c79c9",
   "metadata": {
    "id": "328c79c9"
   },
   "outputs": [],
   "source": [
    "model_data = df_yu.copy()\n",
    "method = methods[1]\n",
    "train_data, test_data = train_test_split(model_data, test_size=0.25, random_state=42)\n",
    "X_train = train_data[\"text\"]\n",
    "y_train = train_data[\"isGood\"]\n",
    "X_test = test_data[\"text\"]\n",
    "y_test = test_data[\"isGood\"]"
   ]
  },
  {
   "cell_type": "code",
   "execution_count": 136,
   "id": "6cd9ca53",
   "metadata": {
    "id": "6cd9ca53"
   },
   "outputs": [],
   "source": [
    "def pre_processar_saidas(y):\n",
    "    y_out = np.zeros_like(y)\n",
    "    y_out[ y==False ] = -1.0\n",
    "    y_out[ y==True ] = 1.0\n",
    "    y_out = y_out.reshape( (-1, 1))\n",
    "    return y_out.astype(float)\n",
    "\n",
    "y_train_ = pre_processar_saidas(y_train)\n",
    "y_test_ = pre_processar_saidas(y_test)\n",
    "\n",
    "vectorizer = CountVectorizer(stop_words='english', binary=True, max_features=500)\n",
    "X_train_ = vectorizer.fit_transform(X_train).todense().astype(float)\n",
    "X_test_ = vectorizer.transform(X_test).todense().astype(float)"
   ]
  },
  {
   "cell_type": "code",
   "execution_count": 137,
   "id": "20c4477b",
   "metadata": {
    "colab": {
     "base_uri": "https://localhost:8080/"
    },
    "id": "20c4477b",
    "outputId": "1c3150f2-d55d-404a-da76-4c88e12a1607"
   },
   "outputs": [
    {
     "name": "stdout",
     "output_type": "stream",
     "text": [
      "Epoch 1/5\n",
      "267/267 [==============================] - 2s 3ms/step - loss: 0.1687 - accuracy: 0.7844\n",
      "Epoch 2/5\n",
      "267/267 [==============================] - 1s 3ms/step - loss: 0.0127 - accuracy: 0.9789\n",
      "Epoch 3/5\n",
      "267/267 [==============================] - 1s 3ms/step - loss: 0.0054 - accuracy: 0.9957\n",
      "Epoch 4/5\n",
      "267/267 [==============================] - 1s 3ms/step - loss: 0.0025 - accuracy: 1.0000\n",
      "Epoch 5/5\n",
      "267/267 [==============================] - 1s 3ms/step - loss: 0.0013 - accuracy: 1.0000\n"
     ]
    },
    {
     "data": {
      "text/plain": [
       "<keras.callbacks.History at 0x7fd5a0877c10>"
      ]
     },
     "execution_count": 137,
     "metadata": {},
     "output_type": "execute_result"
    }
   ],
   "source": [
    "def base_model(vocab_size=500):\n",
    "    input_layer = Input(shape=(vocab_size,))\n",
    "    x = input_layer\n",
    "    x = Dense(1, name='classificador')(x)\n",
    "    x = Activation('tanh')(x)\n",
    "    return Model(input_layer, x)\n",
    "\n",
    "clf = base_model()\n",
    "clf.compile(loss='mean_squared_error', metrics=['accuracy'])\n",
    "clf.fit(X_train_, y_train_, epochs=5, verbose=1)"
   ]
  },
  {
   "cell_type": "code",
   "execution_count": 138,
   "id": "1b4811bb",
   "metadata": {
    "colab": {
     "base_uri": "https://localhost:8080/"
    },
    "id": "1b4811bb",
    "outputId": "0122114d-f137-4b6a-e6c2-34f856d0d5f1"
   },
   "outputs": [
    {
     "name": "stdout",
     "output_type": "stream",
     "text": [
      "89/89 [==============================] - 0s 2ms/step - loss: 9.3856e-04 - accuracy: 1.0000\n",
      "[0.0009385576122440398, 1.0]\n"
     ]
    }
   ],
   "source": [
    "evaluation = clf.evaluate(X_test_, y_test_)\n",
    "print(evaluation)\n",
    "acc = evaluation[1]"
   ]
  },
  {
   "cell_type": "code",
   "execution_count": 140,
   "id": "2096e079",
   "metadata": {
    "colab": {
     "base_uri": "https://localhost:8080/"
    },
    "id": "2096e079",
    "outputId": "e417e5e9-2ad0-41b8-f1ba-993a8f09b925"
   },
   "outputs": [
    {
     "name": "stdout",
     "output_type": "stream",
     "text": [
      "89/89 [==============================] - 0s 1ms/step\n"
     ]
    }
   ],
   "source": [
    "stime,sram = startmeasuring()\n",
    "y_pred = clf.predict(X_test_)\n",
    "#print(y_pred.T)\n",
    "etime,eram = finishmeasuring(stime,sram)\n",
    "#methods.append(\"DeepLearn\")\n",
    "accuracies[method]=(acc)\n",
    "delays[method]=(etime)\n",
    "ram[method]=(eram)"
   ]
  },
  {
   "cell_type": "code",
   "execution_count": 141,
   "id": "6983e8cc",
   "metadata": {
    "colab": {
     "base_uri": "https://localhost:8080/"
    },
    "id": "6983e8cc",
    "outputId": "3c26bfd5-47b9-4e51-fb23-803cdae75be8"
   },
   "outputs": [
    {
     "name": "stdout",
     "output_type": "stream",
     "text": [
      "Model: \"model_7\"\n",
      "_________________________________________________________________\n",
      " Layer (type)                Output Shape              Param #   \n",
      "=================================================================\n",
      " input_8 (InputLayer)        [(None, 500)]             0         \n",
      "                                                                 \n",
      " classificador (Dense)       (None, 1)                 501       \n",
      "                                                                 \n",
      " activation_7 (Activation)   (None, 1)                 0         \n",
      "                                                                 \n",
      "=================================================================\n",
      "Total params: 501\n",
      "Trainable params: 501\n",
      "Non-trainable params: 0\n",
      "_________________________________________________________________\n",
      "None\n"
     ]
    }
   ],
   "source": [
    "print(clf.summary())"
   ]
  },
  {
   "cell_type": "code",
   "execution_count": 142,
   "id": "79f398c5",
   "metadata": {
    "colab": {
     "base_uri": "https://localhost:8080/"
    },
    "id": "79f398c5",
    "outputId": "0a8a657d-205a-49c3-f705-862b5e286d4f"
   },
   "outputs": [
    {
     "name": "stdout",
     "output_type": "stream",
     "text": [
      "(500, 1)\n",
      "(1,)\n"
     ]
    }
   ],
   "source": [
    "\n",
    "print(clf.get_layer('classificador').weights[0].shape)\n",
    "print(clf.get_layer('classificador').weights[1].shape)"
   ]
  },
  {
   "cell_type": "code",
   "execution_count": 143,
   "id": "135bc1e2",
   "metadata": {
    "colab": {
     "base_uri": "https://localhost:8080/"
    },
    "id": "135bc1e2",
    "outputId": "7a79b6b3-d82f-453a-9b36-a1206dd0d26f"
   },
   "outputs": [
    {
     "name": "stdout",
     "output_type": "stream",
     "text": [
      "Epoch 1/5\n",
      "240/240 [==============================] - 1s 4ms/step - loss: 0.1604 - accuracy: 0.7915 - val_loss: 0.0238 - val_accuracy: 0.9648\n",
      "Epoch 2/5\n",
      "240/240 [==============================] - 1s 6ms/step - loss: 0.0153 - accuracy: 0.9728 - val_loss: 0.0093 - val_accuracy: 0.9836\n",
      "Epoch 3/5\n",
      "240/240 [==============================] - 1s 5ms/step - loss: 0.0070 - accuracy: 0.9898 - val_loss: 0.0046 - val_accuracy: 0.9988\n",
      "Epoch 4/5\n",
      "240/240 [==============================] - 1s 5ms/step - loss: 0.0036 - accuracy: 0.9999 - val_loss: 0.0025 - val_accuracy: 1.0000\n",
      "Epoch 5/5\n",
      "240/240 [==============================] - 1s 5ms/step - loss: 0.0020 - accuracy: 1.0000 - val_loss: 0.0014 - val_accuracy: 1.0000\n"
     ]
    }
   ],
   "source": [
    "clf = base_model()\n",
    "clf.compile(loss='mean_squared_error', metrics=['accuracy'])\n",
    "history = clf.fit(X_train_, y_train_, epochs=5, verbose=1, validation_split=0.1)"
   ]
  },
  {
   "cell_type": "code",
   "execution_count": 144,
   "id": "e439e5bc",
   "metadata": {
    "colab": {
     "base_uri": "https://localhost:8080/",
     "height": 254
    },
    "id": "e439e5bc",
    "outputId": "6c591dbd-9e6a-4f12-c4e5-f432ec81058f"
   },
   "outputs": [
    {
     "data": {
      "image/png": "[encoded data removed]",
      "text/plain": [
       "<Figure size 1400x100 with 1 Axes>"
      ]
     },
     "metadata": {},
     "output_type": "display_data"
    },
    {
     "data": {
      "image/png": "[encoded data removed]",
      "text/plain": [
       "<Figure size 1400x100 with 1 Axes>"
      ]
     },
     "metadata": {},
     "output_type": "display_data"
    }
   ],
   "source": [
    "plt.figure(figsize=(14,1))\n",
    "plt.plot(history.history['loss'], label='loss')\n",
    "plt.plot(history.history['val_loss'], label='val_loss')\n",
    "plt.legend()\n",
    "plt.show()\n",
    "plt.figure(figsize=(14,1))\n",
    "plt.plot(history.history['accuracy'], label='accuracy')\n",
    "plt.plot(history.history['val_accuracy'], label='val_accuracy')\n",
    "plt.legend()\n",
    "plt.show()"
   ]
  },
  {
   "cell_type": "code",
   "execution_count": 145,
   "id": "Pj-IsOnVsiXQ",
   "metadata": {
    "colab": {
     "base_uri": "https://localhost:8080/",
     "height": 510
    },
    "id": "Pj-IsOnVsiXQ",
    "outputId": "3cc4d636-3b26-42d8-efab-08e65c539e47"
   },
   "outputs": [
    {
     "name": "stdout",
     "output_type": "stream",
     "text": [
      "(2842,)\n",
      "(2842,)\n",
      "true negative: 2297\n",
      "false positive: 0\n",
      "false negative: 545\n",
      "true positive: 0\n"
     ]
    },
    {
     "data": {
      "image/png": "[encoded data removed]",
      "text/plain": [
       "<Figure size 640x480 with 1 Axes>"
      ]
     },
     "metadata": {},
     "output_type": "display_data"
    }
   ],
   "source": [
    "y_t = np.asarray(y_test)\n",
    "y_p = np.argmax(y_pred,axis=1)\n",
    "\n",
    "build_confusion_matrix(y_t,y_p,method)\n",
    "\n",
    "#np.argmax(np.asarray(y_test),axis=1).flatten()\n",
    "#y_p = np.argmax(clf.predict(X_test), axis=1)"
   ]
  },
  {
   "cell_type": "markdown",
   "id": "k7eBuCdPrzF7",
   "metadata": {
    "id": "k7eBuCdPrzF7"
   },
   "source": [
    "#Softmax"
   ]
  },
  {
   "cell_type": "code",
   "execution_count": 146,
   "id": "6677d705",
   "metadata": {
    "id": "6677d705"
   },
   "outputs": [],
   "source": [
    "from sklearn.preprocessing import OneHotEncoder\n",
    "\n",
    "method = methods[2]\n",
    "\n",
    "ohe = OneHotEncoder()\n",
    "y_train_ = ohe.fit_transform(y_train.to_numpy().reshape((-1,1))).todense()\n",
    "y_test_ = ohe.transform(y_test.to_numpy().reshape((-1,1))).todense()"
   ]
  },
  {
   "cell_type": "code",
   "execution_count": 147,
   "id": "77727551",
   "metadata": {
    "colab": {
     "base_uri": "https://localhost:8080/"
    },
    "id": "77727551",
    "outputId": "0edc80dd-dc49-4fa4-c981-e30417c0dc94"
   },
   "outputs": [
    {
     "name": "stdout",
     "output_type": "stream",
     "text": [
      "Model: \"model_9\"\n",
      "_________________________________________________________________\n",
      " Layer (type)                Output Shape              Param #   \n",
      "=================================================================\n",
      " input_10 (InputLayer)       [(None, 500)]             0         \n",
      "                                                                 \n",
      " classificador (Dense)       (None, 2)                 1002      \n",
      "                                                                 \n",
      " activation_9 (Activation)   (None, 2)                 0         \n",
      "                                                                 \n",
      "=================================================================\n",
      "Total params: 1,002\n",
      "Trainable params: 1,002\n",
      "Non-trainable params: 0\n",
      "_________________________________________________________________\n",
      "None\n",
      "Epoch 1/5\n",
      "267/267 [==============================] - 1s 3ms/step - loss: 0.5073 - accuracy: 0.8089\n",
      "Epoch 2/5\n",
      "267/267 [==============================] - 1s 3ms/step - loss: 0.4812 - accuracy: 0.8135\n",
      "Epoch 3/5\n",
      "267/267 [==============================] - 1s 3ms/step - loss: 0.4732 - accuracy: 0.8136\n",
      "Epoch 4/5\n",
      "267/267 [==============================] - 1s 2ms/step - loss: 0.4688 - accuracy: 0.8132\n",
      "Epoch 5/5\n",
      "267/267 [==============================] - 1s 2ms/step - loss: 0.4660 - accuracy: 0.8135\n",
      "89/89 [==============================] - 0s 3ms/step - loss: 0.4869 - accuracy: 0.8068\n",
      "[0.48691868782043457, 0.8068261742591858]\n"
     ]
    }
   ],
   "source": [
    "def softmax_model(vocab_size=500):\n",
    "    input_layer = Input(shape=(vocab_size,))\n",
    "    x = input_layer\n",
    "    x = Dense(2, name='classificador')(x)\n",
    "    x = Activation('softmax')(x)\n",
    "    return Model(input_layer, x)\n",
    "\n",
    "clf = softmax_model()\n",
    "print(clf.summary())\n",
    "clf.compile(loss='categorical_crossentropy', metrics=['accuracy'])\n",
    "history = clf.fit(X_train_, y_train_, epochs=5, verbose=1) # validation_split=0.1\n",
    "evaluation = clf.evaluate(X_test_, y_test_)\n",
    "print(evaluation)\n",
    "acc = evaluation[1]\n"
   ]
  },
  {
   "cell_type": "code",
   "execution_count": 148,
   "id": "YzzK7Rc5tnFF",
   "metadata": {
    "colab": {
     "base_uri": "https://localhost:8080/"
    },
    "id": "YzzK7Rc5tnFF",
    "outputId": "c6ff9261-2a84-4f77-db00-3e08b3ebae05"
   },
   "outputs": [
    {
     "name": "stdout",
     "output_type": "stream",
     "text": [
      "89/89 [==============================] - 0s 2ms/step\n"
     ]
    }
   ],
   "source": [
    "stime,sram = startmeasuring()\n",
    "y_pred_ = clf.predict(X_test_)\n",
    "#print(y_pred.T)\n",
    "etime,eram = finishmeasuring(stime,sram)\n",
    "#methods.append(\"SoftMax\")\n",
    "accuracies[method] = acc\n",
    "delays[method] = etime\n",
    "ram[method] = eram"
   ]
  },
  {
   "cell_type": "code",
   "execution_count": 149,
   "id": "1b67678d",
   "metadata": {
    "colab": {
     "base_uri": "https://localhost:8080/",
     "height": 510
    },
    "id": "1b67678d",
    "outputId": "11f1b5b0-4cd3-4b8c-fd74-300db6899b2c"
   },
   "outputs": [
    {
     "name": "stdout",
     "output_type": "stream",
     "text": [
      "(2842,)\n",
      "(2842,)\n",
      "true negative: 2293\n",
      "false positive: 4\n",
      "false negative: 545\n",
      "true positive: 0\n"
     ]
    },
    {
     "data": {
      "image/png": "[encoded data removed]",
      "text/plain": [
       "<Figure size 640x480 with 1 Axes>"
      ]
     },
     "metadata": {},
     "output_type": "display_data"
    }
   ],
   "source": [
    "y_t = np.argmax(np.asarray(y_test_),axis=1).flatten()\n",
    "y_p = np.argmax(y_pred_, axis=1)\n",
    "\n",
    "build_confusion_matrix(y_t,y_p,method)\n",
    "\n",
    "#from sklearn.metrics import confusion_matrix\n",
    "#y_t = np.argmax(np.asarray(y_test_),axis=1).flatten()\n",
    "#y_p = np.argmax(clf.predict(X_test_), axis=1)\n",
    "#print(y_t.shape)\n",
    "#print(y_p.shape)\n",
    "#tn, fp, fn, tp = confusion_matrix(y_t, y_p).ravel()\n",
    "#print(f\"true negative: {tn}\")\n",
    "#print(f\"false positive: {fp}\")\n",
    "#print(f\"false negative: {fn}\")\n",
    "#print(f\"true negative: {tp}\")"
   ]
  },
  {
   "cell_type": "code",
   "execution_count": 150,
   "id": "a97be4fc",
   "metadata": {
    "colab": {
     "base_uri": "https://localhost:8080/"
    },
    "id": "a97be4fc",
    "outputId": "fa108abd-a06c-42e1-defd-df4625647295"
   },
   "outputs": [
    {
     "name": "stderr",
     "output_type": "stream",
     "text": [
      "100%|██████████| 500/500 [00:00<00:00, 1465.15it/s]\n"
     ]
    }
   ],
   "source": [
    "from tqdm import tqdm\n",
    "weights = clf.get_layer('classificador').weights[0].numpy()\n",
    "CLASSE = 0\n",
    "for n in tqdm(range(len(vectorizer.vocabulary_))):\n",
    "    tuplas = [ (weights[vectorizer.vocabulary_[i],CLASSE], i) for i in vectorizer.vocabulary_.keys() ]\n",
    "    tuplas_ordenadas = sorted(tuplas, reverse=True) # reverse=True pede uma ordenação em ordem decrescente\n",
    "    palavras = [ t[1] for t in tuplas_ordenadas ]\n",
    "    contagens = [ t[0] for t in tuplas_ordenadas ]"
   ]
  },
  {
   "cell_type": "code",
   "execution_count": 151,
   "id": "599cb703",
   "metadata": {
    "colab": {
     "base_uri": "https://localhost:8080/",
     "height": 227
    },
    "id": "599cb703",
    "outputId": "2bf68c94-3632-45ba-ce76-1b4ee37550fd"
   },
   "outputs": [
    {
     "data": {
      "image/png": "[encoded data removed]",
      "text/plain": [
       "<Figure size 1400x100 with 1 Axes>"
      ]
     },
     "metadata": {},
     "output_type": "display_data"
    }
   ],
   "source": [
    "n_palavras = 20\n",
    "\n",
    "plt.figure(figsize=(14,1))\n",
    "eixo_x = np.arange(n_palavras)\n",
    "plt.bar(eixo_x[0:n_palavras], contagens[0:n_palavras])\n",
    "plt.xticks(eixo_x[0:n_palavras], palavras[0:n_palavras], rotation=70)\n",
    "plt.title(\"Peso das palavras\")\n",
    "plt.show()"
   ]
  },
  {
   "cell_type": "markdown",
   "id": "550e0bb0",
   "metadata": {
    "id": "550e0bb0"
   },
   "source": [
    "# Embeddings"
   ]
  },
  {
   "cell_type": "code",
   "execution_count": 152,
   "id": "6c462bed",
   "metadata": {
    "id": "6c462bed"
   },
   "outputs": [],
   "source": [
    "import matplotlib.pyplot as plt\n",
    "import pandas as pd\n",
    "import numpy as np\n",
    "\n",
    "from sklearn.model_selection import train_test_split\n",
    "from sklearn.preprocessing import OneHotEncoder\n",
    "\n",
    "from keras.layers import Input, Dense, Activation, TextVectorization, Embedding, GlobalAveragePooling1D\n",
    "from keras.models import Model\n",
    "import tensorflow as tf"
   ]
  },
  {
   "cell_type": "code",
   "execution_count": 153,
   "id": "6f8f6513",
   "metadata": {
    "id": "6f8f6513"
   },
   "outputs": [],
   "source": [
    "model_data = df_yu.copy()\n",
    "method = methods[3]\n",
    "ohe = OneHotEncoder()\n",
    "y_ohe = ohe.fit_transform(model_data['isGood'].to_numpy().reshape((-1,1))).todense()\n",
    "X_train, X_test, y_train, y_test = train_test_split(model_data['text'], y_ohe)"
   ]
  },
  {
   "cell_type": "code",
   "execution_count": 154,
   "id": "56742a7b",
   "metadata": {
    "colab": {
     "base_uri": "https://localhost:8080/"
    },
    "id": "56742a7b",
    "outputId": "124f6c9e-b711-4e8a-8f85-bee110f055da"
   },
   "outputs": [
    {
     "name": "stdout",
     "output_type": "stream",
     "text": [
      "Model: \"model_10\"\n",
      "_________________________________________________________________\n",
      " Layer (type)                Output Shape              Param #   \n",
      "=================================================================\n",
      " input_11 (InputLayer)       [(None, 1)]               0         \n",
      "                                                                 \n",
      " text_vectorization_2 (TextV  (None, 1000)             0         \n",
      " ectorization)                                                   \n",
      "                                                                 \n",
      " classificador (Dense)       (None, 2)                 2002      \n",
      "                                                                 \n",
      " activation_10 (Activation)  (None, 2)                 0         \n",
      "                                                                 \n",
      "=================================================================\n",
      "Total params: 2,002\n",
      "Trainable params: 2,002\n",
      "Non-trainable params: 0\n",
      "_________________________________________________________________\n",
      "None\n",
      "Epoch 1/30\n",
      "267/267 [==============================] - 2s 4ms/step - loss: 0.5008 - accuracy: 0.8087\n",
      "Epoch 2/30\n",
      "267/267 [==============================] - 1s 4ms/step - loss: 0.4762 - accuracy: 0.8130\n",
      "Epoch 3/30\n",
      "267/267 [==============================] - 1s 4ms/step - loss: 0.4676 - accuracy: 0.8129\n",
      "Epoch 4/30\n",
      "267/267 [==============================] - 1s 4ms/step - loss: 0.4618 - accuracy: 0.8129\n",
      "Epoch 5/30\n",
      "267/267 [==============================] - 1s 4ms/step - loss: 0.4579 - accuracy: 0.8135\n",
      "Epoch 6/30\n",
      "267/267 [==============================] - 1s 4ms/step - loss: 0.4555 - accuracy: 0.8141\n",
      "Epoch 7/30\n",
      "267/267 [==============================] - 1s 4ms/step - loss: 0.4532 - accuracy: 0.8149\n",
      "Epoch 8/30\n",
      "267/267 [==============================] - 1s 4ms/step - loss: 0.4519 - accuracy: 0.8146\n",
      "Epoch 9/30\n",
      "267/267 [==============================] - 1s 4ms/step - loss: 0.4510 - accuracy: 0.8149\n",
      "Epoch 10/30\n",
      "267/267 [==============================] - 2s 6ms/step - loss: 0.4501 - accuracy: 0.8136\n",
      "Epoch 11/30\n",
      "267/267 [==============================] - 2s 6ms/step - loss: 0.4493 - accuracy: 0.8141\n",
      "Epoch 12/30\n",
      "267/267 [==============================] - 1s 5ms/step - loss: 0.4493 - accuracy: 0.8142\n",
      "Epoch 13/30\n",
      "267/267 [==============================] - 1s 4ms/step - loss: 0.4491 - accuracy: 0.8144\n",
      "Epoch 14/30\n",
      "267/267 [==============================] - 1s 4ms/step - loss: 0.4488 - accuracy: 0.8121\n",
      "Epoch 15/30\n",
      "267/267 [==============================] - 1s 4ms/step - loss: 0.4495 - accuracy: 0.8115\n",
      "Epoch 16/30\n",
      "267/267 [==============================] - 1s 4ms/step - loss: 0.4497 - accuracy: 0.8119\n",
      "Epoch 17/30\n",
      "267/267 [==============================] - 1s 4ms/step - loss: 0.4502 - accuracy: 0.8126\n",
      "Epoch 18/30\n",
      "267/267 [==============================] - 1s 4ms/step - loss: 0.4501 - accuracy: 0.8109\n",
      "Epoch 19/30\n",
      "267/267 [==============================] - 1s 4ms/step - loss: 0.4508 - accuracy: 0.8112\n",
      "Epoch 20/30\n",
      "267/267 [==============================] - 1s 4ms/step - loss: 0.4515 - accuracy: 0.8102\n",
      "Epoch 21/30\n",
      "267/267 [==============================] - 1s 4ms/step - loss: 0.4516 - accuracy: 0.8107\n",
      "Epoch 22/30\n",
      "267/267 [==============================] - 2s 6ms/step - loss: 0.4524 - accuracy: 0.8094\n",
      "Epoch 23/30\n",
      "267/267 [==============================] - 2s 6ms/step - loss: 0.4529 - accuracy: 0.8114\n",
      "Epoch 24/30\n",
      "267/267 [==============================] - 1s 4ms/step - loss: 0.4534 - accuracy: 0.8092\n",
      "Epoch 25/30\n",
      "267/267 [==============================] - 1s 4ms/step - loss: 0.4543 - accuracy: 0.8103\n",
      "Epoch 26/30\n",
      "267/267 [==============================] - 1s 4ms/step - loss: 0.4550 - accuracy: 0.8080\n",
      "Epoch 27/30\n",
      "267/267 [==============================] - 1s 4ms/step - loss: 0.4555 - accuracy: 0.8091\n",
      "Epoch 28/30\n",
      "267/267 [==============================] - 1s 4ms/step - loss: 0.4561 - accuracy: 0.8086\n",
      "Epoch 29/30\n",
      "267/267 [==============================] - 1s 4ms/step - loss: 0.4569 - accuracy: 0.8089\n",
      "Epoch 30/30\n",
      "267/267 [==============================] - 1s 4ms/step - loss: 0.4577 - accuracy: 0.8067\n",
      "89/89 [==============================] - 0s 4ms/step - loss: 0.5429 - accuracy: 0.7790\n",
      "[0.5428704619407654, 0.7790288329124451]\n"
     ]
    }
   ],
   "source": [
    "vocab_size = 1000\n",
    "def multihot_softmax_model(vectorize_layer, vocab_size=vocab_size):\n",
    "    input_layer = Input(shape=(1,), dtype=tf.string)\n",
    "    x = input_layer\n",
    "    x = vectorize_layer(x)\n",
    "    x = Dense(2, name='classificador')(x)\n",
    "    x = Activation('softmax')(x)\n",
    "    return Model(input_layer, x)\n",
    "\n",
    "vectorize_layer = TextVectorization(output_mode='multi_hot', max_tokens=vocab_size, pad_to_max_tokens=True)\n",
    "vectorize_layer.adapt(X_train)\n",
    "clf = multihot_softmax_model(vectorize_layer)\n",
    "print(clf.summary())\n",
    "clf.compile(loss='categorical_crossentropy', metrics=['accuracy'])\n",
    "history = clf.fit(X_train, y_train, epochs=30, verbose=1) # validation_split=0.1\n",
    "evaluation = clf.evaluate(X_test, y_test)\n",
    "acc = evaluation[1]\n",
    "print(evaluation)"
   ]
  },
  {
   "cell_type": "code",
   "execution_count": 155,
   "id": "389125a6",
   "metadata": {
    "colab": {
     "base_uri": "https://localhost:8080/"
    },
    "id": "389125a6",
    "outputId": "73b327c3-7ef3-4633-d050-246881a45032"
   },
   "outputs": [
    {
     "name": "stdout",
     "output_type": "stream",
     "text": [
      "89/89 [==============================] - 0s 3ms/step\n",
      "0 occurs 2628 times\n",
      "1 occurs 214 times\n"
     ]
    }
   ],
   "source": [
    "arr =np.argmax(clf.predict(X_test),axis=1)\n",
    "\n",
    "# Get unique values and their counts\n",
    "unique_values, counts = np.unique(arr, return_counts=True)\n",
    "\n",
    "# Print the unique values and their counts\n",
    "for value, count in zip(unique_values, counts):\n",
    "    print(f\"{value} occurs {count} times\")\n",
    "    "
   ]
  },
  {
   "cell_type": "code",
   "execution_count": 156,
   "id": "J36MqJK9uGnv",
   "metadata": {
    "colab": {
     "base_uri": "https://localhost:8080/"
    },
    "id": "J36MqJK9uGnv",
    "outputId": "da6a9829-7f41-4c23-8acc-25948b9361b8"
   },
   "outputs": [
    {
     "name": "stdout",
     "output_type": "stream",
     "text": [
      "89/89 [==============================] - 0s 3ms/step\n"
     ]
    }
   ],
   "source": [
    "stime,sram = startmeasuring()\n",
    "y_pred_ = clf.predict(X_test)\n",
    "#print(y_pred.T)\n",
    "etime,eram = finishmeasuring(stime,sram)\n",
    "#methods.append(\"Embeddings\")\n",
    "accuracies[method]=(acc)\n",
    "delays[method]=(etime)\n",
    "ram[method]=(eram)"
   ]
  },
  {
   "cell_type": "code",
   "execution_count": 157,
   "id": "809aa427",
   "metadata": {
    "colab": {
     "base_uri": "https://localhost:8080/",
     "height": 510
    },
    "id": "809aa427",
    "outputId": "45408204-22c5-482d-b645-1694164f4ad4"
   },
   "outputs": [
    {
     "name": "stdout",
     "output_type": "stream",
     "text": [
      "(2842,)\n",
      "(2842,)\n",
      "true negative: 2151\n",
      "false positive: 151\n",
      "false negative: 477\n",
      "true positive: 63\n"
     ]
    },
    {
     "data": {
      "image/png": "[encoded data removed]",
      "text/plain": [
       "<Figure size 640x480 with 1 Axes>"
      ]
     },
     "metadata": {},
     "output_type": "display_data"
    }
   ],
   "source": [
    "y_t = np.argmax(np.asarray(y_test),axis=1).flatten()\n",
    "y_p = np.argmax(y_pred_, axis=1)\n",
    "\n",
    "build_confusion_matrix(y_t,y_p,method)\n",
    "#from sklearn.metrics import confusion_matrix\n",
    "#y_t = np.argmax(np.asarray(y_test),axis=1).flatten()\n",
    "#y_p = np.argmax(clf.predict(X_test), axis=1)\n",
    "#print(y_t.shape)\n",
    "#print(y_p.shape)\n",
    "#tn, fp, fn, tp = confusion_matrix(y_t, y_p).ravel()\n",
    "#print(f\"true negative: {tn}\")\n",
    "#print(f\"false positive: {fp}\")\n",
    "#print(f\"false negative: {fn}\")\n",
    "#print(f\"true negative: {tp}\")"
   ]
  },
  {
   "cell_type": "code",
   "execution_count": 158,
   "id": "d46df080",
   "metadata": {
    "colab": {
     "base_uri": "https://localhost:8080/",
     "height": 130
    },
    "id": "d46df080",
    "outputId": "2e881232-18e7-4d3b-8c3d-61bd95e431d1"
   },
   "outputs": [
    {
     "ename": "SyntaxError",
     "evalue": "ignored",
     "output_type": "error",
     "traceback": [
      "\u001b[0;36m  File \u001b[0;32m\"<ipython-input-158-badc8019e9b0>\"\u001b[0;36m, line \u001b[0;32m17\u001b[0m\n\u001b[0;31m    \"\"\"\"\"\"\"\"\"\"\"\"\u001b[0m\n\u001b[0m             ^\u001b[0m\n\u001b[0;31mSyntaxError\u001b[0m\u001b[0;31m:\u001b[0m incomplete input\n"
     ]
    }
   ],
   "source": [
    "\n",
    "import plotly.express as px\n",
    "\n",
    "## Visualização: onde foi parar cada palavra?\n",
    "#projecoes = clf.get_layer('classificador').get_weights()[0]\n",
    "#vocabulario = vectorize_layer.get_vocabulary()\n",
    "#y_pred_ohe = clf.predict(vocabulario)\n",
    "#y_pred = ohe.inverse_transform(y_pred_ohe)\n",
    "\n",
    "#df = pd.DataFrame()\n",
    "#df['dim_1'] = projecoes[:,0]\n",
    "#df['dim_2'] = projecoes[:,1]\n",
    "#df['word'] = vocabulario\n",
    "#df['prediction'] = y_pred\n",
    "\n",
    "#px.scatter(df, x=\"dim_1\", y=\"dim_2\", color=\"prediction\", hover_data=[\"word\"], title=\"Onde foi cada palavra?\", width=600, height=600)\n"
   ]
  },
  {
   "cell_type": "code",
   "execution_count": null,
   "id": "6d09ae51",
   "metadata": {
    "id": "6d09ae51"
   },
   "outputs": [],
   "source": [
    "\n",
    "#import plotly.express as px\n",
    "##df = pd.read_csv('embeddings_over_epochs.csv') # Gravei esse arquivo antecipadamente - demora muito para refazê-lo!\n",
    "#df.head()\n",
    "#df['prediction'][0] = 'positive' # Isso é definitivamente um hack. Sem isso, o plotly não vê o label 'positive' na primeira época, e começa a remover o label 'positive' dos plots subsequentes.\n",
    "\n",
    "#px.scatter(df, x=\"dim_1\", y=\"dim_2\", animation_group=\"word\",\n",
    "#            color=\"prediction\", hover_name=\"word\", title=\"Training a 2D word embedding for sentiment analysis <br><sup>Where did each word go in the embedding space?</sup>\",\n",
    "#          range_x=[-15,15], range_y=[-15,15],\n",
    "#          width=800, height=800\n",
    "#          )\n"
   ]
  },
  {
   "cell_type": "markdown",
   "id": "52e55474",
   "metadata": {
    "id": "52e55474"
   },
   "source": [
    "## Rede Pré-Treinada"
   ]
  },
  {
   "cell_type": "code",
   "execution_count": 176,
   "id": "8a926588",
   "metadata": {
    "id": "8a926588"
   },
   "outputs": [],
   "source": [
    "model_data = df_yu.copy()\n",
    "method = methods[4]"
   ]
  },
  {
   "cell_type": "code",
   "execution_count": 177,
   "id": "FvECLtby64Ci",
   "metadata": {
    "colab": {
     "base_uri": "https://localhost:8080/"
    },
    "id": "FvECLtby64Ci",
    "outputId": "1c862b0b-d884-48db-ee88-243975fa25a3"
   },
   "outputs": [
    {
     "name": "stdout",
     "output_type": "stream",
     "text": [
      "Looking in indexes: https://pypi.org/simple, https://us-python.pkg.dev/colab-wheels/public/simple/\n",
      "Requirement already satisfied: transformers in /usr/local/lib/python3.10/dist-packages (4.29.2)\n",
      "Requirement already satisfied: filelock in /usr/local/lib/python3.10/dist-packages (from transformers) (3.12.0)\n",
      "Requirement already satisfied: huggingface-hub<1.0,>=0.14.1 in /usr/local/lib/python3.10/dist-packages (from transformers) (0.15.1)\n",
      "Requirement already satisfied: numpy>=1.17 in /usr/local/lib/python3.10/dist-packages (from transformers) (1.22.4)\n",
      "Requirement already satisfied: packaging>=20.0 in /usr/local/lib/python3.10/dist-packages (from transformers) (23.1)\n",
      "Requirement already satisfied: pyyaml>=5.1 in /usr/local/lib/python3.10/dist-packages (from transformers) (6.0)\n",
      "Requirement already satisfied: regex!=2019.12.17 in /usr/local/lib/python3.10/dist-packages (from transformers) (2022.10.31)\n",
      "Requirement already satisfied: requests in /usr/local/lib/python3.10/dist-packages (from transformers) (2.27.1)\n",
      "Requirement already satisfied: tokenizers!=0.11.3,<0.14,>=0.11.1 in /usr/local/lib/python3.10/dist-packages (from transformers) (0.13.3)\n",
      "Requirement already satisfied: tqdm>=4.27 in /usr/local/lib/python3.10/dist-packages (from transformers) (4.65.0)\n",
      "Requirement already satisfied: fsspec in /usr/local/lib/python3.10/dist-packages (from huggingface-hub<1.0,>=0.14.1->transformers) (2023.4.0)\n",
      "Requirement already satisfied: typing-extensions>=3.7.4.3 in /usr/local/lib/python3.10/dist-packages (from huggingface-hub<1.0,>=0.14.1->transformers) (4.5.0)\n",
      "Requirement already satisfied: urllib3<1.27,>=1.21.1 in /usr/local/lib/python3.10/dist-packages (from requests->transformers) (1.26.15)\n",
      "Requirement already satisfied: certifi>=2017.4.17 in /usr/local/lib/python3.10/dist-packages (from requests->transformers) (2022.12.7)\n",
      "Requirement already satisfied: charset-normalizer~=2.0.0 in /usr/local/lib/python3.10/dist-packages (from requests->transformers) (2.0.12)\n",
      "Requirement already satisfied: idna<4,>=2.5 in /usr/local/lib/python3.10/dist-packages (from requests->transformers) (3.4)\n"
     ]
    }
   ],
   "source": [
    "!pip install transformers"
   ]
  },
  {
   "cell_type": "code",
   "execution_count": 178,
   "id": "r-dNkl0NEtMk",
   "metadata": {
    "id": "r-dNkl0NEtMk"
   },
   "outputs": [],
   "source": [
    "from tensorflow import keras\n",
    "from transformers import TFAutoModel\n",
    "\n",
    "\n",
    "def load_pretrained_model(vocab_size):\n",
    "    # Load the pre-trained model\n",
    "    pretrained_model = TFAutoModel.from_pretrained('google/mobilebert-uncased')\n",
    "\n",
    "\n",
    "    # Remove the softmax layer from the pre-trained model\n",
    "    pretrained_model.layers.pop() \n",
    "\n",
    "    # Freeze the weights of the pre-trained layers\n",
    "    for layer in pretrained_model.layers:\n",
    "        layer.trainable = False\n",
    "\n",
    "    # Create the new model architecture\n",
    "    input_layer = Input(shape=(1,), dtype=tf.string)\n",
    "    x = input_layer\n",
    "    x = vectorize_layer(x)\n",
    "    x = tf.cast(x, tf.int32)  # Cast the vectorized input to int32\n",
    "    x = pretrained_model(x)[0]  # Use only the pooled output\n",
    "    x = tf.keras.layers.GlobalAveragePooling1D()(x)  # Pooling layer to reduce dimensions\n",
    "    x = Dense(2, name='classificador')(x)\n",
    "    x = Activation('softmax')(x)\n",
    "    \n",
    "    model = Model(input_layer, x)\n",
    "    return model\n",
    "\n"
   ]
  },
  {
   "cell_type": "code",
   "execution_count": 179,
   "id": "23abbc42",
   "metadata": {
    "id": "23abbc42"
   },
   "outputs": [],
   "source": [
    "model_data = df_yu.copy()\n",
    "ohe = OneHotEncoder()\n",
    "y_ohe = ohe.fit_transform(model_data['isGood'].to_numpy().reshape((-1,1))).todense()\n",
    "X_train, X_test, y_train, y_test = train_test_split(model_data['text'], y_ohe)\n",
    "\n",
    "#ohe = OneHotEncoder()\n",
    "y_t = model_data['isGood']\n",
    "#y_ohe = ohe.fit_transform(model_data['isGood'].to_numpy().reshape((-1,1))).todense()\n",
    "X = model_data['text']"
   ]
  },
  {
   "cell_type": "code",
   "execution_count": 180,
   "id": "qVCp4hmSGImq",
   "metadata": {
    "id": "qVCp4hmSGImq"
   },
   "outputs": [],
   "source": [
    "vocab_size = 1000\n",
    "\n",
    "vectorize_layer = TextVectorization(output_mode='multi_hot', max_tokens=vocab_size, pad_to_max_tokens=True)\n",
    "vectorize_layer.adapt(X_train)\n",
    "\n"
   ]
  },
  {
   "cell_type": "code",
   "execution_count": 181,
   "id": "tJJ9A_WiGNQR",
   "metadata": {
    "colab": {
     "base_uri": "https://localhost:8080/"
    },
    "id": "tJJ9A_WiGNQR",
    "outputId": "ffdf4b87-1ac2-4387-e33d-4c1342f7eafc"
   },
   "outputs": [
    {
     "name": "stderr",
     "output_type": "stream",
     "text": [
      "Some layers from the model checkpoint at google/mobilebert-uncased were not used when initializing TFMobileBertModel: ['predictions___cls', 'seq_relationship___cls']\n",
      "- This IS expected if you are initializing TFMobileBertModel from the checkpoint of a model trained on another task or with another architecture (e.g. initializing a BertForSequenceClassification model from a BertForPreTraining model).\n",
      "- This IS NOT expected if you are initializing TFMobileBertModel from the checkpoint of a model that you expect to be exactly identical (initializing a BertForSequenceClassification model from a BertForSequenceClassification model).\n",
      "All the layers of TFMobileBertModel were initialized from the model checkpoint at google/mobilebert-uncased.\n",
      "If your task is similar to the task the model of the checkpoint was trained on, you can already use TFMobileBertModel for predictions without further training.\n"
     ]
    },
    {
     "name": "stdout",
     "output_type": "stream",
     "text": [
      "Model: \"model_12\"\n",
      "_________________________________________________________________\n",
      " Layer (type)                Output Shape              Param #   \n",
      "=================================================================\n",
      " input_13 (InputLayer)       [(None, 1)]               0         \n",
      "                                                                 \n",
      " text_vectorization_4 (TextV  (None, 1000)             0         \n",
      " ectorization)                                                   \n",
      "                                                                 \n",
      " tf.cast_2 (TFOpLambda)      (None, 1000)              0         \n",
      "                                                                 \n",
      " tf_mobile_bert_model_2 (TFM  TFBaseModelOutputWithPoo  24581888 \n",
      " obileBertModel)             ling(last_hidden_state=(            \n",
      "                             None, 1000, 512),                   \n",
      "                              pooler_output=(None, 51            \n",
      "                             2),                                 \n",
      "                              hidden_states=None, att            \n",
      "                             entions=None)                       \n",
      "                                                                 \n",
      " global_average_pooling1d_2   (None, 512)              0         \n",
      " (GlobalAveragePooling1D)                                        \n",
      "                                                                 \n",
      " classificador (Dense)       (None, 2)                 1026      \n",
      "                                                                 \n",
      " activation_12 (Activation)  (None, 2)                 0         \n",
      "                                                                 \n",
      "=================================================================\n",
      "Total params: 24,582,914\n",
      "Trainable params: 1,026\n",
      "Non-trainable params: 24,581,888\n",
      "_________________________________________________________________\n",
      "None\n"
     ]
    }
   ],
   "source": [
    "clf = load_pretrained_model(vocab_size)\n",
    "print(clf.summary())\n"
   ]
  },
  {
   "cell_type": "code",
   "execution_count": 182,
   "id": "KRSz4370GNSp",
   "metadata": {
    "colab": {
     "base_uri": "https://localhost:8080/"
    },
    "id": "KRSz4370GNSp",
    "outputId": "e6b16648-8f08-48ac-e056-275afa4d64f4"
   },
   "outputs": [
    {
     "name": "stdout",
     "output_type": "stream",
     "text": [
      "89/89 [==============================] - 166s 2s/step - loss: 258.4551 - accuracy: 0.8149\n",
      "Loss: 258.455078125\n",
      "Accuracy: 0.8149190545082092\n"
     ]
    }
   ],
   "source": [
    "\n",
    "clf.compile(loss='categorical_crossentropy', metrics=['accuracy'])\n",
    "#history = clf.fit(X_train, y_train, epochs=30, verbose=1) # validation_split=0.1\n",
    "#X_test_vectorized = vectorize_layer(X_test).numpy()\n",
    "evaluation = clf.evaluate(X_test, y_test)\n",
    "print(\"Loss:\", evaluation[0])\n",
    "print(\"Accuracy:\", evaluation[1])\n",
    "acc = evaluation[1]"
   ]
  },
  {
   "cell_type": "code",
   "execution_count": 183,
   "id": "kVjUf_EcvULR",
   "metadata": {
    "colab": {
     "base_uri": "https://localhost:8080/"
    },
    "id": "kVjUf_EcvULR",
    "outputId": "852e46f8-303f-417f-fd0f-380a56f4fdc4"
   },
   "outputs": [
    {
     "name": "stdout",
     "output_type": "stream",
     "text": [
      "89/89 [==============================] - 145s 1s/step\n"
     ]
    }
   ],
   "source": [
    "stime,sram = startmeasuring()\n",
    "y_pred_ = clf.predict(X_test)\n",
    "#print(y_pred.T)\n",
    "etime,eram = finishmeasuring(stime,sram)\n",
    "#methods.append(\"PreTrained\")\n",
    "accuracies[method]=acc\n",
    "delays[method]=(etime)\n",
    "ram[method]=(eram)"
   ]
  },
  {
   "cell_type": "code",
   "execution_count": 184,
   "id": "dZELvfI2GNWC",
   "metadata": {
    "colab": {
     "base_uri": "https://localhost:8080/",
     "height": 510
    },
    "id": "dZELvfI2GNWC",
    "outputId": "872226ca-5c1d-4763-873b-67f38ab12625"
   },
   "outputs": [
    {
     "name": "stdout",
     "output_type": "stream",
     "text": [
      "(2842,)\n",
      "(2842,)\n",
      "true negative: 2316\n",
      "false positive: 0\n",
      "false negative: 526\n",
      "true positive: 0\n"
     ]
    },
    {
     "data": {
      "image/png": "[encoded data removed]",
      "text/plain": [
       "<Figure size 640x480 with 1 Axes>"
      ]
     },
     "metadata": {},
     "output_type": "display_data"
    }
   ],
   "source": [
    "y_t = np.argmax(np.asarray(y_test),axis=1).flatten()\n",
    "y_p = np.argmax(y_pred_, axis=1)\n",
    "build_confusion_matrix(y_t,y_p,method)\n",
    "#from sklearn.metrics import confusion_matrix\n",
    "#y_t = np.argmax(np.asarray(y_test),axis=1).flatten()\n",
    "#y_p = np.argmax(clf.predict(X_test), axis=1)\n",
    "#print(y_t.shape)\n",
    "#print(y_p.shape)\n",
    "#tn, fp, fn, tp = confusion_matrix(y_t, y_p).ravel()\n",
    "#print(f\"true negative: {tn}\")\n",
    "#print(f\"false positive: {fp}\")\n",
    "#print(f\"false negative: {fn}\")\n",
    "#print(f\"true negative: {tp}\")"
   ]
  },
  {
   "cell_type": "markdown",
   "id": "VQILE5T4d4cD",
   "metadata": {
    "id": "VQILE5T4d4cD"
   },
   "source": [
    "## Pos Tratamento"
   ]
  },
  {
   "cell_type": "code",
   "execution_count": 185,
   "id": "OOhsCEAyiVGH",
   "metadata": {
    "id": "OOhsCEAyiVGH"
   },
   "outputs": [],
   "source": [
    "method = methods[5]"
   ]
  },
  {
   "cell_type": "code",
   "execution_count": 186,
   "id": "8c9e16d0",
   "metadata": {
    "colab": {
     "base_uri": "https://localhost:8080/"
    },
    "id": "8c9e16d0",
    "outputId": "38a35673-6c3d-40da-ee2b-215a294e9ef9"
   },
   "outputs": [
    {
     "name": "stdout",
     "output_type": "stream",
     "text": [
      "89/89 [==============================] - 131s 1s/step\n",
      "[False False False ... False False False]\n",
      "Accuracy: [[0.81491907 0.81491907 0.81491907 ... 0.81491907 0.81491907 0.81491907]]\n"
     ]
    }
   ],
   "source": [
    "stime,sram = startmeasuring()\n",
    "\n",
    "y_pred_prob = clf.predict(X_test)\n",
    "y_pred = (y_pred_prob[:, 1] > 0.001)\n",
    "\n",
    "etime,eram = finishmeasuring(stime,sram)\n",
    "#methods.append(\"PosTreat\")\n",
    "accuracies[method]=(acc)\n",
    "delays[method]=(etime)\n",
    "ram[method]=(eram)\n",
    "\n",
    "print(y_pred)\n",
    "# Evaluate the predictions\n",
    "acc = sum(y_pred == y_test[:, 1]) / len(y_test)\n",
    "print(\"Accuracy:\", acc)"
   ]
  },
  {
   "cell_type": "code",
   "execution_count": 187,
   "id": "oxjaOSramhMH",
   "metadata": {
    "colab": {
     "base_uri": "https://localhost:8080/"
    },
    "id": "oxjaOSramhMH",
    "outputId": "d12b7791-44fd-49c8-abd7-8ab7c1f415b3"
   },
   "outputs": [
    {
     "name": "stdout",
     "output_type": "stream",
     "text": [
      "[[1. 0.]\n",
      " [1. 0.]\n",
      " [1. 0.]\n",
      " ...\n",
      " [1. 0.]\n",
      " [1. 0.]\n",
      " [1. 0.]]\n"
     ]
    }
   ],
   "source": [
    "print(y_pred_prob)"
   ]
  },
  {
   "cell_type": "code",
   "execution_count": 188,
   "id": "fa323320",
   "metadata": {
    "colab": {
     "base_uri": "https://localhost:8080/",
     "height": 510
    },
    "id": "fa323320",
    "outputId": "3fe667fd-e3ac-4f10-dcf7-c4afffba15ac"
   },
   "outputs": [
    {
     "name": "stdout",
     "output_type": "stream",
     "text": [
      "(2842,)\n",
      "(2842,)\n",
      "true negative: 2316\n",
      "false positive: 0\n",
      "false negative: 526\n",
      "true positive: 0\n"
     ]
    },
    {
     "data": {
      "image/png": "[encoded data removed]",
      "text/plain": [
       "<Figure size 640x480 with 1 Axes>"
      ]
     },
     "metadata": {},
     "output_type": "display_data"
    }
   ],
   "source": [
    "#from sklearn.metrics import confusion_matrix\n",
    "y_t = np.argmax(np.asarray(y_test),axis=1).flatten()\n",
    "y_p = y_pred\n",
    "build_confusion_matrix(y_t,y_p,method)\n",
    "#print(y_t.shape)\n",
    "#print(y_p.shape)\n",
    "#tn, fp, fn, tp = confusion_matrix(y_t, y_p).ravel()\n",
    "#print(f\"true negative: {tn}\")\n",
    "#print(f\"false positive: {fp}\")\n",
    "#print(f\"false negative: {fn}\")\n",
    "#print(f\"true negative: {tp}\")\n",
    "#tns.append(tn)\n",
    "#fps.append(fp)\n",
    "#fns.append(fn)\n",
    "#tps.append(tp)"
   ]
  },
  {
   "cell_type": "code",
   "execution_count": 189,
   "id": "fcb3336a",
   "metadata": {
    "colab": {
     "base_uri": "https://localhost:8080/"
    },
    "id": "fcb3336a",
    "outputId": "4975d67e-940c-4966-d171-a93bfd0e1213"
   },
   "outputs": [
    {
     "data": {
      "text/plain": [
       "0.0"
      ]
     },
     "execution_count": 189,
     "metadata": {},
     "output_type": "execute_result"
    }
   ],
   "source": [
    "y_pred_prob[:, 1].max()"
   ]
  },
  {
   "cell_type": "markdown",
   "id": "LuBmxe-gpCSE",
   "metadata": {
    "id": "LuBmxe-gpCSE"
   },
   "source": [
    "##Comparison"
   ]
  },
  {
   "cell_type": "code",
   "execution_count": 190,
   "id": "DLbLCwrjo-e3",
   "metadata": {
    "colab": {
     "base_uri": "https://localhost:8080/",
     "height": 430
    },
    "id": "DLbLCwrjo-e3",
    "outputId": "01c3af47-df87-40d7-b0c5-8e8f059eea20"
   },
   "outputs": [
    {
     "data": {
      "image/png": "[encoded data removed]",
      "text/plain": [
       "<Figure size 640x480 with 1 Axes>"
      ]
     },
     "metadata": {},
     "output_type": "display_data"
    }
   ],
   "source": [
    "#Accuracy\n",
    "import matplotlib.pyplot as plt\n",
    "\n",
    "fig, ax = plt.subplots()\n",
    "\n",
    "names = list(accuracies.keys())\n",
    "values = list(accuracies.values())\n",
    "\n",
    "plt.bar(range(len(accuracies)), values, tick_label=names)\n",
    "plt.show()\n",
    "\n",
    "ax.set_ylabel('Accuracy')\n",
    "ax.set_title('Accuracy/method')\n",
    "\n",
    "plt.show()"
   ]
  },
  {
   "cell_type": "code",
   "execution_count": null,
   "id": "UA6rmD_7lqS5",
   "metadata": {
    "id": "UA6rmD_7lqS5"
   },
   "outputs": [],
   "source": [
    "#Accuracy\n",
    "import matplotlib.pyplot as plt\n",
    "\n",
    "fig, ax = plt.subplots()\n",
    "\n",
    "names = list(delays.keys())\n",
    "values = list(delays.values())\n",
    "\n",
    "plt.bar(range(len(delays)), values, tick_label=names)\n",
    "plt.show()\n",
    "\n",
    "ax.set_ylabel('Time')\n",
    "ax.set_title('Time/method')\n",
    "\n",
    "plt.show()"
   ]
  },
  {
   "cell_type": "code",
   "execution_count": 191,
   "id": "Q5g-B2dMY_NF",
   "metadata": {
    "colab": {
     "base_uri": "https://localhost:8080/"
    },
    "id": "Q5g-B2dMY_NF",
    "outputId": "52e78fea-f9d6-4bf3-a8ff-085e2aaab0a4"
   },
   "outputs": [
    {
     "name": "stdout",
     "output_type": "stream",
     "text": [
      "{'Baseline': 0.7607318789584799, 'DeepLearn': 1.0, 'SoftMax': 0.8068261742591858, 'Embedding': 0.7790288329124451, 'd': 0.18895144760608673, 'PreTrain': 0.8149190545082092, 'PostTreat': 0.8149190545082092}\n"
     ]
    }
   ],
   "source": [
    "#Accuracy\n",
    "import matplotlib.pyplot as plt\n",
    "\n",
    "fig, ax = plt.subplots()\n",
    "\n",
    "names = list(ram.keys())\n",
    "values = list(ram.values())\n",
    "\n",
    "plt.bar(range(len(ram)), values, tick_label=names)\n",
    "plt.show()\n",
    "\n",
    "ax.set_ylabel('RAM')\n",
    "ax.set_title('RAM/method')\n",
    "\n",
    "plt.show()\n"
   ]
  },
  {
   "cell_type": "code",
   "execution_count": 191,
   "id": "oWkKDRpZY_Zp",
   "metadata": {
    "id": "oWkKDRpZY_Zp"
   },
   "outputs": [],
   "source": [
    "#Accuracy\n",
    "import matplotlib.pyplot as plt\n",
    "\n",
    "fig, ax = plt.subplots()\n",
    "\n",
    "names = list(tns.keys())\n",
    "values = list(tns.values())\n",
    "\n",
    "plt.bar(range(len(tns)), values, tick_label=names)\n",
    "plt.show()\n",
    "\n",
    "ax.set_ylabel('true negatives')\n",
    "ax.set_title('true negatives/method')\n",
    "\n",
    "plt.show()\n"
   ]
  },
  {
   "cell_type": "code",
   "execution_count": 191,
   "id": "9-EvvTvzo-mh",
   "metadata": {
    "id": "9-EvvTvzo-mh"
   },
   "outputs": [],
   "source": [
    "#confusion = 'true negative', 'false positive', 'false negative', 'true positive'\n",
    "import matplotlib.pyplot as plt\n",
    "\n",
    "fig, ax = plt.subplots()\n",
    "\n",
    "names = list(fps.keys())\n",
    "values = list(fps.values())\n",
    "\n",
    "plt.bar(range(len(fps)), values, tick_label=names)\n",
    "plt.show()\n",
    "\n",
    "ax.set_ylabel('false positives')\n",
    "ax.set_title('false positives/method')\n",
    "\n",
    "plt.show()"
   ]
  },
  {
   "cell_type": "code",
   "execution_count": null,
   "id": "ru-KnRFFm28b",
   "metadata": {
    "id": "ru-KnRFFm28b"
   },
   "outputs": [],
   "source": [
    "#confusion = 'true negative', 'false positive', 'false negative', 'true positive'\n",
    "import matplotlib.pyplot as plt\n",
    "\n",
    "fig, ax = plt.subplots()\n",
    "\n",
    "names = list(tps.keys())\n",
    "values = list(tps.values())\n",
    "\n",
    "plt.bar(range(len(tps)), values, tick_label=names)\n",
    "plt.show()\n",
    "\n",
    "ax.set_ylabel('true positives')\n",
    "ax.set_title('true positives/method')\n",
    "\n",
    "plt.show()"
   ]
  },
  {
   "cell_type": "code",
   "execution_count": null,
   "id": "ffp7-Xatm3Aq",
   "metadata": {
    "id": "ffp7-Xatm3Aq"
   },
   "outputs": [],
   "source": [
    "#confusion = 'true negative', 'false positive', 'false negative', 'true positive'\n",
    "import matplotlib.pyplot as plt\n",
    "\n",
    "fig, ax = plt.subplots()\n",
    "\n",
    "names = list(fns.keys())\n",
    "values = list(fns.values())\n",
    "\n",
    "plt.bar(range(len(tps)), values, tick_label=names)\n",
    "plt.show()\n",
    "\n",
    "ax.set_ylabel('false negatives')\n",
    "ax.set_title('false negatives/method')\n",
    "\n",
    "plt.show()"
   ]
  },
  {
   "cell_type": "code",
   "execution_count": null,
   "id": "_zXoUd8wm3EH",
   "metadata": {
    "id": "_zXoUd8wm3EH"
   },
   "outputs": [],
   "source": []
  }
 ],
 "metadata": {
  "accelerator": "GPU",
  "colab": {
   "gpuType": "T4",
   "provenance": []
  },
  "kernelspec": {
   "display_name": "Python 3 (ipykernel)",
   "language": "python",
   "name": "python3"
  },
  "language_info": {
   "codemirror_mode": {
    "name": "ipython",
    "version": 3
   },
   "file_extension": ".py",
   "mimetype": "text/x-python",
   "name": "python",
   "nbconvert_exporter": "python",
   "pygments_lexer": "ipython3",
   "version": "3.8.16"
  }
 },
 "nbformat": 4,
 "nbformat_minor": 5
}
