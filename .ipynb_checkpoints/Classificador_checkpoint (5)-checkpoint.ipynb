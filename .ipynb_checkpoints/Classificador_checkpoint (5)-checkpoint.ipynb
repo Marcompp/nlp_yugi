{
 "cells": [
  {
   "cell_type": "code",
   "execution_count": 1,
   "id": "c971386c",
   "metadata": {
    "colab": {
     "base_uri": "https://localhost:8080/"
    },
    "id": "c971386c",
    "outputId": "5f967287-bf23-49f6-df17-8c79b90d9393"
   },
   "outputs": [
    {
     "name": "stderr",
     "output_type": "stream",
     "text": [
      "C:\\ProgramData\\Anaconda3\\lib\\site-packages\\numpy\\_distributor_init.py:30: UserWarning: loaded more than 1 DLL from .libs:\n",
      "C:\\ProgramData\\Anaconda3\\lib\\site-packages\\numpy\\.libs\\libopenblas.FB5AE2TYXYH2IJRDKGDGQ3XBKLKTF43H.gfortran-win_amd64.dll\n",
      "C:\\ProgramData\\Anaconda3\\lib\\site-packages\\numpy\\.libs\\libopenblas64__v0.3.21-gcc_10_3_0.dll\n",
      "  warnings.warn(\"loaded more than 1 DLL from .libs:\"\n"
     ]
    },
    {
     "name": "stdout",
     "output_type": "stream",
     "text": [
      "Hello World\n"
     ]
    }
   ],
   "source": [
    "import pandas as pd\n",
    "import numpy as np\n",
    "import matplotlib.pyplot as plt\n",
    "import time\n",
    "import psutil\n",
    "print(\"Hello World\")"
   ]
  },
  {
   "cell_type": "code",
   "execution_count": 2,
   "id": "6121fa51",
   "metadata": {
    "colab": {
     "base_uri": "https://localhost:8080/",
     "height": 461
    },
    "id": "6121fa51",
    "outputId": "c4a74742-a8cb-4e71-8a1c-26b5cb6ac760"
   },
   "outputs": [
    {
     "name": "stderr",
     "output_type": "stream",
     "text": [
      "C:\\Users\\Dell\\AppData\\Local\\Temp\\ipykernel_35692\\1007175427.py:1: FutureWarning: The error_bad_lines argument has been deprecated and will be removed in a future version. Use on_bad_lines in the future.\n",
      "\n",
      "\n",
      "  df_yugi = pd.read_csv('dbs/yugi_comp.csv',engine=\"python\",error_bad_lines=False)\n"
     ]
    },
    {
     "data": {
      "text/html": [
       "<div>\n",
       "<style scoped>\n",
       "    .dataframe tbody tr th:only-of-type {\n",
       "        vertical-align: middle;\n",
       "    }\n",
       "\n",
       "    .dataframe tbody tr th {\n",
       "        vertical-align: top;\n",
       "    }\n",
       "\n",
       "    .dataframe thead th {\n",
       "        text-align: right;\n",
       "    }\n",
       "</style>\n",
       "<table border=\"1\" class=\"dataframe\">\n",
       "  <thead>\n",
       "    <tr style=\"text-align: right;\">\n",
       "      <th></th>\n",
       "      <th>Unnamed: 0</th>\n",
       "      <th>Name</th>\n",
       "      <th>Rarity</th>\n",
       "      <th>Price</th>\n",
       "      <th>isGood</th>\n",
       "      <th>text</th>\n",
       "      <th>card_type</th>\n",
       "      <th>type</th>\n",
       "      <th>family</th>\n",
       "      <th>atk</th>\n",
       "      <th>def</th>\n",
       "      <th>level</th>\n",
       "      <th>property</th>\n",
       "    </tr>\n",
       "  </thead>\n",
       "  <tbody>\n",
       "    <tr>\n",
       "      <th>0</th>\n",
       "      <td>0</td>\n",
       "      <td>XX-Saber Boggart Knight</td>\n",
       "      <td>Shatterfoil Rare</td>\n",
       "      <td>2.73</td>\n",
       "      <td>True</td>\n",
       "      <td>When this card is Normal Summoned: You can Spe...</td>\n",
       "      <td>monster</td>\n",
       "      <td>Beast-Warrior / Effect</td>\n",
       "      <td>earth</td>\n",
       "      <td>1900.0</td>\n",
       "      <td>1000.0</td>\n",
       "      <td>4.0</td>\n",
       "      <td>NaN</td>\n",
       "    </tr>\n",
       "    <tr>\n",
       "      <th>1</th>\n",
       "      <td>1</td>\n",
       "      <td>Gagaga Cowboy</td>\n",
       "      <td>Shatterfoil Rare</td>\n",
       "      <td>4.68</td>\n",
       "      <td>True</td>\n",
       "      <td>2 Level 4 monsters\\n\\nOnce per turn: You can d...</td>\n",
       "      <td>monster</td>\n",
       "      <td>Warrior / Xyz / Effect</td>\n",
       "      <td>earth</td>\n",
       "      <td>1500.0</td>\n",
       "      <td>2400.0</td>\n",
       "      <td>4.0</td>\n",
       "      <td>NaN</td>\n",
       "    </tr>\n",
       "    <tr>\n",
       "      <th>2</th>\n",
       "      <td>2</td>\n",
       "      <td>Forbidden Chalice</td>\n",
       "      <td>Shatterfoil Rare</td>\n",
       "      <td>2.09</td>\n",
       "      <td>True</td>\n",
       "      <td>Target 1 face-up monster on the field; until t...</td>\n",
       "      <td>spell</td>\n",
       "      <td>NaN</td>\n",
       "      <td>NaN</td>\n",
       "      <td>NaN</td>\n",
       "      <td>NaN</td>\n",
       "      <td>NaN</td>\n",
       "      <td>Quick-Play</td>\n",
       "    </tr>\n",
       "    <tr>\n",
       "      <th>3</th>\n",
       "      <td>3</td>\n",
       "      <td>Fairy Cheer Girl</td>\n",
       "      <td>Shatterfoil Rare</td>\n",
       "      <td>2.06</td>\n",
       "      <td>True</td>\n",
       "      <td>2 Level 4 Fairy-Type monsters\\n\\nYou can detac...</td>\n",
       "      <td>monster</td>\n",
       "      <td>Fairy / Xyz / Effect</td>\n",
       "      <td>light</td>\n",
       "      <td>1900.0</td>\n",
       "      <td>1500.0</td>\n",
       "      <td>4.0</td>\n",
       "      <td>NaN</td>\n",
       "    </tr>\n",
       "    <tr>\n",
       "      <th>4</th>\n",
       "      <td>4</td>\n",
       "      <td>Exploder Dragon</td>\n",
       "      <td>Shatterfoil Rare</td>\n",
       "      <td>2.08</td>\n",
       "      <td>True</td>\n",
       "      <td>If this card is destroyed by battle and sent t...</td>\n",
       "      <td>monster</td>\n",
       "      <td>Dragon / Effect</td>\n",
       "      <td>earth</td>\n",
       "      <td>1000.0</td>\n",
       "      <td>0.0</td>\n",
       "      <td>3.0</td>\n",
       "      <td>NaN</td>\n",
       "    </tr>\n",
       "  </tbody>\n",
       "</table>\n",
       "</div>"
      ],
      "text/plain": [
       "   Unnamed: 0                     Name            Rarity  Price  isGood  \\\n",
       "0           0  XX-Saber Boggart Knight  Shatterfoil Rare   2.73    True   \n",
       "1           1            Gagaga Cowboy  Shatterfoil Rare   4.68    True   \n",
       "2           2        Forbidden Chalice  Shatterfoil Rare   2.09    True   \n",
       "3           3         Fairy Cheer Girl  Shatterfoil Rare   2.06    True   \n",
       "4           4          Exploder Dragon  Shatterfoil Rare   2.08    True   \n",
       "\n",
       "                                                text card_type  \\\n",
       "0  When this card is Normal Summoned: You can Spe...   monster   \n",
       "1  2 Level 4 monsters\\n\\nOnce per turn: You can d...   monster   \n",
       "2  Target 1 face-up monster on the field; until t...     spell   \n",
       "3  2 Level 4 Fairy-Type monsters\\n\\nYou can detac...   monster   \n",
       "4  If this card is destroyed by battle and sent t...   monster   \n",
       "\n",
       "                     type family     atk     def  level    property  \n",
       "0  Beast-Warrior / Effect  earth  1900.0  1000.0    4.0         NaN  \n",
       "1  Warrior / Xyz / Effect  earth  1500.0  2400.0    4.0         NaN  \n",
       "2                     NaN    NaN     NaN     NaN    NaN  Quick-Play  \n",
       "3    Fairy / Xyz / Effect  light  1900.0  1500.0    4.0         NaN  \n",
       "4         Dragon / Effect  earth  1000.0     0.0    3.0         NaN  "
      ]
     },
     "execution_count": 2,
     "metadata": {},
     "output_type": "execute_result"
    }
   ],
   "source": [
    "df_yugi = pd.read_csv('dbs/yugi_comp.csv',engine=\"python\",error_bad_lines=False)\n",
    "df_yugi = df_yugi.drop(['name'], axis=1)\n",
    "df_yugi = df_yugi[df_yugi['text'].notna()]\n",
    "df_yugi.head()"
   ]
  },
  {
   "cell_type": "code",
   "execution_count": 3,
   "id": "c0237e7d",
   "metadata": {
    "colab": {
     "base_uri": "https://localhost:8080/",
     "height": 159
    },
    "id": "c0237e7d",
    "outputId": "62281819-7897-444d-aa3f-6270b75db198"
   },
   "outputs": [
    {
     "data": {
      "text/html": [
       "<div>\n",
       "<style scoped>\n",
       "    .dataframe tbody tr th:only-of-type {\n",
       "        vertical-align: middle;\n",
       "    }\n",
       "\n",
       "    .dataframe tbody tr th {\n",
       "        vertical-align: top;\n",
       "    }\n",
       "\n",
       "    .dataframe thead th {\n",
       "        text-align: right;\n",
       "    }\n",
       "</style>\n",
       "<table border=\"1\" class=\"dataframe\">\n",
       "  <thead>\n",
       "    <tr style=\"text-align: right;\">\n",
       "      <th></th>\n",
       "      <th>Unnamed: 0</th>\n",
       "      <th>Name</th>\n",
       "      <th>Rarity</th>\n",
       "      <th>Price</th>\n",
       "      <th>isGood</th>\n",
       "      <th>text</th>\n",
       "      <th>card_type</th>\n",
       "      <th>type</th>\n",
       "      <th>family</th>\n",
       "      <th>atk</th>\n",
       "      <th>def</th>\n",
       "      <th>level</th>\n",
       "      <th>property</th>\n",
       "    </tr>\n",
       "  </thead>\n",
       "  <tbody>\n",
       "    <tr>\n",
       "      <th>3267</th>\n",
       "      <td>3267</td>\n",
       "      <td>Baby Dragon</td>\n",
       "      <td>Common</td>\n",
       "      <td>1.79</td>\n",
       "      <td>False</td>\n",
       "      <td>Much more than just a child, this dragon is gi...</td>\n",
       "      <td>monster</td>\n",
       "      <td>Dragon / Normal</td>\n",
       "      <td>wind</td>\n",
       "      <td>1200.0</td>\n",
       "      <td>700.0</td>\n",
       "      <td>3.0</td>\n",
       "      <td>NaN</td>\n",
       "    </tr>\n",
       "  </tbody>\n",
       "</table>\n",
       "</div>"
      ],
      "text/plain": [
       "      Unnamed: 0         Name  Rarity  Price  isGood  \\\n",
       "3267        3267  Baby Dragon  Common   1.79   False   \n",
       "\n",
       "                                                   text card_type  \\\n",
       "3267  Much more than just a child, this dragon is gi...   monster   \n",
       "\n",
       "                 type family     atk    def  level property  \n",
       "3267  Dragon / Normal   wind  1200.0  700.0    3.0      NaN  "
      ]
     },
     "execution_count": 3,
     "metadata": {},
     "output_type": "execute_result"
    }
   ],
   "source": [
    "df_yugi.loc[(df_yugi['Name'] == \"Baby Dragon\")]"
   ]
  },
  {
   "cell_type": "code",
   "execution_count": 4,
   "id": "3fa04b37",
   "metadata": {
    "id": "3fa04b37"
   },
   "outputs": [],
   "source": [
    "import math\n",
    "def getMonsterType(row):\n",
    "    if row['card_type'] == 'monster':\n",
    "        monstype = row['type'].split(\"/\")\n",
    "        return monstype[-1].replace(\" \",\"\")\n",
    "    else:\n",
    "        return math.nan\n"
   ]
  },
  {
   "cell_type": "code",
   "execution_count": 5,
   "id": "bb869144",
   "metadata": {
    "colab": {
     "base_uri": "https://localhost:8080/",
     "height": 423
    },
    "id": "bb869144",
    "outputId": "61bed5ab-4475-45f3-f9f8-e31e2773e39f"
   },
   "outputs": [
    {
     "data": {
      "text/html": [
       "<div>\n",
       "<style scoped>\n",
       "    .dataframe tbody tr th:only-of-type {\n",
       "        vertical-align: middle;\n",
       "    }\n",
       "\n",
       "    .dataframe tbody tr th {\n",
       "        vertical-align: top;\n",
       "    }\n",
       "\n",
       "    .dataframe thead th {\n",
       "        text-align: right;\n",
       "    }\n",
       "</style>\n",
       "<table border=\"1\" class=\"dataframe\">\n",
       "  <thead>\n",
       "    <tr style=\"text-align: right;\">\n",
       "      <th></th>\n",
       "      <th>Unnamed: 0</th>\n",
       "      <th>Name</th>\n",
       "      <th>Rarity</th>\n",
       "      <th>Price</th>\n",
       "      <th>isGood</th>\n",
       "      <th>text</th>\n",
       "      <th>card_type</th>\n",
       "      <th>type</th>\n",
       "      <th>family</th>\n",
       "      <th>atk</th>\n",
       "      <th>def</th>\n",
       "      <th>level</th>\n",
       "      <th>property</th>\n",
       "      <th>monster_type</th>\n",
       "    </tr>\n",
       "  </thead>\n",
       "  <tbody>\n",
       "    <tr>\n",
       "      <th>0</th>\n",
       "      <td>0</td>\n",
       "      <td>XX-Saber Boggart Knight</td>\n",
       "      <td>Shatterfoil Rare</td>\n",
       "      <td>2.73</td>\n",
       "      <td>True</td>\n",
       "      <td>When this card is Normal Summoned: You can Spe...</td>\n",
       "      <td>monster</td>\n",
       "      <td>Beast-Warrior / Effect</td>\n",
       "      <td>earth</td>\n",
       "      <td>1900.0</td>\n",
       "      <td>1000.0</td>\n",
       "      <td>4.0</td>\n",
       "      <td>NaN</td>\n",
       "      <td>Effect</td>\n",
       "    </tr>\n",
       "    <tr>\n",
       "      <th>1</th>\n",
       "      <td>1</td>\n",
       "      <td>Gagaga Cowboy</td>\n",
       "      <td>Shatterfoil Rare</td>\n",
       "      <td>4.68</td>\n",
       "      <td>True</td>\n",
       "      <td>2 Level 4 monsters\\n\\nOnce per turn: You can d...</td>\n",
       "      <td>monster</td>\n",
       "      <td>Warrior / Xyz / Effect</td>\n",
       "      <td>earth</td>\n",
       "      <td>1500.0</td>\n",
       "      <td>2400.0</td>\n",
       "      <td>4.0</td>\n",
       "      <td>NaN</td>\n",
       "      <td>Effect</td>\n",
       "    </tr>\n",
       "    <tr>\n",
       "      <th>2</th>\n",
       "      <td>2</td>\n",
       "      <td>Forbidden Chalice</td>\n",
       "      <td>Shatterfoil Rare</td>\n",
       "      <td>2.09</td>\n",
       "      <td>True</td>\n",
       "      <td>Target 1 face-up monster on the field; until t...</td>\n",
       "      <td>spell</td>\n",
       "      <td>NaN</td>\n",
       "      <td>NaN</td>\n",
       "      <td>NaN</td>\n",
       "      <td>NaN</td>\n",
       "      <td>NaN</td>\n",
       "      <td>Quick-Play</td>\n",
       "      <td>NaN</td>\n",
       "    </tr>\n",
       "    <tr>\n",
       "      <th>3</th>\n",
       "      <td>3</td>\n",
       "      <td>Fairy Cheer Girl</td>\n",
       "      <td>Shatterfoil Rare</td>\n",
       "      <td>2.06</td>\n",
       "      <td>True</td>\n",
       "      <td>2 Level 4 Fairy-Type monsters\\n\\nYou can detac...</td>\n",
       "      <td>monster</td>\n",
       "      <td>Fairy / Xyz / Effect</td>\n",
       "      <td>light</td>\n",
       "      <td>1900.0</td>\n",
       "      <td>1500.0</td>\n",
       "      <td>4.0</td>\n",
       "      <td>NaN</td>\n",
       "      <td>Effect</td>\n",
       "    </tr>\n",
       "    <tr>\n",
       "      <th>4</th>\n",
       "      <td>4</td>\n",
       "      <td>Exploder Dragon</td>\n",
       "      <td>Shatterfoil Rare</td>\n",
       "      <td>2.08</td>\n",
       "      <td>True</td>\n",
       "      <td>If this card is destroyed by battle and sent t...</td>\n",
       "      <td>monster</td>\n",
       "      <td>Dragon / Effect</td>\n",
       "      <td>earth</td>\n",
       "      <td>1000.0</td>\n",
       "      <td>0.0</td>\n",
       "      <td>3.0</td>\n",
       "      <td>NaN</td>\n",
       "      <td>Effect</td>\n",
       "    </tr>\n",
       "  </tbody>\n",
       "</table>\n",
       "</div>"
      ],
      "text/plain": [
       "   Unnamed: 0                     Name            Rarity  Price  isGood  \\\n",
       "0           0  XX-Saber Boggart Knight  Shatterfoil Rare   2.73    True   \n",
       "1           1            Gagaga Cowboy  Shatterfoil Rare   4.68    True   \n",
       "2           2        Forbidden Chalice  Shatterfoil Rare   2.09    True   \n",
       "3           3         Fairy Cheer Girl  Shatterfoil Rare   2.06    True   \n",
       "4           4          Exploder Dragon  Shatterfoil Rare   2.08    True   \n",
       "\n",
       "                                                text card_type  \\\n",
       "0  When this card is Normal Summoned: You can Spe...   monster   \n",
       "1  2 Level 4 monsters\\n\\nOnce per turn: You can d...   monster   \n",
       "2  Target 1 face-up monster on the field; until t...     spell   \n",
       "3  2 Level 4 Fairy-Type monsters\\n\\nYou can detac...   monster   \n",
       "4  If this card is destroyed by battle and sent t...   monster   \n",
       "\n",
       "                     type family     atk     def  level    property  \\\n",
       "0  Beast-Warrior / Effect  earth  1900.0  1000.0    4.0         NaN   \n",
       "1  Warrior / Xyz / Effect  earth  1500.0  2400.0    4.0         NaN   \n",
       "2                     NaN    NaN     NaN     NaN    NaN  Quick-Play   \n",
       "3    Fairy / Xyz / Effect  light  1900.0  1500.0    4.0         NaN   \n",
       "4         Dragon / Effect  earth  1000.0     0.0    3.0         NaN   \n",
       "\n",
       "  monster_type  \n",
       "0       Effect  \n",
       "1       Effect  \n",
       "2          NaN  \n",
       "3       Effect  \n",
       "4       Effect  "
      ]
     },
     "execution_count": 5,
     "metadata": {},
     "output_type": "execute_result"
    }
   ],
   "source": [
    "df_yugi['monster_type'] = df_yugi.apply(lambda row: getMonsterType(row), axis=1)\n",
    "df_yugi.head()"
   ]
  },
  {
   "cell_type": "code",
   "execution_count": 6,
   "id": "5fe3c3f8",
   "metadata": {
    "colab": {
     "base_uri": "https://localhost:8080/"
    },
    "id": "5fe3c3f8",
    "outputId": "8e0357ef-921f-4b35-8f2a-5897fd96d696"
   },
   "outputs": [
    {
     "data": {
      "text/plain": [
       "<bound method NDFrame.head of        Unnamed: 0                           Name            Rarity  Price  \\\n",
       "0               0        XX-Saber Boggart Knight  Shatterfoil Rare   2.73   \n",
       "1               1                  Gagaga Cowboy  Shatterfoil Rare   4.68   \n",
       "2               2              Forbidden Chalice  Shatterfoil Rare   2.09   \n",
       "3               3               Fairy Cheer Girl  Shatterfoil Rare   2.06   \n",
       "4               4                Exploder Dragon  Shatterfoil Rare   2.08   \n",
       "...           ...                            ...               ...    ...   \n",
       "11642       11642        Herald of Mirage Lights        Ultra Rare   1.55   \n",
       "11643       11643   Graveyard of Wandering Souls        Ultra Rare   1.39   \n",
       "11644       11644  Lib the World Key Blademaster        Ultra Rare   3.47   \n",
       "11645       11645                   Kingyo Sukui        Ultra Rare   1.22   \n",
       "11646       11646               Skydive Scorcher        Ultra Rare   1.58   \n",
       "\n",
       "       isGood                                               text card_type  \\\n",
       "0        True  When this card is Normal Summoned: You can Spe...   monster   \n",
       "1        True  2 Level 4 monsters\\n\\nOnce per turn: You can d...   monster   \n",
       "2        True  Target 1 face-up monster on the field; until t...     spell   \n",
       "3        True  2 Level 4 Fairy-Type monsters\\n\\nYou can detac...   monster   \n",
       "4        True  If this card is destroyed by battle and sent t...   monster   \n",
       "...       ...                                                ...       ...   \n",
       "11642   False  2 monsters with the same Type and Attribute, e...   monster   \n",
       "11643   False  If this card is already face-up on the field:\\...      trap   \n",
       "11644   False  2 monsters\\n\\nCan only be Link Summoned while ...   monster   \n",
       "11645   False  You can target 1 monster in your opponent's GY...      trap   \n",
       "11646   False  Target 1 \"Elemental HERO\" Fusion Monster you c...     spell   \n",
       "\n",
       "                          type family     atk     def  level    property  \\\n",
       "0       Beast-Warrior / Effect  earth  1900.0  1000.0    4.0         NaN   \n",
       "1       Warrior / Xyz / Effect  earth  1500.0  2400.0    4.0         NaN   \n",
       "2                          NaN    NaN     NaN     NaN    NaN  Quick-Play   \n",
       "3         Fairy / Xyz / Effect  light  1900.0  1500.0    4.0         NaN   \n",
       "4              Dragon / Effect  earth  1000.0     0.0    3.0         NaN   \n",
       "...                        ...    ...     ...     ...    ...         ...   \n",
       "11642    Fairy / Link / Effect  light   600.0     0.0    0.0         NaN   \n",
       "11643                      NaN    NaN     NaN     NaN    NaN  Continuous   \n",
       "11644  Cyberse / Link / Effect  light  2000.0     0.0    0.0         NaN   \n",
       "11645                      NaN    NaN     NaN     NaN    NaN  Continuous   \n",
       "11646                      NaN    NaN     NaN     NaN    NaN      Normal   \n",
       "\n",
       "      monster_type  \n",
       "0           Effect  \n",
       "1           Effect  \n",
       "2              NaN  \n",
       "3           Effect  \n",
       "4           Effect  \n",
       "...            ...  \n",
       "11642       Effect  \n",
       "11643          NaN  \n",
       "11644       Effect  \n",
       "11645          NaN  \n",
       "11646          NaN  \n",
       "\n",
       "[11368 rows x 14 columns]>"
      ]
     },
     "execution_count": 6,
     "metadata": {},
     "output_type": "execute_result"
    }
   ],
   "source": [
    "df_yu = df_yugi.loc[(df_yugi['monster_type'] != 'Normal')]\n",
    "df_yu.head"
   ]
  },
  {
   "cell_type": "code",
   "execution_count": 7,
   "id": "3cfdd5e7",
   "metadata": {
    "colab": {
     "base_uri": "https://localhost:8080/",
     "height": 49
    },
    "id": "3cfdd5e7",
    "outputId": "090d873f-8cbc-4435-8167-c646782a63c9"
   },
   "outputs": [
    {
     "data": {
      "text/html": [
       "<div>\n",
       "<style scoped>\n",
       "    .dataframe tbody tr th:only-of-type {\n",
       "        vertical-align: middle;\n",
       "    }\n",
       "\n",
       "    .dataframe tbody tr th {\n",
       "        vertical-align: top;\n",
       "    }\n",
       "\n",
       "    .dataframe thead th {\n",
       "        text-align: right;\n",
       "    }\n",
       "</style>\n",
       "<table border=\"1\" class=\"dataframe\">\n",
       "  <thead>\n",
       "    <tr style=\"text-align: right;\">\n",
       "      <th></th>\n",
       "      <th>Unnamed: 0</th>\n",
       "      <th>Name</th>\n",
       "      <th>Rarity</th>\n",
       "      <th>Price</th>\n",
       "      <th>isGood</th>\n",
       "      <th>text</th>\n",
       "      <th>card_type</th>\n",
       "      <th>type</th>\n",
       "      <th>family</th>\n",
       "      <th>atk</th>\n",
       "      <th>def</th>\n",
       "      <th>level</th>\n",
       "      <th>property</th>\n",
       "      <th>monster_type</th>\n",
       "    </tr>\n",
       "  </thead>\n",
       "  <tbody>\n",
       "  </tbody>\n",
       "</table>\n",
       "</div>"
      ],
      "text/plain": [
       "Empty DataFrame\n",
       "Columns: [Unnamed: 0, Name, Rarity, Price, isGood, text, card_type, type, family, atk, def, level, property, monster_type]\n",
       "Index: []"
      ]
     },
     "execution_count": 7,
     "metadata": {},
     "output_type": "execute_result"
    }
   ],
   "source": [
    "df_yu.loc[(df_yu['Name'] == \"Baby Dragon\")]"
   ]
  },
  {
   "cell_type": "markdown",
   "id": "50a046b2",
   "metadata": {
    "id": "50a046b2"
   },
   "source": [
    "## Baseline"
   ]
  },
  {
   "cell_type": "code",
   "execution_count": 8,
   "id": "5053a387",
   "metadata": {
    "id": "5053a387"
   },
   "outputs": [],
   "source": [
    "import matplotlib.pyplot as plt\n",
    "import nltk\n",
    "import numpy as np\n",
    "import pandas as pd\n",
    "from tqdm import tqdm\n",
    "import joblib\n",
    "import urllib\n",
    "import numpy as np\n",
    "from sklearn.feature_extraction.text import CountVectorizer\n",
    "from sklearn.pipeline import Pipeline\n",
    "from sklearn.linear_model import LogisticRegression\n",
    "from sklearn.naive_bayes import BernoulliNB\n",
    "from sklearn.model_selection import train_test_split\n",
    "from sklearn.metrics import accuracy_score"
   ]
  },
  {
   "cell_type": "code",
   "execution_count": 9,
   "id": "7Xqm7J27pJAK",
   "metadata": {
    "id": "7Xqm7J27pJAK"
   },
   "outputs": [],
   "source": [
    "methods = [\"Baseline\",\"DeepLearn\",\"SoftMax\",\"Embedding\",\"PreTrain\",\"PostTreat\"]\n",
    "delays = {}\n",
    "ram = {}\n",
    "accuracies = {}\n",
    "fps = {}\n",
    "tps = {}\n",
    "fns = {}\n",
    "tns = {}"
   ]
  },
  {
   "cell_type": "code",
   "execution_count": 10,
   "id": "kMQBV_cxqCuf",
   "metadata": {
    "id": "kMQBV_cxqCuf"
   },
   "outputs": [],
   "source": [
    "def startmeasuring():\n",
    "    # Start measuring time\n",
    "    start_time = time.time()\n",
    "\n",
    "    # Start measuring RAM usage\n",
    "    start_ram = psutil.Process().memory_info().rss\n",
    "    return start_time,start_ram\n",
    "\n",
    "def finishmeasuring(start_time,start_ram):\n",
    "    # Stop measuring time\n",
    "    end_time = time.time()\n",
    "\n",
    "    # Stop measuring RAM usage\n",
    "    end_ram = psutil.Process().memory_info().rss\n",
    "\n",
    "    # Calculate elapsed time\n",
    "    elapsed_time = end_time - start_time\n",
    "\n",
    "    # Calculate RAM usage\n",
    "    ram_usage = end_ram - start_ram\n",
    "\n",
    "    return elapsed_time, ram_usage\n"
   ]
  },
  {
   "cell_type": "code",
   "execution_count": 11,
   "id": "cCrLtQdasxrk",
   "metadata": {
    "id": "cCrLtQdasxrk"
   },
   "outputs": [],
   "source": [
    "\n",
    "import matplotlib.pyplot as plt\n",
    "\n",
    "confusion = 'true negative', 'false positive', 'false negative', 'true positive'\n",
    "\n",
    "\n",
    "from sklearn.metrics import confusion_matrix\n",
    "def build_confusion_matrix(y_test_,y_pred,method):\n",
    "  y_t = y_test_\n",
    "  y_p = y_pred\n",
    "  print(y_t.shape)\n",
    "  print(y_p.shape)\n",
    "  tn, fp, fn, tp = confusion_matrix(y_t, y_p).ravel()\n",
    "  print(f\"{confusion[0]}: {tn}\")\n",
    "  print(f\"{confusion[1]}: {fp}\")\n",
    "  print(f\"{confusion[2]}: {fn}\")\n",
    "  print(f\"{confusion[3]}: {tp}\")\n",
    "  sizes = [tn, fp, fn, tp]\n",
    "  fig, ax = plt.subplots()\n",
    "  ax.pie(sizes, labels=confusion, autopct='%1.1f%%')\n",
    "\n",
    "  tns[method] = tn\n",
    "  fps[method]= fp\n",
    "  fns[method] =fn\n",
    "  tps[method] =tp"
   ]
  },
  {
   "cell_type": "code",
   "execution_count": 12,
   "id": "589beac6",
   "metadata": {
    "id": "589beac6"
   },
   "outputs": [],
   "source": [
    "model_data = df_yu.copy()\n",
    "method = methods[0]"
   ]
  },
  {
   "cell_type": "code",
   "execution_count": 13,
   "id": "73961e08",
   "metadata": {
    "colab": {
     "base_uri": "https://localhost:8080/",
     "height": 956
    },
    "id": "73961e08",
    "outputId": "086d0924-c3c8-405b-b951-7619accea00d"
   },
   "outputs": [
    {
     "data": {
      "text/html": [
       "<div>\n",
       "<style scoped>\n",
       "    .dataframe tbody tr th:only-of-type {\n",
       "        vertical-align: middle;\n",
       "    }\n",
       "\n",
       "    .dataframe tbody tr th {\n",
       "        vertical-align: top;\n",
       "    }\n",
       "\n",
       "    .dataframe thead th {\n",
       "        text-align: right;\n",
       "    }\n",
       "</style>\n",
       "<table border=\"1\" class=\"dataframe\">\n",
       "  <thead>\n",
       "    <tr style=\"text-align: right;\">\n",
       "      <th></th>\n",
       "      <th>Unnamed: 0</th>\n",
       "      <th>Name</th>\n",
       "      <th>Rarity</th>\n",
       "      <th>Price</th>\n",
       "      <th>isGood</th>\n",
       "      <th>text</th>\n",
       "      <th>card_type</th>\n",
       "      <th>type</th>\n",
       "      <th>family</th>\n",
       "      <th>atk</th>\n",
       "      <th>def</th>\n",
       "      <th>level</th>\n",
       "      <th>property</th>\n",
       "      <th>monster_type</th>\n",
       "    </tr>\n",
       "  </thead>\n",
       "  <tbody>\n",
       "    <tr>\n",
       "      <th>5185</th>\n",
       "      <td>5185</td>\n",
       "      <td>Battlin' Boxer Counterpunch</td>\n",
       "      <td>Common</td>\n",
       "      <td>1.30</td>\n",
       "      <td>False</td>\n",
       "      <td>During the Damage Step of either player's turn...</td>\n",
       "      <td>monster</td>\n",
       "      <td>Warrior / Effect</td>\n",
       "      <td>fire</td>\n",
       "      <td>0.0</td>\n",
       "      <td>1100.0</td>\n",
       "      <td>3.0</td>\n",
       "      <td>NaN</td>\n",
       "      <td>Effect</td>\n",
       "    </tr>\n",
       "    <tr>\n",
       "      <th>812</th>\n",
       "      <td>812</td>\n",
       "      <td>Myutant Clash</td>\n",
       "      <td>Common</td>\n",
       "      <td>2.14</td>\n",
       "      <td>True</td>\n",
       "      <td>When you activate this card: You can target 1 ...</td>\n",
       "      <td>trap</td>\n",
       "      <td>NaN</td>\n",
       "      <td>NaN</td>\n",
       "      <td>NaN</td>\n",
       "      <td>NaN</td>\n",
       "      <td>NaN</td>\n",
       "      <td>Continuous</td>\n",
       "      <td>NaN</td>\n",
       "    </tr>\n",
       "    <tr>\n",
       "      <th>238</th>\n",
       "      <td>238</td>\n",
       "      <td>Gemini Spark</td>\n",
       "      <td>Common</td>\n",
       "      <td>4.63</td>\n",
       "      <td>True</td>\n",
       "      <td>Tribute 1 face-up Level 4 Gemini monster, then...</td>\n",
       "      <td>spell</td>\n",
       "      <td>NaN</td>\n",
       "      <td>NaN</td>\n",
       "      <td>NaN</td>\n",
       "      <td>NaN</td>\n",
       "      <td>NaN</td>\n",
       "      <td>Quick-Play</td>\n",
       "      <td>NaN</td>\n",
       "    </tr>\n",
       "    <tr>\n",
       "      <th>10452</th>\n",
       "      <td>10452</td>\n",
       "      <td>Conductor of Nephthys</td>\n",
       "      <td>Super Rare</td>\n",
       "      <td>1.94</td>\n",
       "      <td>False</td>\n",
       "      <td>You can Ritual Summon this card with \"Rebirth ...</td>\n",
       "      <td>monster</td>\n",
       "      <td>Spellcaster / Ritual / Effect</td>\n",
       "      <td>wind</td>\n",
       "      <td>2000.0</td>\n",
       "      <td>0.0</td>\n",
       "      <td>2.0</td>\n",
       "      <td>NaN</td>\n",
       "      <td>Effect</td>\n",
       "    </tr>\n",
       "    <tr>\n",
       "      <th>8405</th>\n",
       "      <td>8405</td>\n",
       "      <td>Voloferniges, the Darkest Dragon Doomrider</td>\n",
       "      <td>Rare</td>\n",
       "      <td>1.16</td>\n",
       "      <td>False</td>\n",
       "      <td>2 Level 7 monsters\\n\\nOnce per turn: You can d...</td>\n",
       "      <td>monster</td>\n",
       "      <td>Dragon / Xyz / Effect</td>\n",
       "      <td>dark</td>\n",
       "      <td>2500.0</td>\n",
       "      <td>2100.0</td>\n",
       "      <td>7.0</td>\n",
       "      <td>NaN</td>\n",
       "      <td>Effect</td>\n",
       "    </tr>\n",
       "    <tr>\n",
       "      <th>...</th>\n",
       "      <td>...</td>\n",
       "      <td>...</td>\n",
       "      <td>...</td>\n",
       "      <td>...</td>\n",
       "      <td>...</td>\n",
       "      <td>...</td>\n",
       "      <td>...</td>\n",
       "      <td>...</td>\n",
       "      <td>...</td>\n",
       "      <td>...</td>\n",
       "      <td>...</td>\n",
       "      <td>...</td>\n",
       "      <td>...</td>\n",
       "      <td>...</td>\n",
       "    </tr>\n",
       "    <tr>\n",
       "      <th>11562</th>\n",
       "      <td>11562</td>\n",
       "      <td>Borreload Riot Dragon</td>\n",
       "      <td>Ultra Rare</td>\n",
       "      <td>1.60</td>\n",
       "      <td>False</td>\n",
       "      <td>You can Ritual Summon this card with \"Heavy In...</td>\n",
       "      <td>monster</td>\n",
       "      <td>Dragon / Ritual / Effect</td>\n",
       "      <td>dark</td>\n",
       "      <td>3000.0</td>\n",
       "      <td>2500.0</td>\n",
       "      <td>8.0</td>\n",
       "      <td>NaN</td>\n",
       "      <td>Effect</td>\n",
       "    </tr>\n",
       "    <tr>\n",
       "      <th>5375</th>\n",
       "      <td>5375</td>\n",
       "      <td>Offering to the Snake Deity</td>\n",
       "      <td>Common</td>\n",
       "      <td>1.38</td>\n",
       "      <td>False</td>\n",
       "      <td>Target 1 face-up Reptile monster you control a...</td>\n",
       "      <td>trap</td>\n",
       "      <td>NaN</td>\n",
       "      <td>NaN</td>\n",
       "      <td>NaN</td>\n",
       "      <td>NaN</td>\n",
       "      <td>NaN</td>\n",
       "      <td>Normal</td>\n",
       "      <td>NaN</td>\n",
       "    </tr>\n",
       "    <tr>\n",
       "      <th>5574</th>\n",
       "      <td>5574</td>\n",
       "      <td>Gunkan Suship Shari Red</td>\n",
       "      <td>Common</td>\n",
       "      <td>1.14</td>\n",
       "      <td>False</td>\n",
       "      <td>This card's name becomes \"Gunkan Suship Shari\"...</td>\n",
       "      <td>monster</td>\n",
       "      <td>Aqua / Effect</td>\n",
       "      <td>fire</td>\n",
       "      <td>0.0</td>\n",
       "      <td>2000.0</td>\n",
       "      <td>4.0</td>\n",
       "      <td>NaN</td>\n",
       "      <td>Effect</td>\n",
       "    </tr>\n",
       "    <tr>\n",
       "      <th>884</th>\n",
       "      <td>884</td>\n",
       "      <td>Black Salvo</td>\n",
       "      <td>Common</td>\n",
       "      <td>2.41</td>\n",
       "      <td>True</td>\n",
       "      <td>When this card is Normal Summoned: You can tar...</td>\n",
       "      <td>monster</td>\n",
       "      <td>Machine / Tuner / Effect</td>\n",
       "      <td>dark</td>\n",
       "      <td>100.0</td>\n",
       "      <td>1100.0</td>\n",
       "      <td>3.0</td>\n",
       "      <td>NaN</td>\n",
       "      <td>Effect</td>\n",
       "    </tr>\n",
       "    <tr>\n",
       "      <th>7493</th>\n",
       "      <td>7493</td>\n",
       "      <td>Despian Proskenion</td>\n",
       "      <td>Common</td>\n",
       "      <td>1.19</td>\n",
       "      <td>False</td>\n",
       "      <td>1 \"Despia\" monster + 1 LIGHT monster + 1 DARK ...</td>\n",
       "      <td>monster</td>\n",
       "      <td>Fiend / Fusion / Effect</td>\n",
       "      <td>light</td>\n",
       "      <td>3200.0</td>\n",
       "      <td>3200.0</td>\n",
       "      <td>11.0</td>\n",
       "      <td>NaN</td>\n",
       "      <td>Effect</td>\n",
       "    </tr>\n",
       "  </tbody>\n",
       "</table>\n",
       "<p>8526 rows × 14 columns</p>\n",
       "</div>"
      ],
      "text/plain": [
       "       Unnamed: 0                                        Name      Rarity  \\\n",
       "5185         5185                 Battlin' Boxer Counterpunch      Common   \n",
       "812           812                               Myutant Clash      Common   \n",
       "238           238                                Gemini Spark      Common   \n",
       "10452       10452                       Conductor of Nephthys  Super Rare   \n",
       "8405         8405  Voloferniges, the Darkest Dragon Doomrider        Rare   \n",
       "...           ...                                         ...         ...   \n",
       "11562       11562                       Borreload Riot Dragon  Ultra Rare   \n",
       "5375         5375                 Offering to the Snake Deity      Common   \n",
       "5574         5574                     Gunkan Suship Shari Red      Common   \n",
       "884           884                                 Black Salvo      Common   \n",
       "7493         7493                          Despian Proskenion      Common   \n",
       "\n",
       "       Price  isGood                                               text  \\\n",
       "5185    1.30   False  During the Damage Step of either player's turn...   \n",
       "812     2.14    True  When you activate this card: You can target 1 ...   \n",
       "238     4.63    True  Tribute 1 face-up Level 4 Gemini monster, then...   \n",
       "10452   1.94   False  You can Ritual Summon this card with \"Rebirth ...   \n",
       "8405    1.16   False  2 Level 7 monsters\\n\\nOnce per turn: You can d...   \n",
       "...      ...     ...                                                ...   \n",
       "11562   1.60   False  You can Ritual Summon this card with \"Heavy In...   \n",
       "5375    1.38   False  Target 1 face-up Reptile monster you control a...   \n",
       "5574    1.14   False  This card's name becomes \"Gunkan Suship Shari\"...   \n",
       "884     2.41    True  When this card is Normal Summoned: You can tar...   \n",
       "7493    1.19   False  1 \"Despia\" monster + 1 LIGHT monster + 1 DARK ...   \n",
       "\n",
       "      card_type                           type family     atk     def  level  \\\n",
       "5185    monster               Warrior / Effect   fire     0.0  1100.0    3.0   \n",
       "812        trap                            NaN    NaN     NaN     NaN    NaN   \n",
       "238       spell                            NaN    NaN     NaN     NaN    NaN   \n",
       "10452   monster  Spellcaster / Ritual / Effect   wind  2000.0     0.0    2.0   \n",
       "8405    monster          Dragon / Xyz / Effect   dark  2500.0  2100.0    7.0   \n",
       "...         ...                            ...    ...     ...     ...    ...   \n",
       "11562   monster       Dragon / Ritual / Effect   dark  3000.0  2500.0    8.0   \n",
       "5375       trap                            NaN    NaN     NaN     NaN    NaN   \n",
       "5574    monster                  Aqua / Effect   fire     0.0  2000.0    4.0   \n",
       "884     monster       Machine / Tuner / Effect   dark   100.0  1100.0    3.0   \n",
       "7493    monster        Fiend / Fusion / Effect  light  3200.0  3200.0   11.0   \n",
       "\n",
       "         property monster_type  \n",
       "5185          NaN       Effect  \n",
       "812    Continuous          NaN  \n",
       "238    Quick-Play          NaN  \n",
       "10452         NaN       Effect  \n",
       "8405          NaN       Effect  \n",
       "...           ...          ...  \n",
       "11562         NaN       Effect  \n",
       "5375       Normal          NaN  \n",
       "5574          NaN       Effect  \n",
       "884           NaN       Effect  \n",
       "7493          NaN       Effect  \n",
       "\n",
       "[8526 rows x 14 columns]"
      ]
     },
     "execution_count": 13,
     "metadata": {},
     "output_type": "execute_result"
    }
   ],
   "source": [
    "train_data, test_data = train_test_split(model_data, test_size=0.25, random_state=42)\n",
    "train_data"
   ]
  },
  {
   "cell_type": "code",
   "execution_count": 14,
   "id": "6891891b",
   "metadata": {
    "id": "6891891b"
   },
   "outputs": [],
   "source": [
    "X_train = train_data[\"text\"]\n",
    "y_train = train_data[\"isGood\"]\n",
    "X_test = test_data[\"text\"]\n",
    "y_test = test_data[\"isGood\"]"
   ]
  },
  {
   "cell_type": "code",
   "execution_count": 15,
   "id": "59514928",
   "metadata": {
    "colab": {
     "base_uri": "https://localhost:8080/"
    },
    "id": "59514928",
    "outputId": "402c3da0-2191-46cd-c945-b929d9bd7fb5"
   },
   "outputs": [
    {
     "name": "stdout",
     "output_type": "stream",
     "text": [
      "0.7607318789584799\n"
     ]
    }
   ],
   "source": [
    "classificador = Pipeline([\n",
    "                        ('meu_vetorizador', CountVectorizer(stop_words='english')),\n",
    "                        ('meu_classificador', LogisticRegression(penalty=None, solver='saga', max_iter=10000))\n",
    "                        ])\n",
    "classificador.fit(X_train,y_train)\n",
    "stime,sram = startmeasuring()\n",
    "y_pred = classificador.predict(X_test)\n",
    "etime,eram = finishmeasuring(stime,sram)\n",
    "acc = accuracy_score(y_pred,y_test)\n",
    "#methods.append(\"Baseline\")\n",
    "accuracies[method] = acc\n",
    "delays[method] = etime\n",
    "ram[method] = eram\n",
    "print(acc)"
   ]
  },
  {
   "cell_type": "code",
   "execution_count": 16,
   "id": "5af15ece",
   "metadata": {
    "colab": {
     "base_uri": "https://localhost:8080/",
     "height": 488
    },
    "id": "5af15ece",
    "outputId": "685de47f-c027-4002-ac28-f1dadbc5d74a"
   },
   "outputs": [
    {
     "name": "stdout",
     "output_type": "stream",
     "text": [
      "(1, 5636)\n"
     ]
    },
    {
     "data": {
      "image/png": "[encoded data removed]",
      "text/plain": [
       "<Figure size 1400x100 with 1 Axes>"
      ]
     },
     "metadata": {},
     "output_type": "display_data"
    },
    {
     "data": {
      "image/png": "[encoded data removed]",
      "text/plain": [
       "<Figure size 1400x100 with 1 Axes>"
      ]
     },
     "metadata": {},
     "output_type": "display_data"
    }
   ],
   "source": [
    "vocabulario = classificador['meu_vetorizador'].vocabulary_\n",
    "pesos = classificador['meu_classificador'].coef_\n",
    "print(pesos.shape)\n",
    "\n",
    "classe_alvo = 0\n",
    "classe_alvo_str = classificador.classes_[classe_alvo]\n",
    "\n",
    "palavras_e_pesos = []\n",
    "for palavra in vocabulario.keys():\n",
    "    j = vocabulario[palavra]\n",
    "    coeficiente = pesos[classe_alvo,j]\n",
    "    palavras_e_pesos.append( (coeficiente, palavra) )\n",
    "\n",
    "tuplas_ordenadas = sorted(palavras_e_pesos, reverse=True) # reverse=True pede uma ordenação em ordem decrescente\n",
    "palavras = [ t[1] for t in tuplas_ordenadas ]\n",
    "contagens = [ t[0] for t in tuplas_ordenadas ]\n",
    "\n",
    "n_palavras = 30\n",
    "eixo_x = np.arange(n_palavras)\n",
    "plt.figure(figsize=(14,1))\n",
    "plt.title('Palavras que mais levam à carta ruim')\n",
    "plt.bar(eixo_x[0:n_palavras], contagens[0:n_palavras])\n",
    "plt.xticks(eixo_x[0:n_palavras], palavras[0:n_palavras], rotation=70)\n",
    "plt.show()\n",
    "\n",
    "eixo_x = np.arange(n_palavras)\n",
    "plt.figure(figsize=(14,1))\n",
    "plt.title('Palavras que mais leva à carta boa')\n",
    "plt.bar(eixo_x[-n_palavras:], contagens[-n_palavras:])\n",
    "plt.xticks(eixo_x[-n_palavras:], palavras[-n_palavras:], rotation=70)\n",
    "plt.show()"
   ]
  },
  {
   "cell_type": "code",
   "execution_count": 17,
   "id": "jU4rPyekq_G6",
   "metadata": {
    "colab": {
     "base_uri": "https://localhost:8080/",
     "height": 510
    },
    "id": "jU4rPyekq_G6",
    "outputId": "a7360ccd-f23e-4984-d893-e8cb4c774294"
   },
   "outputs": [
    {
     "name": "stdout",
     "output_type": "stream",
     "text": [
      "(2842,)\n",
      "(2842,)\n",
      "true negative: 2064\n",
      "false positive: 233\n",
      "false negative: 447\n",
      "true positive: 98\n"
     ]
    },
    {
     "data": {
      "image/png": "[encoded data removed]",
      "text/plain": [
       "<Figure size 640x480 with 1 Axes>"
      ]
     },
     "metadata": {},
     "output_type": "display_data"
    }
   ],
   "source": [
    "build_confusion_matrix(y_test,y_pred,method)"
   ]
  },
  {
   "cell_type": "markdown",
   "id": "26a6f858",
   "metadata": {
    "id": "26a6f858"
   },
   "source": [
    "## Deep Learning in-house"
   ]
  },
  {
   "cell_type": "code",
   "execution_count": 18,
   "id": "7f72d999",
   "metadata": {
    "id": "7f72d999"
   },
   "outputs": [],
   "source": [
    "import matplotlib.pyplot as plt\n",
    "import pandas as pd\n",
    "import numpy as np\n",
    "from sklearn.feature_extraction.text import CountVectorizer\n",
    "from sklearn.pipeline import Pipeline\n",
    "from sklearn.metrics import accuracy_score\n",
    "from sklearn.linear_model import LogisticRegression\n",
    "from sklearn.model_selection import train_test_split\n",
    "\n",
    "from keras.layers import Input, Dense, Activation\n",
    "from keras.models import Model\n",
    "import tensorflow as tf\n",
    "from tensorflow.keras.utils import plot_model"
   ]
  },
  {
   "cell_type": "code",
   "execution_count": 19,
   "id": "328c79c9",
   "metadata": {
    "id": "328c79c9"
   },
   "outputs": [],
   "source": [
    "model_data = df_yu.copy()\n",
    "method = methods[1]\n",
    "train_data, test_data = train_test_split(model_data, test_size=0.25, random_state=42)\n",
    "X_train = train_data[\"text\"]\n",
    "y_train = train_data[\"isGood\"]\n",
    "X_test = test_data[\"text\"]\n",
    "y_test = test_data[\"isGood\"]"
   ]
  },
  {
   "cell_type": "code",
   "execution_count": 20,
   "id": "6cd9ca53",
   "metadata": {
    "id": "6cd9ca53"
   },
   "outputs": [],
   "source": [
    "def pre_processar_saidas(y):\n",
    "    y_out = np.zeros_like(y)\n",
    "    y_out[ y==False ] = -1.0\n",
    "    y_out[ y==True ] = 1.0\n",
    "    y_out = y_out.reshape( (-1, 1))\n",
    "    return y_out.astype(float)\n",
    "\n",
    "y_train_ = pre_processar_saidas(y_train)\n",
    "y_test_ = pre_processar_saidas(y_test)\n",
    "\n",
    "vectorizer = CountVectorizer(stop_words='english', binary=True, max_features=500)\n",
    "X_train_ = vectorizer.fit_transform(X_train).todense().astype(float)\n",
    "X_test_ = vectorizer.transform(X_test).todense().astype(float)"
   ]
  },
  {
   "cell_type": "code",
   "execution_count": 21,
   "id": "20c4477b",
   "metadata": {
    "colab": {
     "base_uri": "https://localhost:8080/"
    },
    "id": "20c4477b",
    "outputId": "cb24b58a-637f-45f3-e038-b3b2cd084cb2"
   },
   "outputs": [
    {
     "name": "stdout",
     "output_type": "stream",
     "text": [
      "Epoch 1/5\n",
      "267/267 [==============================] - 1s 2ms/step - loss: 0.1109 - accuracy: 0.8478\n",
      "Epoch 2/5\n",
      "267/267 [==============================] - 1s 2ms/step - loss: 0.0118 - accuracy: 0.9802\n",
      "Epoch 3/5\n",
      "267/267 [==============================] - 1s 2ms/step - loss: 0.0054 - accuracy: 0.9933\n",
      "Epoch 4/5\n",
      "267/267 [==============================] - 1s 2ms/step - loss: 0.0027 - accuracy: 1.0000\n",
      "Epoch 5/5\n",
      "267/267 [==============================] - 1s 2ms/step - loss: 0.0014 - accuracy: 1.0000\n"
     ]
    },
    {
     "data": {
      "text/plain": [
       "<keras.callbacks.History at 0x1f788da6370>"
      ]
     },
     "execution_count": 21,
     "metadata": {},
     "output_type": "execute_result"
    }
   ],
   "source": [
    "def base_model(vocab_size=500):\n",
    "    input_layer = Input(shape=(vocab_size,))\n",
    "    x = input_layer\n",
    "    x = Dense(1, name='classificador')(x)\n",
    "    x = Activation('tanh')(x)\n",
    "    return Model(input_layer, x)\n",
    "\n",
    "clf = base_model()\n",
    "clf.compile(loss='mean_squared_error', metrics=['accuracy'])\n",
    "clf.fit(X_train_, y_train_, epochs=5, verbose=1)"
   ]
  },
  {
   "cell_type": "code",
   "execution_count": 22,
   "id": "1b4811bb",
   "metadata": {
    "colab": {
     "base_uri": "https://localhost:8080/"
    },
    "id": "1b4811bb",
    "outputId": "d986b280-6c24-4e92-e270-f36929aea122"
   },
   "outputs": [
    {
     "name": "stdout",
     "output_type": "stream",
     "text": [
      "89/89 [==============================] - 1s 2ms/step - loss: 0.0010 - accuracy: 1.0000\n",
      "[0.0010465540690347552, 1.0]\n"
     ]
    }
   ],
   "source": [
    "evaluation = clf.evaluate(X_test_, y_test_)\n",
    "print(evaluation)\n",
    "acc = evaluation[1]"
   ]
  },
  {
   "cell_type": "code",
   "execution_count": 23,
   "id": "2096e079",
   "metadata": {
    "colab": {
     "base_uri": "https://localhost:8080/"
    },
    "id": "2096e079",
    "outputId": "513ed23d-f028-419b-df96-3ae501cd5bd3"
   },
   "outputs": [
    {
     "name": "stdout",
     "output_type": "stream",
     "text": [
      "89/89 [==============================] - 0s 2ms/step\n"
     ]
    }
   ],
   "source": [
    "stime,sram = startmeasuring()\n",
    "y_pred = clf.predict(X_test_)\n",
    "#print(y_pred.T)\n",
    "etime,eram = finishmeasuring(stime,sram)\n",
    "#methods.append(\"DeepLearn\")\n",
    "accuracies[method]=(acc)\n",
    "delays[method]=(etime)\n",
    "ram[method]=(eram)"
   ]
  },
  {
   "cell_type": "code",
   "execution_count": 24,
   "id": "6983e8cc",
   "metadata": {
    "colab": {
     "base_uri": "https://localhost:8080/"
    },
    "id": "6983e8cc",
    "outputId": "6fc0542e-0bfa-43a0-fc76-1b62855fe645"
   },
   "outputs": [
    {
     "name": "stdout",
     "output_type": "stream",
     "text": [
      "Model: \"model\"\n",
      "_________________________________________________________________\n",
      " Layer (type)                Output Shape              Param #   \n",
      "=================================================================\n",
      " input_1 (InputLayer)        [(None, 500)]             0         \n",
      "                                                                 \n",
      " classificador (Dense)       (None, 1)                 501       \n",
      "                                                                 \n",
      " activation (Activation)     (None, 1)                 0         \n",
      "                                                                 \n",
      "=================================================================\n",
      "Total params: 501\n",
      "Trainable params: 501\n",
      "Non-trainable params: 0\n",
      "_________________________________________________________________\n",
      "None\n"
     ]
    }
   ],
   "source": [
    "print(clf.summary())"
   ]
  },
  {
   "cell_type": "code",
   "execution_count": 25,
   "id": "79f398c5",
   "metadata": {
    "colab": {
     "base_uri": "https://localhost:8080/"
    },
    "id": "79f398c5",
    "outputId": "bde5e604-2b25-4021-b82d-51d09019719c"
   },
   "outputs": [
    {
     "name": "stdout",
     "output_type": "stream",
     "text": [
      "(500, 1)\n",
      "(1,)\n"
     ]
    }
   ],
   "source": [
    "\n",
    "print(clf.get_layer('classificador').weights[0].shape)\n",
    "print(clf.get_layer('classificador').weights[1].shape)"
   ]
  },
  {
   "cell_type": "code",
   "execution_count": 26,
   "id": "135bc1e2",
   "metadata": {
    "colab": {
     "base_uri": "https://localhost:8080/"
    },
    "id": "135bc1e2",
    "outputId": "436d1499-5c0b-4e8a-b3c6-2fd552354be6"
   },
   "outputs": [
    {
     "name": "stdout",
     "output_type": "stream",
     "text": [
      "Epoch 1/5\n",
      "240/240 [==============================] - 1s 3ms/step - loss: 0.1203 - accuracy: 0.8372 - val_loss: 0.0222 - val_accuracy: 0.9683\n",
      "Epoch 2/5\n",
      "240/240 [==============================] - 1s 3ms/step - loss: 0.0148 - accuracy: 0.9756 - val_loss: 0.0092 - val_accuracy: 0.9836\n",
      "Epoch 3/5\n",
      "240/240 [==============================] - 1s 3ms/step - loss: 0.0068 - accuracy: 0.9906 - val_loss: 0.0046 - val_accuracy: 0.9988\n",
      "Epoch 4/5\n",
      "240/240 [==============================] - 1s 2ms/step - loss: 0.0035 - accuracy: 0.9999 - val_loss: 0.0025 - val_accuracy: 1.0000\n",
      "Epoch 5/5\n",
      "240/240 [==============================] - 1s 3ms/step - loss: 0.0019 - accuracy: 1.0000 - val_loss: 0.0013 - val_accuracy: 1.0000\n"
     ]
    }
   ],
   "source": [
    "clf = base_model()\n",
    "clf.compile(loss='mean_squared_error', metrics=['accuracy'])\n",
    "history = clf.fit(X_train_, y_train_, epochs=5, verbose=1, validation_split=0.1)"
   ]
  },
  {
   "cell_type": "code",
   "execution_count": 27,
   "id": "e439e5bc",
   "metadata": {
    "colab": {
     "base_uri": "https://localhost:8080/",
     "height": 254
    },
    "id": "e439e5bc",
    "outputId": "8f59c024-67e6-4891-cfcf-c735d5accb74"
   },
   "outputs": [
    {
     "data": {
      "image/png": "[encoded data removed]",
      "text/plain": [
       "<Figure size 1400x100 with 1 Axes>"
      ]
     },
     "metadata": {},
     "output_type": "display_data"
    },
    {
     "data": {
      "image/png": "[encoded data removed]",
      "text/plain": [
       "<Figure size 1400x100 with 1 Axes>"
      ]
     },
     "metadata": {},
     "output_type": "display_data"
    }
   ],
   "source": [
    "plt.figure(figsize=(14,1))\n",
    "plt.plot(history.history['loss'], label='loss')\n",
    "plt.plot(history.history['val_loss'], label='val_loss')\n",
    "plt.legend()\n",
    "plt.show()\n",
    "plt.figure(figsize=(14,1))\n",
    "plt.plot(history.history['accuracy'], label='accuracy')\n",
    "plt.plot(history.history['val_accuracy'], label='val_accuracy')\n",
    "plt.legend()\n",
    "plt.show()"
   ]
  },
  {
   "cell_type": "code",
   "execution_count": 28,
   "id": "Pj-IsOnVsiXQ",
   "metadata": {
    "colab": {
     "base_uri": "https://localhost:8080/",
     "height": 510
    },
    "id": "Pj-IsOnVsiXQ",
    "outputId": "645b3ea2-f75f-4105-e431-4689340a9104"
   },
   "outputs": [
    {
     "name": "stdout",
     "output_type": "stream",
     "text": [
      "(2842,)\n",
      "(2842,)\n",
      "true negative: 2297\n",
      "false positive: 0\n",
      "false negative: 545\n",
      "true positive: 0\n"
     ]
    },
    {
     "data": {
      "image/png": "[encoded data removed]",
      "text/plain": [
       "<Figure size 640x480 with 1 Axes>"
      ]
     },
     "metadata": {},
     "output_type": "display_data"
    }
   ],
   "source": [
    "y_t = np.asarray(y_test)\n",
    "y_p = np.argmax(y_pred,axis=1)\n",
    "\n",
    "build_confusion_matrix(y_t,y_p,method)\n",
    "\n",
    "#np.argmax(np.asarray(y_test),axis=1).flatten()\n",
    "#y_p = np.argmax(clf.predict(X_test), axis=1)"
   ]
  },
  {
   "cell_type": "markdown",
   "id": "k7eBuCdPrzF7",
   "metadata": {
    "id": "k7eBuCdPrzF7"
   },
   "source": [
    "#Softmax"
   ]
  },
  {
   "cell_type": "code",
   "execution_count": 29,
   "id": "6677d705",
   "metadata": {
    "id": "6677d705"
   },
   "outputs": [],
   "source": [
    "from sklearn.preprocessing import OneHotEncoder\n",
    "\n",
    "method = methods[2]\n",
    "\n",
    "ohe = OneHotEncoder()\n",
    "y_train_ = ohe.fit_transform(y_train.to_numpy().reshape((-1,1))).todense()\n",
    "y_test_ = ohe.transform(y_test.to_numpy().reshape((-1,1))).todense()"
   ]
  },
  {
   "cell_type": "code",
   "execution_count": 30,
   "id": "77727551",
   "metadata": {
    "colab": {
     "base_uri": "https://localhost:8080/"
    },
    "id": "77727551",
    "outputId": "6aa46987-760d-4c0b-9087-d9147090dc46"
   },
   "outputs": [
    {
     "name": "stdout",
     "output_type": "stream",
     "text": [
      "Model: \"model_2\"\n",
      "_________________________________________________________________\n",
      " Layer (type)                Output Shape              Param #   \n",
      "=================================================================\n",
      " input_3 (InputLayer)        [(None, 500)]             0         \n",
      "                                                                 \n",
      " classificador (Dense)       (None, 2)                 1002      \n",
      "                                                                 \n",
      " activation_2 (Activation)   (None, 2)                 0         \n",
      "                                                                 \n",
      "=================================================================\n",
      "Total params: 1,002\n",
      "Trainable params: 1,002\n",
      "Non-trainable params: 0\n",
      "_________________________________________________________________\n",
      "None\n",
      "Epoch 1/5\n",
      "267/267 [==============================] - 1s 3ms/step - loss: 0.5042 - accuracy: 0.8107\n",
      "Epoch 2/5\n",
      "267/267 [==============================] - 1s 2ms/step - loss: 0.4830 - accuracy: 0.8136\n",
      "Epoch 3/5\n",
      "267/267 [==============================] - 1s 2ms/step - loss: 0.4753 - accuracy: 0.8136\n",
      "Epoch 4/5\n",
      "267/267 [==============================] - 1s 2ms/step - loss: 0.4704 - accuracy: 0.8134\n",
      "Epoch 5/5\n",
      "267/267 [==============================] - 1s 2ms/step - loss: 0.4673 - accuracy: 0.8139\n",
      "89/89 [==============================] - 0s 2ms/step - loss: 0.4859 - accuracy: 0.8072\n",
      "[0.4858989417552948, 0.8071780204772949]\n"
     ]
    }
   ],
   "source": [
    "def softmax_model(vocab_size=500):\n",
    "    input_layer = Input(shape=(vocab_size,))\n",
    "    x = input_layer\n",
    "    x = Dense(2, name='classificador')(x)\n",
    "    x = Activation('softmax')(x)\n",
    "    return Model(input_layer, x)\n",
    "\n",
    "clf = softmax_model()\n",
    "print(clf.summary())\n",
    "clf.compile(loss='categorical_crossentropy', metrics=['accuracy'])\n",
    "history = clf.fit(X_train_, y_train_, epochs=5, verbose=1) # validation_split=0.1\n",
    "evaluation = clf.evaluate(X_test_, y_test_)\n",
    "print(evaluation)\n",
    "acc = evaluation[1]\n"
   ]
  },
  {
   "cell_type": "code",
   "execution_count": 31,
   "id": "YzzK7Rc5tnFF",
   "metadata": {
    "colab": {
     "base_uri": "https://localhost:8080/"
    },
    "id": "YzzK7Rc5tnFF",
    "outputId": "7f1dc73f-b037-427c-bf3f-33b7aae38b79"
   },
   "outputs": [
    {
     "name": "stdout",
     "output_type": "stream",
     "text": [
      "89/89 [==============================] - 0s 1ms/step\n"
     ]
    }
   ],
   "source": [
    "stime,sram = startmeasuring()\n",
    "y_pred_ = clf.predict(X_test_)\n",
    "#print(y_pred.T)\n",
    "etime,eram = finishmeasuring(stime,sram)\n",
    "#methods.append(\"SoftMax\")\n",
    "accuracies[method] = acc\n",
    "delays[method] = etime\n",
    "ram[method] = eram"
   ]
  },
  {
   "cell_type": "code",
   "execution_count": 32,
   "id": "1b67678d",
   "metadata": {
    "colab": {
     "base_uri": "https://localhost:8080/",
     "height": 510
    },
    "id": "1b67678d",
    "outputId": "73b3cd8b-e376-45af-c6cb-35d897c7a91a"
   },
   "outputs": [
    {
     "name": "stdout",
     "output_type": "stream",
     "text": [
      "(2842,)\n",
      "(2842,)\n",
      "true negative: 2294\n",
      "false positive: 3\n",
      "false negative: 545\n",
      "true positive: 0\n"
     ]
    },
    {
     "data": {
      "image/png": "[encoded data removed]",
      "text/plain": [
       "<Figure size 640x480 with 1 Axes>"
      ]
     },
     "metadata": {},
     "output_type": "display_data"
    }
   ],
   "source": [
    "y_t = np.argmax(np.asarray(y_test_),axis=1).flatten()\n",
    "y_p = np.argmax(y_pred_, axis=1)\n",
    "\n",
    "build_confusion_matrix(y_t,y_p,method)\n",
    "\n",
    "#from sklearn.metrics import confusion_matrix\n",
    "#y_t = np.argmax(np.asarray(y_test_),axis=1).flatten()\n",
    "#y_p = np.argmax(clf.predict(X_test_), axis=1)\n",
    "#print(y_t.shape)\n",
    "#print(y_p.shape)\n",
    "#tn, fp, fn, tp = confusion_matrix(y_t, y_p).ravel()\n",
    "#print(f\"true negative: {tn}\")\n",
    "#print(f\"false positive: {fp}\")\n",
    "#print(f\"false negative: {fn}\")\n",
    "#print(f\"true negative: {tp}\")"
   ]
  },
  {
   "cell_type": "code",
   "execution_count": 33,
   "id": "a97be4fc",
   "metadata": {
    "colab": {
     "base_uri": "https://localhost:8080/"
    },
    "id": "a97be4fc",
    "outputId": "dc2f06df-5dff-4528-ad9c-d8ab72b64309"
   },
   "outputs": [
    {
     "name": "stderr",
     "output_type": "stream",
     "text": [
      "100%|██████████████████████████████████████████████████████████████████████████████| 500/500 [00:00<00:00, 1020.16it/s]\n"
     ]
    }
   ],
   "source": [
    "from tqdm import tqdm\n",
    "weights = clf.get_layer('classificador').weights[0].numpy()\n",
    "CLASSE = 0\n",
    "for n in tqdm(range(len(vectorizer.vocabulary_))):\n",
    "    tuplas = [ (weights[vectorizer.vocabulary_[i],CLASSE], i) for i in vectorizer.vocabulary_.keys() ]\n",
    "    tuplas_ordenadas = sorted(tuplas, reverse=True) # reverse=True pede uma ordenação em ordem decrescente\n",
    "    palavras = [ t[1] for t in tuplas_ordenadas ]\n",
    "    contagens = [ t[0] for t in tuplas_ordenadas ]"
   ]
  },
  {
   "cell_type": "code",
   "execution_count": 34,
   "id": "599cb703",
   "metadata": {
    "colab": {
     "base_uri": "https://localhost:8080/",
     "height": 212
    },
    "id": "599cb703",
    "outputId": "4f71c9f9-42ce-45d9-ed3a-9f90ade3a06c"
   },
   "outputs": [
    {
     "data": {
      "image/png": "[encoded data removed]",
      "text/plain": [
       "<Figure size 1400x100 with 1 Axes>"
      ]
     },
     "metadata": {},
     "output_type": "display_data"
    }
   ],
   "source": [
    "n_palavras = 20\n",
    "\n",
    "plt.figure(figsize=(14,1))\n",
    "eixo_x = np.arange(n_palavras)\n",
    "plt.bar(eixo_x[0:n_palavras], contagens[0:n_palavras])\n",
    "plt.xticks(eixo_x[0:n_palavras], palavras[0:n_palavras], rotation=70)\n",
    "plt.title(\"Peso das palavras\")\n",
    "plt.show()"
   ]
  },
  {
   "cell_type": "markdown",
   "id": "550e0bb0",
   "metadata": {
    "id": "550e0bb0"
   },
   "source": [
    "# Embeddings"
   ]
  },
  {
   "cell_type": "code",
   "execution_count": 35,
   "id": "6c462bed",
   "metadata": {
    "id": "6c462bed"
   },
   "outputs": [],
   "source": [
    "import matplotlib.pyplot as plt\n",
    "import pandas as pd\n",
    "import numpy as np\n",
    "\n",
    "from sklearn.model_selection import train_test_split\n",
    "from sklearn.preprocessing import OneHotEncoder\n",
    "\n",
    "from keras.layers import Input, Dense, Activation, TextVectorization, Embedding, GlobalAveragePooling1D\n",
    "from keras.models import Model\n",
    "import tensorflow as tf"
   ]
  },
  {
   "cell_type": "code",
   "execution_count": 36,
   "id": "6f8f6513",
   "metadata": {
    "colab": {
     "base_uri": "https://localhost:8080/"
    },
    "id": "6f8f6513",
    "outputId": "d594c138-6103-4c23-8b74-ff508a9e5af6"
   },
   "outputs": [
    {
     "name": "stdout",
     "output_type": "stream",
     "text": [
      "(2842,)\n",
      "(2842, 2)\n"
     ]
    }
   ],
   "source": [
    "model_data = df_yu.copy()\n",
    "method = methods[3]\n",
    "ohe = OneHotEncoder()\n",
    "y_ohe = ohe.fit_transform(model_data['isGood'].to_numpy().reshape((-1,1))).todense()\n",
    "X_train, X_test, y_train, y_test = train_test_split(model_data['text'], y_ohe)\n",
    "print(np.shape(X_test))\n",
    "print(np.shape(y_test))"
   ]
  },
  {
   "cell_type": "code",
   "execution_count": 37,
   "id": "56742a7b",
   "metadata": {
    "colab": {
     "base_uri": "https://localhost:8080/"
    },
    "id": "56742a7b",
    "outputId": "040a82d0-5c2c-4254-e42b-ea18cc9862ea"
   },
   "outputs": [
    {
     "name": "stdout",
     "output_type": "stream",
     "text": [
      "Model: \"model_3\"\n",
      "_________________________________________________________________\n",
      " Layer (type)                Output Shape              Param #   \n",
      "=================================================================\n",
      " input_4 (InputLayer)        [(None, 1)]               0         \n",
      "                                                                 \n",
      " text_vectorization (TextVec  (None, 1000)             0         \n",
      " torization)                                                     \n",
      "                                                                 \n",
      " classificador (Dense)       (None, 2)                 2002      \n",
      "                                                                 \n",
      " activation_3 (Activation)   (None, 2)                 0         \n",
      "                                                                 \n",
      "=================================================================\n",
      "Total params: 2,002\n",
      "Trainable params: 2,002\n",
      "Non-trainable params: 0\n",
      "_________________________________________________________________\n",
      "None\n",
      "Epoch 1/30\n",
      "267/267 [==============================] - 2s 4ms/step - loss: 0.5136 - accuracy: 0.8034\n",
      "Epoch 2/30\n",
      "267/267 [==============================] - 1s 4ms/step - loss: 0.4850 - accuracy: 0.8081\n",
      "Epoch 3/30\n",
      "267/267 [==============================] - 1s 5ms/step - loss: 0.4754 - accuracy: 0.8079\n",
      "Epoch 4/30\n",
      "267/267 [==============================] - 1s 5ms/step - loss: 0.4692 - accuracy: 0.8081\n",
      "Epoch 5/30\n",
      "267/267 [==============================] - 2s 7ms/step - loss: 0.4650 - accuracy: 0.8084\n",
      "Epoch 6/30\n",
      "267/267 [==============================] - 2s 7ms/step - loss: 0.4615 - accuracy: 0.8096\n",
      "Epoch 7/30\n",
      "267/267 [==============================] - 2s 6ms/step - loss: 0.4599 - accuracy: 0.8086\n",
      "Epoch 8/30\n",
      "267/267 [==============================] - 1s 6ms/step - loss: 0.4584 - accuracy: 0.8095\n",
      "Epoch 9/30\n",
      "267/267 [==============================] - 1s 6ms/step - loss: 0.4570 - accuracy: 0.8081\n",
      "Epoch 10/30\n",
      "267/267 [==============================] - 1s 5ms/step - loss: 0.4559 - accuracy: 0.8069\n",
      "Epoch 11/30\n",
      "267/267 [==============================] - 1s 5ms/step - loss: 0.4553 - accuracy: 0.8066\n",
      "Epoch 12/30\n",
      "267/267 [==============================] - 1s 5ms/step - loss: 0.4554 - accuracy: 0.8068\n",
      "Epoch 13/30\n",
      "267/267 [==============================] - 1s 5ms/step - loss: 0.4545 - accuracy: 0.8074\n",
      "Epoch 14/30\n",
      "267/267 [==============================] - 1s 4ms/step - loss: 0.4548 - accuracy: 0.8057\n",
      "Epoch 15/30\n",
      "267/267 [==============================] - 1s 4ms/step - loss: 0.4553 - accuracy: 0.8061\n",
      "Epoch 16/30\n",
      "267/267 [==============================] - 1s 5ms/step - loss: 0.4553 - accuracy: 0.8054\n",
      "Epoch 17/30\n",
      "267/267 [==============================] - 1s 2ms/step - loss: 0.4553 - accuracy: 0.8079\n",
      "Epoch 18/30\n",
      "267/267 [==============================] - 1s 2ms/step - loss: 0.4559 - accuracy: 0.8071\n",
      "Epoch 19/30\n",
      "267/267 [==============================] - 0s 2ms/step - loss: 0.4560 - accuracy: 0.8071\n",
      "Epoch 20/30\n",
      "267/267 [==============================] - 0s 2ms/step - loss: 0.4560 - accuracy: 0.8057\n",
      "Epoch 21/30\n",
      "267/267 [==============================] - 1s 2ms/step - loss: 0.4567 - accuracy: 0.8067\n",
      "Epoch 22/30\n",
      "267/267 [==============================] - 1s 2ms/step - loss: 0.4575 - accuracy: 0.8047\n",
      "Epoch 23/30\n",
      "267/267 [==============================] - 1s 2ms/step - loss: 0.4573 - accuracy: 0.8062\n",
      "Epoch 24/30\n",
      "267/267 [==============================] - 0s 2ms/step - loss: 0.4585 - accuracy: 0.8066\n",
      "Epoch 25/30\n",
      "267/267 [==============================] - 1s 2ms/step - loss: 0.4593 - accuracy: 0.8042\n",
      "Epoch 26/30\n",
      "267/267 [==============================] - 1s 2ms/step - loss: 0.4600 - accuracy: 0.8038\n",
      "Epoch 27/30\n",
      "267/267 [==============================] - 1s 2ms/step - loss: 0.4604 - accuracy: 0.8040\n",
      "Epoch 28/30\n",
      "267/267 [==============================] - 1s 2ms/step - loss: 0.4611 - accuracy: 0.8040\n",
      "Epoch 29/30\n",
      "267/267 [==============================] - 1s 2ms/step - loss: 0.4613 - accuracy: 0.8058\n",
      "Epoch 30/30\n",
      "267/267 [==============================] - 1s 2ms/step - loss: 0.4619 - accuracy: 0.8042\n",
      "(2842,)\n",
      "(2842, 2)\n",
      "89/89 [==============================] - 0s 2ms/step - loss: 0.5270 - accuracy: 0.7942\n",
      "[0.5269610285758972, 0.7941590547561646]\n"
     ]
    }
   ],
   "source": [
    "vocab_size = 1000\n",
    "def multihot_softmax_model(vectorize_layer, vocab_size=vocab_size):\n",
    "    input_layer = Input(shape=(1,), dtype=tf.string)\n",
    "    x = input_layer\n",
    "    x = vectorize_layer(x)\n",
    "    x = Dense(2, name='classificador')(x)\n",
    "    x = Activation('softmax')(x)\n",
    "    return Model(input_layer, x)\n",
    "\n",
    "vectorize_layer = TextVectorization(output_mode='multi_hot', max_tokens=vocab_size, pad_to_max_tokens=True)\n",
    "vectorize_layer.adapt(X_train)\n",
    "clf = multihot_softmax_model(vectorize_layer)\n",
    "print(clf.summary())\n",
    "clf.compile(loss='categorical_crossentropy', metrics=['accuracy'])\n",
    "history = clf.fit(X_train, y_train, epochs=30, verbose=1) # validation_split=0.1\n",
    "\n",
    "print(np.shape(X_test))\n",
    "print(np.shape(y_test))\n",
    "evaluation = clf.evaluate(X_test, y_test)\n",
    "acc = evaluation[1]\n",
    "print(evaluation)"
   ]
  },
  {
   "cell_type": "code",
   "execution_count": 38,
   "id": "389125a6",
   "metadata": {
    "colab": {
     "base_uri": "https://localhost:8080/"
    },
    "id": "389125a6",
    "outputId": "7fa4d937-82de-4c3e-809a-db7ca05557f3"
   },
   "outputs": [
    {
     "name": "stdout",
     "output_type": "stream",
     "text": [
      "89/89 [==============================] - 0s 2ms/step\n",
      "0 occurs 2671 times\n",
      "1 occurs 171 times\n"
     ]
    }
   ],
   "source": [
    "arr =np.argmax(clf.predict(X_test),axis=1)\n",
    "\n",
    "# Get unique values and their counts\n",
    "unique_values, counts = np.unique(arr, return_counts=True)\n",
    "\n",
    "# Print the unique values and their counts\n",
    "for value, count in zip(unique_values, counts):\n",
    "    print(f\"{value} occurs {count} times\")\n",
    "    "
   ]
  },
  {
   "cell_type": "code",
   "execution_count": 39,
   "id": "J36MqJK9uGnv",
   "metadata": {
    "colab": {
     "base_uri": "https://localhost:8080/"
    },
    "id": "J36MqJK9uGnv",
    "outputId": "89717301-cbd3-487f-81f5-168c1ad35e5a"
   },
   "outputs": [
    {
     "name": "stdout",
     "output_type": "stream",
     "text": [
      "89/89 [==============================] - 0s 2ms/step\n"
     ]
    }
   ],
   "source": [
    "stime,sram = startmeasuring()\n",
    "y_pred_ = clf.predict(X_test)\n",
    "#print(y_pred.T)\n",
    "etime,eram = finishmeasuring(stime,sram)\n",
    "#methods.append(\"Embeddings\")\n",
    "accuracies[method]=(acc)\n",
    "delays[method]=(etime)\n",
    "ram[method]=(eram)"
   ]
  },
  {
   "cell_type": "code",
   "execution_count": 40,
   "id": "809aa427",
   "metadata": {
    "colab": {
     "base_uri": "https://localhost:8080/",
     "height": 510
    },
    "id": "809aa427",
    "outputId": "4fdb7401-792c-403d-a29c-ae8e9fbf24ac"
   },
   "outputs": [
    {
     "name": "stdout",
     "output_type": "stream",
     "text": [
      "(2842,)\n",
      "(2842,)\n",
      "true negative: 2215\n",
      "false positive: 129\n",
      "false negative: 456\n",
      "true positive: 42\n"
     ]
    },
    {
     "data": {
      "image/png": "[encoded data removed]",
      "text/plain": [
       "<Figure size 640x480 with 1 Axes>"
      ]
     },
     "metadata": {},
     "output_type": "display_data"
    }
   ],
   "source": [
    "y_t = np.argmax(np.asarray(y_test),axis=1).flatten()\n",
    "y_p = np.argmax(y_pred_, axis=1)\n",
    "\n",
    "build_confusion_matrix(y_t,y_p,method)\n",
    "#from sklearn.metrics import confusion_matrix\n",
    "#y_t = np.argmax(np.asarray(y_test),axis=1).flatten()\n",
    "#y_p = np.argmax(clf.predict(X_test), axis=1)\n",
    "#print(y_t.shape)\n",
    "#print(y_p.shape)\n",
    "#tn, fp, fn, tp = confusion_matrix(y_t, y_p).ravel()\n",
    "#print(f\"true negative: {tn}\")\n",
    "#print(f\"false positive: {fp}\")\n",
    "#print(f\"false negative: {fn}\")\n",
    "#print(f\"true negative: {tp}\")"
   ]
  },
  {
   "cell_type": "code",
   "execution_count": 41,
   "id": "d46df080",
   "metadata": {
    "id": "d46df080"
   },
   "outputs": [],
   "source": [
    "\n",
    "import plotly.express as px\n",
    "\n",
    "## Visualização: onde foi parar cada palavra?\n",
    "#projecoes = clf.get_layer('classificador').get_weights()[0]\n",
    "#vocabulario = vectorize_layer.get_vocabulary()\n",
    "#y_pred_ohe = clf.predict(vocabulario)\n",
    "#y_pred = ohe.inverse_transform(y_pred_ohe)\n",
    "\n",
    "#df = pd.DataFrame()\n",
    "#df['dim_1'] = projecoes[:,0]\n",
    "#df['dim_2'] = projecoes[:,1]\n",
    "#df['word'] = vocabulario\n",
    "#df['prediction'] = y_pred\n",
    "\n",
    "#px.scatter(df, x=\"dim_1\", y=\"dim_2\", color=\"prediction\", hover_data=[\"word\"], title=\"Onde foi cada palavra?\", width=600, height=600)\n"
   ]
  },
  {
   "cell_type": "code",
   "execution_count": 42,
   "id": "6d09ae51",
   "metadata": {
    "id": "6d09ae51"
   },
   "outputs": [],
   "source": [
    "\n",
    "#import plotly.express as px\n",
    "##df = pd.read_csv('embeddings_over_epochs.csv') # Gravei esse arquivo antecipadamente - demora muito para refazê-lo!\n",
    "#df.head()\n",
    "#df['prediction'][0] = 'positive' # Isso é definitivamente um hack. Sem isso, o plotly não vê o label 'positive' na primeira época, e começa a remover o label 'positive' dos plots subsequentes.\n",
    "\n",
    "#px.scatter(df, x=\"dim_1\", y=\"dim_2\", animation_group=\"word\",\n",
    "#            color=\"prediction\", hover_name=\"word\", title=\"Training a 2D word embedding for sentiment analysis <br><sup>Where did each word go in the embedding space?</sup>\",\n",
    "#          range_x=[-15,15], range_y=[-15,15],\n",
    "#          width=800, height=800\n",
    "#          )\n"
   ]
  },
  {
   "cell_type": "markdown",
   "id": "52e55474",
   "metadata": {
    "id": "52e55474"
   },
   "source": [
    "## Rede Pré-Treinada"
   ]
  },
  {
   "cell_type": "code",
   "execution_count": 43,
   "id": "r2adn2LvyiuS",
   "metadata": {
    "id": "r2adn2LvyiuS"
   },
   "outputs": [],
   "source": [
    "from sklearn.preprocessing import OneHotEncoder\n",
    "from sklearn.model_selection import train_test_split\n",
    "import tensorflow as tf\n",
    "from tensorflow.keras.layers import Input, Dense, Activation\n",
    "from tensorflow.keras.models import Model\n",
    "from tensorflow.keras.layers.experimental.preprocessing import TextVectorization\n",
    "from transformers import TFAutoModel"
   ]
  },
  {
   "cell_type": "code",
   "execution_count": 44,
   "id": "8a926588",
   "metadata": {
    "id": "8a926588"
   },
   "outputs": [],
   "source": [
    "model_data = df_yu.copy()\n",
    "method = methods[4]"
   ]
  },
  {
   "cell_type": "code",
   "execution_count": 45,
   "id": "FvECLtby64Ci",
   "metadata": {
    "colab": {
     "base_uri": "https://localhost:8080/"
    },
    "id": "FvECLtby64Ci",
    "outputId": "7676ed08-440a-4621-87f9-ffe7bac151ea"
   },
   "outputs": [
    {
     "name": "stdout",
     "output_type": "stream",
     "text": [
      "Requirement already satisfied: transformers in c:\\users\\dell\\appdata\\roaming\\python\\python38\\site-packages (4.29.2)\n",
      "Requirement already satisfied: filelock in c:\\users\\dell\\appdata\\roaming\\python\\python38\\site-packages (from transformers) (3.12.0)\n",
      "Requirement already satisfied: huggingface-hub<1.0,>=0.14.1 in c:\\users\\dell\\appdata\\roaming\\python\\python38\\site-packages (from transformers) (0.15.1)\n",
      "Requirement already satisfied: numpy>=1.17 in c:\\programdata\\anaconda3\\lib\\site-packages (from transformers) (1.23.5)\n",
      "Requirement already satisfied: packaging>=20.0 in c:\\users\\dell\\appdata\\roaming\\python\\python38\\site-packages (from transformers) (23.1)\n",
      "Requirement already satisfied: pyyaml>=5.1 in c:\\users\\dell\\appdata\\roaming\\python\\python38\\site-packages (from transformers) (6.0)\n",
      "Requirement already satisfied: regex!=2019.12.17 in c:\\users\\dell\\appdata\\roaming\\python\\python38\\site-packages (from transformers) (2023.6.3)\n",
      "Requirement already satisfied: requests in c:\\users\\dell\\appdata\\roaming\\python\\python38\\site-packages (from transformers) (2.31.0)\n",
      "Requirement already satisfied: tokenizers!=0.11.3,<0.14,>=0.11.1 in c:\\users\\dell\\appdata\\roaming\\python\\python38\\site-packages (from transformers) (0.13.3)\n",
      "Requirement already satisfied: tqdm>=4.27 in c:\\users\\dell\\appdata\\roaming\\python\\python38\\site-packages (from transformers) (4.65.0)\n",
      "Requirement already satisfied: fsspec in c:\\users\\dell\\appdata\\roaming\\python\\python38\\site-packages (from huggingface-hub<1.0,>=0.14.1->transformers) (2023.5.0)\n",
      "Requirement already satisfied: typing-extensions>=3.7.4.3 in c:\\users\\dell\\appdata\\roaming\\python\\python38\\site-packages (from huggingface-hub<1.0,>=0.14.1->transformers) (4.6.3)\n",
      "Requirement already satisfied: colorama in c:\\users\\dell\\appdata\\roaming\\python\\python38\\site-packages (from tqdm>=4.27->transformers) (0.4.6)\n",
      "Requirement already satisfied: charset-normalizer<4,>=2 in c:\\users\\dell\\appdata\\roaming\\python\\python38\\site-packages (from requests->transformers) (3.1.0)\n",
      "Requirement already satisfied: idna<4,>=2.5 in c:\\users\\dell\\appdata\\roaming\\python\\python38\\site-packages (from requests->transformers) (3.4)\n",
      "Requirement already satisfied: urllib3<3,>=1.21.1 in c:\\programdata\\anaconda3\\lib\\site-packages (from requests->transformers) (1.26.16)\n",
      "Requirement already satisfied: certifi>=2017.4.17 in c:\\users\\dell\\appdata\\roaming\\python\\python38\\site-packages (from requests->transformers) (2023.5.7)\n"
     ]
    }
   ],
   "source": [
    "!pip install transformers"
   ]
  },
  {
   "cell_type": "code",
   "execution_count": 46,
   "id": "r-dNkl0NEtMk",
   "metadata": {
    "id": "r-dNkl0NEtMk"
   },
   "outputs": [],
   "source": [
    "from tensorflow import keras\n",
    "from transformers import TFAutoModel\n",
    "\n",
    "\n",
    "def load_pretrained_model(vocab_size):\n",
    "    # Load the pre-trained model\n",
    "    pretrained_model = TFAutoModel.from_pretrained('distilbert')\n",
    "\n",
    "\n",
    "    # Remove the softmax layer from the pre-trained model\n",
    "    pretrained_model.layers.pop() \n",
    "\n",
    "    # Freeze the weights of the pre-trained layers\n",
    "    for layer in pretrained_model.layers:\n",
    "        layer.trainable = False\n",
    "\n",
    "    # Create the new model architecture\n",
    "    input_layer = Input(shape=(1,), dtype=tf.string)\n",
    "    x = input_layer\n",
    "    x = vectorize_layer(x)\n",
    "    x = tf.cast(x, tf.int32)  # Cast the vectorized input to int32\n",
    "    x = pretrained_model(x)[0]  # Use only the pooled output\n",
    "    x = tf.keras.layers.GlobalAveragePooling1D()(x)  # Pooling layer to reduce dimensions\n",
    "    x = Dense(2, name='classificador')(x)\n",
    "    x = Activation('softmax')(x)\n",
    "    \n",
    "    model = Model(input_layer, x)\n",
    "    return model\n",
    "\n"
   ]
  },
  {
   "cell_type": "code",
   "execution_count": 47,
   "id": "23abbc42",
   "metadata": {
    "colab": {
     "base_uri": "https://localhost:8080/"
    },
    "id": "23abbc42",
    "outputId": "0b1d8065-019a-420d-8eea-0b8b110d6e53"
   },
   "outputs": [
    {
     "name": "stdout",
     "output_type": "stream",
     "text": [
      "(2842,)\n",
      "(2842, 2)\n"
     ]
    }
   ],
   "source": [
    "model_data = df_yu.copy()\n",
    "ohe = OneHotEncoder()\n",
    "y_ohe = ohe.fit_transform(model_data['isGood'].to_numpy().reshape((-1,1))).todense()\n",
    "#y_ohe = model_data['isGood']\n",
    "X_train, X_test, y_train, y_test = train_test_split(model_data['text'] , y_ohe )\n",
    "\n",
    "\n",
    "print(np.shape(X_test))\n",
    "print(np.shape(y_test))\n",
    "#ohe = OneHotEncoder()\n",
    "#y_t = model_data['isGood']\n",
    "#y_ohe = ohe.fit_transform(model_data['isGood'].to_numpy().reshape((-1,1))).todense()\n",
    "#X = model_data['text']"
   ]
  },
  {
   "cell_type": "code",
   "execution_count": 48,
   "id": "qVCp4hmSGImq",
   "metadata": {
    "id": "qVCp4hmSGImq"
   },
   "outputs": [],
   "source": [
    "vocab_size = 1000\n",
    "\n",
    "vectorize_layer = TextVectorization(output_mode='multi_hot', max_tokens=vocab_size, pad_to_max_tokens=True)\n",
    "vectorize_layer.adapt(X_train)\n",
    "\n"
   ]
  },
  {
   "cell_type": "code",
   "execution_count": 49,
   "id": "tJJ9A_WiGNQR",
   "metadata": {
    "colab": {
     "base_uri": "https://localhost:8080/"
    },
    "id": "tJJ9A_WiGNQR",
    "outputId": "af2378db-71df-4816-c720-d437fde5a5a0"
   },
   "outputs": [
    {
     "name": "stderr",
     "output_type": "stream",
     "text": [
      "Some layers from the model checkpoint at google/mobilebert-uncased were not used when initializing TFMobileBertModel: ['predictions___cls', 'seq_relationship___cls']\n",
      "- This IS expected if you are initializing TFMobileBertModel from the checkpoint of a model trained on another task or with another architecture (e.g. initializing a BertForSequenceClassification model from a BertForPreTraining model).\n",
      "- This IS NOT expected if you are initializing TFMobileBertModel from the checkpoint of a model that you expect to be exactly identical (initializing a BertForSequenceClassification model from a BertForSequenceClassification model).\n",
      "All the layers of TFMobileBertModel were initialized from the model checkpoint at google/mobilebert-uncased.\n",
      "If your task is similar to the task the model of the checkpoint was trained on, you can already use TFMobileBertModel for predictions without further training.\n"
     ]
    },
    {
     "name": "stdout",
     "output_type": "stream",
     "text": [
      "Model: \"model_4\"\n",
      "_________________________________________________________________\n",
      " Layer (type)                Output Shape              Param #   \n",
      "=================================================================\n",
      " input_5 (InputLayer)        [(None, 1)]               0         \n",
      "                                                                 \n",
      " text_vectorization_1 (TextV  (None, 1000)             0         \n",
      " ectorization)                                                   \n",
      "                                                                 \n",
      " tf.cast (TFOpLambda)        (None, 1000)              0         \n",
      "                                                                 \n",
      " tf_mobile_bert_model (TFMob  TFBaseModelOutputWithPoo  24581888 \n",
      " ileBertModel)               ling(last_hidden_state=(            \n",
      "                             None, 1000, 512),                   \n",
      "                              pooler_output=(None, 51            \n",
      "                             2),                                 \n",
      "                              hidden_states=None, att            \n",
      "                             entions=None)                       \n",
      "                                                                 \n",
      " global_average_pooling1d (G  (None, 512)              0         \n",
      " lobalAveragePooling1D)                                          \n",
      "                                                                 \n",
      " classificador (Dense)       (None, 2)                 1026      \n",
      "                                                                 \n",
      " activation_4 (Activation)   (None, 2)                 0         \n",
      "                                                                 \n",
      "=================================================================\n",
      "Total params: 24,582,914\n",
      "Trainable params: 1,026\n",
      "Non-trainable params: 24,581,888\n",
      "_________________________________________________________________\n",
      "None\n"
     ]
    }
   ],
   "source": [
    "clf = load_pretrained_model(vocab_size)\n",
    "print(clf.summary())\n"
   ]
  },
  {
   "cell_type": "code",
   "execution_count": 50,
   "id": "cNBAq-0fxMCq",
   "metadata": {
    "colab": {
     "base_uri": "https://localhost:8080/"
    },
    "id": "cNBAq-0fxMCq",
    "outputId": "04ee7537-ca61-4942-d183-29adcf0a4b6d"
   },
   "outputs": [
    {
     "name": "stdout",
     "output_type": "stream",
     "text": [
      "(2842,)\n",
      "(2842, 2)\n"
     ]
    }
   ],
   "source": [
    "print(np.shape(X_test))\n",
    "print(np.shape(y_test))\n"
   ]
  },
  {
   "cell_type": "code",
   "execution_count": 51,
   "id": "vLEyonD-sbb9",
   "metadata": {
    "colab": {
     "base_uri": "https://localhost:8080/",
     "height": 606
    },
    "id": "vLEyonD-sbb9",
    "outputId": "726d97c1-035e-4585-dc0a-d2710b7d059c"
   },
   "outputs": [
    {
     "name": "stdout",
     "output_type": "stream",
     "text": [
      "(2842,)\n",
      "(2842, 2)\n",
      "(2842000, 1)\n"
     ]
    },
    {
     "ename": "UnimplementedError",
     "evalue": "Graph execution error:\n\nDetected at node 'model_4/Cast' defined at (most recent call last):\n    File \"C:\\ProgramData\\Anaconda3\\lib\\runpy.py\", line 194, in _run_module_as_main\n      return _run_code(code, main_globals, None,\n    File \"C:\\ProgramData\\Anaconda3\\lib\\runpy.py\", line 87, in _run_code\n      exec(code, run_globals)\n    File \"C:\\ProgramData\\Anaconda3\\lib\\site-packages\\ipykernel_launcher.py\", line 17, in <module>\n      app.launch_new_instance()\n    File \"C:\\ProgramData\\Anaconda3\\lib\\site-packages\\traitlets\\config\\application.py\", line 992, in launch_instance\n      app.start()\n    File \"C:\\ProgramData\\Anaconda3\\lib\\site-packages\\ipykernel\\kernelapp.py\", line 711, in start\n      self.io_loop.start()\n    File \"C:\\ProgramData\\Anaconda3\\lib\\site-packages\\tornado\\platform\\asyncio.py\", line 215, in start\n      self.asyncio_loop.run_forever()\n    File \"C:\\ProgramData\\Anaconda3\\lib\\asyncio\\base_events.py\", line 570, in run_forever\n      self._run_once()\n    File \"C:\\ProgramData\\Anaconda3\\lib\\asyncio\\base_events.py\", line 1859, in _run_once\n      handle._run()\n    File \"C:\\ProgramData\\Anaconda3\\lib\\asyncio\\events.py\", line 81, in _run\n      self._context.run(self._callback, *self._args)\n    File \"C:\\ProgramData\\Anaconda3\\lib\\site-packages\\ipykernel\\kernelbase.py\", line 510, in dispatch_queue\n      await self.process_one()\n    File \"C:\\ProgramData\\Anaconda3\\lib\\site-packages\\ipykernel\\kernelbase.py\", line 499, in process_one\n      await dispatch(*args)\n    File \"C:\\ProgramData\\Anaconda3\\lib\\site-packages\\ipykernel\\kernelbase.py\", line 406, in dispatch_shell\n      await result\n    File \"C:\\ProgramData\\Anaconda3\\lib\\site-packages\\ipykernel\\kernelbase.py\", line 729, in execute_request\n      reply_content = await reply_content\n    File \"C:\\ProgramData\\Anaconda3\\lib\\site-packages\\ipykernel\\ipkernel.py\", line 411, in do_execute\n      res = shell.run_cell(\n    File \"C:\\ProgramData\\Anaconda3\\lib\\site-packages\\ipykernel\\zmqshell.py\", line 531, in run_cell\n      return super().run_cell(*args, **kwargs)\n    File \"C:\\ProgramData\\Anaconda3\\lib\\site-packages\\IPython\\core\\interactiveshell.py\", line 3006, in run_cell\n      result = self._run_cell(\n    File \"C:\\ProgramData\\Anaconda3\\lib\\site-packages\\IPython\\core\\interactiveshell.py\", line 3061, in _run_cell\n      result = runner(coro)\n    File \"C:\\ProgramData\\Anaconda3\\lib\\site-packages\\IPython\\core\\async_helpers.py\", line 129, in _pseudo_sync_runner\n      coro.send(None)\n    File \"C:\\ProgramData\\Anaconda3\\lib\\site-packages\\IPython\\core\\interactiveshell.py\", line 3266, in run_cell_async\n      has_raised = await self.run_ast_nodes(code_ast.body, cell_name,\n    File \"C:\\ProgramData\\Anaconda3\\lib\\site-packages\\IPython\\core\\interactiveshell.py\", line 3445, in run_ast_nodes\n      if await self.run_code(code, result, async_=asy):\n    File \"C:\\ProgramData\\Anaconda3\\lib\\site-packages\\IPython\\core\\interactiveshell.py\", line 3505, in run_code\n      exec(code_obj, self.user_global_ns, self.user_ns)\n    File \"C:\\Users\\Dell\\AppData\\Local\\Temp\\ipykernel_35692\\3867321034.py\", line 14, in <module>\n      y_pred_prob = clf.predict(X_test_vectorized)\n    File \"C:\\ProgramData\\Anaconda3\\lib\\site-packages\\keras\\utils\\traceback_utils.py\", line 65, in error_handler\n      return fn(*args, **kwargs)\n    File \"C:\\ProgramData\\Anaconda3\\lib\\site-packages\\keras\\engine\\training.py\", line 2350, in predict\n      tmp_batch_outputs = self.predict_function(iterator)\n    File \"C:\\ProgramData\\Anaconda3\\lib\\site-packages\\keras\\engine\\training.py\", line 2137, in predict_function\n      return step_function(self, iterator)\n    File \"C:\\ProgramData\\Anaconda3\\lib\\site-packages\\keras\\engine\\training.py\", line 2123, in step_function\n      outputs = model.distribute_strategy.run(run_step, args=(data,))\n    File \"C:\\ProgramData\\Anaconda3\\lib\\site-packages\\keras\\engine\\training.py\", line 2111, in run_step\n      outputs = model.predict_step(data)\n    File \"C:\\ProgramData\\Anaconda3\\lib\\site-packages\\keras\\engine\\training.py\", line 2079, in predict_step\n      return self(x, training=False)\n    File \"C:\\ProgramData\\Anaconda3\\lib\\site-packages\\keras\\utils\\traceback_utils.py\", line 65, in error_handler\n      return fn(*args, **kwargs)\n    File \"C:\\ProgramData\\Anaconda3\\lib\\site-packages\\keras\\engine\\training.py\", line 561, in __call__\n      return super().__call__(*args, **kwargs)\n    File \"C:\\ProgramData\\Anaconda3\\lib\\site-packages\\keras\\utils\\traceback_utils.py\", line 65, in error_handler\n      return fn(*args, **kwargs)\n    File \"C:\\ProgramData\\Anaconda3\\lib\\site-packages\\keras\\engine\\base_layer.py\", line 1132, in __call__\n      outputs = call_fn(inputs, *args, **kwargs)\n    File \"C:\\ProgramData\\Anaconda3\\lib\\site-packages\\keras\\utils\\traceback_utils.py\", line 96, in error_handler\n      return fn(*args, **kwargs)\n    File \"C:\\ProgramData\\Anaconda3\\lib\\site-packages\\keras\\engine\\functional.py\", line 511, in call\n      return self._run_internal_graph(inputs, training=training, mask=mask)\n    File \"C:\\ProgramData\\Anaconda3\\lib\\site-packages\\keras\\engine\\functional.py\", line 650, in _run_internal_graph\n      y = self._conform_to_reference_input(y, ref_input=x)\n    File \"C:\\ProgramData\\Anaconda3\\lib\\site-packages\\keras\\engine\\functional.py\", line 762, in _conform_to_reference_input\n      tensor = tf.cast(tensor, dtype=ref_input.dtype)\nNode: 'model_4/Cast'\nCast float to string is not supported\n\t [[{{node model_4/Cast}}]] [Op:__inference_predict_function_100773]",
     "output_type": "error",
     "traceback": [
      "\u001b[1;31m---------------------------------------------------------------------------\u001b[0m",
      "\u001b[1;31mUnimplementedError\u001b[0m                        Traceback (most recent call last)",
      "Cell \u001b[1;32mIn[51], line 14\u001b[0m\n\u001b[0;32m      6\u001b[0m \u001b[38;5;28mprint\u001b[39m(np\u001b[38;5;241m.\u001b[39mshape(X_test_vectorized))\n\u001b[0;32m      8\u001b[0m \u001b[38;5;66;03m# Vectorize the test data\u001b[39;00m\n\u001b[0;32m      9\u001b[0m \u001b[38;5;66;03m#X_test_vectorized = vectorize_layer(X_test)\u001b[39;00m\n\u001b[0;32m     10\u001b[0m \n\u001b[0;32m     11\u001b[0m \u001b[38;5;66;03m# Reshape the input data if necessary\u001b[39;00m\n\u001b[0;32m     12\u001b[0m \u001b[38;5;66;03m#X_test_vectorized = np.reshape(X_test, (-1, 1))\u001b[39;00m\n\u001b[1;32m---> 14\u001b[0m y_pred_prob \u001b[38;5;241m=\u001b[39m \u001b[43mclf\u001b[49m\u001b[38;5;241;43m.\u001b[39;49m\u001b[43mpredict\u001b[49m\u001b[43m(\u001b[49m\u001b[43mX_test_vectorized\u001b[49m\u001b[43m)\u001b[49m\n\u001b[0;32m     15\u001b[0m y_pred \u001b[38;5;241m=\u001b[39m (y_pred_prob[:, \u001b[38;5;241m1\u001b[39m] \u001b[38;5;241m>\u001b[39m \u001b[38;5;241m0.5\u001b[39m)\n\u001b[0;32m     17\u001b[0m \u001b[38;5;66;03m# Evaluate the predictions\u001b[39;00m\n",
      "File \u001b[1;32mC:\\ProgramData\\Anaconda3\\lib\\site-packages\\keras\\utils\\traceback_utils.py:70\u001b[0m, in \u001b[0;36mfilter_traceback.<locals>.error_handler\u001b[1;34m(*args, **kwargs)\u001b[0m\n\u001b[0;32m     67\u001b[0m     filtered_tb \u001b[38;5;241m=\u001b[39m _process_traceback_frames(e\u001b[38;5;241m.\u001b[39m__traceback__)\n\u001b[0;32m     68\u001b[0m     \u001b[38;5;66;03m# To get the full stack trace, call:\u001b[39;00m\n\u001b[0;32m     69\u001b[0m     \u001b[38;5;66;03m# `tf.debugging.disable_traceback_filtering()`\u001b[39;00m\n\u001b[1;32m---> 70\u001b[0m     \u001b[38;5;28;01mraise\u001b[39;00m e\u001b[38;5;241m.\u001b[39mwith_traceback(filtered_tb) \u001b[38;5;28;01mfrom\u001b[39;00m \u001b[38;5;28;01mNone\u001b[39;00m\n\u001b[0;32m     71\u001b[0m \u001b[38;5;28;01mfinally\u001b[39;00m:\n\u001b[0;32m     72\u001b[0m     \u001b[38;5;28;01mdel\u001b[39;00m filtered_tb\n",
      "File \u001b[1;32mC:\\ProgramData\\Anaconda3\\lib\\site-packages\\tensorflow\\python\\eager\\execute.py:52\u001b[0m, in \u001b[0;36mquick_execute\u001b[1;34m(op_name, num_outputs, inputs, attrs, ctx, name)\u001b[0m\n\u001b[0;32m     50\u001b[0m \u001b[38;5;28;01mtry\u001b[39;00m:\n\u001b[0;32m     51\u001b[0m   ctx\u001b[38;5;241m.\u001b[39mensure_initialized()\n\u001b[1;32m---> 52\u001b[0m   tensors \u001b[38;5;241m=\u001b[39m pywrap_tfe\u001b[38;5;241m.\u001b[39mTFE_Py_Execute(ctx\u001b[38;5;241m.\u001b[39m_handle, device_name, op_name,\n\u001b[0;32m     53\u001b[0m                                       inputs, attrs, num_outputs)\n\u001b[0;32m     54\u001b[0m \u001b[38;5;28;01mexcept\u001b[39;00m core\u001b[38;5;241m.\u001b[39m_NotOkStatusException \u001b[38;5;28;01mas\u001b[39;00m e:\n\u001b[0;32m     55\u001b[0m   \u001b[38;5;28;01mif\u001b[39;00m name \u001b[38;5;129;01mis\u001b[39;00m \u001b[38;5;129;01mnot\u001b[39;00m \u001b[38;5;28;01mNone\u001b[39;00m:\n",
      "\u001b[1;31mUnimplementedError\u001b[0m: Graph execution error:\n\nDetected at node 'model_4/Cast' defined at (most recent call last):\n    File \"C:\\ProgramData\\Anaconda3\\lib\\runpy.py\", line 194, in _run_module_as_main\n      return _run_code(code, main_globals, None,\n    File \"C:\\ProgramData\\Anaconda3\\lib\\runpy.py\", line 87, in _run_code\n      exec(code, run_globals)\n    File \"C:\\ProgramData\\Anaconda3\\lib\\site-packages\\ipykernel_launcher.py\", line 17, in <module>\n      app.launch_new_instance()\n    File \"C:\\ProgramData\\Anaconda3\\lib\\site-packages\\traitlets\\config\\application.py\", line 992, in launch_instance\n      app.start()\n    File \"C:\\ProgramData\\Anaconda3\\lib\\site-packages\\ipykernel\\kernelapp.py\", line 711, in start\n      self.io_loop.start()\n    File \"C:\\ProgramData\\Anaconda3\\lib\\site-packages\\tornado\\platform\\asyncio.py\", line 215, in start\n      self.asyncio_loop.run_forever()\n    File \"C:\\ProgramData\\Anaconda3\\lib\\asyncio\\base_events.py\", line 570, in run_forever\n      self._run_once()\n    File \"C:\\ProgramData\\Anaconda3\\lib\\asyncio\\base_events.py\", line 1859, in _run_once\n      handle._run()\n    File \"C:\\ProgramData\\Anaconda3\\lib\\asyncio\\events.py\", line 81, in _run\n      self._context.run(self._callback, *self._args)\n    File \"C:\\ProgramData\\Anaconda3\\lib\\site-packages\\ipykernel\\kernelbase.py\", line 510, in dispatch_queue\n      await self.process_one()\n    File \"C:\\ProgramData\\Anaconda3\\lib\\site-packages\\ipykernel\\kernelbase.py\", line 499, in process_one\n      await dispatch(*args)\n    File \"C:\\ProgramData\\Anaconda3\\lib\\site-packages\\ipykernel\\kernelbase.py\", line 406, in dispatch_shell\n      await result\n    File \"C:\\ProgramData\\Anaconda3\\lib\\site-packages\\ipykernel\\kernelbase.py\", line 729, in execute_request\n      reply_content = await reply_content\n    File \"C:\\ProgramData\\Anaconda3\\lib\\site-packages\\ipykernel\\ipkernel.py\", line 411, in do_execute\n      res = shell.run_cell(\n    File \"C:\\ProgramData\\Anaconda3\\lib\\site-packages\\ipykernel\\zmqshell.py\", line 531, in run_cell\n      return super().run_cell(*args, **kwargs)\n    File \"C:\\ProgramData\\Anaconda3\\lib\\site-packages\\IPython\\core\\interactiveshell.py\", line 3006, in run_cell\n      result = self._run_cell(\n    File \"C:\\ProgramData\\Anaconda3\\lib\\site-packages\\IPython\\core\\interactiveshell.py\", line 3061, in _run_cell\n      result = runner(coro)\n    File \"C:\\ProgramData\\Anaconda3\\lib\\site-packages\\IPython\\core\\async_helpers.py\", line 129, in _pseudo_sync_runner\n      coro.send(None)\n    File \"C:\\ProgramData\\Anaconda3\\lib\\site-packages\\IPython\\core\\interactiveshell.py\", line 3266, in run_cell_async\n      has_raised = await self.run_ast_nodes(code_ast.body, cell_name,\n    File \"C:\\ProgramData\\Anaconda3\\lib\\site-packages\\IPython\\core\\interactiveshell.py\", line 3445, in run_ast_nodes\n      if await self.run_code(code, result, async_=asy):\n    File \"C:\\ProgramData\\Anaconda3\\lib\\site-packages\\IPython\\core\\interactiveshell.py\", line 3505, in run_code\n      exec(code_obj, self.user_global_ns, self.user_ns)\n    File \"C:\\Users\\Dell\\AppData\\Local\\Temp\\ipykernel_35692\\3867321034.py\", line 14, in <module>\n      y_pred_prob = clf.predict(X_test_vectorized)\n    File \"C:\\ProgramData\\Anaconda3\\lib\\site-packages\\keras\\utils\\traceback_utils.py\", line 65, in error_handler\n      return fn(*args, **kwargs)\n    File \"C:\\ProgramData\\Anaconda3\\lib\\site-packages\\keras\\engine\\training.py\", line 2350, in predict\n      tmp_batch_outputs = self.predict_function(iterator)\n    File \"C:\\ProgramData\\Anaconda3\\lib\\site-packages\\keras\\engine\\training.py\", line 2137, in predict_function\n      return step_function(self, iterator)\n    File \"C:\\ProgramData\\Anaconda3\\lib\\site-packages\\keras\\engine\\training.py\", line 2123, in step_function\n      outputs = model.distribute_strategy.run(run_step, args=(data,))\n    File \"C:\\ProgramData\\Anaconda3\\lib\\site-packages\\keras\\engine\\training.py\", line 2111, in run_step\n      outputs = model.predict_step(data)\n    File \"C:\\ProgramData\\Anaconda3\\lib\\site-packages\\keras\\engine\\training.py\", line 2079, in predict_step\n      return self(x, training=False)\n    File \"C:\\ProgramData\\Anaconda3\\lib\\site-packages\\keras\\utils\\traceback_utils.py\", line 65, in error_handler\n      return fn(*args, **kwargs)\n    File \"C:\\ProgramData\\Anaconda3\\lib\\site-packages\\keras\\engine\\training.py\", line 561, in __call__\n      return super().__call__(*args, **kwargs)\n    File \"C:\\ProgramData\\Anaconda3\\lib\\site-packages\\keras\\utils\\traceback_utils.py\", line 65, in error_handler\n      return fn(*args, **kwargs)\n    File \"C:\\ProgramData\\Anaconda3\\lib\\site-packages\\keras\\engine\\base_layer.py\", line 1132, in __call__\n      outputs = call_fn(inputs, *args, **kwargs)\n    File \"C:\\ProgramData\\Anaconda3\\lib\\site-packages\\keras\\utils\\traceback_utils.py\", line 96, in error_handler\n      return fn(*args, **kwargs)\n    File \"C:\\ProgramData\\Anaconda3\\lib\\site-packages\\keras\\engine\\functional.py\", line 511, in call\n      return self._run_internal_graph(inputs, training=training, mask=mask)\n    File \"C:\\ProgramData\\Anaconda3\\lib\\site-packages\\keras\\engine\\functional.py\", line 650, in _run_internal_graph\n      y = self._conform_to_reference_input(y, ref_input=x)\n    File \"C:\\ProgramData\\Anaconda3\\lib\\site-packages\\keras\\engine\\functional.py\", line 762, in _conform_to_reference_input\n      tensor = tf.cast(tensor, dtype=ref_input.dtype)\nNode: 'model_4/Cast'\nCast float to string is not supported\n\t [[{{node model_4/Cast}}]] [Op:__inference_predict_function_100773]"
     ]
    }
   ],
   "source": [
    "clf.compile(optimizer='adam',loss='binary_crossentropy', metrics=['accuracy'])\n",
    "X_test_vectorized = tf.reshape(vectorize_layer(X_test), (-1, 1)).numpy()\n",
    "\n",
    "print(np.shape(X_test))\n",
    "print(np.shape(y_test))\n",
    "print(np.shape(X_test_vectorized))\n",
    "\n",
    "# Vectorize the test data\n",
    "#X_test_vectorized = vectorize_layer(X_test)\n",
    "\n",
    "# Reshape the input data if necessary\n",
    "#X_test_vectorized = np.reshape(X_test, (-1, 1))\n",
    "\n",
    "y_pred_prob = clf.predict(X_test_vectorized)\n",
    "y_pred = (y_pred_prob[:, 1] > 0.5)\n",
    "\n",
    "# Evaluate the predictions\n",
    "acc = sum(y_pred == y_test[:, 1]) / len(y_test)\n",
    "print(\"Accuracy:\", acc)"
   ]
  },
  {
   "cell_type": "code",
   "execution_count": null,
   "id": "KRSz4370GNSp",
   "metadata": {
    "colab": {
     "base_uri": "https://localhost:8080/",
     "height": 449
    },
    "id": "KRSz4370GNSp",
    "outputId": "2aade86a-caf4-442b-8aa4-9e110a6e89fe"
   },
   "outputs": [],
   "source": [
    "\n",
    "clf.compile(optimizer='adam',loss='categorical_crossentropy', metrics=['accuracy'])\n",
    "history = clf.fit(X_train, y_train, epochs=30, verbose=1) # validation_split=0.1\n",
    "#X_test_vectorized = vectorize_layer(X_test).numpy()\n",
    "evaluation = clf.evaluate(y_pred,y_test)\n",
    "print(\"Loss:\", evaluation[0])\n",
    "print(\"Accuracy:\", evaluation[1])\n",
    "acc = evaluation[1]"
   ]
  },
  {
   "cell_type": "code",
   "execution_count": null,
   "id": "kVjUf_EcvULR",
   "metadata": {
    "colab": {
     "base_uri": "https://localhost:8080/",
     "height": 1000
    },
    "id": "kVjUf_EcvULR",
    "outputId": "1c5b5d29-abca-4044-80de-f60677fb659e"
   },
   "outputs": [],
   "source": [
    "stime,sram = startmeasuring()\n",
    "y_pred_ = clf.predict(X_test)\n",
    "#print(y_pred.T)\n",
    "etime,eram = finishmeasuring(stime,sram)\n",
    "#methods.append(\"PreTrained\")\n",
    "accuracies[method]=acc\n",
    "delays[method]=(etime)\n",
    "ram[method]=(eram)"
   ]
  },
  {
   "cell_type": "code",
   "execution_count": null,
   "id": "dZELvfI2GNWC",
   "metadata": {
    "id": "dZELvfI2GNWC"
   },
   "outputs": [],
   "source": [
    "y_t = np.argmax(np.asarray(y_test),axis=1).flatten()\n",
    "y_p = np.argmax(y_pred_, axis=1)\n",
    "build_confusion_matrix(y_t,y_p,method)\n",
    "#from sklearn.metrics import confusion_matrix\n",
    "#y_t = np.argmax(np.asarray(y_test),axis=1).flatten()\n",
    "#y_p = np.argmax(clf.predict(X_test), axis=1)\n",
    "#print(y_t.shape)\n",
    "#print(y_p.shape)\n",
    "#tn, fp, fn, tp = confusion_matrix(y_t, y_p).ravel()\n",
    "#print(f\"true negative: {tn}\")\n",
    "#print(f\"false positive: {fp}\")\n",
    "#print(f\"false negative: {fn}\")\n",
    "#print(f\"true negative: {tp}\")"
   ]
  },
  {
   "cell_type": "markdown",
   "id": "VQILE5T4d4cD",
   "metadata": {
    "id": "VQILE5T4d4cD"
   },
   "source": [
    "## Pos Tratamento"
   ]
  },
  {
   "cell_type": "code",
   "execution_count": null,
   "id": "OOhsCEAyiVGH",
   "metadata": {
    "id": "OOhsCEAyiVGH"
   },
   "outputs": [],
   "source": [
    "method = methods[5]"
   ]
  },
  {
   "cell_type": "code",
   "execution_count": null,
   "id": "8c9e16d0",
   "metadata": {
    "id": "8c9e16d0"
   },
   "outputs": [],
   "source": [
    "stime,sram = startmeasuring()\n",
    "\n",
    "y_pred_prob = clf.predict(X_test)\n",
    "y_pred = (y_pred_prob[:, 1] > 0.001)\n",
    "\n",
    "etime,eram = finishmeasuring(stime,sram)\n",
    "#methods.append(\"PosTreat\")\n",
    "accuracies[method]=(acc)\n",
    "delays[method]=(etime)\n",
    "ram[method]=(eram)\n",
    "\n",
    "print(y_pred)\n",
    "# Evaluate the predictions\n",
    "acc = sum(y_pred == y_test[:, 1]) / len(y_test)\n",
    "print(\"Accuracy:\", acc)"
   ]
  },
  {
   "cell_type": "code",
   "execution_count": null,
   "id": "oxjaOSramhMH",
   "metadata": {
    "id": "oxjaOSramhMH"
   },
   "outputs": [],
   "source": [
    "print(y_pred_prob)"
   ]
  },
  {
   "cell_type": "code",
   "execution_count": null,
   "id": "fa323320",
   "metadata": {
    "id": "fa323320"
   },
   "outputs": [],
   "source": [
    "#from sklearn.metrics import confusion_matrix\n",
    "y_t = np.argmax(np.asarray(y_test),axis=1).flatten()\n",
    "y_p = y_pred\n",
    "build_confusion_matrix(y_t,y_p,method)\n",
    "#print(y_t.shape)\n",
    "#print(y_p.shape)\n",
    "#tn, fp, fn, tp = confusion_matrix(y_t, y_p).ravel()\n",
    "#print(f\"true negative: {tn}\")\n",
    "#print(f\"false positive: {fp}\")\n",
    "#print(f\"false negative: {fn}\")\n",
    "#print(f\"true negative: {tp}\")\n",
    "#tns.append(tn)\n",
    "#fps.append(fp)\n",
    "#fns.append(fn)\n",
    "#tps.append(tp)"
   ]
  },
  {
   "cell_type": "code",
   "execution_count": null,
   "id": "fcb3336a",
   "metadata": {
    "id": "fcb3336a"
   },
   "outputs": [],
   "source": [
    "y_pred_prob[:, 1].max()"
   ]
  },
  {
   "cell_type": "markdown",
   "id": "LuBmxe-gpCSE",
   "metadata": {
    "id": "LuBmxe-gpCSE"
   },
   "source": [
    "##Comparison"
   ]
  },
  {
   "cell_type": "code",
   "execution_count": null,
   "id": "DLbLCwrjo-e3",
   "metadata": {
    "id": "DLbLCwrjo-e3"
   },
   "outputs": [],
   "source": [
    "#Accuracy\n",
    "import matplotlib.pyplot as plt\n",
    "\n",
    "fig, ax = plt.subplots()\n",
    "\n",
    "names = list(accuracies.keys())\n",
    "values = list(accuracies.values())\n",
    "\n",
    "plt.bar(range(len(accuracies)), values, tick_label=names)\n",
    "plt.show()\n",
    "\n",
    "ax.set_ylabel('Accuracy')\n",
    "ax.set_title('Accuracy/method')\n",
    "\n",
    "plt.show()"
   ]
  },
  {
   "cell_type": "code",
   "execution_count": null,
   "id": "UA6rmD_7lqS5",
   "metadata": {
    "id": "UA6rmD_7lqS5"
   },
   "outputs": [],
   "source": [
    "#Accuracy\n",
    "import matplotlib.pyplot as plt\n",
    "\n",
    "fig, ax = plt.subplots()\n",
    "\n",
    "names = list(delays.keys())\n",
    "values = list(delays.values())\n",
    "\n",
    "plt.bar(range(len(delays)), values, tick_label=names)\n",
    "plt.show()\n",
    "\n",
    "ax.set_ylabel('Time')\n",
    "ax.set_title('Time/method')\n",
    "\n",
    "plt.show()"
   ]
  },
  {
   "cell_type": "code",
   "execution_count": null,
   "id": "Q5g-B2dMY_NF",
   "metadata": {
    "id": "Q5g-B2dMY_NF"
   },
   "outputs": [],
   "source": [
    "#Accuracy\n",
    "import matplotlib.pyplot as plt\n",
    "\n",
    "fig, ax = plt.subplots()\n",
    "\n",
    "names = list(ram.keys())\n",
    "values = list(ram.values())\n",
    "\n",
    "plt.bar(range(len(ram)), values, tick_label=names)\n",
    "plt.show()\n",
    "\n",
    "ax.set_ylabel('RAM')\n",
    "ax.set_title('RAM/method')\n",
    "\n",
    "plt.show()\n"
   ]
  },
  {
   "cell_type": "code",
   "execution_count": null,
   "id": "oWkKDRpZY_Zp",
   "metadata": {
    "id": "oWkKDRpZY_Zp"
   },
   "outputs": [],
   "source": [
    "#Accuracy\n",
    "import matplotlib.pyplot as plt\n",
    "\n",
    "fig, ax = plt.subplots()\n",
    "\n",
    "names = list(tns.keys())\n",
    "values = list(tns.values())\n",
    "\n",
    "plt.bar(range(len(tns)), values, tick_label=names)\n",
    "plt.show()\n",
    "\n",
    "ax.set_ylabel('true negatives')\n",
    "ax.set_title('true negatives/method')\n",
    "\n",
    "plt.show()\n"
   ]
  },
  {
   "cell_type": "code",
   "execution_count": null,
   "id": "9-EvvTvzo-mh",
   "metadata": {
    "id": "9-EvvTvzo-mh"
   },
   "outputs": [],
   "source": [
    "#confusion = 'true negative', 'false positive', 'false negative', 'true positive'\n",
    "import matplotlib.pyplot as plt\n",
    "\n",
    "fig, ax = plt.subplots()\n",
    "\n",
    "names = list(fps.keys())\n",
    "values = list(fps.values())\n",
    "\n",
    "plt.bar(range(len(fps)), values, tick_label=names)\n",
    "plt.show()\n",
    "\n",
    "ax.set_ylabel('false positives')\n",
    "ax.set_title('false positives/method')\n",
    "\n",
    "plt.show()"
   ]
  },
  {
   "cell_type": "code",
   "execution_count": null,
   "id": "ru-KnRFFm28b",
   "metadata": {
    "id": "ru-KnRFFm28b"
   },
   "outputs": [],
   "source": [
    "#confusion = 'true negative', 'false positive', 'false negative', 'true positive'\n",
    "import matplotlib.pyplot as plt\n",
    "\n",
    "fig, ax = plt.subplots()\n",
    "\n",
    "names = list(tps.keys())\n",
    "values = list(tps.values())\n",
    "\n",
    "plt.bar(range(len(tps)), values, tick_label=names)\n",
    "plt.show()\n",
    "\n",
    "ax.set_ylabel('true positives')\n",
    "ax.set_title('true positives/method')\n",
    "\n",
    "plt.show()"
   ]
  },
  {
   "cell_type": "code",
   "execution_count": null,
   "id": "ffp7-Xatm3Aq",
   "metadata": {
    "id": "ffp7-Xatm3Aq"
   },
   "outputs": [],
   "source": [
    "#confusion = 'true negative', 'false positive', 'false negative', 'true positive'\n",
    "import matplotlib.pyplot as plt\n",
    "\n",
    "fig, ax = plt.subplots()\n",
    "\n",
    "names = list(fns.keys())\n",
    "values = list(fns.values())\n",
    "\n",
    "plt.bar(range(len(tps)), values, tick_label=names)\n",
    "plt.show()\n",
    "\n",
    "ax.set_ylabel('false negatives')\n",
    "ax.set_title('false negatives/method')\n",
    "\n",
    "plt.show()"
   ]
  },
  {
   "cell_type": "code",
   "execution_count": null,
   "id": "_zXoUd8wm3EH",
   "metadata": {
    "id": "_zXoUd8wm3EH"
   },
   "outputs": [],
   "source": []
  }
 ],
 "metadata": {
  "colab": {
   "gpuType": "T4",
   "provenance": []
  },
  "kernelspec": {
   "display_name": "Python 3 (ipykernel)",
   "language": "python",
   "name": "python3"
  },
  "language_info": {
   "codemirror_mode": {
    "name": "ipython",
    "version": 3
   },
   "file_extension": ".py",
   "mimetype": "text/x-python",
   "name": "python",
   "nbconvert_exporter": "python",
   "pygments_lexer": "ipython3",
   "version": "3.8.16"
  }
 },
 "nbformat": 4,
 "nbformat_minor": 5
}
