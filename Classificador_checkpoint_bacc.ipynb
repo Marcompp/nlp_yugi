{
  "cells": [
    {
      "cell_type": "code",
      "execution_count": 22,
      "id": "c971386c",
      "metadata": {
        "id": "c971386c",
        "outputId": "c32938f7-6ce5-4b57-843a-9ceaff00f6d7",
        "colab": {
          "base_uri": "https://localhost:8080/"
        }
      },
      "outputs": [
        {
          "output_type": "stream",
          "name": "stdout",
          "text": [
            "Hello World\n"
          ]
        }
      ],
      "source": [
        "import pandas as pd\n",
        "import numpy as np\n",
        "import matplotlib.pyplot as plt\n",
        "print(\"Hello World\")"
      ]
    },
    {
      "cell_type": "code",
      "execution_count": 23,
      "id": "6121fa51",
      "metadata": {
        "id": "6121fa51",
        "outputId": "a7bd778f-242c-472c-aa8d-c551f2da6b33",
        "colab": {
          "base_uri": "https://localhost:8080/",
          "height": 443
        }
      },
      "outputs": [
        {
          "output_type": "stream",
          "name": "stderr",
          "text": [
            "<ipython-input-23-64f0f534faf7>:1: FutureWarning: The error_bad_lines argument has been deprecated and will be removed in a future version. Use on_bad_lines in the future.\n",
            "\n",
            "\n",
            "  df_yugi = pd.read_csv('dbs/yugi_comp.csv',engine=\"python\",error_bad_lines=False)\n"
          ]
        },
        {
          "output_type": "execute_result",
          "data": {
            "text/plain": [
              "   Unnamed: 0                     Name            Rarity  Price  isGood  \\\n",
              "0           0  XX-Saber Boggart Knight  Shatterfoil Rare   2.73    True   \n",
              "1           1            Gagaga Cowboy  Shatterfoil Rare   4.68    True   \n",
              "2           2        Forbidden Chalice  Shatterfoil Rare   2.09    True   \n",
              "3           3         Fairy Cheer Girl  Shatterfoil Rare   2.06    True   \n",
              "4           4          Exploder Dragon  Shatterfoil Rare   2.08    True   \n",
              "\n",
              "                                                text card_type  \\\n",
              "0  When this card is Normal Summoned: You can Spe...   monster   \n",
              "1  2 Level 4 monsters\\n\\nOnce per turn: You can d...   monster   \n",
              "2  Target 1 face-up monster on the field; until t...     spell   \n",
              "3  2 Level 4 Fairy-Type monsters\\n\\nYou can detac...   monster   \n",
              "4  If this card is destroyed by battle and sent t...   monster   \n",
              "\n",
              "                     type family     atk     def  level    property  \n",
              "0  Beast-Warrior / Effect  earth  1900.0  1000.0    4.0         NaN  \n",
              "1  Warrior / Xyz / Effect  earth  1500.0  2400.0    4.0         NaN  \n",
              "2                     NaN    NaN     NaN     NaN    NaN  Quick-Play  \n",
              "3    Fairy / Xyz / Effect  light  1900.0  1500.0    4.0         NaN  \n",
              "4         Dragon / Effect  earth  1000.0     0.0    3.0         NaN  "
            ],
            "text/html": [
              "\n",
              "  <div id=\"df-4c52018b-9de0-4a74-a23c-09571b00d54e\">\n",
              "    <div class=\"colab-df-container\">\n",
              "      <div>\n",
              "<style scoped>\n",
              "    .dataframe tbody tr th:only-of-type {\n",
              "        vertical-align: middle;\n",
              "    }\n",
              "\n",
              "    .dataframe tbody tr th {\n",
              "        vertical-align: top;\n",
              "    }\n",
              "\n",
              "    .dataframe thead th {\n",
              "        text-align: right;\n",
              "    }\n",
              "</style>\n",
              "<table border=\"1\" class=\"dataframe\">\n",
              "  <thead>\n",
              "    <tr style=\"text-align: right;\">\n",
              "      <th></th>\n",
              "      <th>Unnamed: 0</th>\n",
              "      <th>Name</th>\n",
              "      <th>Rarity</th>\n",
              "      <th>Price</th>\n",
              "      <th>isGood</th>\n",
              "      <th>text</th>\n",
              "      <th>card_type</th>\n",
              "      <th>type</th>\n",
              "      <th>family</th>\n",
              "      <th>atk</th>\n",
              "      <th>def</th>\n",
              "      <th>level</th>\n",
              "      <th>property</th>\n",
              "    </tr>\n",
              "  </thead>\n",
              "  <tbody>\n",
              "    <tr>\n",
              "      <th>0</th>\n",
              "      <td>0</td>\n",
              "      <td>XX-Saber Boggart Knight</td>\n",
              "      <td>Shatterfoil Rare</td>\n",
              "      <td>2.73</td>\n",
              "      <td>True</td>\n",
              "      <td>When this card is Normal Summoned: You can Spe...</td>\n",
              "      <td>monster</td>\n",
              "      <td>Beast-Warrior / Effect</td>\n",
              "      <td>earth</td>\n",
              "      <td>1900.0</td>\n",
              "      <td>1000.0</td>\n",
              "      <td>4.0</td>\n",
              "      <td>NaN</td>\n",
              "    </tr>\n",
              "    <tr>\n",
              "      <th>1</th>\n",
              "      <td>1</td>\n",
              "      <td>Gagaga Cowboy</td>\n",
              "      <td>Shatterfoil Rare</td>\n",
              "      <td>4.68</td>\n",
              "      <td>True</td>\n",
              "      <td>2 Level 4 monsters\\n\\nOnce per turn: You can d...</td>\n",
              "      <td>monster</td>\n",
              "      <td>Warrior / Xyz / Effect</td>\n",
              "      <td>earth</td>\n",
              "      <td>1500.0</td>\n",
              "      <td>2400.0</td>\n",
              "      <td>4.0</td>\n",
              "      <td>NaN</td>\n",
              "    </tr>\n",
              "    <tr>\n",
              "      <th>2</th>\n",
              "      <td>2</td>\n",
              "      <td>Forbidden Chalice</td>\n",
              "      <td>Shatterfoil Rare</td>\n",
              "      <td>2.09</td>\n",
              "      <td>True</td>\n",
              "      <td>Target 1 face-up monster on the field; until t...</td>\n",
              "      <td>spell</td>\n",
              "      <td>NaN</td>\n",
              "      <td>NaN</td>\n",
              "      <td>NaN</td>\n",
              "      <td>NaN</td>\n",
              "      <td>NaN</td>\n",
              "      <td>Quick-Play</td>\n",
              "    </tr>\n",
              "    <tr>\n",
              "      <th>3</th>\n",
              "      <td>3</td>\n",
              "      <td>Fairy Cheer Girl</td>\n",
              "      <td>Shatterfoil Rare</td>\n",
              "      <td>2.06</td>\n",
              "      <td>True</td>\n",
              "      <td>2 Level 4 Fairy-Type monsters\\n\\nYou can detac...</td>\n",
              "      <td>monster</td>\n",
              "      <td>Fairy / Xyz / Effect</td>\n",
              "      <td>light</td>\n",
              "      <td>1900.0</td>\n",
              "      <td>1500.0</td>\n",
              "      <td>4.0</td>\n",
              "      <td>NaN</td>\n",
              "    </tr>\n",
              "    <tr>\n",
              "      <th>4</th>\n",
              "      <td>4</td>\n",
              "      <td>Exploder Dragon</td>\n",
              "      <td>Shatterfoil Rare</td>\n",
              "      <td>2.08</td>\n",
              "      <td>True</td>\n",
              "      <td>If this card is destroyed by battle and sent t...</td>\n",
              "      <td>monster</td>\n",
              "      <td>Dragon / Effect</td>\n",
              "      <td>earth</td>\n",
              "      <td>1000.0</td>\n",
              "      <td>0.0</td>\n",
              "      <td>3.0</td>\n",
              "      <td>NaN</td>\n",
              "    </tr>\n",
              "  </tbody>\n",
              "</table>\n",
              "</div>\n",
              "      <button class=\"colab-df-convert\" onclick=\"convertToInteractive('df-4c52018b-9de0-4a74-a23c-09571b00d54e')\"\n",
              "              title=\"Convert this dataframe to an interactive table.\"\n",
              "              style=\"display:none;\">\n",
              "        \n",
              "  <svg xmlns=\"http://www.w3.org/2000/svg\" height=\"24px\"viewBox=\"0 0 24 24\"\n",
              "       width=\"24px\">\n",
              "    <path d=\"M0 0h24v24H0V0z\" fill=\"none\"/>\n",
              "    <path d=\"M18.56 5.44l.94 2.06.94-2.06 2.06-.94-2.06-.94-.94-2.06-.94 2.06-2.06.94zm-11 1L8.5 8.5l.94-2.06 2.06-.94-2.06-.94L8.5 2.5l-.94 2.06-2.06.94zm10 10l.94 2.06.94-2.06 2.06-.94-2.06-.94-.94-2.06-.94 2.06-2.06.94z\"/><path d=\"M17.41 7.96l-1.37-1.37c-.4-.4-.92-.59-1.43-.59-.52 0-1.04.2-1.43.59L10.3 9.45l-7.72 7.72c-.78.78-.78 2.05 0 2.83L4 21.41c.39.39.9.59 1.41.59.51 0 1.02-.2 1.41-.59l7.78-7.78 2.81-2.81c.8-.78.8-2.07 0-2.86zM5.41 20L4 18.59l7.72-7.72 1.47 1.35L5.41 20z\"/>\n",
              "  </svg>\n",
              "      </button>\n",
              "      \n",
              "  <style>\n",
              "    .colab-df-container {\n",
              "      display:flex;\n",
              "      flex-wrap:wrap;\n",
              "      gap: 12px;\n",
              "    }\n",
              "\n",
              "    .colab-df-convert {\n",
              "      background-color: #E8F0FE;\n",
              "      border: none;\n",
              "      border-radius: 50%;\n",
              "      cursor: pointer;\n",
              "      display: none;\n",
              "      fill: #1967D2;\n",
              "      height: 32px;\n",
              "      padding: 0 0 0 0;\n",
              "      width: 32px;\n",
              "    }\n",
              "\n",
              "    .colab-df-convert:hover {\n",
              "      background-color: #E2EBFA;\n",
              "      box-shadow: 0px 1px 2px rgba(60, 64, 67, 0.3), 0px 1px 3px 1px rgba(60, 64, 67, 0.15);\n",
              "      fill: #174EA6;\n",
              "    }\n",
              "\n",
              "    [theme=dark] .colab-df-convert {\n",
              "      background-color: #3B4455;\n",
              "      fill: #D2E3FC;\n",
              "    }\n",
              "\n",
              "    [theme=dark] .colab-df-convert:hover {\n",
              "      background-color: #434B5C;\n",
              "      box-shadow: 0px 1px 3px 1px rgba(0, 0, 0, 0.15);\n",
              "      filter: drop-shadow(0px 1px 2px rgba(0, 0, 0, 0.3));\n",
              "      fill: #FFFFFF;\n",
              "    }\n",
              "  </style>\n",
              "\n",
              "      <script>\n",
              "        const buttonEl =\n",
              "          document.querySelector('#df-4c52018b-9de0-4a74-a23c-09571b00d54e button.colab-df-convert');\n",
              "        buttonEl.style.display =\n",
              "          google.colab.kernel.accessAllowed ? 'block' : 'none';\n",
              "\n",
              "        async function convertToInteractive(key) {\n",
              "          const element = document.querySelector('#df-4c52018b-9de0-4a74-a23c-09571b00d54e');\n",
              "          const dataTable =\n",
              "            await google.colab.kernel.invokeFunction('convertToInteractive',\n",
              "                                                     [key], {});\n",
              "          if (!dataTable) return;\n",
              "\n",
              "          const docLinkHtml = 'Like what you see? Visit the ' +\n",
              "            '<a target=\"_blank\" href=https://colab.research.google.com/notebooks/data_table.ipynb>data table notebook</a>'\n",
              "            + ' to learn more about interactive tables.';\n",
              "          element.innerHTML = '';\n",
              "          dataTable['output_type'] = 'display_data';\n",
              "          await google.colab.output.renderOutput(dataTable, element);\n",
              "          const docLink = document.createElement('div');\n",
              "          docLink.innerHTML = docLinkHtml;\n",
              "          element.appendChild(docLink);\n",
              "        }\n",
              "      </script>\n",
              "    </div>\n",
              "  </div>\n",
              "  "
            ]
          },
          "metadata": {},
          "execution_count": 23
        }
      ],
      "source": [
        "df_yugi = pd.read_csv('dbs/yugi_comp.csv',engine=\"python\",error_bad_lines=False)\n",
        "df_yugi = df_yugi.drop(['name'], axis=1)\n",
        "df_yugi = df_yugi[df_yugi['text'].notna()]\n",
        "df_yugi.head()"
      ]
    },
    {
      "cell_type": "code",
      "execution_count": 3,
      "id": "c0237e7d",
      "metadata": {
        "id": "c0237e7d",
        "outputId": "47dd01ed-cb03-4fa9-a4f1-61b350769bca",
        "colab": {
          "base_uri": "https://localhost:8080/",
          "height": 159
        }
      },
      "outputs": [
        {
          "output_type": "execute_result",
          "data": {
            "text/plain": [
              "      Unnamed: 0         Name  Rarity  Price  isGood  \\\n",
              "3267        3267  Baby Dragon  Common   1.79   False   \n",
              "\n",
              "                                                   text card_type  \\\n",
              "3267  Much more than just a child, this dragon is gi...   monster   \n",
              "\n",
              "                 type family     atk    def  level property  \n",
              "3267  Dragon / Normal   wind  1200.0  700.0    3.0      NaN  "
            ],
            "text/html": [
              "\n",
              "  <div id=\"df-899bf87b-cf58-4936-b86d-5414632d3a5e\">\n",
              "    <div class=\"colab-df-container\">\n",
              "      <div>\n",
              "<style scoped>\n",
              "    .dataframe tbody tr th:only-of-type {\n",
              "        vertical-align: middle;\n",
              "    }\n",
              "\n",
              "    .dataframe tbody tr th {\n",
              "        vertical-align: top;\n",
              "    }\n",
              "\n",
              "    .dataframe thead th {\n",
              "        text-align: right;\n",
              "    }\n",
              "</style>\n",
              "<table border=\"1\" class=\"dataframe\">\n",
              "  <thead>\n",
              "    <tr style=\"text-align: right;\">\n",
              "      <th></th>\n",
              "      <th>Unnamed: 0</th>\n",
              "      <th>Name</th>\n",
              "      <th>Rarity</th>\n",
              "      <th>Price</th>\n",
              "      <th>isGood</th>\n",
              "      <th>text</th>\n",
              "      <th>card_type</th>\n",
              "      <th>type</th>\n",
              "      <th>family</th>\n",
              "      <th>atk</th>\n",
              "      <th>def</th>\n",
              "      <th>level</th>\n",
              "      <th>property</th>\n",
              "    </tr>\n",
              "  </thead>\n",
              "  <tbody>\n",
              "    <tr>\n",
              "      <th>3267</th>\n",
              "      <td>3267</td>\n",
              "      <td>Baby Dragon</td>\n",
              "      <td>Common</td>\n",
              "      <td>1.79</td>\n",
              "      <td>False</td>\n",
              "      <td>Much more than just a child, this dragon is gi...</td>\n",
              "      <td>monster</td>\n",
              "      <td>Dragon / Normal</td>\n",
              "      <td>wind</td>\n",
              "      <td>1200.0</td>\n",
              "      <td>700.0</td>\n",
              "      <td>3.0</td>\n",
              "      <td>NaN</td>\n",
              "    </tr>\n",
              "  </tbody>\n",
              "</table>\n",
              "</div>\n",
              "      <button class=\"colab-df-convert\" onclick=\"convertToInteractive('df-899bf87b-cf58-4936-b86d-5414632d3a5e')\"\n",
              "              title=\"Convert this dataframe to an interactive table.\"\n",
              "              style=\"display:none;\">\n",
              "        \n",
              "  <svg xmlns=\"http://www.w3.org/2000/svg\" height=\"24px\"viewBox=\"0 0 24 24\"\n",
              "       width=\"24px\">\n",
              "    <path d=\"M0 0h24v24H0V0z\" fill=\"none\"/>\n",
              "    <path d=\"M18.56 5.44l.94 2.06.94-2.06 2.06-.94-2.06-.94-.94-2.06-.94 2.06-2.06.94zm-11 1L8.5 8.5l.94-2.06 2.06-.94-2.06-.94L8.5 2.5l-.94 2.06-2.06.94zm10 10l.94 2.06.94-2.06 2.06-.94-2.06-.94-.94-2.06-.94 2.06-2.06.94z\"/><path d=\"M17.41 7.96l-1.37-1.37c-.4-.4-.92-.59-1.43-.59-.52 0-1.04.2-1.43.59L10.3 9.45l-7.72 7.72c-.78.78-.78 2.05 0 2.83L4 21.41c.39.39.9.59 1.41.59.51 0 1.02-.2 1.41-.59l7.78-7.78 2.81-2.81c.8-.78.8-2.07 0-2.86zM5.41 20L4 18.59l7.72-7.72 1.47 1.35L5.41 20z\"/>\n",
              "  </svg>\n",
              "      </button>\n",
              "      \n",
              "  <style>\n",
              "    .colab-df-container {\n",
              "      display:flex;\n",
              "      flex-wrap:wrap;\n",
              "      gap: 12px;\n",
              "    }\n",
              "\n",
              "    .colab-df-convert {\n",
              "      background-color: #E8F0FE;\n",
              "      border: none;\n",
              "      border-radius: 50%;\n",
              "      cursor: pointer;\n",
              "      display: none;\n",
              "      fill: #1967D2;\n",
              "      height: 32px;\n",
              "      padding: 0 0 0 0;\n",
              "      width: 32px;\n",
              "    }\n",
              "\n",
              "    .colab-df-convert:hover {\n",
              "      background-color: #E2EBFA;\n",
              "      box-shadow: 0px 1px 2px rgba(60, 64, 67, 0.3), 0px 1px 3px 1px rgba(60, 64, 67, 0.15);\n",
              "      fill: #174EA6;\n",
              "    }\n",
              "\n",
              "    [theme=dark] .colab-df-convert {\n",
              "      background-color: #3B4455;\n",
              "      fill: #D2E3FC;\n",
              "    }\n",
              "\n",
              "    [theme=dark] .colab-df-convert:hover {\n",
              "      background-color: #434B5C;\n",
              "      box-shadow: 0px 1px 3px 1px rgba(0, 0, 0, 0.15);\n",
              "      filter: drop-shadow(0px 1px 2px rgba(0, 0, 0, 0.3));\n",
              "      fill: #FFFFFF;\n",
              "    }\n",
              "  </style>\n",
              "\n",
              "      <script>\n",
              "        const buttonEl =\n",
              "          document.querySelector('#df-899bf87b-cf58-4936-b86d-5414632d3a5e button.colab-df-convert');\n",
              "        buttonEl.style.display =\n",
              "          google.colab.kernel.accessAllowed ? 'block' : 'none';\n",
              "\n",
              "        async function convertToInteractive(key) {\n",
              "          const element = document.querySelector('#df-899bf87b-cf58-4936-b86d-5414632d3a5e');\n",
              "          const dataTable =\n",
              "            await google.colab.kernel.invokeFunction('convertToInteractive',\n",
              "                                                     [key], {});\n",
              "          if (!dataTable) return;\n",
              "\n",
              "          const docLinkHtml = 'Like what you see? Visit the ' +\n",
              "            '<a target=\"_blank\" href=https://colab.research.google.com/notebooks/data_table.ipynb>data table notebook</a>'\n",
              "            + ' to learn more about interactive tables.';\n",
              "          element.innerHTML = '';\n",
              "          dataTable['output_type'] = 'display_data';\n",
              "          await google.colab.output.renderOutput(dataTable, element);\n",
              "          const docLink = document.createElement('div');\n",
              "          docLink.innerHTML = docLinkHtml;\n",
              "          element.appendChild(docLink);\n",
              "        }\n",
              "      </script>\n",
              "    </div>\n",
              "  </div>\n",
              "  "
            ]
          },
          "metadata": {},
          "execution_count": 3
        }
      ],
      "source": [
        "df_yugi.loc[(df_yugi['Name'] == \"Baby Dragon\")]"
      ]
    },
    {
      "cell_type": "code",
      "execution_count": 24,
      "id": "3fa04b37",
      "metadata": {
        "id": "3fa04b37"
      },
      "outputs": [],
      "source": [
        "import math\n",
        "def getMonsterType(row):\n",
        "    if row['card_type'] == 'monster':\n",
        "        monstype = row['type'].split(\"/\")\n",
        "        return monstype[-1].replace(\" \",\"\")\n",
        "    else:\n",
        "        return math.nan\n"
      ]
    },
    {
      "cell_type": "code",
      "execution_count": 25,
      "id": "bb869144",
      "metadata": {
        "id": "bb869144",
        "outputId": "450dc283-1051-4dfa-e84f-9bc7c360ef1c",
        "colab": {
          "base_uri": "https://localhost:8080/",
          "height": 371
        }
      },
      "outputs": [
        {
          "output_type": "execute_result",
          "data": {
            "text/plain": [
              "   Unnamed: 0                     Name            Rarity  Price  isGood  \\\n",
              "0           0  XX-Saber Boggart Knight  Shatterfoil Rare   2.73    True   \n",
              "1           1            Gagaga Cowboy  Shatterfoil Rare   4.68    True   \n",
              "2           2        Forbidden Chalice  Shatterfoil Rare   2.09    True   \n",
              "3           3         Fairy Cheer Girl  Shatterfoil Rare   2.06    True   \n",
              "4           4          Exploder Dragon  Shatterfoil Rare   2.08    True   \n",
              "\n",
              "                                                text card_type  \\\n",
              "0  When this card is Normal Summoned: You can Spe...   monster   \n",
              "1  2 Level 4 monsters\\n\\nOnce per turn: You can d...   monster   \n",
              "2  Target 1 face-up monster on the field; until t...     spell   \n",
              "3  2 Level 4 Fairy-Type monsters\\n\\nYou can detac...   monster   \n",
              "4  If this card is destroyed by battle and sent t...   monster   \n",
              "\n",
              "                     type family     atk     def  level    property  \\\n",
              "0  Beast-Warrior / Effect  earth  1900.0  1000.0    4.0         NaN   \n",
              "1  Warrior / Xyz / Effect  earth  1500.0  2400.0    4.0         NaN   \n",
              "2                     NaN    NaN     NaN     NaN    NaN  Quick-Play   \n",
              "3    Fairy / Xyz / Effect  light  1900.0  1500.0    4.0         NaN   \n",
              "4         Dragon / Effect  earth  1000.0     0.0    3.0         NaN   \n",
              "\n",
              "  monster_type  \n",
              "0       Effect  \n",
              "1       Effect  \n",
              "2          NaN  \n",
              "3       Effect  \n",
              "4       Effect  "
            ],
            "text/html": [
              "\n",
              "  <div id=\"df-6c36a89e-9ca0-4e8e-9ebc-9d98e8759855\">\n",
              "    <div class=\"colab-df-container\">\n",
              "      <div>\n",
              "<style scoped>\n",
              "    .dataframe tbody tr th:only-of-type {\n",
              "        vertical-align: middle;\n",
              "    }\n",
              "\n",
              "    .dataframe tbody tr th {\n",
              "        vertical-align: top;\n",
              "    }\n",
              "\n",
              "    .dataframe thead th {\n",
              "        text-align: right;\n",
              "    }\n",
              "</style>\n",
              "<table border=\"1\" class=\"dataframe\">\n",
              "  <thead>\n",
              "    <tr style=\"text-align: right;\">\n",
              "      <th></th>\n",
              "      <th>Unnamed: 0</th>\n",
              "      <th>Name</th>\n",
              "      <th>Rarity</th>\n",
              "      <th>Price</th>\n",
              "      <th>isGood</th>\n",
              "      <th>text</th>\n",
              "      <th>card_type</th>\n",
              "      <th>type</th>\n",
              "      <th>family</th>\n",
              "      <th>atk</th>\n",
              "      <th>def</th>\n",
              "      <th>level</th>\n",
              "      <th>property</th>\n",
              "      <th>monster_type</th>\n",
              "    </tr>\n",
              "  </thead>\n",
              "  <tbody>\n",
              "    <tr>\n",
              "      <th>0</th>\n",
              "      <td>0</td>\n",
              "      <td>XX-Saber Boggart Knight</td>\n",
              "      <td>Shatterfoil Rare</td>\n",
              "      <td>2.73</td>\n",
              "      <td>True</td>\n",
              "      <td>When this card is Normal Summoned: You can Spe...</td>\n",
              "      <td>monster</td>\n",
              "      <td>Beast-Warrior / Effect</td>\n",
              "      <td>earth</td>\n",
              "      <td>1900.0</td>\n",
              "      <td>1000.0</td>\n",
              "      <td>4.0</td>\n",
              "      <td>NaN</td>\n",
              "      <td>Effect</td>\n",
              "    </tr>\n",
              "    <tr>\n",
              "      <th>1</th>\n",
              "      <td>1</td>\n",
              "      <td>Gagaga Cowboy</td>\n",
              "      <td>Shatterfoil Rare</td>\n",
              "      <td>4.68</td>\n",
              "      <td>True</td>\n",
              "      <td>2 Level 4 monsters\\n\\nOnce per turn: You can d...</td>\n",
              "      <td>monster</td>\n",
              "      <td>Warrior / Xyz / Effect</td>\n",
              "      <td>earth</td>\n",
              "      <td>1500.0</td>\n",
              "      <td>2400.0</td>\n",
              "      <td>4.0</td>\n",
              "      <td>NaN</td>\n",
              "      <td>Effect</td>\n",
              "    </tr>\n",
              "    <tr>\n",
              "      <th>2</th>\n",
              "      <td>2</td>\n",
              "      <td>Forbidden Chalice</td>\n",
              "      <td>Shatterfoil Rare</td>\n",
              "      <td>2.09</td>\n",
              "      <td>True</td>\n",
              "      <td>Target 1 face-up monster on the field; until t...</td>\n",
              "      <td>spell</td>\n",
              "      <td>NaN</td>\n",
              "      <td>NaN</td>\n",
              "      <td>NaN</td>\n",
              "      <td>NaN</td>\n",
              "      <td>NaN</td>\n",
              "      <td>Quick-Play</td>\n",
              "      <td>NaN</td>\n",
              "    </tr>\n",
              "    <tr>\n",
              "      <th>3</th>\n",
              "      <td>3</td>\n",
              "      <td>Fairy Cheer Girl</td>\n",
              "      <td>Shatterfoil Rare</td>\n",
              "      <td>2.06</td>\n",
              "      <td>True</td>\n",
              "      <td>2 Level 4 Fairy-Type monsters\\n\\nYou can detac...</td>\n",
              "      <td>monster</td>\n",
              "      <td>Fairy / Xyz / Effect</td>\n",
              "      <td>light</td>\n",
              "      <td>1900.0</td>\n",
              "      <td>1500.0</td>\n",
              "      <td>4.0</td>\n",
              "      <td>NaN</td>\n",
              "      <td>Effect</td>\n",
              "    </tr>\n",
              "    <tr>\n",
              "      <th>4</th>\n",
              "      <td>4</td>\n",
              "      <td>Exploder Dragon</td>\n",
              "      <td>Shatterfoil Rare</td>\n",
              "      <td>2.08</td>\n",
              "      <td>True</td>\n",
              "      <td>If this card is destroyed by battle and sent t...</td>\n",
              "      <td>monster</td>\n",
              "      <td>Dragon / Effect</td>\n",
              "      <td>earth</td>\n",
              "      <td>1000.0</td>\n",
              "      <td>0.0</td>\n",
              "      <td>3.0</td>\n",
              "      <td>NaN</td>\n",
              "      <td>Effect</td>\n",
              "    </tr>\n",
              "  </tbody>\n",
              "</table>\n",
              "</div>\n",
              "      <button class=\"colab-df-convert\" onclick=\"convertToInteractive('df-6c36a89e-9ca0-4e8e-9ebc-9d98e8759855')\"\n",
              "              title=\"Convert this dataframe to an interactive table.\"\n",
              "              style=\"display:none;\">\n",
              "        \n",
              "  <svg xmlns=\"http://www.w3.org/2000/svg\" height=\"24px\"viewBox=\"0 0 24 24\"\n",
              "       width=\"24px\">\n",
              "    <path d=\"M0 0h24v24H0V0z\" fill=\"none\"/>\n",
              "    <path d=\"M18.56 5.44l.94 2.06.94-2.06 2.06-.94-2.06-.94-.94-2.06-.94 2.06-2.06.94zm-11 1L8.5 8.5l.94-2.06 2.06-.94-2.06-.94L8.5 2.5l-.94 2.06-2.06.94zm10 10l.94 2.06.94-2.06 2.06-.94-2.06-.94-.94-2.06-.94 2.06-2.06.94z\"/><path d=\"M17.41 7.96l-1.37-1.37c-.4-.4-.92-.59-1.43-.59-.52 0-1.04.2-1.43.59L10.3 9.45l-7.72 7.72c-.78.78-.78 2.05 0 2.83L4 21.41c.39.39.9.59 1.41.59.51 0 1.02-.2 1.41-.59l7.78-7.78 2.81-2.81c.8-.78.8-2.07 0-2.86zM5.41 20L4 18.59l7.72-7.72 1.47 1.35L5.41 20z\"/>\n",
              "  </svg>\n",
              "      </button>\n",
              "      \n",
              "  <style>\n",
              "    .colab-df-container {\n",
              "      display:flex;\n",
              "      flex-wrap:wrap;\n",
              "      gap: 12px;\n",
              "    }\n",
              "\n",
              "    .colab-df-convert {\n",
              "      background-color: #E8F0FE;\n",
              "      border: none;\n",
              "      border-radius: 50%;\n",
              "      cursor: pointer;\n",
              "      display: none;\n",
              "      fill: #1967D2;\n",
              "      height: 32px;\n",
              "      padding: 0 0 0 0;\n",
              "      width: 32px;\n",
              "    }\n",
              "\n",
              "    .colab-df-convert:hover {\n",
              "      background-color: #E2EBFA;\n",
              "      box-shadow: 0px 1px 2px rgba(60, 64, 67, 0.3), 0px 1px 3px 1px rgba(60, 64, 67, 0.15);\n",
              "      fill: #174EA6;\n",
              "    }\n",
              "\n",
              "    [theme=dark] .colab-df-convert {\n",
              "      background-color: #3B4455;\n",
              "      fill: #D2E3FC;\n",
              "    }\n",
              "\n",
              "    [theme=dark] .colab-df-convert:hover {\n",
              "      background-color: #434B5C;\n",
              "      box-shadow: 0px 1px 3px 1px rgba(0, 0, 0, 0.15);\n",
              "      filter: drop-shadow(0px 1px 2px rgba(0, 0, 0, 0.3));\n",
              "      fill: #FFFFFF;\n",
              "    }\n",
              "  </style>\n",
              "\n",
              "      <script>\n",
              "        const buttonEl =\n",
              "          document.querySelector('#df-6c36a89e-9ca0-4e8e-9ebc-9d98e8759855 button.colab-df-convert');\n",
              "        buttonEl.style.display =\n",
              "          google.colab.kernel.accessAllowed ? 'block' : 'none';\n",
              "\n",
              "        async function convertToInteractive(key) {\n",
              "          const element = document.querySelector('#df-6c36a89e-9ca0-4e8e-9ebc-9d98e8759855');\n",
              "          const dataTable =\n",
              "            await google.colab.kernel.invokeFunction('convertToInteractive',\n",
              "                                                     [key], {});\n",
              "          if (!dataTable) return;\n",
              "\n",
              "          const docLinkHtml = 'Like what you see? Visit the ' +\n",
              "            '<a target=\"_blank\" href=https://colab.research.google.com/notebooks/data_table.ipynb>data table notebook</a>'\n",
              "            + ' to learn more about interactive tables.';\n",
              "          element.innerHTML = '';\n",
              "          dataTable['output_type'] = 'display_data';\n",
              "          await google.colab.output.renderOutput(dataTable, element);\n",
              "          const docLink = document.createElement('div');\n",
              "          docLink.innerHTML = docLinkHtml;\n",
              "          element.appendChild(docLink);\n",
              "        }\n",
              "      </script>\n",
              "    </div>\n",
              "  </div>\n",
              "  "
            ]
          },
          "metadata": {},
          "execution_count": 25
        }
      ],
      "source": [
        "df_yugi['monster_type'] = df_yugi.apply(lambda row: getMonsterType(row), axis=1)\n",
        "df_yugi.head()"
      ]
    },
    {
      "cell_type": "code",
      "execution_count": 7,
      "id": "5fe3c3f8",
      "metadata": {
        "id": "5fe3c3f8",
        "outputId": "eeb959b0-d8c5-49cc-952e-dd21466298d3",
        "colab": {
          "base_uri": "https://localhost:8080/"
        }
      },
      "outputs": [
        {
          "output_type": "execute_result",
          "data": {
            "text/plain": [
              "<bound method NDFrame.head of        Unnamed: 0                           Name            Rarity  Price  \\\n",
              "0               0        XX-Saber Boggart Knight  Shatterfoil Rare   2.73   \n",
              "1               1                  Gagaga Cowboy  Shatterfoil Rare   4.68   \n",
              "2               2              Forbidden Chalice  Shatterfoil Rare   2.09   \n",
              "3               3               Fairy Cheer Girl  Shatterfoil Rare   2.06   \n",
              "4               4                Exploder Dragon  Shatterfoil Rare   2.08   \n",
              "...           ...                            ...               ...    ...   \n",
              "11642       11642        Herald of Mirage Lights        Ultra Rare   1.55   \n",
              "11643       11643   Graveyard of Wandering Souls        Ultra Rare   1.39   \n",
              "11644       11644  Lib the World Key Blademaster        Ultra Rare   3.47   \n",
              "11645       11645                   Kingyo Sukui        Ultra Rare   1.22   \n",
              "11646       11646               Skydive Scorcher        Ultra Rare   1.58   \n",
              "\n",
              "       isGood                                               text card_type  \\\n",
              "0        True  When this card is Normal Summoned: You can Spe...   monster   \n",
              "1        True  2 Level 4 monsters\\n\\nOnce per turn: You can d...   monster   \n",
              "2        True  Target 1 face-up monster on the field; until t...     spell   \n",
              "3        True  2 Level 4 Fairy-Type monsters\\n\\nYou can detac...   monster   \n",
              "4        True  If this card is destroyed by battle and sent t...   monster   \n",
              "...       ...                                                ...       ...   \n",
              "11642   False  2 monsters with the same Type and Attribute, e...   monster   \n",
              "11643   False  If this card is already face-up on the field:\\...      trap   \n",
              "11644   False  2 monsters\\n\\nCan only be Link Summoned while ...   monster   \n",
              "11645   False  You can target 1 monster in your opponent's GY...      trap   \n",
              "11646   False  Target 1 \"Elemental HERO\" Fusion Monster you c...     spell   \n",
              "\n",
              "                          type family     atk     def  level    property  \\\n",
              "0       Beast-Warrior / Effect  earth  1900.0  1000.0    4.0         NaN   \n",
              "1       Warrior / Xyz / Effect  earth  1500.0  2400.0    4.0         NaN   \n",
              "2                          NaN    NaN     NaN     NaN    NaN  Quick-Play   \n",
              "3         Fairy / Xyz / Effect  light  1900.0  1500.0    4.0         NaN   \n",
              "4              Dragon / Effect  earth  1000.0     0.0    3.0         NaN   \n",
              "...                        ...    ...     ...     ...    ...         ...   \n",
              "11642    Fairy / Link / Effect  light   600.0     0.0    0.0         NaN   \n",
              "11643                      NaN    NaN     NaN     NaN    NaN  Continuous   \n",
              "11644  Cyberse / Link / Effect  light  2000.0     0.0    0.0         NaN   \n",
              "11645                      NaN    NaN     NaN     NaN    NaN  Continuous   \n",
              "11646                      NaN    NaN     NaN     NaN    NaN      Normal   \n",
              "\n",
              "      monster_type  \n",
              "0           Effect  \n",
              "1           Effect  \n",
              "2              NaN  \n",
              "3           Effect  \n",
              "4           Effect  \n",
              "...            ...  \n",
              "11642       Effect  \n",
              "11643          NaN  \n",
              "11644       Effect  \n",
              "11645          NaN  \n",
              "11646          NaN  \n",
              "\n",
              "[11368 rows x 14 columns]>"
            ]
          },
          "metadata": {},
          "execution_count": 7
        }
      ],
      "source": [
        "df_yu = df_yugi.loc[(df_yugi['monster_type'] != 'Normal')]\n",
        "df_yu.head"
      ]
    },
    {
      "cell_type": "code",
      "execution_count": 7,
      "id": "3cfdd5e7",
      "metadata": {
        "id": "3cfdd5e7",
        "outputId": "2ad39021-3dad-41dc-ff45-80f5abd6a77f",
        "colab": {
          "base_uri": "https://localhost:8080/",
          "height": 49
        }
      },
      "outputs": [
        {
          "output_type": "execute_result",
          "data": {
            "text/plain": [
              "Empty DataFrame\n",
              "Columns: [Unnamed: 0, Name, Rarity, Price, isGood, text, card_type, type, family, atk, def, level, property, monster_type]\n",
              "Index: []"
            ],
            "text/html": [
              "\n",
              "  <div id=\"df-c6f842e3-34dd-488f-85c6-737d980272b1\">\n",
              "    <div class=\"colab-df-container\">\n",
              "      <div>\n",
              "<style scoped>\n",
              "    .dataframe tbody tr th:only-of-type {\n",
              "        vertical-align: middle;\n",
              "    }\n",
              "\n",
              "    .dataframe tbody tr th {\n",
              "        vertical-align: top;\n",
              "    }\n",
              "\n",
              "    .dataframe thead th {\n",
              "        text-align: right;\n",
              "    }\n",
              "</style>\n",
              "<table border=\"1\" class=\"dataframe\">\n",
              "  <thead>\n",
              "    <tr style=\"text-align: right;\">\n",
              "      <th></th>\n",
              "      <th>Unnamed: 0</th>\n",
              "      <th>Name</th>\n",
              "      <th>Rarity</th>\n",
              "      <th>Price</th>\n",
              "      <th>isGood</th>\n",
              "      <th>text</th>\n",
              "      <th>card_type</th>\n",
              "      <th>type</th>\n",
              "      <th>family</th>\n",
              "      <th>atk</th>\n",
              "      <th>def</th>\n",
              "      <th>level</th>\n",
              "      <th>property</th>\n",
              "      <th>monster_type</th>\n",
              "    </tr>\n",
              "  </thead>\n",
              "  <tbody>\n",
              "  </tbody>\n",
              "</table>\n",
              "</div>\n",
              "      <button class=\"colab-df-convert\" onclick=\"convertToInteractive('df-c6f842e3-34dd-488f-85c6-737d980272b1')\"\n",
              "              title=\"Convert this dataframe to an interactive table.\"\n",
              "              style=\"display:none;\">\n",
              "        \n",
              "  <svg xmlns=\"http://www.w3.org/2000/svg\" height=\"24px\"viewBox=\"0 0 24 24\"\n",
              "       width=\"24px\">\n",
              "    <path d=\"M0 0h24v24H0V0z\" fill=\"none\"/>\n",
              "    <path d=\"M18.56 5.44l.94 2.06.94-2.06 2.06-.94-2.06-.94-.94-2.06-.94 2.06-2.06.94zm-11 1L8.5 8.5l.94-2.06 2.06-.94-2.06-.94L8.5 2.5l-.94 2.06-2.06.94zm10 10l.94 2.06.94-2.06 2.06-.94-2.06-.94-.94-2.06-.94 2.06-2.06.94z\"/><path d=\"M17.41 7.96l-1.37-1.37c-.4-.4-.92-.59-1.43-.59-.52 0-1.04.2-1.43.59L10.3 9.45l-7.72 7.72c-.78.78-.78 2.05 0 2.83L4 21.41c.39.39.9.59 1.41.59.51 0 1.02-.2 1.41-.59l7.78-7.78 2.81-2.81c.8-.78.8-2.07 0-2.86zM5.41 20L4 18.59l7.72-7.72 1.47 1.35L5.41 20z\"/>\n",
              "  </svg>\n",
              "      </button>\n",
              "      \n",
              "  <style>\n",
              "    .colab-df-container {\n",
              "      display:flex;\n",
              "      flex-wrap:wrap;\n",
              "      gap: 12px;\n",
              "    }\n",
              "\n",
              "    .colab-df-convert {\n",
              "      background-color: #E8F0FE;\n",
              "      border: none;\n",
              "      border-radius: 50%;\n",
              "      cursor: pointer;\n",
              "      display: none;\n",
              "      fill: #1967D2;\n",
              "      height: 32px;\n",
              "      padding: 0 0 0 0;\n",
              "      width: 32px;\n",
              "    }\n",
              "\n",
              "    .colab-df-convert:hover {\n",
              "      background-color: #E2EBFA;\n",
              "      box-shadow: 0px 1px 2px rgba(60, 64, 67, 0.3), 0px 1px 3px 1px rgba(60, 64, 67, 0.15);\n",
              "      fill: #174EA6;\n",
              "    }\n",
              "\n",
              "    [theme=dark] .colab-df-convert {\n",
              "      background-color: #3B4455;\n",
              "      fill: #D2E3FC;\n",
              "    }\n",
              "\n",
              "    [theme=dark] .colab-df-convert:hover {\n",
              "      background-color: #434B5C;\n",
              "      box-shadow: 0px 1px 3px 1px rgba(0, 0, 0, 0.15);\n",
              "      filter: drop-shadow(0px 1px 2px rgba(0, 0, 0, 0.3));\n",
              "      fill: #FFFFFF;\n",
              "    }\n",
              "  </style>\n",
              "\n",
              "      <script>\n",
              "        const buttonEl =\n",
              "          document.querySelector('#df-c6f842e3-34dd-488f-85c6-737d980272b1 button.colab-df-convert');\n",
              "        buttonEl.style.display =\n",
              "          google.colab.kernel.accessAllowed ? 'block' : 'none';\n",
              "\n",
              "        async function convertToInteractive(key) {\n",
              "          const element = document.querySelector('#df-c6f842e3-34dd-488f-85c6-737d980272b1');\n",
              "          const dataTable =\n",
              "            await google.colab.kernel.invokeFunction('convertToInteractive',\n",
              "                                                     [key], {});\n",
              "          if (!dataTable) return;\n",
              "\n",
              "          const docLinkHtml = 'Like what you see? Visit the ' +\n",
              "            '<a target=\"_blank\" href=https://colab.research.google.com/notebooks/data_table.ipynb>data table notebook</a>'\n",
              "            + ' to learn more about interactive tables.';\n",
              "          element.innerHTML = '';\n",
              "          dataTable['output_type'] = 'display_data';\n",
              "          await google.colab.output.renderOutput(dataTable, element);\n",
              "          const docLink = document.createElement('div');\n",
              "          docLink.innerHTML = docLinkHtml;\n",
              "          element.appendChild(docLink);\n",
              "        }\n",
              "      </script>\n",
              "    </div>\n",
              "  </div>\n",
              "  "
            ]
          },
          "metadata": {},
          "execution_count": 7
        }
      ],
      "source": [
        "df_yu.loc[(df_yu['Name'] == \"Baby Dragon\")]"
      ]
    },
    {
      "cell_type": "markdown",
      "id": "4cd2b9bb",
      "metadata": {
        "id": "4cd2b9bb"
      },
      "source": [
        "## TFIDF"
      ]
    },
    {
      "cell_type": "code",
      "execution_count": null,
      "id": "b9c0c794",
      "metadata": {
        "id": "b9c0c794",
        "outputId": "99598c00-62a4-4c9f-e898-074a3870f6bd"
      },
      "outputs": [
        {
          "data": {
            "text/html": [
              "<div>\n",
              "<style scoped>\n",
              "    .dataframe tbody tr th:only-of-type {\n",
              "        vertical-align: middle;\n",
              "    }\n",
              "\n",
              "    .dataframe tbody tr th {\n",
              "        vertical-align: top;\n",
              "    }\n",
              "\n",
              "    .dataframe thead th {\n",
              "        text-align: right;\n",
              "    }\n",
              "</style>\n",
              "<table border=\"1\" class=\"dataframe\">\n",
              "  <thead>\n",
              "    <tr style=\"text-align: right;\">\n",
              "      <th></th>\n",
              "      <th>Unnamed: 0</th>\n",
              "      <th>Name</th>\n",
              "      <th>Rarity</th>\n",
              "      <th>Price</th>\n",
              "      <th>isGood</th>\n",
              "      <th>text</th>\n",
              "      <th>card_type</th>\n",
              "      <th>type</th>\n",
              "      <th>family</th>\n",
              "      <th>atk</th>\n",
              "      <th>def</th>\n",
              "      <th>level</th>\n",
              "      <th>property</th>\n",
              "      <th>monster_type</th>\n",
              "    </tr>\n",
              "  </thead>\n",
              "  <tbody>\n",
              "    <tr>\n",
              "      <th>0</th>\n",
              "      <td>0</td>\n",
              "      <td>XX-Saber Boggart Knight</td>\n",
              "      <td>Shatterfoil Rare</td>\n",
              "      <td>2.73</td>\n",
              "      <td>True</td>\n",
              "      <td>When this card is Normal Summoned: You can Spe...</td>\n",
              "      <td>monster</td>\n",
              "      <td>Beast-Warrior / Effect</td>\n",
              "      <td>earth</td>\n",
              "      <td>1900.0</td>\n",
              "      <td>1000.0</td>\n",
              "      <td>4.0</td>\n",
              "      <td>NaN</td>\n",
              "      <td>Effect</td>\n",
              "    </tr>\n",
              "    <tr>\n",
              "      <th>1</th>\n",
              "      <td>1</td>\n",
              "      <td>Gagaga Cowboy</td>\n",
              "      <td>Shatterfoil Rare</td>\n",
              "      <td>4.68</td>\n",
              "      <td>True</td>\n",
              "      <td>2 Level 4 monsters\\n\\nOnce per turn: You can d...</td>\n",
              "      <td>monster</td>\n",
              "      <td>Warrior / Xyz / Effect</td>\n",
              "      <td>earth</td>\n",
              "      <td>1500.0</td>\n",
              "      <td>2400.0</td>\n",
              "      <td>4.0</td>\n",
              "      <td>NaN</td>\n",
              "      <td>Effect</td>\n",
              "    </tr>\n",
              "    <tr>\n",
              "      <th>2</th>\n",
              "      <td>2</td>\n",
              "      <td>Forbidden Chalice</td>\n",
              "      <td>Shatterfoil Rare</td>\n",
              "      <td>2.09</td>\n",
              "      <td>True</td>\n",
              "      <td>Target 1 face-up monster on the field; until t...</td>\n",
              "      <td>spell</td>\n",
              "      <td>NaN</td>\n",
              "      <td>NaN</td>\n",
              "      <td>NaN</td>\n",
              "      <td>NaN</td>\n",
              "      <td>NaN</td>\n",
              "      <td>Quick-Play</td>\n",
              "      <td>NaN</td>\n",
              "    </tr>\n",
              "    <tr>\n",
              "      <th>3</th>\n",
              "      <td>3</td>\n",
              "      <td>Fairy Cheer Girl</td>\n",
              "      <td>Shatterfoil Rare</td>\n",
              "      <td>2.06</td>\n",
              "      <td>True</td>\n",
              "      <td>2 Level 4 Fairy-Type monsters\\n\\nYou can detac...</td>\n",
              "      <td>monster</td>\n",
              "      <td>Fairy / Xyz / Effect</td>\n",
              "      <td>light</td>\n",
              "      <td>1900.0</td>\n",
              "      <td>1500.0</td>\n",
              "      <td>4.0</td>\n",
              "      <td>NaN</td>\n",
              "      <td>Effect</td>\n",
              "    </tr>\n",
              "    <tr>\n",
              "      <th>4</th>\n",
              "      <td>4</td>\n",
              "      <td>Exploder Dragon</td>\n",
              "      <td>Shatterfoil Rare</td>\n",
              "      <td>2.08</td>\n",
              "      <td>True</td>\n",
              "      <td>If this card is destroyed by battle and sent t...</td>\n",
              "      <td>monster</td>\n",
              "      <td>Dragon / Effect</td>\n",
              "      <td>earth</td>\n",
              "      <td>1000.0</td>\n",
              "      <td>0.0</td>\n",
              "      <td>3.0</td>\n",
              "      <td>NaN</td>\n",
              "      <td>Effect</td>\n",
              "    </tr>\n",
              "  </tbody>\n",
              "</table>\n",
              "</div>"
            ],
            "text/plain": [
              "   Unnamed: 0                     Name            Rarity  Price  isGood  \\\n",
              "0           0  XX-Saber Boggart Knight  Shatterfoil Rare   2.73    True   \n",
              "1           1            Gagaga Cowboy  Shatterfoil Rare   4.68    True   \n",
              "2           2        Forbidden Chalice  Shatterfoil Rare   2.09    True   \n",
              "3           3         Fairy Cheer Girl  Shatterfoil Rare   2.06    True   \n",
              "4           4          Exploder Dragon  Shatterfoil Rare   2.08    True   \n",
              "\n",
              "                                                text card_type  \\\n",
              "0  When this card is Normal Summoned: You can Spe...   monster   \n",
              "1  2 Level 4 monsters\\n\\nOnce per turn: You can d...   monster   \n",
              "2  Target 1 face-up monster on the field; until t...     spell   \n",
              "3  2 Level 4 Fairy-Type monsters\\n\\nYou can detac...   monster   \n",
              "4  If this card is destroyed by battle and sent t...   monster   \n",
              "\n",
              "                     type family     atk     def  level    property  \\\n",
              "0  Beast-Warrior / Effect  earth  1900.0  1000.0    4.0         NaN   \n",
              "1  Warrior / Xyz / Effect  earth  1500.0  2400.0    4.0         NaN   \n",
              "2                     NaN    NaN     NaN     NaN    NaN  Quick-Play   \n",
              "3    Fairy / Xyz / Effect  light  1900.0  1500.0    4.0         NaN   \n",
              "4         Dragon / Effect  earth  1000.0     0.0    3.0         NaN   \n",
              "\n",
              "  monster_type  \n",
              "0       Effect  \n",
              "1       Effect  \n",
              "2          NaN  \n",
              "3       Effect  \n",
              "4       Effect  "
            ]
          },
          "execution_count": 8,
          "metadata": {},
          "output_type": "execute_result"
        }
      ],
      "source": [
        "dfg = df_yugi.query(\"isGood\")\n",
        "dfb = df_yugi.query(\"not isGood\")\n",
        "dfg.head()"
      ]
    },
    {
      "cell_type": "code",
      "execution_count": null,
      "id": "3854bc48",
      "metadata": {
        "id": "3854bc48"
      },
      "outputs": [],
      "source": [
        "def get_term(dict, search_index):\n",
        "    return list(dict.keys())[list(dict.values()).index(search_index)]"
      ]
    },
    {
      "cell_type": "code",
      "execution_count": null,
      "id": "3d428fd9",
      "metadata": {
        "id": "3d428fd9"
      },
      "outputs": [],
      "source": [
        "def word_frequencies(tfidf):\n",
        "    tfidfadd = []\n",
        "    words = []\n",
        "    for j in range(tfidf.shape[1]):\n",
        "        words.append(get_term(vectorizer.vocabulary_,j))\n",
        "        tfidfadd.append(0)\n",
        "        for i in range(tfidf.shape[0]):            \n",
        "            tfidfadd[j] += tfidf[i, j]\n",
        "    return tfidfadd, words"
      ]
    },
    {
      "cell_type": "code",
      "execution_count": null,
      "id": "fdf9a1d6",
      "metadata": {
        "id": "fdf9a1d6"
      },
      "outputs": [],
      "source": [
        "import operator\n",
        "import heapq\n",
        "\n",
        "\n",
        "def get_top_words(n,tfidf):\n",
        "    tfdfadd, words = word_frequencies(tfidf)\n",
        "    return get_top(n,tfdfadd,words)\n",
        "\n",
        "def get_top(n,tfidfadd,words):\n",
        "    stopwords = [\"2000\",\"1000\",\"100\"]\n",
        "    sw = []\n",
        "    for stopword in stopwords:\n",
        "        sw.append(words.index(stopword))\n",
        "    \n",
        "\n",
        "    tops = list(list(zip(*heapq.nlargest(n, enumerate(tfidfadd), key=operator.itemgetter(1))))[0])\n",
        "    print(tops)\n",
        "    \n",
        "    for word in list(tops):  # iterating on a copy since removing will mess things up\n",
        "        if word in sw:\n",
        "            tops.remove(word)\n",
        "            print(tops)\n",
        "    res = 0\n",
        "    while (len(tops) < n):\n",
        "        print(len(tops))\n",
        "        res += n - len(tops)\n",
        "        tops = list(list(zip(*heapq.nlargest(n+res, enumerate(tfidfadd), key=operator.itemgetter(1))))[0])\n",
        "        print(f\"res{res}\")\n",
        "        for word in list(tops):\n",
        "            if word in sw:\n",
        "                tops.remove(word)\n",
        "        \n",
        "    \n",
        "    values = []\n",
        "    labels = []\n",
        "    tot = 0\n",
        "    \n",
        "    for j in tops:\n",
        "        values.append(tfidfadd[j]/len(tfidfadd))\n",
        "        labels.append(words[j])\n",
        "\n",
        "    #for j in range(len(tfidfadd)):\n",
        "    #    if j in tops:\n",
        "    #        values.append(tfidfadd[j]/len(tfidfadd))\n",
        "    #        labels.append(words[j])\n",
        "    #    else:\n",
        "    #        tot += tfidfadd[j]/len(tfidfadd)\n",
        "    #values.append(tot)\n",
        "    #labels.append(\"Other\")\n",
        "    return values, labels"
      ]
    },
    {
      "cell_type": "code",
      "execution_count": null,
      "id": "b4422c0a",
      "metadata": {
        "id": "b4422c0a"
      },
      "outputs": [],
      "source": [
        "from sklearn.feature_extraction.text import TfidfVectorizer\n",
        "import numpy as np\n",
        "from pprint import pprint\n",
        "\n",
        "vectorizer = TfidfVectorizer()\n",
        "\n",
        "# Compute the TF-IDF matrix\n",
        "tfidf_g = vectorizer.fit_transform(dfg[\"text\"])\n"
      ]
    },
    {
      "cell_type": "code",
      "execution_count": null,
      "id": "15f29af3",
      "metadata": {
        "id": "15f29af3"
      },
      "outputs": [],
      "source": [
        "tfidf_b = vectorizer.fit_transform(dfb[\"text\"])"
      ]
    },
    {
      "cell_type": "code",
      "execution_count": null,
      "id": "0d737bb5",
      "metadata": {
        "id": "0d737bb5",
        "outputId": "a97a1104-7769-4524-eb72-0d379664177e"
      },
      "outputs": [
        {
          "name": "stdout",
          "output_type": "stream",
          "text": [
            "foi\n"
          ]
        }
      ],
      "source": [
        "tfdfadd_g, words_g = word_frequencies(tfidf_g)\n",
        "print(\"foi\")"
      ]
    },
    {
      "cell_type": "code",
      "execution_count": null,
      "id": "d80195d0",
      "metadata": {
        "id": "d80195d0",
        "outputId": "44b3b842-9f5e-4af2-909b-c2f4cf371c47"
      },
      "outputs": [
        {
          "name": "stdout",
          "output_type": "stream",
          "text": [
            "[2984, 2985, 463, 2656, 2670, 1709, 452, 2698, 1826, 1099, 2779, 1857, 1327, 2459, 1710, 1380, 1862, 883, 1235, 2553, 1224, 164, 2625, 1383, 2655, 1339, 691, 2554, 1021, 1934]\n"
          ]
        },
        {
          "data": {
            "text/plain": [
              "<BarContainer object of 30 artists>"
            ]
          },
          "execution_count": 15,
          "metadata": {},
          "output_type": "execute_result"
        },
        {
          "data": {
            "image/png": "[encoded data removed]",
            "text/plain": [
              "<Figure size 640x480 with 1 Axes>"
            ]
          },
          "metadata": {},
          "output_type": "display_data"
        }
      ],
      "source": [
        "values, labels = get_top(30,tfdfadd_g,words_g)\n",
        "\n",
        "#fig, ax = plt.subplots()\n",
        "plt.title(\"Most frequent words / Good\")\n",
        "plt.xticks(rotation='vertical')\n",
        "plt.bar(labels,values)"
      ]
    },
    {
      "cell_type": "code",
      "execution_count": null,
      "id": "e5b23efe",
      "metadata": {
        "id": "e5b23efe",
        "outputId": "c60c9907-ce3a-494f-adfb-f555bdf37523"
      },
      "outputs": [
        {
          "ename": "KeyboardInterrupt",
          "evalue": "",
          "output_type": "error",
          "traceback": [
            "\u001b[1;31m---------------------------------------------------------------------------\u001b[0m",
            "\u001b[1;31mKeyboardInterrupt\u001b[0m                         Traceback (most recent call last)",
            "Cell \u001b[1;32mIn[17], line 1\u001b[0m\n\u001b[1;32m----> 1\u001b[0m tfdfadd_b, words_b \u001b[38;5;241m=\u001b[39m \u001b[43mword_frequencies\u001b[49m\u001b[43m(\u001b[49m\u001b[43mtfidf_b\u001b[49m\u001b[43m)\u001b[49m\n\u001b[0;32m      2\u001b[0m \u001b[38;5;28mprint\u001b[39m(\u001b[38;5;124m\"\u001b[39m\u001b[38;5;124mfoi\u001b[39m\u001b[38;5;124m\"\u001b[39m)\n",
            "Cell \u001b[1;32mIn[10], line 8\u001b[0m, in \u001b[0;36mword_frequencies\u001b[1;34m(tfidf)\u001b[0m\n\u001b[0;32m      6\u001b[0m     tfidfadd\u001b[38;5;241m.\u001b[39mappend(\u001b[38;5;241m0\u001b[39m)\n\u001b[0;32m      7\u001b[0m     \u001b[38;5;28;01mfor\u001b[39;00m i \u001b[38;5;129;01min\u001b[39;00m \u001b[38;5;28mrange\u001b[39m(tfidf\u001b[38;5;241m.\u001b[39mshape[\u001b[38;5;241m0\u001b[39m]):            \n\u001b[1;32m----> 8\u001b[0m         tfidfadd[j] \u001b[38;5;241m+\u001b[39m\u001b[38;5;241m=\u001b[39m \u001b[43mtfidf\u001b[49m\u001b[43m[\u001b[49m\u001b[43mi\u001b[49m\u001b[43m,\u001b[49m\u001b[43m \u001b[49m\u001b[43mj\u001b[49m\u001b[43m]\u001b[49m\n\u001b[0;32m      9\u001b[0m \u001b[38;5;28;01mreturn\u001b[39;00m tfidfadd, words\n",
            "File \u001b[1;32mC:\\ProgramData\\Anaconda3\\lib\\site-packages\\scipy\\sparse\\_index.py:52\u001b[0m, in \u001b[0;36mIndexMixin.__getitem__\u001b[1;34m(self, key)\u001b[0m\n\u001b[0;32m     50\u001b[0m \u001b[38;5;28;01mif\u001b[39;00m \u001b[38;5;28misinstance\u001b[39m(row, INT_TYPES):\n\u001b[0;32m     51\u001b[0m     \u001b[38;5;28;01mif\u001b[39;00m \u001b[38;5;28misinstance\u001b[39m(col, INT_TYPES):\n\u001b[1;32m---> 52\u001b[0m         \u001b[38;5;28;01mreturn\u001b[39;00m \u001b[38;5;28;43mself\u001b[39;49m\u001b[38;5;241;43m.\u001b[39;49m\u001b[43m_get_intXint\u001b[49m\u001b[43m(\u001b[49m\u001b[43mrow\u001b[49m\u001b[43m,\u001b[49m\u001b[43m \u001b[49m\u001b[43mcol\u001b[49m\u001b[43m)\u001b[49m\n\u001b[0;32m     53\u001b[0m     \u001b[38;5;28;01melif\u001b[39;00m \u001b[38;5;28misinstance\u001b[39m(col, \u001b[38;5;28mslice\u001b[39m):\n\u001b[0;32m     54\u001b[0m         \u001b[38;5;28mself\u001b[39m\u001b[38;5;241m.\u001b[39m_raise_on_1d_array_slice()\n",
            "File \u001b[1;32mC:\\ProgramData\\Anaconda3\\lib\\site-packages\\scipy\\sparse\\_compressed.py:657\u001b[0m, in \u001b[0;36m_cs_matrix._get_intXint\u001b[1;34m(self, row, col)\u001b[0m\n\u001b[0;32m    655\u001b[0m M, N \u001b[38;5;241m=\u001b[39m \u001b[38;5;28mself\u001b[39m\u001b[38;5;241m.\u001b[39m_swap(\u001b[38;5;28mself\u001b[39m\u001b[38;5;241m.\u001b[39mshape)\n\u001b[0;32m    656\u001b[0m major, minor \u001b[38;5;241m=\u001b[39m \u001b[38;5;28mself\u001b[39m\u001b[38;5;241m.\u001b[39m_swap((row, col))\n\u001b[1;32m--> 657\u001b[0m indptr, indices, data \u001b[38;5;241m=\u001b[39m \u001b[43mget_csr_submatrix\u001b[49m\u001b[43m(\u001b[49m\n\u001b[0;32m    658\u001b[0m \u001b[43m    \u001b[49m\u001b[43mM\u001b[49m\u001b[43m,\u001b[49m\u001b[43m \u001b[49m\u001b[43mN\u001b[49m\u001b[43m,\u001b[49m\u001b[43m \u001b[49m\u001b[38;5;28;43mself\u001b[39;49m\u001b[38;5;241;43m.\u001b[39;49m\u001b[43mindptr\u001b[49m\u001b[43m,\u001b[49m\u001b[43m \u001b[49m\u001b[38;5;28;43mself\u001b[39;49m\u001b[38;5;241;43m.\u001b[39;49m\u001b[43mindices\u001b[49m\u001b[43m,\u001b[49m\u001b[43m \u001b[49m\u001b[38;5;28;43mself\u001b[39;49m\u001b[38;5;241;43m.\u001b[39;49m\u001b[43mdata\u001b[49m\u001b[43m,\u001b[49m\n\u001b[0;32m    659\u001b[0m \u001b[43m    \u001b[49m\u001b[43mmajor\u001b[49m\u001b[43m,\u001b[49m\u001b[43m \u001b[49m\u001b[43mmajor\u001b[49m\u001b[43m \u001b[49m\u001b[38;5;241;43m+\u001b[39;49m\u001b[43m \u001b[49m\u001b[38;5;241;43m1\u001b[39;49m\u001b[43m,\u001b[49m\u001b[43m \u001b[49m\u001b[43mminor\u001b[49m\u001b[43m,\u001b[49m\u001b[43m \u001b[49m\u001b[43mminor\u001b[49m\u001b[43m \u001b[49m\u001b[38;5;241;43m+\u001b[39;49m\u001b[43m \u001b[49m\u001b[38;5;241;43m1\u001b[39;49m\u001b[43m)\u001b[49m\n\u001b[0;32m    660\u001b[0m \u001b[38;5;28;01mreturn\u001b[39;00m data\u001b[38;5;241m.\u001b[39msum(dtype\u001b[38;5;241m=\u001b[39m\u001b[38;5;28mself\u001b[39m\u001b[38;5;241m.\u001b[39mdtype)\n",
            "\u001b[1;31mKeyboardInterrupt\u001b[0m: "
          ]
        }
      ],
      "source": [
        "tfdfadd_b, words_b = word_frequencies(tfidf_b)\n",
        "print(\"foi\")"
      ]
    },
    {
      "cell_type": "code",
      "execution_count": null,
      "id": "ad143b47",
      "metadata": {
        "id": "ad143b47"
      },
      "outputs": [],
      "source": [
        "values, labels = get_top(30,tfdfadd_b,words_b)\n",
        "\n",
        "#fig, ax = plt.subplots()\n",
        "plt.title(\"Most frequent words / Bad\")\n",
        "plt.xticks(rotation='vertical')\n",
        "plt.bar(labels,values)"
      ]
    },
    {
      "cell_type": "markdown",
      "id": "50a046b2",
      "metadata": {
        "id": "50a046b2"
      },
      "source": [
        "## Baseline"
      ]
    },
    {
      "cell_type": "code",
      "execution_count": null,
      "id": "5053a387",
      "metadata": {
        "id": "5053a387"
      },
      "outputs": [],
      "source": [
        "import matplotlib.pyplot as plt\n",
        "import nltk\n",
        "import numpy as np\n",
        "import pandas as pd\n",
        "from tqdm import tqdm\n",
        "import joblib\n",
        "import urllib\n",
        "import numpy as np\n",
        "from sklearn.feature_extraction.text import CountVectorizer\n",
        "from sklearn.pipeline import Pipeline\n",
        "from sklearn.linear_model import LogisticRegression\n",
        "from sklearn.naive_bayes import BernoulliNB\n",
        "from sklearn.model_selection import train_test_split\n",
        "from sklearn.metrics import accuracy_score"
      ]
    },
    {
      "cell_type": "code",
      "execution_count": null,
      "id": "589beac6",
      "metadata": {
        "id": "589beac6"
      },
      "outputs": [],
      "source": [
        "model_data = df_yu.copy()"
      ]
    },
    {
      "cell_type": "code",
      "execution_count": null,
      "id": "73961e08",
      "metadata": {
        "id": "73961e08",
        "outputId": "7840edda-9232-49d7-a27d-dde4f6032075"
      },
      "outputs": [
        {
          "data": {
            "text/html": [
              "<div>\n",
              "<style scoped>\n",
              "    .dataframe tbody tr th:only-of-type {\n",
              "        vertical-align: middle;\n",
              "    }\n",
              "\n",
              "    .dataframe tbody tr th {\n",
              "        vertical-align: top;\n",
              "    }\n",
              "\n",
              "    .dataframe thead th {\n",
              "        text-align: right;\n",
              "    }\n",
              "</style>\n",
              "<table border=\"1\" class=\"dataframe\">\n",
              "  <thead>\n",
              "    <tr style=\"text-align: right;\">\n",
              "      <th></th>\n",
              "      <th>Unnamed: 0</th>\n",
              "      <th>Name</th>\n",
              "      <th>Rarity</th>\n",
              "      <th>Price</th>\n",
              "      <th>isGood</th>\n",
              "      <th>text</th>\n",
              "      <th>card_type</th>\n",
              "      <th>type</th>\n",
              "      <th>family</th>\n",
              "      <th>atk</th>\n",
              "      <th>def</th>\n",
              "      <th>level</th>\n",
              "      <th>property</th>\n",
              "      <th>monster_type</th>\n",
              "    </tr>\n",
              "  </thead>\n",
              "  <tbody>\n",
              "    <tr>\n",
              "      <th>5185</th>\n",
              "      <td>5185</td>\n",
              "      <td>Battlin' Boxer Counterpunch</td>\n",
              "      <td>Common</td>\n",
              "      <td>1.30</td>\n",
              "      <td>False</td>\n",
              "      <td>During the Damage Step of either player's turn...</td>\n",
              "      <td>monster</td>\n",
              "      <td>Warrior / Effect</td>\n",
              "      <td>fire</td>\n",
              "      <td>0.0</td>\n",
              "      <td>1100.0</td>\n",
              "      <td>3.0</td>\n",
              "      <td>NaN</td>\n",
              "      <td>Effect</td>\n",
              "    </tr>\n",
              "    <tr>\n",
              "      <th>812</th>\n",
              "      <td>812</td>\n",
              "      <td>Myutant Clash</td>\n",
              "      <td>Common</td>\n",
              "      <td>2.14</td>\n",
              "      <td>True</td>\n",
              "      <td>When you activate this card: You can target 1 ...</td>\n",
              "      <td>trap</td>\n",
              "      <td>NaN</td>\n",
              "      <td>NaN</td>\n",
              "      <td>NaN</td>\n",
              "      <td>NaN</td>\n",
              "      <td>NaN</td>\n",
              "      <td>Continuous</td>\n",
              "      <td>NaN</td>\n",
              "    </tr>\n",
              "    <tr>\n",
              "      <th>238</th>\n",
              "      <td>238</td>\n",
              "      <td>Gemini Spark</td>\n",
              "      <td>Common</td>\n",
              "      <td>4.63</td>\n",
              "      <td>True</td>\n",
              "      <td>Tribute 1 face-up Level 4 Gemini monster, then...</td>\n",
              "      <td>spell</td>\n",
              "      <td>NaN</td>\n",
              "      <td>NaN</td>\n",
              "      <td>NaN</td>\n",
              "      <td>NaN</td>\n",
              "      <td>NaN</td>\n",
              "      <td>Quick-Play</td>\n",
              "      <td>NaN</td>\n",
              "    </tr>\n",
              "    <tr>\n",
              "      <th>10452</th>\n",
              "      <td>10452</td>\n",
              "      <td>Conductor of Nephthys</td>\n",
              "      <td>Super Rare</td>\n",
              "      <td>1.94</td>\n",
              "      <td>False</td>\n",
              "      <td>You can Ritual Summon this card with \"Rebirth ...</td>\n",
              "      <td>monster</td>\n",
              "      <td>Spellcaster / Ritual / Effect</td>\n",
              "      <td>wind</td>\n",
              "      <td>2000.0</td>\n",
              "      <td>0.0</td>\n",
              "      <td>2.0</td>\n",
              "      <td>NaN</td>\n",
              "      <td>Effect</td>\n",
              "    </tr>\n",
              "    <tr>\n",
              "      <th>8405</th>\n",
              "      <td>8405</td>\n",
              "      <td>Voloferniges, the Darkest Dragon Doomrider</td>\n",
              "      <td>Rare</td>\n",
              "      <td>1.16</td>\n",
              "      <td>False</td>\n",
              "      <td>2 Level 7 monsters\\n\\nOnce per turn: You can d...</td>\n",
              "      <td>monster</td>\n",
              "      <td>Dragon / Xyz / Effect</td>\n",
              "      <td>dark</td>\n",
              "      <td>2500.0</td>\n",
              "      <td>2100.0</td>\n",
              "      <td>7.0</td>\n",
              "      <td>NaN</td>\n",
              "      <td>Effect</td>\n",
              "    </tr>\n",
              "    <tr>\n",
              "      <th>...</th>\n",
              "      <td>...</td>\n",
              "      <td>...</td>\n",
              "      <td>...</td>\n",
              "      <td>...</td>\n",
              "      <td>...</td>\n",
              "      <td>...</td>\n",
              "      <td>...</td>\n",
              "      <td>...</td>\n",
              "      <td>...</td>\n",
              "      <td>...</td>\n",
              "      <td>...</td>\n",
              "      <td>...</td>\n",
              "      <td>...</td>\n",
              "      <td>...</td>\n",
              "    </tr>\n",
              "    <tr>\n",
              "      <th>11562</th>\n",
              "      <td>11562</td>\n",
              "      <td>Borreload Riot Dragon</td>\n",
              "      <td>Ultra Rare</td>\n",
              "      <td>1.60</td>\n",
              "      <td>False</td>\n",
              "      <td>You can Ritual Summon this card with \"Heavy In...</td>\n",
              "      <td>monster</td>\n",
              "      <td>Dragon / Ritual / Effect</td>\n",
              "      <td>dark</td>\n",
              "      <td>3000.0</td>\n",
              "      <td>2500.0</td>\n",
              "      <td>8.0</td>\n",
              "      <td>NaN</td>\n",
              "      <td>Effect</td>\n",
              "    </tr>\n",
              "    <tr>\n",
              "      <th>5375</th>\n",
              "      <td>5375</td>\n",
              "      <td>Offering to the Snake Deity</td>\n",
              "      <td>Common</td>\n",
              "      <td>1.38</td>\n",
              "      <td>False</td>\n",
              "      <td>Target 1 face-up Reptile monster you control a...</td>\n",
              "      <td>trap</td>\n",
              "      <td>NaN</td>\n",
              "      <td>NaN</td>\n",
              "      <td>NaN</td>\n",
              "      <td>NaN</td>\n",
              "      <td>NaN</td>\n",
              "      <td>Normal</td>\n",
              "      <td>NaN</td>\n",
              "    </tr>\n",
              "    <tr>\n",
              "      <th>5574</th>\n",
              "      <td>5574</td>\n",
              "      <td>Gunkan Suship Shari Red</td>\n",
              "      <td>Common</td>\n",
              "      <td>1.14</td>\n",
              "      <td>False</td>\n",
              "      <td>This card's name becomes \"Gunkan Suship Shari\"...</td>\n",
              "      <td>monster</td>\n",
              "      <td>Aqua / Effect</td>\n",
              "      <td>fire</td>\n",
              "      <td>0.0</td>\n",
              "      <td>2000.0</td>\n",
              "      <td>4.0</td>\n",
              "      <td>NaN</td>\n",
              "      <td>Effect</td>\n",
              "    </tr>\n",
              "    <tr>\n",
              "      <th>884</th>\n",
              "      <td>884</td>\n",
              "      <td>Black Salvo</td>\n",
              "      <td>Common</td>\n",
              "      <td>2.41</td>\n",
              "      <td>True</td>\n",
              "      <td>When this card is Normal Summoned: You can tar...</td>\n",
              "      <td>monster</td>\n",
              "      <td>Machine / Tuner / Effect</td>\n",
              "      <td>dark</td>\n",
              "      <td>100.0</td>\n",
              "      <td>1100.0</td>\n",
              "      <td>3.0</td>\n",
              "      <td>NaN</td>\n",
              "      <td>Effect</td>\n",
              "    </tr>\n",
              "    <tr>\n",
              "      <th>7493</th>\n",
              "      <td>7493</td>\n",
              "      <td>Despian Proskenion</td>\n",
              "      <td>Common</td>\n",
              "      <td>1.19</td>\n",
              "      <td>False</td>\n",
              "      <td>1 \"Despia\" monster + 1 LIGHT monster + 1 DARK ...</td>\n",
              "      <td>monster</td>\n",
              "      <td>Fiend / Fusion / Effect</td>\n",
              "      <td>light</td>\n",
              "      <td>3200.0</td>\n",
              "      <td>3200.0</td>\n",
              "      <td>11.0</td>\n",
              "      <td>NaN</td>\n",
              "      <td>Effect</td>\n",
              "    </tr>\n",
              "  </tbody>\n",
              "</table>\n",
              "<p>8526 rows × 14 columns</p>\n",
              "</div>"
            ],
            "text/plain": [
              "       Unnamed: 0                                        Name      Rarity  \\\n",
              "5185         5185                 Battlin' Boxer Counterpunch      Common   \n",
              "812           812                               Myutant Clash      Common   \n",
              "238           238                                Gemini Spark      Common   \n",
              "10452       10452                       Conductor of Nephthys  Super Rare   \n",
              "8405         8405  Voloferniges, the Darkest Dragon Doomrider        Rare   \n",
              "...           ...                                         ...         ...   \n",
              "11562       11562                       Borreload Riot Dragon  Ultra Rare   \n",
              "5375         5375                 Offering to the Snake Deity      Common   \n",
              "5574         5574                     Gunkan Suship Shari Red      Common   \n",
              "884           884                                 Black Salvo      Common   \n",
              "7493         7493                          Despian Proskenion      Common   \n",
              "\n",
              "       Price  isGood                                               text  \\\n",
              "5185    1.30   False  During the Damage Step of either player's turn...   \n",
              "812     2.14    True  When you activate this card: You can target 1 ...   \n",
              "238     4.63    True  Tribute 1 face-up Level 4 Gemini monster, then...   \n",
              "10452   1.94   False  You can Ritual Summon this card with \"Rebirth ...   \n",
              "8405    1.16   False  2 Level 7 monsters\\n\\nOnce per turn: You can d...   \n",
              "...      ...     ...                                                ...   \n",
              "11562   1.60   False  You can Ritual Summon this card with \"Heavy In...   \n",
              "5375    1.38   False  Target 1 face-up Reptile monster you control a...   \n",
              "5574    1.14   False  This card's name becomes \"Gunkan Suship Shari\"...   \n",
              "884     2.41    True  When this card is Normal Summoned: You can tar...   \n",
              "7493    1.19   False  1 \"Despia\" monster + 1 LIGHT monster + 1 DARK ...   \n",
              "\n",
              "      card_type                           type family     atk     def  level  \\\n",
              "5185    monster               Warrior / Effect   fire     0.0  1100.0    3.0   \n",
              "812        trap                            NaN    NaN     NaN     NaN    NaN   \n",
              "238       spell                            NaN    NaN     NaN     NaN    NaN   \n",
              "10452   monster  Spellcaster / Ritual / Effect   wind  2000.0     0.0    2.0   \n",
              "8405    monster          Dragon / Xyz / Effect   dark  2500.0  2100.0    7.0   \n",
              "...         ...                            ...    ...     ...     ...    ...   \n",
              "11562   monster       Dragon / Ritual / Effect   dark  3000.0  2500.0    8.0   \n",
              "5375       trap                            NaN    NaN     NaN     NaN    NaN   \n",
              "5574    monster                  Aqua / Effect   fire     0.0  2000.0    4.0   \n",
              "884     monster       Machine / Tuner / Effect   dark   100.0  1100.0    3.0   \n",
              "7493    monster        Fiend / Fusion / Effect  light  3200.0  3200.0   11.0   \n",
              "\n",
              "         property monster_type  \n",
              "5185          NaN       Effect  \n",
              "812    Continuous          NaN  \n",
              "238    Quick-Play          NaN  \n",
              "10452         NaN       Effect  \n",
              "8405          NaN       Effect  \n",
              "...           ...          ...  \n",
              "11562         NaN       Effect  \n",
              "5375       Normal          NaN  \n",
              "5574          NaN       Effect  \n",
              "884           NaN       Effect  \n",
              "7493          NaN       Effect  \n",
              "\n",
              "[8526 rows x 14 columns]"
            ]
          },
          "execution_count": 20,
          "metadata": {},
          "output_type": "execute_result"
        }
      ],
      "source": [
        "train_data, test_data = train_test_split(model_data, test_size=0.25, random_state=42)\n",
        "train_data"
      ]
    },
    {
      "cell_type": "code",
      "execution_count": null,
      "id": "6891891b",
      "metadata": {
        "id": "6891891b"
      },
      "outputs": [],
      "source": [
        "X_train = train_data[\"text\"]\n",
        "y_train = train_data[\"isGood\"]\n",
        "X_test = test_data[\"text\"]\n",
        "y_test = test_data[\"isGood\"]"
      ]
    },
    {
      "cell_type": "code",
      "execution_count": null,
      "id": "59514928",
      "metadata": {
        "id": "59514928",
        "outputId": "52c5ff54-d446-458c-e928-afd5ab13a641"
      },
      "outputs": [
        {
          "name": "stdout",
          "output_type": "stream",
          "text": [
            "0.7607318789584799\n"
          ]
        }
      ],
      "source": [
        "classificador = Pipeline([\n",
        "                        ('meu_vetorizador', CountVectorizer(stop_words='english')),\n",
        "                        ('meu_classificador', LogisticRegression(penalty=None, solver='saga', max_iter=10000))\n",
        "                        ])\n",
        "classificador.fit(X_train,y_train)\n",
        "y_pred = classificador.predict(X_test)\n",
        "acc = accuracy_score(y_pred,y_test)\n",
        "print(acc)"
      ]
    },
    {
      "cell_type": "code",
      "execution_count": null,
      "id": "5af15ece",
      "metadata": {
        "id": "5af15ece",
        "outputId": "b42ba245-beaf-470a-f208-bffcfde29c50"
      },
      "outputs": [
        {
          "name": "stdout",
          "output_type": "stream",
          "text": [
            "(1, 5636)\n"
          ]
        },
        {
          "data": {
            "image/png": "[encoded data removed]",
            "text/plain": [
              "<Figure size 1400x100 with 1 Axes>"
            ]
          },
          "metadata": {},
          "output_type": "display_data"
        },
        {
          "data": {
            "image/png": "[encoded data removed]",
            "text/plain": [
              "<Figure size 1400x100 with 1 Axes>"
            ]
          },
          "metadata": {},
          "output_type": "display_data"
        }
      ],
      "source": [
        "vocabulario = classificador['meu_vetorizador'].vocabulary_\n",
        "pesos = classificador['meu_classificador'].coef_\n",
        "print(pesos.shape)\n",
        "\n",
        "classe_alvo = 0\n",
        "classe_alvo_str = classificador.classes_[classe_alvo]\n",
        "\n",
        "palavras_e_pesos = []\n",
        "for palavra in vocabulario.keys():\n",
        "    j = vocabulario[palavra]\n",
        "    coeficiente = pesos[classe_alvo,j]\n",
        "    palavras_e_pesos.append( (coeficiente, palavra) )\n",
        "\n",
        "tuplas_ordenadas = sorted(palavras_e_pesos, reverse=True) # reverse=True pede uma ordenação em ordem decrescente\n",
        "palavras = [ t[1] for t in tuplas_ordenadas ]\n",
        "contagens = [ t[0] for t in tuplas_ordenadas ]\n",
        "\n",
        "n_palavras = 30\n",
        "eixo_x = np.arange(n_palavras)\n",
        "plt.figure(figsize=(14,1))\n",
        "plt.title('Palavras que mais levam à carta ruim')\n",
        "plt.bar(eixo_x[0:n_palavras], contagens[0:n_palavras])\n",
        "plt.xticks(eixo_x[0:n_palavras], palavras[0:n_palavras], rotation=70)\n",
        "plt.show()\n",
        "\n",
        "eixo_x = np.arange(n_palavras)\n",
        "plt.figure(figsize=(14,1))\n",
        "plt.title('Palavras que mais leva à carta boa')\n",
        "plt.bar(eixo_x[-n_palavras:], contagens[-n_palavras:])\n",
        "plt.xticks(eixo_x[-n_palavras:], palavras[-n_palavras:], rotation=70)\n",
        "plt.show()"
      ]
    },
    {
      "cell_type": "markdown",
      "id": "26a6f858",
      "metadata": {
        "id": "26a6f858"
      },
      "source": [
        "## Deep Learning in-house"
      ]
    },
    {
      "cell_type": "code",
      "execution_count": null,
      "id": "7f72d999",
      "metadata": {
        "id": "7f72d999"
      },
      "outputs": [],
      "source": [
        "import matplotlib.pyplot as plt\n",
        "import pandas as pd\n",
        "import numpy as np\n",
        "from sklearn.feature_extraction.text import CountVectorizer\n",
        "from sklearn.pipeline import Pipeline\n",
        "from sklearn.metrics import accuracy_score\n",
        "from sklearn.linear_model import LogisticRegression\n",
        "from sklearn.model_selection import train_test_split\n",
        "\n",
        "from keras.layers import Input, Dense, Activation\n",
        "from keras.models import Model\n",
        "import tensorflow as tf\n",
        "from tensorflow.keras.utils import plot_model"
      ]
    },
    {
      "cell_type": "code",
      "execution_count": null,
      "id": "328c79c9",
      "metadata": {
        "id": "328c79c9"
      },
      "outputs": [],
      "source": [
        "model_data = df_yu.copy()\n",
        "train_data, test_data = train_test_split(model_data, test_size=0.25, random_state=42)\n",
        "X_train = train_data[\"text\"]\n",
        "y_train = train_data[\"isGood\"]\n",
        "X_test = test_data[\"text\"]\n",
        "y_test = test_data[\"isGood\"]"
      ]
    },
    {
      "cell_type": "code",
      "execution_count": null,
      "id": "6cd9ca53",
      "metadata": {
        "id": "6cd9ca53"
      },
      "outputs": [],
      "source": [
        "def pre_processar_saidas(y):\n",
        "    y_out = np.zeros_like(y)\n",
        "    y_out[ y==False ] = -1.0\n",
        "    y_out[ y==True ] = 1.0\n",
        "    y_out = y_out.reshape( (-1, 1))\n",
        "    return y_out.astype(float)\n",
        "\n",
        "y_train_ = pre_processar_saidas(y_train)\n",
        "y_test_ = pre_processar_saidas(y_test)\n",
        "\n",
        "vectorizer = CountVectorizer(stop_words='english', binary=True, max_features=500)\n",
        "X_train_ = vectorizer.fit_transform(X_train).todense().astype(float)\n",
        "X_test_ = vectorizer.transform(X_test).todense().astype(float)"
      ]
    },
    {
      "cell_type": "code",
      "execution_count": null,
      "id": "20c4477b",
      "metadata": {
        "id": "20c4477b",
        "outputId": "1c47466c-0eac-4016-dccd-c50dd066781e"
      },
      "outputs": [
        {
          "name": "stdout",
          "output_type": "stream",
          "text": [
            "Epoch 1/5\n",
            "267/267 [==============================] - 1s 1ms/step - loss: 0.1313 - accuracy: 0.8281\n",
            "Epoch 2/5\n",
            "267/267 [==============================] - 0s 1ms/step - loss: 0.0130 - accuracy: 0.9794\n",
            "Epoch 3/5\n",
            "267/267 [==============================] - 0s 896us/step - loss: 0.0059 - accuracy: 0.9928\n",
            "Epoch 4/5\n",
            "267/267 [==============================] - 0s 898us/step - loss: 0.0030 - accuracy: 1.0000\n",
            "Epoch 5/5\n",
            "267/267 [==============================] - 0s 882us/step - loss: 0.0015 - accuracy: 1.0000\n"
          ]
        },
        {
          "data": {
            "text/plain": [
              "<keras.callbacks.History at 0x13e9d4d24f0>"
            ]
          },
          "execution_count": 27,
          "metadata": {},
          "output_type": "execute_result"
        }
      ],
      "source": [
        "def base_model(vocab_size=500):\n",
        "    input_layer = Input(shape=(vocab_size,))\n",
        "    x = input_layer\n",
        "    x = Dense(1, name='classificador')(x)\n",
        "    x = Activation('tanh')(x)\n",
        "    return Model(input_layer, x)\n",
        "\n",
        "clf = base_model()\n",
        "clf.compile(loss='mean_squared_error', metrics=['accuracy'])\n",
        "clf.fit(X_train_, y_train_, epochs=5, verbose=1)"
      ]
    },
    {
      "cell_type": "code",
      "execution_count": null,
      "id": "1b4811bb",
      "metadata": {
        "id": "1b4811bb",
        "outputId": "e7b0faf8-7aca-4143-c34f-01bd858c0fcb"
      },
      "outputs": [
        {
          "name": "stdout",
          "output_type": "stream",
          "text": [
            "89/89 [==============================] - 0s 852us/step - loss: 0.0011 - accuracy: 1.0000\n",
            "[0.0011004681000486016, 1.0]\n"
          ]
        }
      ],
      "source": [
        "acc = clf.evaluate(X_test_, y_test_)\n",
        "print(acc)\n"
      ]
    },
    {
      "cell_type": "code",
      "execution_count": null,
      "id": "2096e079",
      "metadata": {
        "id": "2096e079",
        "outputId": "7648ed66-7b93-4c11-e81a-dfcc6e815d81"
      },
      "outputs": [
        {
          "name": "stdout",
          "output_type": "stream",
          "text": [
            "89/89 [==============================] - 0s 818us/step\n"
          ]
        }
      ],
      "source": [
        "y_pred = clf.predict(X_test_)\n",
        "#print(y_pred.T)"
      ]
    },
    {
      "cell_type": "code",
      "execution_count": null,
      "id": "6983e8cc",
      "metadata": {
        "id": "6983e8cc",
        "outputId": "5074aad8-1c68-4a1c-b1f2-40745f3d55d1"
      },
      "outputs": [
        {
          "name": "stdout",
          "output_type": "stream",
          "text": [
            "Model: \"model\"\n",
            "_________________________________________________________________\n",
            " Layer (type)                Output Shape              Param #   \n",
            "=================================================================\n",
            " input_1 (InputLayer)        [(None, 500)]             0         \n",
            "                                                                 \n",
            " classificador (Dense)       (None, 1)                 501       \n",
            "                                                                 \n",
            " activation (Activation)     (None, 1)                 0         \n",
            "                                                                 \n",
            "=================================================================\n",
            "Total params: 501\n",
            "Trainable params: 501\n",
            "Non-trainable params: 0\n",
            "_________________________________________________________________\n",
            "None\n"
          ]
        }
      ],
      "source": [
        "print(clf.summary())"
      ]
    },
    {
      "cell_type": "code",
      "execution_count": null,
      "id": "79f398c5",
      "metadata": {
        "id": "79f398c5",
        "outputId": "721f919b-624a-48dc-dab3-a145767f95a6"
      },
      "outputs": [
        {
          "name": "stdout",
          "output_type": "stream",
          "text": [
            "(500, 1)\n",
            "(1,)\n"
          ]
        }
      ],
      "source": [
        "\n",
        "print(clf.get_layer('classificador').weights[0].shape)\n",
        "print(clf.get_layer('classificador').weights[1].shape)"
      ]
    },
    {
      "cell_type": "code",
      "execution_count": null,
      "id": "135bc1e2",
      "metadata": {
        "id": "135bc1e2",
        "outputId": "e158c634-fdcc-4c86-ae64-4b2811ccb211"
      },
      "outputs": [
        {
          "name": "stdout",
          "output_type": "stream",
          "text": [
            "Epoch 1/5\n",
            "240/240 [==============================] - 1s 2ms/step - loss: 0.1294 - accuracy: 0.8239 - val_loss: 0.0231 - val_accuracy: 0.9660\n",
            "Epoch 2/5\n",
            "240/240 [==============================] - 0s 1ms/step - loss: 0.0145 - accuracy: 0.9746 - val_loss: 0.0091 - val_accuracy: 0.9848\n",
            "Epoch 3/5\n",
            "240/240 [==============================] - 0s 1ms/step - loss: 0.0067 - accuracy: 0.9914 - val_loss: 0.0046 - val_accuracy: 0.9988\n",
            "Epoch 4/5\n",
            "240/240 [==============================] - 0s 1ms/step - loss: 0.0037 - accuracy: 0.9999 - val_loss: 0.0025 - val_accuracy: 1.0000\n",
            "Epoch 5/5\n",
            "240/240 [==============================] - 0s 1ms/step - loss: 0.0020 - accuracy: 1.0000 - val_loss: 0.0013 - val_accuracy: 1.0000\n"
          ]
        }
      ],
      "source": [
        "clf = base_model()\n",
        "clf.compile(loss='mean_squared_error', metrics=['accuracy'])\n",
        "history = clf.fit(X_train_, y_train_, epochs=5, verbose=1, validation_split=0.1)"
      ]
    },
    {
      "cell_type": "code",
      "execution_count": null,
      "id": "e439e5bc",
      "metadata": {
        "id": "e439e5bc",
        "outputId": "aa1d7616-74af-4a12-9b0b-b735934db1eb"
      },
      "outputs": [
        {
          "data": {
            "image/png": "[encoded data removed]",
            "text/plain": [
              "<Figure size 1400x100 with 1 Axes>"
            ]
          },
          "metadata": {},
          "output_type": "display_data"
        },
        {
          "data": {
            "image/png": "[encoded data removed]",
            "text/plain": [
              "<Figure size 1400x100 with 1 Axes>"
            ]
          },
          "metadata": {},
          "output_type": "display_data"
        }
      ],
      "source": [
        "plt.figure(figsize=(14,1))\n",
        "plt.plot(history.history['loss'], label='loss')\n",
        "plt.plot(history.history['val_loss'], label='val_loss')\n",
        "plt.legend()\n",
        "plt.show()\n",
        "plt.figure(figsize=(14,1))\n",
        "plt.plot(history.history['accuracy'], label='accuracy')\n",
        "plt.plot(history.history['val_accuracy'], label='val_accuracy')\n",
        "plt.legend()\n",
        "plt.show()"
      ]
    },
    {
      "cell_type": "code",
      "execution_count": null,
      "id": "6677d705",
      "metadata": {
        "id": "6677d705"
      },
      "outputs": [],
      "source": [
        "from sklearn.preprocessing import OneHotEncoder\n",
        "\n",
        "ohe = OneHotEncoder()\n",
        "y_train_ = ohe.fit_transform(y_train.to_numpy().reshape((-1,1))).todense()\n",
        "y_test_ = ohe.transform(y_test.to_numpy().reshape((-1,1))).todense()"
      ]
    },
    {
      "cell_type": "code",
      "execution_count": null,
      "id": "77727551",
      "metadata": {
        "id": "77727551",
        "outputId": "49dfd05f-66a8-493a-f67d-19174e277d8b"
      },
      "outputs": [
        {
          "name": "stdout",
          "output_type": "stream",
          "text": [
            "Model: \"model_2\"\n",
            "_________________________________________________________________\n",
            " Layer (type)                Output Shape              Param #   \n",
            "=================================================================\n",
            " input_3 (InputLayer)        [(None, 500)]             0         \n",
            "                                                                 \n",
            " classificador (Dense)       (None, 2)                 1002      \n",
            "                                                                 \n",
            " activation_2 (Activation)   (None, 2)                 0         \n",
            "                                                                 \n",
            "=================================================================\n",
            "Total params: 1,002\n",
            "Trainable params: 1,002\n",
            "Non-trainable params: 0\n",
            "_________________________________________________________________\n",
            "None\n",
            "Epoch 1/5\n",
            "267/267 [==============================] - 1s 932us/step - loss: 0.5036 - accuracy: 0.8121\n",
            "Epoch 2/5\n",
            "267/267 [==============================] - 0s 1ms/step - loss: 0.4826 - accuracy: 0.8135\n",
            "Epoch 3/5\n",
            "267/267 [==============================] - 0s 1ms/step - loss: 0.4743 - accuracy: 0.8136\n",
            "Epoch 4/5\n",
            "267/267 [==============================] - 0s 910us/step - loss: 0.4700 - accuracy: 0.8136\n",
            "Epoch 5/5\n",
            "267/267 [==============================] - 0s 893us/step - loss: 0.4669 - accuracy: 0.8136\n",
            "89/89 [==============================] - 0s 886us/step - loss: 0.4871 - accuracy: 0.8075\n"
          ]
        },
        {
          "data": {
            "text/plain": [
              "[0.4870525896549225, 0.8075299263000488]"
            ]
          },
          "execution_count": 35,
          "metadata": {},
          "output_type": "execute_result"
        }
      ],
      "source": [
        "def softmax_model(vocab_size=500):\n",
        "    input_layer = Input(shape=(vocab_size,))\n",
        "    x = input_layer\n",
        "    x = Dense(2, name='classificador')(x)\n",
        "    x = Activation('softmax')(x)\n",
        "    return Model(input_layer, x)\n",
        "\n",
        "clf = softmax_model()\n",
        "print(clf.summary())\n",
        "clf.compile(loss='categorical_crossentropy', metrics=['accuracy'])\n",
        "history = clf.fit(X_train_, y_train_, epochs=5, verbose=1) # validation_split=0.1\n",
        "clf.evaluate(X_test_, y_test_)"
      ]
    },
    {
      "cell_type": "code",
      "execution_count": null,
      "id": "1b67678d",
      "metadata": {
        "id": "1b67678d",
        "outputId": "5b66a3f7-28e9-422a-9571-cf497cc694e7"
      },
      "outputs": [
        {
          "name": "stdout",
          "output_type": "stream",
          "text": [
            "89/89 [==============================] - 0s 739us/step\n",
            "(2842,)\n",
            "(2842,)\n",
            "true negative: 2295\n",
            "false positive: 2\n",
            "false negative: 545\n",
            "true negative: 0\n"
          ]
        }
      ],
      "source": [
        "from sklearn.metrics import confusion_matrix\n",
        "y_t = np.argmax(np.asarray(y_test_),axis=1).flatten()\n",
        "y_p = np.argmax(clf.predict(X_test_), axis=1)\n",
        "print(y_t.shape)\n",
        "print(y_p.shape)\n",
        "tn, fp, fn, tp = confusion_matrix(y_t, y_p).ravel()\n",
        "print(f\"true negative: {tn}\")\n",
        "print(f\"false positive: {fp}\")\n",
        "print(f\"false negative: {fn}\")\n",
        "print(f\"true negative: {tp}\")"
      ]
    },
    {
      "cell_type": "code",
      "execution_count": null,
      "id": "a97be4fc",
      "metadata": {
        "id": "a97be4fc",
        "outputId": "9a5e526d-dceb-4e45-a6c7-56f5cfe93351"
      },
      "outputs": [
        {
          "name": "stderr",
          "output_type": "stream",
          "text": [
            "100%|██████████████████████████████████████████████████████████████████████████████| 500/500 [00:00<00:00, 2403.88it/s]\n"
          ]
        }
      ],
      "source": [
        "from tqdm import tqdm\n",
        "weights = clf.get_layer('classificador').weights[0].numpy()\n",
        "CLASSE = 0\n",
        "for n in tqdm(range(len(vectorizer.vocabulary_))):\n",
        "    tuplas = [ (weights[vectorizer.vocabulary_[i],CLASSE], i) for i in vectorizer.vocabulary_.keys() ]\n",
        "    tuplas_ordenadas = sorted(tuplas, reverse=True) # reverse=True pede uma ordenação em ordem decrescente\n",
        "    palavras = [ t[1] for t in tuplas_ordenadas ]\n",
        "    contagens = [ t[0] for t in tuplas_ordenadas ]"
      ]
    },
    {
      "cell_type": "code",
      "execution_count": null,
      "id": "599cb703",
      "metadata": {
        "id": "599cb703",
        "outputId": "9e7b4087-1d65-4c62-af26-65748abe25bc"
      },
      "outputs": [
        {
          "data": {
            "image/png": "[encoded data removed]",
            "text/plain": [
              "<Figure size 1400x100 with 1 Axes>"
            ]
          },
          "metadata": {},
          "output_type": "display_data"
        }
      ],
      "source": [
        "n_palavras = 20\n",
        "\n",
        "plt.figure(figsize=(14,1))\n",
        "eixo_x = np.arange(n_palavras)\n",
        "plt.bar(eixo_x[0:n_palavras], contagens[0:n_palavras])\n",
        "plt.xticks(eixo_x[0:n_palavras], palavras[0:n_palavras], rotation=70)\n",
        "plt.title(\"Peso das palavras\")\n",
        "plt.show()"
      ]
    },
    {
      "cell_type": "markdown",
      "id": "550e0bb0",
      "metadata": {
        "id": "550e0bb0"
      },
      "source": [
        "# Embeddings"
      ]
    },
    {
      "cell_type": "code",
      "execution_count": 18,
      "id": "6c462bed",
      "metadata": {
        "id": "6c462bed"
      },
      "outputs": [],
      "source": [
        "import matplotlib.pyplot as plt\n",
        "import pandas as pd\n",
        "import numpy as np\n",
        "\n",
        "from sklearn.model_selection import train_test_split\n",
        "from sklearn.preprocessing import OneHotEncoder\n",
        "\n",
        "from keras.layers import Input, Dense, Activation, TextVectorization, Embedding, GlobalAveragePooling1D\n",
        "from keras.models import Model\n",
        "import tensorflow as tf"
      ]
    },
    {
      "cell_type": "code",
      "execution_count": null,
      "id": "6f8f6513",
      "metadata": {
        "id": "6f8f6513"
      },
      "outputs": [],
      "source": [
        "model_data = df_yu.copy()\n",
        "ohe = OneHotEncoder()\n",
        "y_ohe = ohe.fit_transform(model_data['isGood'].to_numpy().reshape((-1,1))).todense()\n",
        "X_train, X_test, y_train, y_test = train_test_split(model_data['text'], y_ohe)"
      ]
    },
    {
      "cell_type": "code",
      "execution_count": null,
      "id": "56742a7b",
      "metadata": {
        "id": "56742a7b",
        "outputId": "b90b7bc4-4a11-4cd3-cde5-b4d1240eda23"
      },
      "outputs": [
        {
          "name": "stdout",
          "output_type": "stream",
          "text": [
            "Model: \"model_3\"\n",
            "_________________________________________________________________\n",
            " Layer (type)                Output Shape              Param #   \n",
            "=================================================================\n",
            " input_4 (InputLayer)        [(None, 1)]               0         \n",
            "                                                                 \n",
            " text_vectorization (TextVec  (None, 1000)             0         \n",
            " torization)                                                     \n",
            "                                                                 \n",
            " classificador (Dense)       (None, 2)                 2002      \n",
            "                                                                 \n",
            " activation_3 (Activation)   (None, 2)                 0         \n",
            "                                                                 \n",
            "=================================================================\n",
            "Total params: 2,002\n",
            "Trainable params: 2,002\n",
            "Non-trainable params: 0\n",
            "_________________________________________________________________\n",
            "None\n",
            "Epoch 1/30\n",
            "267/267 [==============================] - 1s 2ms/step - loss: 0.5013 - accuracy: 0.8102\n",
            "Epoch 2/30\n",
            "267/267 [==============================] - 1s 2ms/step - loss: 0.4772 - accuracy: 0.8122\n",
            "Epoch 3/30\n",
            "267/267 [==============================] - 0s 2ms/step - loss: 0.4681 - accuracy: 0.8123\n",
            "Epoch 4/30\n",
            "267/267 [==============================] - 0s 2ms/step - loss: 0.4624 - accuracy: 0.8126\n",
            "Epoch 5/30\n",
            "267/267 [==============================] - 0s 2ms/step - loss: 0.4583 - accuracy: 0.8128\n",
            "Epoch 6/30\n",
            "267/267 [==============================] - 0s 2ms/step - loss: 0.4552 - accuracy: 0.8130\n",
            "Epoch 7/30\n",
            "267/267 [==============================] - 0s 2ms/step - loss: 0.4533 - accuracy: 0.8134\n",
            "Epoch 8/30\n",
            "267/267 [==============================] - 0s 2ms/step - loss: 0.4515 - accuracy: 0.8130\n",
            "Epoch 9/30\n",
            "267/267 [==============================] - 0s 2ms/step - loss: 0.4500 - accuracy: 0.8125\n",
            "Epoch 10/30\n",
            "267/267 [==============================] - 0s 2ms/step - loss: 0.4493 - accuracy: 0.8141\n",
            "Epoch 11/30\n",
            "267/267 [==============================] - 0s 2ms/step - loss: 0.4486 - accuracy: 0.8127\n",
            "Epoch 12/30\n",
            "267/267 [==============================] - 1s 2ms/step - loss: 0.4485 - accuracy: 0.8128\n",
            "Epoch 13/30\n",
            "267/267 [==============================] - 1s 2ms/step - loss: 0.4476 - accuracy: 0.8130\n",
            "Epoch 14/30\n",
            "267/267 [==============================] - 1s 2ms/step - loss: 0.4482 - accuracy: 0.8136\n",
            "Epoch 15/30\n",
            "267/267 [==============================] - 0s 2ms/step - loss: 0.4475 - accuracy: 0.8136\n",
            "Epoch 16/30\n",
            "267/267 [==============================] - 0s 2ms/step - loss: 0.4481 - accuracy: 0.8143\n",
            "Epoch 17/30\n",
            "267/267 [==============================] - 0s 2ms/step - loss: 0.4485 - accuracy: 0.8130\n",
            "Epoch 18/30\n",
            "267/267 [==============================] - 0s 2ms/step - loss: 0.4483 - accuracy: 0.8144\n",
            "Epoch 19/30\n",
            "267/267 [==============================] - 0s 2ms/step - loss: 0.4490 - accuracy: 0.8127\n",
            "Epoch 20/30\n",
            "267/267 [==============================] - 0s 2ms/step - loss: 0.4495 - accuracy: 0.8118\n",
            "Epoch 21/30\n",
            "267/267 [==============================] - 1s 2ms/step - loss: 0.4498 - accuracy: 0.8100\n",
            "Epoch 22/30\n",
            "267/267 [==============================] - 0s 2ms/step - loss: 0.4502 - accuracy: 0.8106\n",
            "Epoch 23/30\n",
            "267/267 [==============================] - 0s 2ms/step - loss: 0.4507 - accuracy: 0.8093\n",
            "Epoch 24/30\n",
            "267/267 [==============================] - 0s 2ms/step - loss: 0.4513 - accuracy: 0.8089\n",
            "Epoch 25/30\n",
            "267/267 [==============================] - 0s 2ms/step - loss: 0.4516 - accuracy: 0.8093\n",
            "Epoch 26/30\n",
            "267/267 [==============================] - 0s 2ms/step - loss: 0.4526 - accuracy: 0.8089\n",
            "Epoch 27/30\n",
            "267/267 [==============================] - 0s 2ms/step - loss: 0.4527 - accuracy: 0.8100\n",
            "Epoch 28/30\n",
            "267/267 [==============================] - 0s 2ms/step - loss: 0.4536 - accuracy: 0.8093\n",
            "Epoch 29/30\n",
            "267/267 [==============================] - 0s 2ms/step - loss: 0.4541 - accuracy: 0.8075\n",
            "Epoch 30/30\n",
            "267/267 [==============================] - 0s 2ms/step - loss: 0.4549 - accuracy: 0.8100\n",
            "89/89 [==============================] - 0s 2ms/step - loss: 0.5707 - accuracy: 0.7667\n"
          ]
        },
        {
          "data": {
            "text/plain": [
              "[0.5707269906997681, 0.766713559627533]"
            ]
          },
          "execution_count": 41,
          "metadata": {},
          "output_type": "execute_result"
        }
      ],
      "source": [
        "vocab_size = 1000\n",
        "def multihot_softmax_model(vectorize_layer, vocab_size=vocab_size):\n",
        "    input_layer = Input(shape=(1,), dtype=tf.string)\n",
        "    x = input_layer\n",
        "    x = vectorize_layer(x)\n",
        "    x = Dense(2, name='classificador')(x)\n",
        "    x = Activation('softmax')(x)\n",
        "    return Model(input_layer, x)\n",
        "\n",
        "vectorize_layer = TextVectorization(output_mode='multi_hot', max_tokens=vocab_size, pad_to_max_tokens=True)\n",
        "vectorize_layer.adapt(X_train)\n",
        "clf = multihot_softmax_model(vectorize_layer)\n",
        "print(clf.summary())\n",
        "clf.compile(loss='categorical_crossentropy', metrics=['accuracy'])\n",
        "history = clf.fit(X_train, y_train, epochs=30, verbose=1) # validation_split=0.1\n",
        "clf.evaluate(X_test, y_test)"
      ]
    },
    {
      "cell_type": "code",
      "execution_count": null,
      "id": "389125a6",
      "metadata": {
        "id": "389125a6",
        "outputId": "a1e85f79-ec28-46ed-f480-522250409313"
      },
      "outputs": [
        {
          "name": "stdout",
          "output_type": "stream",
          "text": [
            "89/89 [==============================] - 0s 1ms/step\n",
            "0 occurs 2612 times\n",
            "1 occurs 230 times\n"
          ]
        }
      ],
      "source": [
        "arr =np.argmax(clf.predict(X_test),axis=1)\n",
        "\n",
        "# Get unique values and their counts\n",
        "unique_values, counts = np.unique(arr, return_counts=True)\n",
        "\n",
        "# Print the unique values and their counts\n",
        "for value, count in zip(unique_values, counts):\n",
        "    print(f\"{value} occurs {count} times\")\n",
        "    "
      ]
    },
    {
      "cell_type": "code",
      "execution_count": null,
      "id": "809aa427",
      "metadata": {
        "id": "809aa427",
        "outputId": "fc6ad6ac-1cdf-47d2-80d7-55816847a38d"
      },
      "outputs": [
        {
          "name": "stdout",
          "output_type": "stream",
          "text": [
            "89/89 [==============================] - 0s 1ms/step\n",
            "(2842,)\n",
            "(2842,)\n",
            "true negative: 2127\n",
            "false positive: 178\n",
            "false negative: 485\n",
            "true negative: 52\n"
          ]
        }
      ],
      "source": [
        "from sklearn.metrics import confusion_matrix\n",
        "y_t = np.argmax(np.asarray(y_test),axis=1).flatten()\n",
        "y_p = np.argmax(clf.predict(X_test), axis=1)\n",
        "print(y_t.shape)\n",
        "print(y_p.shape)\n",
        "tn, fp, fn, tp = confusion_matrix(y_t, y_p).ravel()\n",
        "print(f\"true negative: {tn}\")\n",
        "print(f\"false positive: {fp}\")\n",
        "print(f\"false negative: {fn}\")\n",
        "print(f\"true negative: {tp}\")"
      ]
    },
    {
      "cell_type": "code",
      "execution_count": null,
      "id": "d46df080",
      "metadata": {
        "id": "d46df080",
        "outputId": "6cca1200-4df5-4471-cf24-fb5ef154525c"
      },
      "outputs": [
        {
          "ename": "InvalidArgumentError",
          "evalue": "Graph execution error:\n\nDetected at node 'model_3/text_vectorization/Squeeze' defined at (most recent call last):\n    File \"C:\\ProgramData\\Anaconda3\\lib\\runpy.py\", line 194, in _run_module_as_main\n      return _run_code(code, main_globals, None,\n    File \"C:\\ProgramData\\Anaconda3\\lib\\runpy.py\", line 87, in _run_code\n      exec(code, run_globals)\n    File \"C:\\ProgramData\\Anaconda3\\lib\\site-packages\\ipykernel_launcher.py\", line 17, in <module>\n      app.launch_new_instance()\n    File \"C:\\ProgramData\\Anaconda3\\lib\\site-packages\\traitlets\\config\\application.py\", line 992, in launch_instance\n      app.start()\n    File \"C:\\ProgramData\\Anaconda3\\lib\\site-packages\\ipykernel\\kernelapp.py\", line 711, in start\n      self.io_loop.start()\n    File \"C:\\ProgramData\\Anaconda3\\lib\\site-packages\\tornado\\platform\\asyncio.py\", line 215, in start\n      self.asyncio_loop.run_forever()\n    File \"C:\\ProgramData\\Anaconda3\\lib\\asyncio\\base_events.py\", line 570, in run_forever\n      self._run_once()\n    File \"C:\\ProgramData\\Anaconda3\\lib\\asyncio\\base_events.py\", line 1859, in _run_once\n      handle._run()\n    File \"C:\\ProgramData\\Anaconda3\\lib\\asyncio\\events.py\", line 81, in _run\n      self._context.run(self._callback, *self._args)\n    File \"C:\\ProgramData\\Anaconda3\\lib\\site-packages\\ipykernel\\kernelbase.py\", line 510, in dispatch_queue\n      await self.process_one()\n    File \"C:\\ProgramData\\Anaconda3\\lib\\site-packages\\ipykernel\\kernelbase.py\", line 499, in process_one\n      await dispatch(*args)\n    File \"C:\\ProgramData\\Anaconda3\\lib\\site-packages\\ipykernel\\kernelbase.py\", line 406, in dispatch_shell\n      await result\n    File \"C:\\ProgramData\\Anaconda3\\lib\\site-packages\\ipykernel\\kernelbase.py\", line 729, in execute_request\n      reply_content = await reply_content\n    File \"C:\\ProgramData\\Anaconda3\\lib\\site-packages\\ipykernel\\ipkernel.py\", line 411, in do_execute\n      res = shell.run_cell(\n    File \"C:\\ProgramData\\Anaconda3\\lib\\site-packages\\ipykernel\\zmqshell.py\", line 531, in run_cell\n      return super().run_cell(*args, **kwargs)\n    File \"C:\\ProgramData\\Anaconda3\\lib\\site-packages\\IPython\\core\\interactiveshell.py\", line 3006, in run_cell\n      result = self._run_cell(\n    File \"C:\\ProgramData\\Anaconda3\\lib\\site-packages\\IPython\\core\\interactiveshell.py\", line 3061, in _run_cell\n      result = runner(coro)\n    File \"C:\\ProgramData\\Anaconda3\\lib\\site-packages\\IPython\\core\\async_helpers.py\", line 129, in _pseudo_sync_runner\n      coro.send(None)\n    File \"C:\\ProgramData\\Anaconda3\\lib\\site-packages\\IPython\\core\\interactiveshell.py\", line 3266, in run_cell_async\n      has_raised = await self.run_ast_nodes(code_ast.body, cell_name,\n    File \"C:\\ProgramData\\Anaconda3\\lib\\site-packages\\IPython\\core\\interactiveshell.py\", line 3445, in run_ast_nodes\n      if await self.run_code(code, result, async_=asy):\n    File \"C:\\ProgramData\\Anaconda3\\lib\\site-packages\\IPython\\core\\interactiveshell.py\", line 3505, in run_code\n      exec(code_obj, self.user_global_ns, self.user_ns)\n    File \"C:\\Users\\Dell\\AppData\\Local\\Temp\\ipykernel_44884\\2070248538.py\", line 6, in <module>\n      y_pred_ohe = clf.predict(vocabulario)\n    File \"C:\\ProgramData\\Anaconda3\\lib\\site-packages\\keras\\utils\\traceback_utils.py\", line 65, in error_handler\n      return fn(*args, **kwargs)\n    File \"C:\\ProgramData\\Anaconda3\\lib\\site-packages\\keras\\engine\\training.py\", line 2350, in predict\n      tmp_batch_outputs = self.predict_function(iterator)\n    File \"C:\\ProgramData\\Anaconda3\\lib\\site-packages\\keras\\engine\\training.py\", line 2137, in predict_function\n      return step_function(self, iterator)\n    File \"C:\\ProgramData\\Anaconda3\\lib\\site-packages\\keras\\engine\\training.py\", line 2123, in step_function\n      outputs = model.distribute_strategy.run(run_step, args=(data,))\n    File \"C:\\ProgramData\\Anaconda3\\lib\\site-packages\\keras\\engine\\training.py\", line 2111, in run_step\n      outputs = model.predict_step(data)\n    File \"C:\\ProgramData\\Anaconda3\\lib\\site-packages\\keras\\engine\\training.py\", line 2079, in predict_step\n      return self(x, training=False)\n    File \"C:\\ProgramData\\Anaconda3\\lib\\site-packages\\keras\\utils\\traceback_utils.py\", line 65, in error_handler\n      return fn(*args, **kwargs)\n    File \"C:\\ProgramData\\Anaconda3\\lib\\site-packages\\keras\\engine\\training.py\", line 561, in __call__\n      return super().__call__(*args, **kwargs)\n    File \"C:\\ProgramData\\Anaconda3\\lib\\site-packages\\keras\\utils\\traceback_utils.py\", line 65, in error_handler\n      return fn(*args, **kwargs)\n    File \"C:\\ProgramData\\Anaconda3\\lib\\site-packages\\keras\\engine\\base_layer.py\", line 1132, in __call__\n      outputs = call_fn(inputs, *args, **kwargs)\n    File \"C:\\ProgramData\\Anaconda3\\lib\\site-packages\\keras\\utils\\traceback_utils.py\", line 96, in error_handler\n      return fn(*args, **kwargs)\n    File \"C:\\ProgramData\\Anaconda3\\lib\\site-packages\\keras\\engine\\functional.py\", line 511, in call\n      return self._run_internal_graph(inputs, training=training, mask=mask)\n    File \"C:\\ProgramData\\Anaconda3\\lib\\site-packages\\keras\\engine\\functional.py\", line 668, in _run_internal_graph\n      outputs = node.layer(*args, **kwargs)\n    File \"C:\\ProgramData\\Anaconda3\\lib\\site-packages\\keras\\utils\\traceback_utils.py\", line 65, in error_handler\n      return fn(*args, **kwargs)\n    File \"C:\\ProgramData\\Anaconda3\\lib\\site-packages\\keras\\engine\\base_layer.py\", line 1132, in __call__\n      outputs = call_fn(inputs, *args, **kwargs)\n    File \"C:\\ProgramData\\Anaconda3\\lib\\site-packages\\keras\\utils\\traceback_utils.py\", line 96, in error_handler\n      return fn(*args, **kwargs)\n    File \"C:\\ProgramData\\Anaconda3\\lib\\site-packages\\keras\\layers\\preprocessing\\text_vectorization.py\", line 608, in call\n      inputs = self._preprocess(inputs)\n    File \"C:\\ProgramData\\Anaconda3\\lib\\site-packages\\keras\\layers\\preprocessing\\text_vectorization.py\", line 577, in _preprocess\n      inputs = tf.squeeze(inputs, axis=-1)\nNode: 'model_3/text_vectorization/Squeeze'\nCan not squeeze dim[0], expected a dimension of 1, got 32\n\t [[{{node model_3/text_vectorization/Squeeze}}]] [Op:__inference_predict_function_56723]",
          "output_type": "error",
          "traceback": [
            "\u001b[1;31m---------------------------------------------------------------------------\u001b[0m",
            "\u001b[1;31mInvalidArgumentError\u001b[0m                      Traceback (most recent call last)",
            "Cell \u001b[1;32mIn[45], line 6\u001b[0m\n\u001b[0;32m      4\u001b[0m projecoes \u001b[38;5;241m=\u001b[39m clf\u001b[38;5;241m.\u001b[39mget_layer(\u001b[38;5;124m'\u001b[39m\u001b[38;5;124mclassificador\u001b[39m\u001b[38;5;124m'\u001b[39m)\u001b[38;5;241m.\u001b[39mget_weights()[\u001b[38;5;241m0\u001b[39m]\n\u001b[0;32m      5\u001b[0m vocabulario \u001b[38;5;241m=\u001b[39m vectorize_layer\u001b[38;5;241m.\u001b[39mget_vocabulary()\n\u001b[1;32m----> 6\u001b[0m y_pred_ohe \u001b[38;5;241m=\u001b[39m \u001b[43mclf\u001b[49m\u001b[38;5;241;43m.\u001b[39;49m\u001b[43mpredict\u001b[49m\u001b[43m(\u001b[49m\u001b[43mvocabulario\u001b[49m\u001b[43m)\u001b[49m\n\u001b[0;32m      7\u001b[0m y_pred \u001b[38;5;241m=\u001b[39m ohe\u001b[38;5;241m.\u001b[39minverse_transform(y_pred_ohe)\n\u001b[0;32m      9\u001b[0m df \u001b[38;5;241m=\u001b[39m pd\u001b[38;5;241m.\u001b[39mDataFrame()\n",
            "File \u001b[1;32mC:\\ProgramData\\Anaconda3\\lib\\site-packages\\keras\\utils\\traceback_utils.py:70\u001b[0m, in \u001b[0;36mfilter_traceback.<locals>.error_handler\u001b[1;34m(*args, **kwargs)\u001b[0m\n\u001b[0;32m     67\u001b[0m     filtered_tb \u001b[38;5;241m=\u001b[39m _process_traceback_frames(e\u001b[38;5;241m.\u001b[39m__traceback__)\n\u001b[0;32m     68\u001b[0m     \u001b[38;5;66;03m# To get the full stack trace, call:\u001b[39;00m\n\u001b[0;32m     69\u001b[0m     \u001b[38;5;66;03m# `tf.debugging.disable_traceback_filtering()`\u001b[39;00m\n\u001b[1;32m---> 70\u001b[0m     \u001b[38;5;28;01mraise\u001b[39;00m e\u001b[38;5;241m.\u001b[39mwith_traceback(filtered_tb) \u001b[38;5;28;01mfrom\u001b[39;00m \u001b[38;5;28;01mNone\u001b[39;00m\n\u001b[0;32m     71\u001b[0m \u001b[38;5;28;01mfinally\u001b[39;00m:\n\u001b[0;32m     72\u001b[0m     \u001b[38;5;28;01mdel\u001b[39;00m filtered_tb\n",
            "File \u001b[1;32mC:\\ProgramData\\Anaconda3\\lib\\site-packages\\tensorflow\\python\\eager\\execute.py:52\u001b[0m, in \u001b[0;36mquick_execute\u001b[1;34m(op_name, num_outputs, inputs, attrs, ctx, name)\u001b[0m\n\u001b[0;32m     50\u001b[0m \u001b[38;5;28;01mtry\u001b[39;00m:\n\u001b[0;32m     51\u001b[0m   ctx\u001b[38;5;241m.\u001b[39mensure_initialized()\n\u001b[1;32m---> 52\u001b[0m   tensors \u001b[38;5;241m=\u001b[39m pywrap_tfe\u001b[38;5;241m.\u001b[39mTFE_Py_Execute(ctx\u001b[38;5;241m.\u001b[39m_handle, device_name, op_name,\n\u001b[0;32m     53\u001b[0m                                       inputs, attrs, num_outputs)\n\u001b[0;32m     54\u001b[0m \u001b[38;5;28;01mexcept\u001b[39;00m core\u001b[38;5;241m.\u001b[39m_NotOkStatusException \u001b[38;5;28;01mas\u001b[39;00m e:\n\u001b[0;32m     55\u001b[0m   \u001b[38;5;28;01mif\u001b[39;00m name \u001b[38;5;129;01mis\u001b[39;00m \u001b[38;5;129;01mnot\u001b[39;00m \u001b[38;5;28;01mNone\u001b[39;00m:\n",
            "\u001b[1;31mInvalidArgumentError\u001b[0m: Graph execution error:\n\nDetected at node 'model_3/text_vectorization/Squeeze' defined at (most recent call last):\n    File \"C:\\ProgramData\\Anaconda3\\lib\\runpy.py\", line 194, in _run_module_as_main\n      return _run_code(code, main_globals, None,\n    File \"C:\\ProgramData\\Anaconda3\\lib\\runpy.py\", line 87, in _run_code\n      exec(code, run_globals)\n    File \"C:\\ProgramData\\Anaconda3\\lib\\site-packages\\ipykernel_launcher.py\", line 17, in <module>\n      app.launch_new_instance()\n    File \"C:\\ProgramData\\Anaconda3\\lib\\site-packages\\traitlets\\config\\application.py\", line 992, in launch_instance\n      app.start()\n    File \"C:\\ProgramData\\Anaconda3\\lib\\site-packages\\ipykernel\\kernelapp.py\", line 711, in start\n      self.io_loop.start()\n    File \"C:\\ProgramData\\Anaconda3\\lib\\site-packages\\tornado\\platform\\asyncio.py\", line 215, in start\n      self.asyncio_loop.run_forever()\n    File \"C:\\ProgramData\\Anaconda3\\lib\\asyncio\\base_events.py\", line 570, in run_forever\n      self._run_once()\n    File \"C:\\ProgramData\\Anaconda3\\lib\\asyncio\\base_events.py\", line 1859, in _run_once\n      handle._run()\n    File \"C:\\ProgramData\\Anaconda3\\lib\\asyncio\\events.py\", line 81, in _run\n      self._context.run(self._callback, *self._args)\n    File \"C:\\ProgramData\\Anaconda3\\lib\\site-packages\\ipykernel\\kernelbase.py\", line 510, in dispatch_queue\n      await self.process_one()\n    File \"C:\\ProgramData\\Anaconda3\\lib\\site-packages\\ipykernel\\kernelbase.py\", line 499, in process_one\n      await dispatch(*args)\n    File \"C:\\ProgramData\\Anaconda3\\lib\\site-packages\\ipykernel\\kernelbase.py\", line 406, in dispatch_shell\n      await result\n    File \"C:\\ProgramData\\Anaconda3\\lib\\site-packages\\ipykernel\\kernelbase.py\", line 729, in execute_request\n      reply_content = await reply_content\n    File \"C:\\ProgramData\\Anaconda3\\lib\\site-packages\\ipykernel\\ipkernel.py\", line 411, in do_execute\n      res = shell.run_cell(\n    File \"C:\\ProgramData\\Anaconda3\\lib\\site-packages\\ipykernel\\zmqshell.py\", line 531, in run_cell\n      return super().run_cell(*args, **kwargs)\n    File \"C:\\ProgramData\\Anaconda3\\lib\\site-packages\\IPython\\core\\interactiveshell.py\", line 3006, in run_cell\n      result = self._run_cell(\n    File \"C:\\ProgramData\\Anaconda3\\lib\\site-packages\\IPython\\core\\interactiveshell.py\", line 3061, in _run_cell\n      result = runner(coro)\n    File \"C:\\ProgramData\\Anaconda3\\lib\\site-packages\\IPython\\core\\async_helpers.py\", line 129, in _pseudo_sync_runner\n      coro.send(None)\n    File \"C:\\ProgramData\\Anaconda3\\lib\\site-packages\\IPython\\core\\interactiveshell.py\", line 3266, in run_cell_async\n      has_raised = await self.run_ast_nodes(code_ast.body, cell_name,\n    File \"C:\\ProgramData\\Anaconda3\\lib\\site-packages\\IPython\\core\\interactiveshell.py\", line 3445, in run_ast_nodes\n      if await self.run_code(code, result, async_=asy):\n    File \"C:\\ProgramData\\Anaconda3\\lib\\site-packages\\IPython\\core\\interactiveshell.py\", line 3505, in run_code\n      exec(code_obj, self.user_global_ns, self.user_ns)\n    File \"C:\\Users\\Dell\\AppData\\Local\\Temp\\ipykernel_44884\\2070248538.py\", line 6, in <module>\n      y_pred_ohe = clf.predict(vocabulario)\n    File \"C:\\ProgramData\\Anaconda3\\lib\\site-packages\\keras\\utils\\traceback_utils.py\", line 65, in error_handler\n      return fn(*args, **kwargs)\n    File \"C:\\ProgramData\\Anaconda3\\lib\\site-packages\\keras\\engine\\training.py\", line 2350, in predict\n      tmp_batch_outputs = self.predict_function(iterator)\n    File \"C:\\ProgramData\\Anaconda3\\lib\\site-packages\\keras\\engine\\training.py\", line 2137, in predict_function\n      return step_function(self, iterator)\n    File \"C:\\ProgramData\\Anaconda3\\lib\\site-packages\\keras\\engine\\training.py\", line 2123, in step_function\n      outputs = model.distribute_strategy.run(run_step, args=(data,))\n    File \"C:\\ProgramData\\Anaconda3\\lib\\site-packages\\keras\\engine\\training.py\", line 2111, in run_step\n      outputs = model.predict_step(data)\n    File \"C:\\ProgramData\\Anaconda3\\lib\\site-packages\\keras\\engine\\training.py\", line 2079, in predict_step\n      return self(x, training=False)\n    File \"C:\\ProgramData\\Anaconda3\\lib\\site-packages\\keras\\utils\\traceback_utils.py\", line 65, in error_handler\n      return fn(*args, **kwargs)\n    File \"C:\\ProgramData\\Anaconda3\\lib\\site-packages\\keras\\engine\\training.py\", line 561, in __call__\n      return super().__call__(*args, **kwargs)\n    File \"C:\\ProgramData\\Anaconda3\\lib\\site-packages\\keras\\utils\\traceback_utils.py\", line 65, in error_handler\n      return fn(*args, **kwargs)\n    File \"C:\\ProgramData\\Anaconda3\\lib\\site-packages\\keras\\engine\\base_layer.py\", line 1132, in __call__\n      outputs = call_fn(inputs, *args, **kwargs)\n    File \"C:\\ProgramData\\Anaconda3\\lib\\site-packages\\keras\\utils\\traceback_utils.py\", line 96, in error_handler\n      return fn(*args, **kwargs)\n    File \"C:\\ProgramData\\Anaconda3\\lib\\site-packages\\keras\\engine\\functional.py\", line 511, in call\n      return self._run_internal_graph(inputs, training=training, mask=mask)\n    File \"C:\\ProgramData\\Anaconda3\\lib\\site-packages\\keras\\engine\\functional.py\", line 668, in _run_internal_graph\n      outputs = node.layer(*args, **kwargs)\n    File \"C:\\ProgramData\\Anaconda3\\lib\\site-packages\\keras\\utils\\traceback_utils.py\", line 65, in error_handler\n      return fn(*args, **kwargs)\n    File \"C:\\ProgramData\\Anaconda3\\lib\\site-packages\\keras\\engine\\base_layer.py\", line 1132, in __call__\n      outputs = call_fn(inputs, *args, **kwargs)\n    File \"C:\\ProgramData\\Anaconda3\\lib\\site-packages\\keras\\utils\\traceback_utils.py\", line 96, in error_handler\n      return fn(*args, **kwargs)\n    File \"C:\\ProgramData\\Anaconda3\\lib\\site-packages\\keras\\layers\\preprocessing\\text_vectorization.py\", line 608, in call\n      inputs = self._preprocess(inputs)\n    File \"C:\\ProgramData\\Anaconda3\\lib\\site-packages\\keras\\layers\\preprocessing\\text_vectorization.py\", line 577, in _preprocess\n      inputs = tf.squeeze(inputs, axis=-1)\nNode: 'model_3/text_vectorization/Squeeze'\nCan not squeeze dim[0], expected a dimension of 1, got 32\n\t [[{{node model_3/text_vectorization/Squeeze}}]] [Op:__inference_predict_function_56723]"
          ]
        }
      ],
      "source": [
        "import plotly.express as px\n",
        "\n",
        "# Visualização: onde foi parar cada palavra?\n",
        "projecoes = clf.get_layer('classificador').get_weights()[0]\n",
        "vocabulario = vectorize_layer.get_vocabulary()\n",
        "y_pred_ohe = clf.predict(vocabulario)\n",
        "y_pred = ohe.inverse_transform(y_pred_ohe)\n",
        "\n",
        "df = pd.DataFrame()\n",
        "df['dim_1'] = projecoes[:,0]\n",
        "df['dim_2'] = projecoes[:,1]\n",
        "df['word'] = vocabulario\n",
        "df['prediction'] = y_pred\n",
        "\n",
        "px.scatter(df, x=\"dim_1\", y=\"dim_2\", color=\"prediction\", hover_data=[\"word\"], title=\"Onde foi cada palavra?\", width=600, height=600)\n"
      ]
    },
    {
      "cell_type": "code",
      "execution_count": null,
      "id": "6d09ae51",
      "metadata": {
        "id": "6d09ae51",
        "outputId": "82c6302a-e68f-4bcf-c1c7-036148aa538c"
      },
      "outputs": [
        {
          "ename": "NameError",
          "evalue": "name 'df' is not defined",
          "output_type": "error",
          "traceback": [
            "\u001b[1;31m---------------------------------------------------------------------------\u001b[0m",
            "\u001b[1;31mNameError\u001b[0m                                 Traceback (most recent call last)",
            "Cell \u001b[1;32mIn[46], line 3\u001b[0m\n\u001b[0;32m      1\u001b[0m \u001b[38;5;28;01mimport\u001b[39;00m \u001b[38;5;21;01mplotly\u001b[39;00m\u001b[38;5;21;01m.\u001b[39;00m\u001b[38;5;21;01mexpress\u001b[39;00m \u001b[38;5;28;01mas\u001b[39;00m \u001b[38;5;21;01mpx\u001b[39;00m\n\u001b[0;32m      2\u001b[0m \u001b[38;5;66;03m#df = pd.read_csv('embeddings_over_epochs.csv') # Gravei esse arquivo antecipadamente - demora muito para refazê-lo!\u001b[39;00m\n\u001b[1;32m----> 3\u001b[0m \u001b[43mdf\u001b[49m\u001b[38;5;241m.\u001b[39mhead()\n\u001b[0;32m      4\u001b[0m df[\u001b[38;5;124m'\u001b[39m\u001b[38;5;124mprediction\u001b[39m\u001b[38;5;124m'\u001b[39m][\u001b[38;5;241m0\u001b[39m] \u001b[38;5;241m=\u001b[39m \u001b[38;5;124m'\u001b[39m\u001b[38;5;124mpositive\u001b[39m\u001b[38;5;124m'\u001b[39m \u001b[38;5;66;03m# Isso é definitivamente um hack. Sem isso, o plotly não vê o label 'positive' na primeira época, e começa a remover o label 'positive' dos plots subsequentes.\u001b[39;00m\n\u001b[0;32m      6\u001b[0m px\u001b[38;5;241m.\u001b[39mscatter(df, x\u001b[38;5;241m=\u001b[39m\u001b[38;5;124m\"\u001b[39m\u001b[38;5;124mdim_1\u001b[39m\u001b[38;5;124m\"\u001b[39m, y\u001b[38;5;241m=\u001b[39m\u001b[38;5;124m\"\u001b[39m\u001b[38;5;124mdim_2\u001b[39m\u001b[38;5;124m\"\u001b[39m, animation_group\u001b[38;5;241m=\u001b[39m\u001b[38;5;124m\"\u001b[39m\u001b[38;5;124mword\u001b[39m\u001b[38;5;124m\"\u001b[39m,\n\u001b[0;32m      7\u001b[0m             color\u001b[38;5;241m=\u001b[39m\u001b[38;5;124m\"\u001b[39m\u001b[38;5;124mprediction\u001b[39m\u001b[38;5;124m\"\u001b[39m, hover_name\u001b[38;5;241m=\u001b[39m\u001b[38;5;124m\"\u001b[39m\u001b[38;5;124mword\u001b[39m\u001b[38;5;124m\"\u001b[39m, title\u001b[38;5;241m=\u001b[39m\u001b[38;5;124m\"\u001b[39m\u001b[38;5;124mTraining a 2D word embedding for sentiment analysis <br><sup>Where did each word go in the embedding space?</sup>\u001b[39m\u001b[38;5;124m\"\u001b[39m,\n\u001b[0;32m      8\u001b[0m           range_x\u001b[38;5;241m=\u001b[39m[\u001b[38;5;241m-\u001b[39m\u001b[38;5;241m15\u001b[39m,\u001b[38;5;241m15\u001b[39m], range_y\u001b[38;5;241m=\u001b[39m[\u001b[38;5;241m-\u001b[39m\u001b[38;5;241m15\u001b[39m,\u001b[38;5;241m15\u001b[39m],\n\u001b[0;32m      9\u001b[0m           width\u001b[38;5;241m=\u001b[39m\u001b[38;5;241m800\u001b[39m, height\u001b[38;5;241m=\u001b[39m\u001b[38;5;241m800\u001b[39m\n\u001b[0;32m     10\u001b[0m           )\n",
            "\u001b[1;31mNameError\u001b[0m: name 'df' is not defined"
          ]
        }
      ],
      "source": [
        "import plotly.express as px\n",
        "#df = pd.read_csv('embeddings_over_epochs.csv') # Gravei esse arquivo antecipadamente - demora muito para refazê-lo!\n",
        "df.head()\n",
        "df['prediction'][0] = 'positive' # Isso é definitivamente um hack. Sem isso, o plotly não vê o label 'positive' na primeira época, e começa a remover o label 'positive' dos plots subsequentes.\n",
        "\n",
        "px.scatter(df, x=\"dim_1\", y=\"dim_2\", animation_group=\"word\",\n",
        "            color=\"prediction\", hover_name=\"word\", title=\"Training a 2D word embedding for sentiment analysis <br><sup>Where did each word go in the embedding space?</sup>\",\n",
        "          range_x=[-15,15], range_y=[-15,15],\n",
        "          width=800, height=800\n",
        "          )"
      ]
    },
    {
      "cell_type": "markdown",
      "id": "52e55474",
      "metadata": {
        "id": "52e55474"
      },
      "source": [
        "## Rede Pré-Treinada"
      ]
    },
    {
      "cell_type": "code",
      "execution_count": 8,
      "id": "8a926588",
      "metadata": {
        "id": "8a926588"
      },
      "outputs": [],
      "source": [
        "model_data = df_yu.copy()"
      ]
    },
    {
      "cell_type": "code",
      "source": [
        "!pip install transformers"
      ],
      "metadata": {
        "id": "FvECLtby64Ci",
        "outputId": "07d0732c-e95a-4660-936e-9c4921a99c43",
        "colab": {
          "base_uri": "https://localhost:8080/"
        }
      },
      "id": "FvECLtby64Ci",
      "execution_count": 10,
      "outputs": [
        {
          "output_type": "stream",
          "name": "stdout",
          "text": [
            "Looking in indexes: https://pypi.org/simple, https://us-python.pkg.dev/colab-wheels/public/simple/\n",
            "Collecting transformers\n",
            "  Downloading transformers-4.29.2-py3-none-any.whl (7.1 MB)\n",
            "\u001b[2K     \u001b[90m━━━━━━━━━━━━━━━━━━━━━━━━━━━━━━━━━━━━━━━━\u001b[0m \u001b[32m7.1/7.1 MB\u001b[0m \u001b[31m60.5 MB/s\u001b[0m eta \u001b[36m0:00:00\u001b[0m\n",
            "\u001b[?25hRequirement already satisfied: filelock in /usr/local/lib/python3.10/dist-packages (from transformers) (3.12.0)\n",
            "Collecting huggingface-hub<1.0,>=0.14.1 (from transformers)\n",
            "  Downloading huggingface_hub-0.15.1-py3-none-any.whl (236 kB)\n",
            "\u001b[2K     \u001b[90m━━━━━━━━━━━━━━━━━━━━━━━━━━━━━━━━━━━━━━\u001b[0m \u001b[32m236.8/236.8 kB\u001b[0m \u001b[31m28.3 MB/s\u001b[0m eta \u001b[36m0:00:00\u001b[0m\n",
            "\u001b[?25hRequirement already satisfied: numpy>=1.17 in /usr/local/lib/python3.10/dist-packages (from transformers) (1.22.4)\n",
            "Requirement already satisfied: packaging>=20.0 in /usr/local/lib/python3.10/dist-packages (from transformers) (23.1)\n",
            "Requirement already satisfied: pyyaml>=5.1 in /usr/local/lib/python3.10/dist-packages (from transformers) (6.0)\n",
            "Requirement already satisfied: regex!=2019.12.17 in /usr/local/lib/python3.10/dist-packages (from transformers) (2022.10.31)\n",
            "Requirement already satisfied: requests in /usr/local/lib/python3.10/dist-packages (from transformers) (2.27.1)\n",
            "Collecting tokenizers!=0.11.3,<0.14,>=0.11.1 (from transformers)\n",
            "  Downloading tokenizers-0.13.3-cp310-cp310-manylinux_2_17_x86_64.manylinux2014_x86_64.whl (7.8 MB)\n",
            "\u001b[2K     \u001b[90m━━━━━━━━━━━━━━━━━━━━━━━━━━━━━━━━━━━━━━━━\u001b[0m \u001b[32m7.8/7.8 MB\u001b[0m \u001b[31m124.7 MB/s\u001b[0m eta \u001b[36m0:00:00\u001b[0m\n",
            "\u001b[?25hRequirement already satisfied: tqdm>=4.27 in /usr/local/lib/python3.10/dist-packages (from transformers) (4.65.0)\n",
            "Requirement already satisfied: fsspec in /usr/local/lib/python3.10/dist-packages (from huggingface-hub<1.0,>=0.14.1->transformers) (2023.4.0)\n",
            "Requirement already satisfied: typing-extensions>=3.7.4.3 in /usr/local/lib/python3.10/dist-packages (from huggingface-hub<1.0,>=0.14.1->transformers) (4.5.0)\n",
            "Requirement already satisfied: urllib3<1.27,>=1.21.1 in /usr/local/lib/python3.10/dist-packages (from requests->transformers) (1.26.15)\n",
            "Requirement already satisfied: certifi>=2017.4.17 in /usr/local/lib/python3.10/dist-packages (from requests->transformers) (2022.12.7)\n",
            "Requirement already satisfied: charset-normalizer~=2.0.0 in /usr/local/lib/python3.10/dist-packages (from requests->transformers) (2.0.12)\n",
            "Requirement already satisfied: idna<4,>=2.5 in /usr/local/lib/python3.10/dist-packages (from requests->transformers) (3.4)\n",
            "Installing collected packages: tokenizers, huggingface-hub, transformers\n",
            "Successfully installed huggingface-hub-0.15.1 tokenizers-0.13.3 transformers-4.29.2\n"
          ]
        }
      ]
    },
    {
      "cell_type": "code",
      "source": [
        "from tensorflow import keras\n",
        "from transformers import TFAutoModel\n",
        "\n",
        "\n",
        "def load_pretrained_model(vocab_size):\n",
        "    # Load the pre-trained model\n",
        "    pretrained_model = TFAutoModel.from_pretrained('google/mobilebert-uncased')\n",
        "\n",
        "\n",
        "    # Remove the softmax layer from the pre-trained model\n",
        "    pretrained_model.layers.pop() \n",
        "\n",
        "    # Freeze the weights of the pre-trained layers\n",
        "    for layer in pretrained_model.layers:\n",
        "        layer.trainable = False\n",
        "\n",
        "    # Create the new model architecture\n",
        "    input_layer = Input(shape=(1,), dtype=tf.string)\n",
        "    x = input_layer\n",
        "    x = vectorize_layer(x)\n",
        "    x = tf.cast(x, tf.int32)  # Cast the vectorized input to int32\n",
        "    x = pretrained_model(x)[0]  # Use only the pooled output\n",
        "    x = tf.keras.layers.GlobalAveragePooling1D()(x)  # Pooling layer to reduce dimensions\n",
        "    x = Dense(2, name='classificador')(x)\n",
        "    x = Activation('softmax')(x)\n",
        "    \n",
        "    model = Model(input_layer, x)\n",
        "    return model\n",
        "\n"
      ],
      "metadata": {
        "id": "r-dNkl0NEtMk"
      },
      "id": "r-dNkl0NEtMk",
      "execution_count": 42,
      "outputs": []
    },
    {
      "cell_type": "code",
      "execution_count": 55,
      "id": "23abbc42",
      "metadata": {
        "id": "23abbc42"
      },
      "outputs": [],
      "source": [
        "model_data = df_yu.copy()\n",
        "ohe = OneHotEncoder()\n",
        "y_ohe = ohe.fit_transform(model_data['isGood'].to_numpy().reshape((-1,1))).todense()\n",
        "X_train, X_test, y_train, y_test = train_test_split(model_data['text'], y_ohe)\n",
        "\n",
        "#ohe = OneHotEncoder()\n",
        "y_t = model_data['isGood']\n",
        "#y_ohe = ohe.fit_transform(model_data['isGood'].to_numpy().reshape((-1,1))).todense()\n",
        "X = model_data['text']"
      ]
    },
    {
      "cell_type": "code",
      "source": [
        "vocab_size = 1000\n",
        "\n",
        "vectorize_layer = TextVectorization(output_mode='multi_hot', max_tokens=vocab_size, pad_to_max_tokens=True)\n",
        "vectorize_layer.adapt(X_train)\n",
        "\n"
      ],
      "metadata": {
        "id": "qVCp4hmSGImq"
      },
      "id": "qVCp4hmSGImq",
      "execution_count": 44,
      "outputs": []
    },
    {
      "cell_type": "code",
      "source": [
        "clf = load_pretrained_model(vocab_size)\n",
        "print(clf.summary())\n"
      ],
      "metadata": {
        "id": "tJJ9A_WiGNQR",
        "outputId": "98274f14-9045-49d7-82a5-1b5ec72d1fdc",
        "colab": {
          "base_uri": "https://localhost:8080/"
        }
      },
      "id": "tJJ9A_WiGNQR",
      "execution_count": 45,
      "outputs": [
        {
          "output_type": "stream",
          "name": "stderr",
          "text": [
            "Some layers from the model checkpoint at google/mobilebert-uncased were not used when initializing TFMobileBertModel: ['predictions___cls', 'seq_relationship___cls']\n",
            "- This IS expected if you are initializing TFMobileBertModel from the checkpoint of a model trained on another task or with another architecture (e.g. initializing a BertForSequenceClassification model from a BertForPreTraining model).\n",
            "- This IS NOT expected if you are initializing TFMobileBertModel from the checkpoint of a model that you expect to be exactly identical (initializing a BertForSequenceClassification model from a BertForSequenceClassification model).\n",
            "All the layers of TFMobileBertModel were initialized from the model checkpoint at google/mobilebert-uncased.\n",
            "If your task is similar to the task the model of the checkpoint was trained on, you can already use TFMobileBertModel for predictions without further training.\n"
          ]
        },
        {
          "output_type": "stream",
          "name": "stdout",
          "text": [
            "Model: \"model_2\"\n",
            "_________________________________________________________________\n",
            " Layer (type)                Output Shape              Param #   \n",
            "=================================================================\n",
            " input_5 (InputLayer)        [(None, 1)]               0         \n",
            "                                                                 \n",
            " text_vectorization_5 (TextV  (None, 1000)             0         \n",
            " ectorization)                                                   \n",
            "                                                                 \n",
            " tf.cast_2 (TFOpLambda)      (None, 1000)              0         \n",
            "                                                                 \n",
            " tf_mobile_bert_model_4 (TFM  TFBaseModelOutputWithPoo  24581888 \n",
            " obileBertModel)             ling(last_hidden_state=(            \n",
            "                             None, 1000, 512),                   \n",
            "                              pooler_output=(None, 51            \n",
            "                             2),                                 \n",
            "                              hidden_states=None, att            \n",
            "                             entions=None)                       \n",
            "                                                                 \n",
            " global_average_pooling1d (G  (None, 512)              0         \n",
            " lobalAveragePooling1D)                                          \n",
            "                                                                 \n",
            " classificador (Dense)       (None, 2)                 1026      \n",
            "                                                                 \n",
            " activation_2 (Activation)   (None, 2)                 0         \n",
            "                                                                 \n",
            "=================================================================\n",
            "Total params: 24,582,914\n",
            "Trainable params: 1,026\n",
            "Non-trainable params: 24,581,888\n",
            "_________________________________________________________________\n",
            "None\n"
          ]
        }
      ]
    },
    {
      "cell_type": "code",
      "source": [
        "\n",
        "clf.compile(loss='categorical_crossentropy', metrics=['accuracy'])\n",
        "#history = clf.fit(X_train, y_train, epochs=30, verbose=1) # validation_split=0.1\n",
        "#X_test_vectorized = vectorize_layer(X_test).numpy()\n",
        "evaluation = clf.evaluate(X_test, y_test)\n",
        "print(\"Loss:\", evaluation[0])\n",
        "print(\"Accuracy:\", evaluation[1])"
      ],
      "metadata": {
        "id": "KRSz4370GNSp",
        "outputId": "06f8185d-e927-4117-d7fa-7969a6ae7914",
        "colab": {
          "base_uri": "https://localhost:8080/"
        }
      },
      "id": "KRSz4370GNSp",
      "execution_count": 57,
      "outputs": [
        {
          "output_type": "stream",
          "name": "stdout",
          "text": [
            "89/89 [==============================] - 158s 1s/step - loss: 227.1527 - accuracy: 0.8237\n",
            "Loss: 227.15272521972656\n",
            "Accuracy: 0.8237156867980957\n"
          ]
        }
      ]
    },
    {
      "cell_type": "code",
      "source": [
        "from sklearn.metrics import confusion_matrix\n",
        "y_t = np.argmax(np.asarray(y_test),axis=1).flatten()\n",
        "y_p = np.argmax(clf.predict(X_test), axis=1)\n",
        "print(y_t.shape)\n",
        "print(y_p.shape)\n",
        "tn, fp, fn, tp = confusion_matrix(y_t, y_p).ravel()\n",
        "print(f\"true negative: {tn}\")\n",
        "print(f\"false positive: {fp}\")\n",
        "print(f\"false negative: {fn}\")\n",
        "print(f\"true negative: {tp}\")"
      ],
      "metadata": {
        "id": "dZELvfI2GNWC",
        "outputId": "919a4e41-9399-4de1-d8ee-524b21635ef9",
        "colab": {
          "base_uri": "https://localhost:8080/"
        }
      },
      "id": "dZELvfI2GNWC",
      "execution_count": 58,
      "outputs": [
        {
          "output_type": "stream",
          "name": "stdout",
          "text": [
            "89/89 [==============================] - 143s 1s/step\n",
            "(2842,)\n",
            "(2842,)\n",
            "true negative: 2341\n",
            "false positive: 0\n",
            "false negative: 501\n",
            "true negative: 0\n"
          ]
        }
      ]
    },
    {
      "cell_type": "markdown",
      "source": [
        "## Pos Tratamento"
      ],
      "metadata": {
        "id": "VQILE5T4d4cD"
      },
      "id": "VQILE5T4d4cD"
    },
    {
      "cell_type": "code",
      "execution_count": null,
      "id": "8c9e16d0",
      "metadata": {
        "id": "8c9e16d0"
      },
      "outputs": [],
      "source": []
    },
    {
      "cell_type": "code",
      "execution_count": null,
      "id": "fa323320",
      "metadata": {
        "id": "fa323320"
      },
      "outputs": [],
      "source": []
    },
    {
      "cell_type": "code",
      "execution_count": null,
      "id": "fcb3336a",
      "metadata": {
        "id": "fcb3336a"
      },
      "outputs": [],
      "source": []
    },
    {
      "cell_type": "code",
      "execution_count": null,
      "id": "e62062df",
      "metadata": {
        "id": "e62062df"
      },
      "outputs": [],
      "source": []
    },
    {
      "cell_type": "code",
      "execution_count": null,
      "id": "68ffe01f",
      "metadata": {
        "id": "68ffe01f"
      },
      "outputs": [],
      "source": [
        "df_yugi.reset_index(drop=True, inplace=True)"
      ]
    },
    {
      "cell_type": "code",
      "execution_count": null,
      "id": "45a66b65",
      "metadata": {
        "id": "45a66b65"
      },
      "outputs": [],
      "source": [
        "import tensorflow_hub as hub\n",
        "\n",
        "model = hub.KerasLayer(\"https://tfhub.dev/google/nnlm-en-dim128/2\")"
      ]
    },
    {
      "cell_type": "code",
      "execution_count": null,
      "id": "935716c0",
      "metadata": {
        "id": "935716c0"
      },
      "outputs": [],
      "source": [
        "embeddings=model(df_yugi[\"text\"])"
      ]
    },
    {
      "cell_type": "code",
      "execution_count": null,
      "id": "b3e78255",
      "metadata": {
        "id": "b3e78255"
      },
      "outputs": [],
      "source": [
        "from sklearn.decomposition import PCA\n",
        "\n",
        "pca_yugi = PCA(n_components=5)\n",
        "principalComponents_yugi = pca_yugi.fit_transform(embeddings)\n",
        "principalComponents_yugi"
      ]
    },
    {
      "cell_type": "code",
      "execution_count": null,
      "id": "770e5d18",
      "metadata": {
        "id": "770e5d18"
      },
      "outputs": [],
      "source": [
        "df = pd.DataFrame(principalComponents_yugi, columns=['pca1', 'pca2','pca3','pca4','pca5'])\n",
        "df"
      ]
    }
  ],
  "metadata": {
    "kernelspec": {
      "display_name": "Python 3",
      "name": "python3"
    },
    "language_info": {
      "codemirror_mode": {
        "name": "ipython",
        "version": 3
      },
      "file_extension": ".py",
      "mimetype": "text/x-python",
      "name": "python",
      "nbconvert_exporter": "python",
      "pygments_lexer": "ipython3",
      "version": "3.8.16"
    },
    "colab": {
      "provenance": [],
      "gpuType": "T4"
    },
    "accelerator": "GPU"
  },
  "nbformat": 4,
  "nbformat_minor": 5
}